{
 "cells": [
  {
   "cell_type": "markdown",
   "id": "386f2ae7",
   "metadata": {
    "deletable": false,
    "editable": true,
    "id": "386f2ae7",
    "slideshow": {
     "slide_type": ""
    },
    "tags": []
   },
   "source": [
    "<a id=\"intro\"></a>\n",
    "# Исследование для кредитного скоринга"
   ]
  },
  {
   "cell_type": "markdown",
   "id": "83298658-d1c7-4d5d-861d-db09eb3cf0d2",
   "metadata": {
    "editable": true,
    "slideshow": {
     "slide_type": ""
    },
    "tags": []
   },
   "source": [
    "**Описание проекта**\n",
    "\n",
    "Заказчик — кредитный отдел банка. \n",
    "\n",
    "Входные данные от банка — статистика о платёжеспособности клиентов.\n",
    "\n",
    "Результаты исследования будут учтены при построении модели кредитного скоринга — специальной системы, которая оценивает способность потенциального заёмщика вернуть кредит банку.\n",
    "\n",
    "**Цели исследования** - ответить на вопросы:\n",
    "1. [Есть ли зависимость между количеством детей и возвратом кредита в срок?](#children)\n",
    "2. [Есть ли зависимость между семейным положением и возвратом кредита в срок?](#family_status)\n",
    "3. [Есть ли зависимость между уровнем дохода и возвратом кредита в срок?](#total_income_category)\n",
    "4. [Как разные цели кредита влияют на его возврат в срок?](#purpose_category)\n",
    "5. [Каковы возможные причины появления пропусков в исходных данных?](#data_gaps)\n",
    "6. [Каким значением заполнять пропуски  в количественных переменных?](#median_value)\n",
    "\n",
    " 👉 **[Итоги исследования здесь](#research_results)**\n",
    "\n",
    "**Описание данных**\n",
    "- `children` — количество детей в семье\n",
    "- `days_employed` — общий трудовой стаж в днях\n",
    "- `dob_years` — возраст клиента в годах\n",
    "- `education` — уровень образования клиента\n",
    "- `education_id` — идентификатор уровня образования\n",
    "- `family_status` — семейное положение\n",
    "- `family_status_id` — идентификатор семейного положения\n",
    "- `gender` — пол клиента\n",
    "- `income_type` — тип занятости\n",
    "- `debt` — имел ли задолженность по возврату кредитов\n",
    "- `total_income` — ежемесячный доход\n",
    "- `purpose` — цель получения кредита"
   ]
  },
  {
   "cell_type": "markdown",
   "id": "26613308",
   "metadata": {
    "deletable": false,
    "editable": true,
    "id": "26613308",
    "slideshow": {
     "slide_type": ""
    },
    "tags": []
   },
   "source": [
    "## Общая информация о данных"
   ]
  },
  {
   "cell_type": "code",
   "execution_count": 1,
   "id": "77a68a90",
   "metadata": {
    "deletable": false,
    "editable": true,
    "id": "77a68a90",
    "slideshow": {
     "slide_type": ""
    },
    "tags": []
   },
   "outputs": [],
   "source": [
    "# импорт библиотеки pandas\n",
    "import pandas as pd\n",
    "\n",
    "# чтение файла с данными и сохранение в data\n",
    "try:\n",
    "    data = pd.read_csv('https://github.com/AlexSlobodskoj/AlexSlobodskoj/blob/f04ed75e7864185cfc734f8c6c16945b246d8abe/Credit_Bank/data.csv')\n",
    "except:\n",
    "    data = pd.read_csv('/Users/alexslobodskoj/data.csv')"
   ]
  },
  {
   "cell_type": "code",
   "execution_count": 2,
   "id": "b0451a9a",
   "metadata": {
    "deletable": false,
    "editable": true,
    "id": "b0451a9a",
    "outputId": "1a8f3ef2-d323-4ec2-ddf7-89670b5944c4",
    "slideshow": {
     "slide_type": ""
    },
    "tags": []
   },
   "outputs": [
    {
     "data": {
      "text/html": [
       "<div>\n",
       "<style scoped>\n",
       "    .dataframe tbody tr th:only-of-type {\n",
       "        vertical-align: middle;\n",
       "    }\n",
       "\n",
       "    .dataframe tbody tr th {\n",
       "        vertical-align: top;\n",
       "    }\n",
       "\n",
       "    .dataframe thead th {\n",
       "        text-align: right;\n",
       "    }\n",
       "</style>\n",
       "<table border=\"1\" class=\"dataframe\">\n",
       "  <thead>\n",
       "    <tr style=\"text-align: right;\">\n",
       "      <th></th>\n",
       "      <th>children</th>\n",
       "      <th>days_employed</th>\n",
       "      <th>dob_years</th>\n",
       "      <th>education</th>\n",
       "      <th>education_id</th>\n",
       "      <th>family_status</th>\n",
       "      <th>family_status_id</th>\n",
       "      <th>gender</th>\n",
       "      <th>income_type</th>\n",
       "      <th>debt</th>\n",
       "      <th>total_income</th>\n",
       "      <th>purpose</th>\n",
       "    </tr>\n",
       "  </thead>\n",
       "  <tbody>\n",
       "    <tr>\n",
       "      <th>0</th>\n",
       "      <td>1</td>\n",
       "      <td>-8437.673028</td>\n",
       "      <td>42</td>\n",
       "      <td>высшее</td>\n",
       "      <td>0</td>\n",
       "      <td>женат / замужем</td>\n",
       "      <td>0</td>\n",
       "      <td>F</td>\n",
       "      <td>сотрудник</td>\n",
       "      <td>0</td>\n",
       "      <td>253875.639453</td>\n",
       "      <td>покупка жилья</td>\n",
       "    </tr>\n",
       "    <tr>\n",
       "      <th>1</th>\n",
       "      <td>1</td>\n",
       "      <td>-4024.803754</td>\n",
       "      <td>36</td>\n",
       "      <td>среднее</td>\n",
       "      <td>1</td>\n",
       "      <td>женат / замужем</td>\n",
       "      <td>0</td>\n",
       "      <td>F</td>\n",
       "      <td>сотрудник</td>\n",
       "      <td>0</td>\n",
       "      <td>112080.014102</td>\n",
       "      <td>приобретение автомобиля</td>\n",
       "    </tr>\n",
       "    <tr>\n",
       "      <th>2</th>\n",
       "      <td>0</td>\n",
       "      <td>-5623.422610</td>\n",
       "      <td>33</td>\n",
       "      <td>Среднее</td>\n",
       "      <td>1</td>\n",
       "      <td>женат / замужем</td>\n",
       "      <td>0</td>\n",
       "      <td>M</td>\n",
       "      <td>сотрудник</td>\n",
       "      <td>0</td>\n",
       "      <td>145885.952297</td>\n",
       "      <td>покупка жилья</td>\n",
       "    </tr>\n",
       "    <tr>\n",
       "      <th>3</th>\n",
       "      <td>3</td>\n",
       "      <td>-4124.747207</td>\n",
       "      <td>32</td>\n",
       "      <td>среднее</td>\n",
       "      <td>1</td>\n",
       "      <td>женат / замужем</td>\n",
       "      <td>0</td>\n",
       "      <td>M</td>\n",
       "      <td>сотрудник</td>\n",
       "      <td>0</td>\n",
       "      <td>267628.550329</td>\n",
       "      <td>дополнительное образование</td>\n",
       "    </tr>\n",
       "    <tr>\n",
       "      <th>4</th>\n",
       "      <td>0</td>\n",
       "      <td>340266.072047</td>\n",
       "      <td>53</td>\n",
       "      <td>среднее</td>\n",
       "      <td>1</td>\n",
       "      <td>гражданский брак</td>\n",
       "      <td>1</td>\n",
       "      <td>F</td>\n",
       "      <td>пенсионер</td>\n",
       "      <td>0</td>\n",
       "      <td>158616.077870</td>\n",
       "      <td>сыграть свадьбу</td>\n",
       "    </tr>\n",
       "    <tr>\n",
       "      <th>5</th>\n",
       "      <td>0</td>\n",
       "      <td>-926.185831</td>\n",
       "      <td>27</td>\n",
       "      <td>высшее</td>\n",
       "      <td>0</td>\n",
       "      <td>гражданский брак</td>\n",
       "      <td>1</td>\n",
       "      <td>M</td>\n",
       "      <td>компаньон</td>\n",
       "      <td>0</td>\n",
       "      <td>255763.565419</td>\n",
       "      <td>покупка жилья</td>\n",
       "    </tr>\n",
       "    <tr>\n",
       "      <th>6</th>\n",
       "      <td>0</td>\n",
       "      <td>-2879.202052</td>\n",
       "      <td>43</td>\n",
       "      <td>высшее</td>\n",
       "      <td>0</td>\n",
       "      <td>женат / замужем</td>\n",
       "      <td>0</td>\n",
       "      <td>F</td>\n",
       "      <td>компаньон</td>\n",
       "      <td>0</td>\n",
       "      <td>240525.971920</td>\n",
       "      <td>операции с жильем</td>\n",
       "    </tr>\n",
       "    <tr>\n",
       "      <th>7</th>\n",
       "      <td>0</td>\n",
       "      <td>-152.779569</td>\n",
       "      <td>50</td>\n",
       "      <td>СРЕДНЕЕ</td>\n",
       "      <td>1</td>\n",
       "      <td>женат / замужем</td>\n",
       "      <td>0</td>\n",
       "      <td>M</td>\n",
       "      <td>сотрудник</td>\n",
       "      <td>0</td>\n",
       "      <td>135823.934197</td>\n",
       "      <td>образование</td>\n",
       "    </tr>\n",
       "    <tr>\n",
       "      <th>8</th>\n",
       "      <td>2</td>\n",
       "      <td>-6929.865299</td>\n",
       "      <td>35</td>\n",
       "      <td>ВЫСШЕЕ</td>\n",
       "      <td>0</td>\n",
       "      <td>гражданский брак</td>\n",
       "      <td>1</td>\n",
       "      <td>F</td>\n",
       "      <td>сотрудник</td>\n",
       "      <td>0</td>\n",
       "      <td>95856.832424</td>\n",
       "      <td>на проведение свадьбы</td>\n",
       "    </tr>\n",
       "    <tr>\n",
       "      <th>9</th>\n",
       "      <td>0</td>\n",
       "      <td>-2188.756445</td>\n",
       "      <td>41</td>\n",
       "      <td>среднее</td>\n",
       "      <td>1</td>\n",
       "      <td>женат / замужем</td>\n",
       "      <td>0</td>\n",
       "      <td>M</td>\n",
       "      <td>сотрудник</td>\n",
       "      <td>0</td>\n",
       "      <td>144425.938277</td>\n",
       "      <td>покупка жилья для семьи</td>\n",
       "    </tr>\n",
       "  </tbody>\n",
       "</table>\n",
       "</div>"
      ],
      "text/plain": [
       "   children  days_employed  dob_years education  education_id  \\\n",
       "0         1   -8437.673028         42    высшее             0   \n",
       "1         1   -4024.803754         36   среднее             1   \n",
       "2         0   -5623.422610         33   Среднее             1   \n",
       "3         3   -4124.747207         32   среднее             1   \n",
       "4         0  340266.072047         53   среднее             1   \n",
       "5         0    -926.185831         27    высшее             0   \n",
       "6         0   -2879.202052         43    высшее             0   \n",
       "7         0    -152.779569         50   СРЕДНЕЕ             1   \n",
       "8         2   -6929.865299         35    ВЫСШЕЕ             0   \n",
       "9         0   -2188.756445         41   среднее             1   \n",
       "\n",
       "      family_status  family_status_id gender income_type  debt   total_income  \\\n",
       "0   женат / замужем                 0      F   сотрудник     0  253875.639453   \n",
       "1   женат / замужем                 0      F   сотрудник     0  112080.014102   \n",
       "2   женат / замужем                 0      M   сотрудник     0  145885.952297   \n",
       "3   женат / замужем                 0      M   сотрудник     0  267628.550329   \n",
       "4  гражданский брак                 1      F   пенсионер     0  158616.077870   \n",
       "5  гражданский брак                 1      M   компаньон     0  255763.565419   \n",
       "6   женат / замужем                 0      F   компаньон     0  240525.971920   \n",
       "7   женат / замужем                 0      M   сотрудник     0  135823.934197   \n",
       "8  гражданский брак                 1      F   сотрудник     0   95856.832424   \n",
       "9   женат / замужем                 0      M   сотрудник     0  144425.938277   \n",
       "\n",
       "                      purpose  \n",
       "0               покупка жилья  \n",
       "1     приобретение автомобиля  \n",
       "2               покупка жилья  \n",
       "3  дополнительное образование  \n",
       "4             сыграть свадьбу  \n",
       "5               покупка жилья  \n",
       "6           операции с жильем  \n",
       "7                 образование  \n",
       "8       на проведение свадьбы  \n",
       "9     покупка жилья для семьи  "
      ]
     },
     "execution_count": 2,
     "metadata": {},
     "output_type": "execute_result"
    }
   ],
   "source": [
    "# вывод первых 10 строчек датафрейма data на экран\n",
    "data.head(10)"
   ]
  },
  {
   "cell_type": "code",
   "execution_count": 3,
   "id": "ab3f863b",
   "metadata": {
    "deletable": false,
    "editable": true,
    "id": "ab3f863b",
    "outputId": "15376089-8dad-46c9-b520-c05248d43158",
    "slideshow": {
     "slide_type": ""
    },
    "tags": []
   },
   "outputs": [
    {
     "name": "stdout",
     "output_type": "stream",
     "text": [
      "<class 'pandas.core.frame.DataFrame'>\n",
      "RangeIndex: 21525 entries, 0 to 21524\n",
      "Data columns (total 12 columns):\n",
      " #   Column            Non-Null Count  Dtype  \n",
      "---  ------            --------------  -----  \n",
      " 0   children          21525 non-null  int64  \n",
      " 1   days_employed     19351 non-null  float64\n",
      " 2   dob_years         21525 non-null  int64  \n",
      " 3   education         21525 non-null  object \n",
      " 4   education_id      21525 non-null  int64  \n",
      " 5   family_status     21525 non-null  object \n",
      " 6   family_status_id  21525 non-null  int64  \n",
      " 7   gender            21525 non-null  object \n",
      " 8   income_type       21525 non-null  object \n",
      " 9   debt              21525 non-null  int64  \n",
      " 10  total_income      19351 non-null  float64\n",
      " 11  purpose           21525 non-null  object \n",
      "dtypes: float64(2), int64(5), object(5)\n",
      "memory usage: 2.0+ MB\n"
     ]
    }
   ],
   "source": [
    "# вывод основной информации о датафрейме\n",
    "data.info()"
   ]
  },
  {
   "cell_type": "markdown",
   "id": "60e3e22d",
   "metadata": {
    "deletable": false,
    "editable": false,
    "id": "60e3e22d",
    "slideshow": {
     "slide_type": ""
    },
    "tags": []
   },
   "source": [
    "## Предобработка данных"
   ]
  },
  {
   "cell_type": "markdown",
   "id": "03dc170c",
   "metadata": {
    "deletable": false,
    "editable": false,
    "id": "03dc170c",
    "slideshow": {
     "slide_type": ""
    },
    "tags": []
   },
   "source": [
    "### Удаление пропусков"
   ]
  },
  {
   "cell_type": "markdown",
   "id": "a4f54eef",
   "metadata": {
    "deletable": false,
    "editable": true,
    "id": "a4f54eef",
    "slideshow": {
     "slide_type": ""
    },
    "tags": []
   },
   "source": [
    "Вывод количество пропущенных значений для каждого столбца."
   ]
  },
  {
   "cell_type": "code",
   "execution_count": 4,
   "id": "2dc372b2",
   "metadata": {
    "deletable": false,
    "editable": true,
    "id": "2dc372b2",
    "outputId": "81f4d817-781c-465c-ed15-91ce4446810d",
    "slideshow": {
     "slide_type": ""
    },
    "tags": []
   },
   "outputs": [
    {
     "data": {
      "text/plain": [
       "children               0\n",
       "days_employed       2174\n",
       "dob_years              0\n",
       "education              0\n",
       "education_id           0\n",
       "family_status          0\n",
       "family_status_id       0\n",
       "gender                 0\n",
       "income_type            0\n",
       "debt                   0\n",
       "total_income        2174\n",
       "purpose                0\n",
       "dtype: int64"
      ]
     },
     "execution_count": 4,
     "metadata": {},
     "output_type": "execute_result"
    }
   ],
   "source": [
    "# используется комбинация двух методов\n",
    "data.isna().sum()"
   ]
  },
  {
   "cell_type": "markdown",
   "id": "14f011b1",
   "metadata": {
    "deletable": false,
    "editable": true,
    "id": "14f011b1",
    "slideshow": {
     "slide_type": ""
    },
    "tags": []
   },
   "source": [
    "В двух столбцах есть пропущенные значения. Один из них — `days_employed`. Пропуски в этом столбце обработаем в [п.2.3](#dropna)\n",
    "\n",
    "Другой столбец с пропущенными значениями — `total_income` — хранит данные о доходах. На сумму дохода сильнее всего влияет тип занятости, поэтому заполним пропуски в этом столбце медианным значением по каждому типу из столбца `income_type`. \n",
    "\n",
    "Например, у человека с типом занятости `сотрудник` пропуск в столбце `total_income` должен быть заполнен медианным доходом среди всех значений `total_income` с тем же типом занятости.\n"
   ]
  },
  {
   "cell_type": "code",
   "execution_count": 5,
   "id": "bdabfb6e",
   "metadata": {
    "deletable": false,
    "editable": true,
    "id": "bdabfb6e",
    "slideshow": {
     "slide_type": ""
    },
    "tags": []
   },
   "outputs": [],
   "source": [
    "# заполнение пропусков в столбце total_income медианными значениями по типу дохода\n",
    "for t in data['income_type'].unique():\n",
    "    data.loc[(data['income_type'] == t) & (data['total_income'].isna()), 'total_income'] = \\\n",
    "    data.loc[(data['income_type'] == t), 'total_income'].median()"
   ]
  },
  {
   "cell_type": "markdown",
   "id": "5be34059",
   "metadata": {
    "deletable": false,
    "editable": false,
    "id": "5be34059"
   },
   "source": [
    "### Обработка аномальных значений"
   ]
  },
  {
   "cell_type": "markdown",
   "id": "a87606cb",
   "metadata": {
    "deletable": false,
    "editable": true,
    "id": "a87606cb",
    "slideshow": {
     "slide_type": ""
    },
    "tags": []
   },
   "source": [
    "В данных встречаются артефакты (аномалии) — значения, которые не отражают действительность и появились по какой-то ошибке. Такой артефакт - отрицательное количество дней трудового стажа в столбце `days_employed`. \n",
    "\n",
    "**Заменим все отрицательные значения трудового стажа положительными с помощью метода `abs()`**"
   ]
  },
  {
   "cell_type": "code",
   "execution_count": 6,
   "id": "020c46cc",
   "metadata": {
    "deletable": false,
    "editable": true,
    "id": "020c46cc",
    "slideshow": {
     "slide_type": ""
    },
    "tags": []
   },
   "outputs": [
    {
     "data": {
      "text/plain": [
       "count     19351.000000\n",
       "mean      66914.728907\n",
       "std      139030.880527\n",
       "min          24.141633\n",
       "25%         927.009265\n",
       "50%        2194.220567\n",
       "75%        5537.882441\n",
       "max      401755.400475\n",
       "Name: days_employed, dtype: float64"
      ]
     },
     "execution_count": 6,
     "metadata": {},
     "output_type": "execute_result"
    }
   ],
   "source": [
    "# замена отрицательных значений в столбце days_employed\n",
    "data['days_employed'] = data['days_employed'].abs()\n",
    "\n",
    "# проверим информацию в столбце days_employed\n",
    "data['days_employed'].describe()"
   ]
  },
  {
   "cell_type": "markdown",
   "id": "45538a3a",
   "metadata": {
    "deletable": false,
    "editable": true,
    "id": "45538a3a",
    "slideshow": {
     "slide_type": ""
    },
    "tags": []
   },
   "source": [
    "**Для каждого типа занятости выведем медианное значение трудового стажа `days_employed`.**"
   ]
  },
  {
   "cell_type": "code",
   "execution_count": 7,
   "id": "cd3e6328",
   "metadata": {
    "deletable": false,
    "editable": true,
    "id": "cd3e6328",
    "outputId": "801ef80e-522b-4668-f34e-565af7432bcf",
    "slideshow": {
     "slide_type": ""
    },
    "tags": []
   },
   "outputs": [
    {
     "data": {
      "text/plain": [
       "income_type\n",
       "безработный        366413.652744\n",
       "в декрете            3296.759962\n",
       "госслужащий          2689.368353\n",
       "компаньон            1547.382223\n",
       "пенсионер          365213.306266\n",
       "предприниматель       520.848083\n",
       "сотрудник            1574.202821\n",
       "студент               578.751554\n",
       "Name: days_employed, dtype: float64"
      ]
     },
     "execution_count": 7,
     "metadata": {},
     "output_type": "execute_result"
    }
   ],
   "source": [
    "# медианное значение трудового стажа days_employed для каждого типа занятости income_type\n",
    "data.groupby('income_type')['days_employed'].agg('median')"
   ]
  },
  {
   "cell_type": "markdown",
   "id": "90c5f058",
   "metadata": {
    "deletable": false,
    "editable": false,
    "id": "90c5f058",
    "slideshow": {
     "slide_type": ""
    },
    "tags": []
   },
   "source": [
    "У двух типов (безработные и пенсионеры) получатся аномально большие значения. В рамках этого исследования не будем их исправлять."
   ]
  },
  {
   "cell_type": "markdown",
   "id": "9652e50d",
   "metadata": {
    "deletable": false,
    "editable": true,
    "id": "9652e50d",
    "slideshow": {
     "slide_type": ""
    },
    "tags": []
   },
   "source": [
    "**Оценим перечень уникальных значений количества детей в семье.**"
   ]
  },
  {
   "cell_type": "code",
   "execution_count": 8,
   "id": "dbb37b8e",
   "metadata": {
    "deletable": false,
    "editable": true,
    "id": "dbb37b8e",
    "outputId": "6975b15c-7f95-4697-d16d-a0c79b657b03",
    "slideshow": {
     "slide_type": ""
    },
    "tags": []
   },
   "outputs": [
    {
     "data": {
      "text/plain": [
       "array([ 1,  0,  3,  2, -1,  4, 20,  5])"
      ]
     },
     "execution_count": 8,
     "metadata": {},
     "output_type": "execute_result"
    }
   ],
   "source": [
    "# вывод уникальных значений в столбце children\n",
    "data['children'].unique()"
   ]
  },
  {
   "cell_type": "markdown",
   "id": "2b8b0715",
   "metadata": {
    "deletable": false,
    "editable": true,
    "id": "2b8b0715",
    "slideshow": {
     "slide_type": ""
    },
    "tags": []
   },
   "source": [
    "В столбце `children` есть два аномальных значения. Оценим количество строк, в которых встречаются такие аномальные значения"
   ]
  },
  {
   "cell_type": "code",
   "execution_count": 9,
   "id": "f836c4af-0e40-48d3-bb44-b57e7dc536a3",
   "metadata": {
    "editable": true,
    "slideshow": {
     "slide_type": ""
    },
    "tags": []
   },
   "outputs": [
    {
     "name": "stdout",
     "output_type": "stream",
     "text": [
      "Количество аномальных строк: 123\n",
      "Доля аномальных строк: 0.57%\n"
     ]
    }
   ],
   "source": [
    "# присвоим соответствующим переменным информацию о датафреймах: исходном и отфильтрованном\n",
    "original_rows = data.shape[0]\n",
    "filtered_rows = data[(data['children'] == -1) | (data['children'] == 20)].shape[0]\n",
    "\n",
    "# посчитаем долю отфильтрованных строк и выведем на экран\n",
    "proportion = filtered_rows / original_rows\n",
    "print(f'Количество аномальных строк: {filtered_rows}')\n",
    "print(f'Доля аномальных строк: {proportion:.2%}')"
   ]
  },
  {
   "cell_type": "markdown",
   "id": "a912aa68-8e26-4425-8fd5-a166c24f8a9f",
   "metadata": {
    "editable": true,
    "slideshow": {
     "slide_type": ""
    },
    "tags": []
   },
   "source": [
    "Учитывая незначительную долю аномальных строк - удалим их из исходного датафрейма"
   ]
  },
  {
   "cell_type": "code",
   "execution_count": 10,
   "id": "20009df8",
   "metadata": {
    "deletable": false,
    "editable": true,
    "id": "20009df8",
    "slideshow": {
     "slide_type": ""
    },
    "tags": []
   },
   "outputs": [
    {
     "data": {
      "text/plain": [
       "array([1, 0, 3, 2, 4, 5])"
      ]
     },
     "execution_count": 10,
     "metadata": {},
     "output_type": "execute_result"
    }
   ],
   "source": [
    "# удаление строк в которых в колонке children значения -1 или 20\n",
    "data.drop(data[(data['children'] == -1) | (data['children'] == 20)].index, inplace=True)\n",
    "\n",
    "# обновление индексов\n",
    "data.reset_index(drop=True, inplace=True)\n",
    "\n",
    "# проверка удаления артефактов в столбце children\n",
    "data['children'].unique()"
   ]
  },
  {
   "cell_type": "markdown",
   "id": "ee3f52d4",
   "metadata": {
    "deletable": false,
    "editable": true,
    "id": "ee3f52d4",
    "slideshow": {
     "slide_type": ""
    },
    "tags": []
   },
   "source": [
    "<a id=\"dropna\"></a>\n",
    "### Удаление пропусков (продолжение)"
   ]
  },
  {
   "cell_type": "markdown",
   "id": "a700b0e4",
   "metadata": {
    "deletable": false,
    "id": "a700b0e4",
    "slideshow": {
     "slide_type": ""
    },
    "tags": []
   },
   "source": [
    "**Заполним пропуски в столбце `days_employed` медианными значениями по каждого типа занятости `income_type`.**"
   ]
  },
  {
   "cell_type": "code",
   "execution_count": 11,
   "id": "61946b83",
   "metadata": {
    "deletable": false,
    "editable": true,
    "id": "61946b83",
    "slideshow": {
     "slide_type": ""
    },
    "tags": []
   },
   "outputs": [],
   "source": [
    "# заполнение пропусков в столбце days_employed медианными значениями по типу дохода\n",
    "for t in data['income_type'].unique():\n",
    "    data.loc[(data['income_type'] == t) & (data['days_employed'].isna()), 'days_employed'] = \\\n",
    "    data.loc[(data['income_type'] == t), 'days_employed'].median()"
   ]
  },
  {
   "cell_type": "markdown",
   "id": "550dcd9b",
   "metadata": {
    "deletable": false,
    "editable": false,
    "id": "550dcd9b",
    "slideshow": {
     "slide_type": ""
    },
    "tags": []
   },
   "source": [
    "Убедимся, что все пропуски в столбцах`days_employed` и `total_income`заполнены."
   ]
  },
  {
   "cell_type": "code",
   "execution_count": 12,
   "id": "937c7014",
   "metadata": {
    "deletable": false,
    "editable": true,
    "id": "937c7014",
    "outputId": "8da1e4e1-358e-4e87-98c9-f261bce0a7b2",
    "slideshow": {
     "slide_type": ""
    },
    "tags": []
   },
   "outputs": [
    {
     "data": {
      "text/plain": [
       "days_employed    0\n",
       "total_income     0\n",
       "dtype: int64"
      ]
     },
     "execution_count": 12,
     "metadata": {},
     "output_type": "execute_result"
    }
   ],
   "source": [
    "# проверка пропущенных значений для total_income и days_employed\n",
    "data[['days_employed','total_income']].isna().sum()"
   ]
  },
  {
   "cell_type": "markdown",
   "id": "d522e295",
   "metadata": {
    "deletable": false,
    "editable": false,
    "id": "d522e295"
   },
   "source": [
    "### Изменение типов данных"
   ]
  },
  {
   "cell_type": "markdown",
   "id": "c229c581",
   "metadata": {
    "deletable": false,
    "id": "c229c581",
    "slideshow": {
     "slide_type": ""
    },
    "tags": []
   },
   "source": [
    "Заменим вещественный тип данных в столбце `total_income` на целочисленный"
   ]
  },
  {
   "cell_type": "code",
   "execution_count": 13,
   "id": "31036462",
   "metadata": {
    "deletable": false,
    "editable": true,
    "id": "31036462",
    "slideshow": {
     "slide_type": ""
    },
    "tags": []
   },
   "outputs": [
    {
     "data": {
      "text/plain": [
       "dtype('int64')"
      ]
     },
     "execution_count": 13,
     "metadata": {},
     "output_type": "execute_result"
    }
   ],
   "source": [
    "# замена типа даннах в total_income на int\n",
    "data['total_income'] = data['total_income'].astype(int)\n",
    "\n",
    "# проверка замены\n",
    "data['total_income'].dtype"
   ]
  },
  {
   "cell_type": "markdown",
   "id": "b8e3d1d9",
   "metadata": {
    "deletable": false,
    "editable": false,
    "id": "b8e3d1d9"
   },
   "source": [
    "### Обработка дубликатов"
   ]
  },
  {
   "cell_type": "markdown",
   "id": "9be53c49",
   "metadata": {
    "deletable": false,
    "editable": true,
    "id": "9be53c49",
    "slideshow": {
     "slide_type": ""
    },
    "tags": []
   },
   "source": [
    "**Обработаем неявные дубликаты в столбце** `education`.\n",
    "\n",
    "Оценим перечень уровней образования заемщиков"
   ]
  },
  {
   "cell_type": "code",
   "execution_count": 14,
   "id": "6d8ee092-0cb7-49da-ae42-2ac52f9e83a9",
   "metadata": {
    "editable": true,
    "slideshow": {
     "slide_type": ""
    },
    "tags": []
   },
   "outputs": [
    {
     "data": {
      "text/plain": [
       "education\n",
       "среднее                13667\n",
       "высшее                  4698\n",
       "СРЕДНЕЕ                  766\n",
       "Среднее                  703\n",
       "неоконченное высшее      665\n",
       "ВЫСШЕЕ                   271\n",
       "Высшее                   268\n",
       "начальное                250\n",
       "Неоконченное высшее       47\n",
       "НЕОКОНЧЕННОЕ ВЫСШЕЕ       29\n",
       "НАЧАЛЬНОЕ                 17\n",
       "Начальное                 15\n",
       "ученая степень             4\n",
       "Ученая степень             1\n",
       "УЧЕНАЯ СТЕПЕНЬ             1\n",
       "Name: count, dtype: int64"
      ]
     },
     "execution_count": 14,
     "metadata": {},
     "output_type": "execute_result"
    }
   ],
   "source": [
    "# вывод уникальных значений столбца education с количеством\n",
    "data['education'].value_counts()"
   ]
  },
  {
   "cell_type": "markdown",
   "id": "225e67e5-5a15-43b5-8d33-cf0bc6ee27e0",
   "metadata": {
    "editable": true,
    "slideshow": {
     "slide_type": ""
    },
    "tags": []
   },
   "source": [
    "В столбце `education` есть одни и те же значения, но записанные по-разному: с использованием заглавных и строчных букв. Приведем их к нижнему регистру."
   ]
  },
  {
   "cell_type": "code",
   "execution_count": 15,
   "id": "d89e73e1",
   "metadata": {
    "deletable": false,
    "editable": true,
    "id": "d89e73e1",
    "slideshow": {
     "slide_type": ""
    },
    "tags": []
   },
   "outputs": [
    {
     "data": {
      "text/plain": [
       "education\n",
       "среднее                15136\n",
       "высшее                  5237\n",
       "неоконченное высшее      741\n",
       "начальное                282\n",
       "ученая степень             6\n",
       "Name: count, dtype: int64"
      ]
     },
     "execution_count": 15,
     "metadata": {},
     "output_type": "execute_result"
    }
   ],
   "source": [
    "# приведение данных в столбце education к нижнему регистру\n",
    "data['education'] = data['education'].str.lower()\n",
    "\n",
    "# проверка нового перечня уровней образования заемщиков\n",
    "data['education'].value_counts()"
   ]
  },
  {
   "cell_type": "markdown",
   "id": "01d4500e",
   "metadata": {
    "deletable": false,
    "id": "01d4500e",
    "slideshow": {
     "slide_type": ""
    },
    "tags": []
   },
   "source": [
    "\n",
    "**Удаление строк-дубликатов в данных**"
   ]
  },
  {
   "cell_type": "code",
   "execution_count": 16,
   "id": "e10efb23",
   "metadata": {
    "deletable": false,
    "editable": true,
    "id": "e10efb23",
    "outputId": "9684deba-1934-42d1-99e1-cda61740f822",
    "slideshow": {
     "slide_type": ""
    },
    "tags": []
   },
   "outputs": [
    {
     "data": {
      "text/plain": [
       "71"
      ]
     },
     "execution_count": 16,
     "metadata": {},
     "output_type": "execute_result"
    }
   ],
   "source": [
    "# количество строк-дубликатов\n",
    "data.duplicated().sum()"
   ]
  },
  {
   "cell_type": "code",
   "execution_count": 17,
   "id": "df853f20",
   "metadata": {
    "deletable": false,
    "editable": true,
    "id": "df853f20",
    "slideshow": {
     "slide_type": ""
    },
    "tags": []
   },
   "outputs": [
    {
     "data": {
      "text/plain": [
       "0"
      ]
     },
     "execution_count": 17,
     "metadata": {},
     "output_type": "execute_result"
    }
   ],
   "source": [
    "# удаление дубликатов\n",
    "data = data.drop_duplicates()\n",
    "\n",
    "# проверка отсутствия дубликатов\n",
    "data.duplicated().sum()"
   ]
  },
  {
   "cell_type": "markdown",
   "id": "627be38f",
   "metadata": {
    "deletable": false,
    "editable": false,
    "id": "627be38f"
   },
   "source": [
    "### Категоризация данных"
   ]
  },
  {
   "cell_type": "markdown",
   "id": "4684c3e0",
   "metadata": {
    "deletable": false,
    "editable": true,
    "id": "4684c3e0",
    "slideshow": {
     "slide_type": ""
    },
    "tags": []
   },
   "source": [
    "**Категоризация ежемесячного дохода заемщиков** \n",
    "\n",
    "На основании диапазонов, указанных банком, создадим в датафрейме столбец `total_income_category` с категориями:\n",
    "\n",
    "- 0–30000 — `'E'`;\n",
    "- 30001–50000 — `'D'`;\n",
    "- 50001–200000 — `'C'`;\n",
    "- 200001–1000000 — `'B'`;\n",
    "- 1000001 и выше — `'A'`.\n",
    "\n",
    "\n",
    "Например, кредитополучателю с доходом 25000 нужно назначить категорию `'E'`, а клиенту, получающему 235000, — `'B'`..."
   ]
  },
  {
   "cell_type": "code",
   "execution_count": 18,
   "id": "78965238",
   "metadata": {
    "deletable": false,
    "editable": true,
    "id": "78965238",
    "slideshow": {
     "slide_type": ""
    },
    "tags": []
   },
   "outputs": [],
   "source": [
    "# функция для возврата наименования категории уровня дохода\n",
    "def categorize_income(income):\n",
    "    try:\n",
    "        if 0 <= income <= 30000:\n",
    "            return 'E'\n",
    "        elif 30001 <= income <= 50000:\n",
    "            return 'D'\n",
    "        elif 50001 <= income <= 200000:\n",
    "            return 'C'\n",
    "        elif 200001 <= income <= 1000000:\n",
    "            return 'B'\n",
    "        elif income >= 1000001:\n",
    "            return 'A'\n",
    "    except:\n",
    "        pass"
   ]
  },
  {
   "cell_type": "code",
   "execution_count": 19,
   "id": "0980ada1",
   "metadata": {
    "deletable": false,
    "editable": true,
    "id": "0980ada1",
    "slideshow": {
     "slide_type": ""
    },
    "tags": []
   },
   "outputs": [],
   "source": [
    "# заполнение нового столбца total_income_category данными о категории уровня дохода\n",
    "data['total_income_category'] = data['total_income'].apply(categorize_income)"
   ]
  },
  {
   "cell_type": "markdown",
   "id": "9917bba0",
   "metadata": {
    "deletable": false,
    "editable": true,
    "id": "9917bba0",
    "slideshow": {
     "slide_type": ""
    },
    "tags": []
   },
   "source": [
    "**Категоризация целей получения кредита.**"
   ]
  },
  {
   "cell_type": "code",
   "execution_count": 20,
   "id": "ee07b65e",
   "metadata": {
    "deletable": false,
    "editable": true,
    "id": "ee07b65e",
    "outputId": "673c12d9-7d7e-4ae0-9812-c622c89dd244",
    "slideshow": {
     "slide_type": ""
    },
    "tags": []
   },
   "outputs": [
    {
     "data": {
      "text/plain": [
       "array(['покупка жилья', 'приобретение автомобиля',\n",
       "       'дополнительное образование', 'сыграть свадьбу',\n",
       "       'операции с жильем', 'образование', 'на проведение свадьбы',\n",
       "       'покупка жилья для семьи', 'покупка недвижимости',\n",
       "       'покупка коммерческой недвижимости', 'покупка жилой недвижимости',\n",
       "       'строительство собственной недвижимости', 'недвижимость',\n",
       "       'строительство недвижимости', 'на покупку подержанного автомобиля',\n",
       "       'на покупку своего автомобиля',\n",
       "       'операции с коммерческой недвижимостью',\n",
       "       'строительство жилой недвижимости', 'жилье',\n",
       "       'операции со своей недвижимостью', 'автомобили',\n",
       "       'заняться образованием', 'сделка с подержанным автомобилем',\n",
       "       'получение образования', 'автомобиль', 'свадьба',\n",
       "       'получение дополнительного образования', 'покупка своего жилья',\n",
       "       'операции с недвижимостью', 'получение высшего образования',\n",
       "       'свой автомобиль', 'сделка с автомобилем',\n",
       "       'профильное образование', 'высшее образование',\n",
       "       'покупка жилья для сдачи', 'на покупку автомобиля', 'ремонт жилью',\n",
       "       'заняться высшим образованием'], dtype=object)"
      ]
     },
     "execution_count": 20,
     "metadata": {},
     "output_type": "execute_result"
    }
   ],
   "source": [
    "# вывод уникальных целей получения кредита из столбца `purpose`\n",
    "data['purpose'].unique()"
   ]
  },
  {
   "cell_type": "markdown",
   "id": "52b79d56",
   "metadata": {
    "deletable": false,
    "id": "52b79d56",
    "slideshow": {
     "slide_type": ""
    },
    "tags": []
   },
   "source": [
    "Создадим функцию, которая на основании данных из столбца `purpose` сформирует новый столбец `purpose_category`, в который войдут следующие категории:\n",
    "\n",
    "- `'операции с автомобилем'`,\n",
    "- `'операции с недвижимостью'`,\n",
    "- `'проведение свадьбы'`,\n",
    "- `'получение образования'`.\n",
    "\n",
    "Например, если в столбце `purpose` находится подстрока `'на покупку автомобиля'`, то в столбце `purpose_category` должна появиться строка `'операции с автомобилем'`.\n",
    "\n",
    "Используем собственную функцию с именем `categorize_purpose()` и метод `apply()`."
   ]
  },
  {
   "cell_type": "code",
   "execution_count": 21,
   "id": "be41da5d",
   "metadata": {
    "deletable": false,
    "editable": true,
    "id": "be41da5d",
    "slideshow": {
     "slide_type": ""
    },
    "tags": []
   },
   "outputs": [],
   "source": [
    "# функция для создания нового списка категорий\n",
    "def categorize_purpose(row):\n",
    "    try:\n",
    "        if 'автом' in row:\n",
    "            return 'операции с автомобилем'\n",
    "        elif 'жил' in row or 'недвиж' in row:\n",
    "            return 'операции с недвижимостью'\n",
    "        elif 'свад' in row:\n",
    "            return 'проведение свадьбы'\n",
    "        elif 'образов' in row:\n",
    "            return 'получение образования'\n",
    "    except:\n",
    "        return 'нет категории'\n",
    "        \n",
    "# заполнение нового столбца категорий целей получения кредита\n",
    "data['purpose_category'] = data['purpose'].apply(categorize_purpose)"
   ]
  },
  {
   "cell_type": "markdown",
   "id": "3d596c34",
   "metadata": {
    "deletable": false,
    "editable": true,
    "id": "3d596c34",
    "slideshow": {
     "slide_type": ""
    },
    "tags": []
   },
   "source": [
    "## Исследуем данные и ответим на вопросы"
   ]
  },
  {
   "cell_type": "markdown",
   "id": "648db036",
   "metadata": {
    "deletable": false,
    "editable": true,
    "id": "648db036",
    "slideshow": {
     "slide_type": ""
    },
    "tags": []
   },
   "source": [
    "<a id=\"children\"></a>\n",
    "### Есть ли зависимость между количеством детей и возвратом кредита в срок?"
   ]
  },
  {
   "cell_type": "markdown",
   "id": "b0bacba2",
   "metadata": {
    "editable": true,
    "slideshow": {
     "slide_type": ""
    },
    "tags": []
   },
   "source": [
    "Для ответа на вопрос проверим зависимость наличия задолженности по возврату кредитов `debt` от количества детей `children`"
   ]
  },
  {
   "cell_type": "markdown",
   "id": "e6aef30f",
   "metadata": {
    "editable": true,
    "slideshow": {
     "slide_type": ""
    },
    "tags": []
   },
   "source": [
    "**Шаг 1. Обзор данных о наличии задолженности по кредиту**"
   ]
  },
  {
   "cell_type": "code",
   "execution_count": 22,
   "id": "7fcff25e",
   "metadata": {
    "deletable": false,
    "editable": true,
    "id": "7fcff25e",
    "slideshow": {
     "slide_type": ""
    },
    "tags": []
   },
   "outputs": [
    {
     "data": {
      "text/plain": [
       "array([0, 1])"
      ]
     },
     "execution_count": 22,
     "metadata": {},
     "output_type": "execute_result"
    }
   ],
   "source": [
    "# проверка уникальных значений в столбце debt\n",
    "data['debt'].unique()"
   ]
  },
  {
   "cell_type": "markdown",
   "id": "18c3e72b",
   "metadata": {},
   "source": [
    "В столбце `debt` два целочисленных значения 0 или 1.\n",
    "\n",
    "Очевидно:\n",
    "\n",
    "- 1 - была задолженность\n",
    "- 0 - задолженности не было"
   ]
  },
  {
   "cell_type": "markdown",
   "id": "21ab9f0d",
   "metadata": {},
   "source": [
    "**Шаг 2. Сгруппируем данные по количеству детей и вычислим по каждой группе:**\n",
    "* количество выданных кредитов \n",
    "* количество задолженностей по возврату кредита\n",
    "* процент наличия задолженности по кредиту"
   ]
  },
  {
   "cell_type": "code",
   "execution_count": 23,
   "id": "1838c9cb",
   "metadata": {
    "editable": true,
    "slideshow": {
     "slide_type": ""
    },
    "tags": []
   },
   "outputs": [
    {
     "data": {
      "text/html": [
       "<div>\n",
       "<style scoped>\n",
       "    .dataframe tbody tr th:only-of-type {\n",
       "        vertical-align: middle;\n",
       "    }\n",
       "\n",
       "    .dataframe tbody tr th {\n",
       "        vertical-align: top;\n",
       "    }\n",
       "\n",
       "    .dataframe thead tr th {\n",
       "        text-align: left;\n",
       "    }\n",
       "\n",
       "    .dataframe thead tr:last-of-type th {\n",
       "        text-align: right;\n",
       "    }\n",
       "</style>\n",
       "<table border=\"1\" class=\"dataframe\">\n",
       "  <thead>\n",
       "    <tr>\n",
       "      <th></th>\n",
       "      <th colspan=\"3\" halign=\"left\">debt</th>\n",
       "    </tr>\n",
       "    <tr>\n",
       "      <th></th>\n",
       "      <th>count</th>\n",
       "      <th>sum</th>\n",
       "      <th>rate_debt</th>\n",
       "    </tr>\n",
       "    <tr>\n",
       "      <th>children</th>\n",
       "      <th></th>\n",
       "      <th></th>\n",
       "      <th></th>\n",
       "    </tr>\n",
       "  </thead>\n",
       "  <tbody>\n",
       "    <tr>\n",
       "      <th>0</th>\n",
       "      <td>14091</td>\n",
       "      <td>1063</td>\n",
       "      <td>7.54%</td>\n",
       "    </tr>\n",
       "    <tr>\n",
       "      <th>1</th>\n",
       "      <td>4808</td>\n",
       "      <td>444</td>\n",
       "      <td>9.23%</td>\n",
       "    </tr>\n",
       "    <tr>\n",
       "      <th>2</th>\n",
       "      <td>2052</td>\n",
       "      <td>194</td>\n",
       "      <td>9.45%</td>\n",
       "    </tr>\n",
       "    <tr>\n",
       "      <th>3</th>\n",
       "      <td>330</td>\n",
       "      <td>27</td>\n",
       "      <td>8.18%</td>\n",
       "    </tr>\n",
       "    <tr>\n",
       "      <th>4</th>\n",
       "      <td>41</td>\n",
       "      <td>4</td>\n",
       "      <td>9.76%</td>\n",
       "    </tr>\n",
       "    <tr>\n",
       "      <th>5</th>\n",
       "      <td>9</td>\n",
       "      <td>0</td>\n",
       "      <td>0.00%</td>\n",
       "    </tr>\n",
       "  </tbody>\n",
       "</table>\n",
       "</div>"
      ],
      "text/plain": [
       "           debt                \n",
       "          count   sum rate_debt\n",
       "children                       \n",
       "0         14091  1063     7.54%\n",
       "1          4808   444     9.23%\n",
       "2          2052   194     9.45%\n",
       "3           330    27     8.18%\n",
       "4            41     4     9.76%\n",
       "5             9     0     0.00%"
      ]
     },
     "metadata": {},
     "output_type": "display_data"
    }
   ],
   "source": [
    "# вывод таблицы для принятия решений\n",
    "# count - количества кредитов, \n",
    "# sum - количество задолженностей, \n",
    "# rate_debt - процент задолженности\n",
    "try:\n",
    "    display(data.groupby('children').agg({\n",
    "        'debt': ['count', 'sum', ('rate_debt', lambda x: f'{x.sum() / x.count():.2%}')]\n",
    "    }))\n",
    "except:\n",
    "    pass\n",
    "# для вычисления rate_debt подходит и метод mean (среднее значение)\n",
    "# частное x.sum() / x.count() используется для акцента на доле просроченных кредитов от всех выданных"
   ]
  },
  {
   "cell_type": "markdown",
   "id": "ff9d3234-e7df-41af-9c98-d5d855108941",
   "metadata": {},
   "source": [
    "Определим репрезентативность каждой группы по количеству детей"
   ]
  },
  {
   "cell_type": "code",
   "execution_count": 24,
   "id": "776495ef-1e02-4939-ab84-6a1c8778de98",
   "metadata": {},
   "outputs": [
    {
     "data": {
      "text/html": [
       "<div>\n",
       "<style scoped>\n",
       "    .dataframe tbody tr th:only-of-type {\n",
       "        vertical-align: middle;\n",
       "    }\n",
       "\n",
       "    .dataframe tbody tr th {\n",
       "        vertical-align: top;\n",
       "    }\n",
       "\n",
       "    .dataframe thead tr th {\n",
       "        text-align: left;\n",
       "    }\n",
       "\n",
       "    .dataframe thead tr:last-of-type th {\n",
       "        text-align: right;\n",
       "    }\n",
       "</style>\n",
       "<table border=\"1\" class=\"dataframe\">\n",
       "  <thead>\n",
       "    <tr>\n",
       "      <th></th>\n",
       "      <th colspan=\"2\" halign=\"left\">debt</th>\n",
       "    </tr>\n",
       "    <tr>\n",
       "      <th></th>\n",
       "      <th>count</th>\n",
       "      <th>rate_count</th>\n",
       "    </tr>\n",
       "    <tr>\n",
       "      <th>children</th>\n",
       "      <th></th>\n",
       "      <th></th>\n",
       "    </tr>\n",
       "  </thead>\n",
       "  <tbody>\n",
       "    <tr>\n",
       "      <th>0</th>\n",
       "      <td>14091</td>\n",
       "      <td>66.06%</td>\n",
       "    </tr>\n",
       "    <tr>\n",
       "      <th>1</th>\n",
       "      <td>4808</td>\n",
       "      <td>22.54%</td>\n",
       "    </tr>\n",
       "    <tr>\n",
       "      <th>2</th>\n",
       "      <td>2052</td>\n",
       "      <td>9.62%</td>\n",
       "    </tr>\n",
       "    <tr>\n",
       "      <th>3</th>\n",
       "      <td>330</td>\n",
       "      <td>1.55%</td>\n",
       "    </tr>\n",
       "    <tr>\n",
       "      <th>4</th>\n",
       "      <td>41</td>\n",
       "      <td>0.19%</td>\n",
       "    </tr>\n",
       "    <tr>\n",
       "      <th>5</th>\n",
       "      <td>9</td>\n",
       "      <td>0.04%</td>\n",
       "    </tr>\n",
       "  </tbody>\n",
       "</table>\n",
       "</div>"
      ],
      "text/plain": [
       "           debt           \n",
       "          count rate_count\n",
       "children                  \n",
       "0         14091     66.06%\n",
       "1          4808     22.54%\n",
       "2          2052      9.62%\n",
       "3           330      1.55%\n",
       "4            41      0.19%\n",
       "5             9      0.04%"
      ]
     },
     "metadata": {},
     "output_type": "display_data"
    }
   ],
   "source": [
    "# # вывод таблицы доля каждой группы по количеству детей\n",
    "# count - количества кредитов, \n",
    "# rate_count - доля от общего количества кредитов\n",
    "try:\n",
    "    display(data.groupby('children').agg({\n",
    "        'debt': ['count', ('rate_count', lambda x: f'{x.count() / len(data['debt']):.2%}')]\n",
    "    }))\n",
    "except:\n",
    "    pass"
   ]
  },
  {
   "cell_type": "markdown",
   "id": "2eb9088e",
   "metadata": {
    "deletable": false,
    "id": "2eb9088e"
   },
   "source": [
    "<div style=\"border:solid gray 1px; padding: 20px\">\n",
    "\n",
    "**Выводы:** \n",
    "\n",
    "1. Существует определенная зависимость между количеством детей у заемщика и возвратом кредита в срок.\n",
    "    \n",
    "    \n",
    "2. Заемщики без детей имеют процент задолженности по возврату кредита **7.54%**. Это может указывать на то, что у людей без детей меньше непредвиденных расходов и они надежны при возврате кредитов.\n",
    "    \n",
    "    \n",
    "3. Заемщики с одним ребенком имеют процент задолженности **9.23%**, что выше, чем у заемщиков без детей. Это может свидетельствовать о том, что наличие одного ребенка может повлиять на способность заемщика вовремя возвращать кредиты.\n",
    "    \n",
    "    \n",
    "4. Заемщики с двумя детьми имеют процент задолженности **9.45%**, что также выше, чем у заемщиков без детей. Это может указывать на то, что у заемщиков с двумя детьми могут быть дополнительные финансовые обязательства, что влияет на возврат кредитов.\n",
    "    \n",
    "    \n",
    "5. Заемщики с большим количестом детей:\n",
    "- с тремя детьми имеют процент задолженности **8.18%**,\n",
    "- с четырьмя детьми имеют самый высокий процент задолженности **9.76%**\n",
    "- с пятью детьми не имеют задолженности\n",
    "- данных по этим категориям недостаточно для анализа. Чтобы многодетная категория стала репрезентативной её доля должна быть более 2%. "
   ]
  },
  {
   "cell_type": "markdown",
   "id": "74c9b3a7",
   "metadata": {
    "deletable": false,
    "editable": true,
    "id": "74c9b3a7",
    "slideshow": {
     "slide_type": ""
    },
    "tags": []
   },
   "source": [
    "<a id=\"family_status\"></a>\n",
    "### Есть ли зависимость между семейным положением и возвратом кредита в срок?"
   ]
  },
  {
   "cell_type": "markdown",
   "id": "71e1f97d",
   "metadata": {
    "deletable": false,
    "id": "8098ab3b"
   },
   "source": [
    "Для ответа на вопрос проверим зависимость наличия задолженности по возврату кредита `debt` от семейного положения `family_status`"
   ]
  },
  {
   "cell_type": "markdown",
   "id": "56504074",
   "metadata": {},
   "source": [
    "**Шаг 1. Обзор данных о семейном положении**"
   ]
  },
  {
   "cell_type": "code",
   "execution_count": 25,
   "id": "d1b83f5d",
   "metadata": {
    "editable": true,
    "slideshow": {
     "slide_type": ""
    },
    "tags": []
   },
   "outputs": [
    {
     "data": {
      "text/plain": [
       "array(['женат / замужем', 'гражданский брак', 'вдовец / вдова',\n",
       "       'в разводе', 'Не женат / не замужем'], dtype=object)"
      ]
     },
     "execution_count": 25,
     "metadata": {},
     "output_type": "execute_result"
    }
   ],
   "source": [
    "# проверка уникальные значения в столбце family_status\n",
    "data['family_status'].unique()"
   ]
  },
  {
   "cell_type": "markdown",
   "id": "9bd0dec2",
   "metadata": {},
   "source": [
    "Для удобства приведем наименование всех категорий семейного положения в нижний регистр"
   ]
  },
  {
   "cell_type": "code",
   "execution_count": 26,
   "id": "da63c98b",
   "metadata": {},
   "outputs": [],
   "source": [
    "# приведение значений столбца family_status в нижний регистр \n",
    "data['family_status'] = data['family_status'].str.lower()"
   ]
  },
  {
   "cell_type": "markdown",
   "id": "a40c1535",
   "metadata": {},
   "source": [
    "**Шаг 2. Сгруппируем данные по семейному положению и вычислим по каждой группе:**\n",
    "* количество выданных кредитов \n",
    "* количество задолженностей по возврату кредита\n",
    "* процент наличия задолженности по кредиту.\n",
    "\n",
    "Метод `pivot_table` используется для демонстрации использования и в таких случаях."
   ]
  },
  {
   "cell_type": "code",
   "execution_count": 27,
   "id": "cb514667-d7e6-497a-9efa-8a7b08700cd0",
   "metadata": {
    "editable": true,
    "slideshow": {
     "slide_type": ""
    },
    "tags": []
   },
   "outputs": [
    {
     "data": {
      "text/html": [
       "<div>\n",
       "<style scoped>\n",
       "    .dataframe tbody tr th:only-of-type {\n",
       "        vertical-align: middle;\n",
       "    }\n",
       "\n",
       "    .dataframe tbody tr th {\n",
       "        vertical-align: top;\n",
       "    }\n",
       "\n",
       "    .dataframe thead th {\n",
       "        text-align: right;\n",
       "    }\n",
       "</style>\n",
       "<table border=\"1\" class=\"dataframe\">\n",
       "  <thead>\n",
       "    <tr style=\"text-align: right;\">\n",
       "      <th></th>\n",
       "      <th>count</th>\n",
       "      <th>sum</th>\n",
       "      <th>rate_debt</th>\n",
       "    </tr>\n",
       "    <tr>\n",
       "      <th>family_status</th>\n",
       "      <th></th>\n",
       "      <th></th>\n",
       "      <th></th>\n",
       "    </tr>\n",
       "  </thead>\n",
       "  <tbody>\n",
       "    <tr>\n",
       "      <th>вдовец / вдова</th>\n",
       "      <td>951</td>\n",
       "      <td>63</td>\n",
       "      <td>6.62%</td>\n",
       "    </tr>\n",
       "    <tr>\n",
       "      <th>в разводе</th>\n",
       "      <td>1189</td>\n",
       "      <td>84</td>\n",
       "      <td>7.06%</td>\n",
       "    </tr>\n",
       "    <tr>\n",
       "      <th>женат / замужем</th>\n",
       "      <td>12261</td>\n",
       "      <td>927</td>\n",
       "      <td>7.56%</td>\n",
       "    </tr>\n",
       "    <tr>\n",
       "      <th>гражданский брак</th>\n",
       "      <td>4134</td>\n",
       "      <td>385</td>\n",
       "      <td>9.31%</td>\n",
       "    </tr>\n",
       "    <tr>\n",
       "      <th>не женат / не замужем</th>\n",
       "      <td>2796</td>\n",
       "      <td>273</td>\n",
       "      <td>9.76%</td>\n",
       "    </tr>\n",
       "  </tbody>\n",
       "</table>\n",
       "</div>"
      ],
      "text/plain": [
       "                       count  sum rate_debt\n",
       "family_status                              \n",
       "вдовец / вдова           951   63     6.62%\n",
       "в разводе               1189   84     7.06%\n",
       "женат / замужем        12261  927     7.56%\n",
       "гражданский брак        4134  385     9.31%\n",
       "не женат / не замужем   2796  273     9.76%"
      ]
     },
     "execution_count": 27,
     "metadata": {},
     "output_type": "execute_result"
    }
   ],
   "source": [
    "#вывод сводной таблицы для принятия решений\n",
    "# count - количества кредитов, \n",
    "# sum - количество задолженностей, \n",
    "# rate_debt - процент задолженности\n",
    "try:\n",
    "    pivot = data.pivot_table(index='family_status', values='debt', \n",
    "                         aggfunc={'debt': ['count', 'sum', ('rate_debt',lambda x: f'{x.sum() / x.count():.2%}')]},\n",
    "                         fill_value=0)\n",
    "except:\n",
    "    pass\n",
    "\n",
    "# изменение порядка столбцов\n",
    "pivot = pivot.reindex(columns=['count', 'sum', 'rate_debt'])\n",
    "\n",
    "# сортировка  по rate_debt для удобства анализа\n",
    "pivot.sort_values(by='rate_debt', ascending=True)"
   ]
  },
  {
   "cell_type": "markdown",
   "id": "c389ca63",
   "metadata": {
    "deletable": false,
    "id": "c389ca63"
   },
   "source": [
    "<div style=\"border:solid gray 1px; padding: 20px\">\n",
    "\n",
    "**Выводы:** \n",
    "\n",
    "1. Существует зависимость между семейным положением заёмщика и возвратом кредита в срок. \n",
    "    \n",
    "    \n",
    "2. Заемщики, являющиеся вдовцами или вдовами, имеют самый низкий процент задолженности по возврату кредита **6.62%**. Это может указывать на то, что люди, потерявшие супруга/супругу, более ответственны и надежны при возврате кредитов.\n",
    "    \n",
    "    \n",
    "3. Заемщики, находящиеся в разводе, имеют процент задолженности **7.06%**. Это ниже, чем у заемщиков в гражданском браке или не состоящих в браке. Это может свидетельствовать о том, что люди, пережившие развод, могут быть более организованными и ответственными в финансовых вопросах.\n",
    "    \n",
    "    \n",
    "4. Заемщики, находящиеся в браке, имеют процент задолженности **7.56%**, что также ниже, чем у заемщиков в гражданском браке или не состоящих в браке. Это может указывать на то, что семейное положение может влиять на финансовую ответственность заемщика.\n",
    "    \n",
    "    \n",
    "5. Заемщики, находящиеся в гражданском браке, имеют процент задолженности **9.31%**, что выше, чем у заемщиков в предыдущих категориях. Это может указывать на то, что люди в гражданском браке могут иметь больше финансовых трудностей или менее стабильные отношения, что отражается на возврате кредитов.\n",
    "    \n",
    "    \n",
    "5. Заемщики, не состоящие в браке, имеют самый высокий процент задолженности **9.76%**. Это может указывать на то, что люди, не имеющие официального семейного статуса, могут иметь менее стабильные финансовые обязательства или меньше мотивации для возврата кредитов."
   ]
  },
  {
   "cell_type": "markdown",
   "id": "9529de68",
   "metadata": {
    "deletable": false,
    "editable": true,
    "id": "9529de68",
    "slideshow": {
     "slide_type": ""
    },
    "tags": []
   },
   "source": [
    "<a id=\"total_income_category\"></a>\n",
    "### Есть ли зависимость между уровнем дохода и возвратом кредита в срок?"
   ]
  },
  {
   "cell_type": "markdown",
   "id": "7c7572c3-eb38-49af-91b8-3fd2fefc8081",
   "metadata": {},
   "source": [
    "#### Анализ категорий уровня дохода, предложенных банком"
   ]
  },
  {
   "cell_type": "markdown",
   "id": "c8ecc981",
   "metadata": {
    "editable": true,
    "slideshow": {
     "slide_type": ""
    },
    "tags": []
   },
   "source": [
    "Для ответа на вопрос проверим зависимость наличия задолженности по возврату кредитов `debt` от предложенных кредитным отделом и рассчитанных ранее категорий уровня дохода в столбце `total_income_category`"
   ]
  },
  {
   "cell_type": "markdown",
   "id": "33e89a38",
   "metadata": {},
   "source": [
    "**Сгруппируем данные по категориям уровня дохода и вычислим по каждой группе:**\n",
    "* количество выданных кредитов \n",
    "* количество задолженностей по возврату кредита\n",
    "* процент наличия задолженности по кредиту."
   ]
  },
  {
   "cell_type": "code",
   "execution_count": 28,
   "id": "8787f44a",
   "metadata": {
    "deletable": false,
    "editable": true,
    "id": "8787f44a",
    "slideshow": {
     "slide_type": ""
    },
    "tags": []
   },
   "outputs": [
    {
     "data": {
      "text/html": [
       "<div>\n",
       "<style scoped>\n",
       "    .dataframe tbody tr th:only-of-type {\n",
       "        vertical-align: middle;\n",
       "    }\n",
       "\n",
       "    .dataframe tbody tr th {\n",
       "        vertical-align: top;\n",
       "    }\n",
       "\n",
       "    .dataframe thead tr th {\n",
       "        text-align: left;\n",
       "    }\n",
       "\n",
       "    .dataframe thead tr:last-of-type th {\n",
       "        text-align: right;\n",
       "    }\n",
       "</style>\n",
       "<table border=\"1\" class=\"dataframe\">\n",
       "  <thead>\n",
       "    <tr>\n",
       "      <th></th>\n",
       "      <th colspan=\"3\" halign=\"left\">debt</th>\n",
       "    </tr>\n",
       "    <tr>\n",
       "      <th></th>\n",
       "      <th>count</th>\n",
       "      <th>sum</th>\n",
       "      <th>rate_debt</th>\n",
       "    </tr>\n",
       "    <tr>\n",
       "      <th>total_income_category</th>\n",
       "      <th></th>\n",
       "      <th></th>\n",
       "      <th></th>\n",
       "    </tr>\n",
       "  </thead>\n",
       "  <tbody>\n",
       "    <tr>\n",
       "      <th>до 30 тыс - E</th>\n",
       "      <td>22</td>\n",
       "      <td>2</td>\n",
       "      <td>9.09%</td>\n",
       "    </tr>\n",
       "    <tr>\n",
       "      <th>от 30 тыс до 50 тыс - D</th>\n",
       "      <td>349</td>\n",
       "      <td>21</td>\n",
       "      <td>6.02%</td>\n",
       "    </tr>\n",
       "    <tr>\n",
       "      <th>от 50 тыс до 200 тыс - C</th>\n",
       "      <td>15921</td>\n",
       "      <td>1353</td>\n",
       "      <td>8.50%</td>\n",
       "    </tr>\n",
       "    <tr>\n",
       "      <th>от 200 тыс до 1 млн - B</th>\n",
       "      <td>5014</td>\n",
       "      <td>354</td>\n",
       "      <td>7.06%</td>\n",
       "    </tr>\n",
       "    <tr>\n",
       "      <th>более 1 млн - A</th>\n",
       "      <td>25</td>\n",
       "      <td>2</td>\n",
       "      <td>8.00%</td>\n",
       "    </tr>\n",
       "  </tbody>\n",
       "</table>\n",
       "</div>"
      ],
      "text/plain": [
       "                           debt                \n",
       "                          count   sum rate_debt\n",
       "total_income_category                          \n",
       "до 30 тыс - E                22     2     9.09%\n",
       "от 30 тыс до 50 тыс - D     349    21     6.02%\n",
       "от 50 тыс до 200 тыс - C  15921  1353     8.50%\n",
       "от 200 тыс до 1 млн - B    5014   354     7.06%\n",
       "более 1 млн - A              25     2     8.00%"
      ]
     },
     "metadata": {},
     "output_type": "display_data"
    }
   ],
   "source": [
    "# вывод таблицы для принятия решений\n",
    "# count - количества кредитов, \n",
    "# sum - количество задолженностей, \n",
    "# rate_debt - процент задолженности\n",
    "try:\n",
    "    display(data.groupby('total_income_category').agg({\n",
    "        'debt': ['count', 'sum', ('rate_debt', lambda x: f'{x.sum() / x.count():.2%}')]\n",
    "    }).sort_index(ascending=False).rename(index={\n",
    "    'A': 'более 1 млн - A',\n",
    "    'B': 'от 200 тыс до 1 млн - B',\n",
    "    'C': 'от 50 тыс до 200 тыс - C',\n",
    "    'D': 'от 30 тыс до 50 тыс - D',\n",
    "    'E': 'до 30 тыс - E'\n",
    "    }))\n",
    "except:\n",
    "    pass"
   ]
  },
  {
   "cell_type": "markdown",
   "id": "6dd14b57",
   "metadata": {
    "deletable": false,
    "id": "6dd14b57"
   },
   "source": [
    "<div style=\"border:solid gray 1px; padding: 20px\">\n",
    "\n",
    "**Выводы:**\n",
    "\n",
    "1. Cуществует определенная зависимость между уровнем дохода и возвратом кредита в срок.\n",
    "    \n",
    "    \n",
    "2. Заемщики с доходом **менее 30 тыс** имеют самый высокий процент задолженности по возврату кредита **9.09%**. Это может указывать на то, что люди с низким уровнем дохода чаще имеют проблемы с возвратом кредитов. Учитывая малое количество таких заемщиков рекомендуется провести дополнительное исследование.\n",
    "    \n",
    "\n",
    "3. Заемщики с доходом **от 30 тыс до 50 тыс** имеют самый низкий процент задолженности **6.02%**, что может указывать на то, что люди с доходом в этом диапазоне более ответственны при возврате кредитов.\n",
    "    \n",
    "        \n",
    "4. Заемщики с доходом **от 50 тыс до 200 тыс** также имеют высокий процент задолженности **8.50%**. Это может свидетельствовать о том, что даже средний уровень дохода не всегда гарантирует своевременный возврат кредита. И таких заемщиков нужно оценивать по другим категориям: наличие детей, семейное положение ...\n",
    "    \n",
    "    \n",
    "5. Заемщики с доходом **от 200 тыс до 1 млн** имеют низкий процент задолженности **7.06%**. Это может говорить о том, что люди с высоким уровнем дохода более надежны при возврате кредитов.\n",
    "    \n",
    "    \n",
    "6. Заемщики с доходом **более 1 млн** имеют процент задолженности **8%**, что выше чем у предыдущей категории. Но малое количество таких заемщиков возможно искажает результаты исследования."
   ]
  },
  {
   "cell_type": "markdown",
   "id": "7066d64d-3a7b-4bed-bc5f-03da5c1d36b6",
   "metadata": {},
   "source": [
    "#### Анализ альтернативных категорий уровня дохода"
   ]
  },
  {
   "cell_type": "markdown",
   "id": "5c52cacc-6562-4c43-94f3-fe07ee6e5992",
   "metadata": {
    "id": "4684c3e0",
    "slideshow": {
     "slide_type": ""
    },
    "tags": []
   },
   "source": [
    "Предложим диапазоны категорий уровня дохода, более равномерно разделяющие заемщиков и дающие реперезентативную выборку по каждой из категорий:\n",
    "\n",
    "- 0–120000 — `'E'`;\n",
    "- 120001–150000 — `'D'`;\n",
    "- 150001–200000 — `'C'`;\n",
    "- 200001–250000 — `'B'`;\n",
    "- 250001 и выше — `'A'`.\n",
    "\n",
    "Новые диапазоны запишем в столбец `total_income_range`"
   ]
  },
  {
   "cell_type": "code",
   "execution_count": 29,
   "id": "798db3f0-3bee-4976-92d5-4d7be3a4028e",
   "metadata": {
    "editable": true,
    "slideshow": {
     "slide_type": ""
    },
    "tags": []
   },
   "outputs": [
    {
     "data": {
      "text/html": [
       "<div>\n",
       "<style scoped>\n",
       "    .dataframe tbody tr th:only-of-type {\n",
       "        vertical-align: middle;\n",
       "    }\n",
       "\n",
       "    .dataframe tbody tr th {\n",
       "        vertical-align: top;\n",
       "    }\n",
       "\n",
       "    .dataframe thead tr th {\n",
       "        text-align: left;\n",
       "    }\n",
       "\n",
       "    .dataframe thead tr:last-of-type th {\n",
       "        text-align: right;\n",
       "    }\n",
       "</style>\n",
       "<table border=\"1\" class=\"dataframe\">\n",
       "  <thead>\n",
       "    <tr>\n",
       "      <th></th>\n",
       "      <th colspan=\"3\" halign=\"left\">debt</th>\n",
       "    </tr>\n",
       "    <tr>\n",
       "      <th></th>\n",
       "      <th>count</th>\n",
       "      <th>sum</th>\n",
       "      <th>rate_debt</th>\n",
       "    </tr>\n",
       "    <tr>\n",
       "      <th>total_income_range</th>\n",
       "      <th></th>\n",
       "      <th></th>\n",
       "      <th></th>\n",
       "    </tr>\n",
       "  </thead>\n",
       "  <tbody>\n",
       "    <tr>\n",
       "      <th>до 120 тыс - E</th>\n",
       "      <td>7196</td>\n",
       "      <td>585</td>\n",
       "      <td>8.13%</td>\n",
       "    </tr>\n",
       "    <tr>\n",
       "      <th>от 120 тыс до 150 тыс - D</th>\n",
       "      <td>4358</td>\n",
       "      <td>388</td>\n",
       "      <td>8.90%</td>\n",
       "    </tr>\n",
       "    <tr>\n",
       "      <th>от 150 тыс до 200 тыс - C</th>\n",
       "      <td>4738</td>\n",
       "      <td>403</td>\n",
       "      <td>8.51%</td>\n",
       "    </tr>\n",
       "    <tr>\n",
       "      <th>от 200 тыс до 250 тыс - B</th>\n",
       "      <td>2242</td>\n",
       "      <td>162</td>\n",
       "      <td>7.23%</td>\n",
       "    </tr>\n",
       "    <tr>\n",
       "      <th>более 250 тыс - A</th>\n",
       "      <td>2797</td>\n",
       "      <td>194</td>\n",
       "      <td>6.94%</td>\n",
       "    </tr>\n",
       "  </tbody>\n",
       "</table>\n",
       "</div>"
      ],
      "text/plain": [
       "                           debt               \n",
       "                          count  sum rate_debt\n",
       "total_income_range                            \n",
       "до 120 тыс - E             7196  585     8.13%\n",
       "от 120 тыс до 150 тыс - D  4358  388     8.90%\n",
       "от 150 тыс до 200 тыс - C  4738  403     8.51%\n",
       "от 200 тыс до 250 тыс - B  2242  162     7.23%\n",
       "более 250 тыс - A          2797  194     6.94%"
      ]
     },
     "metadata": {},
     "output_type": "display_data"
    }
   ],
   "source": [
    "# для создания новых диапазонов изпользуем метод cut() библиотеки pandas\n",
    "cut_labels = ['E', 'D', 'C', 'B', 'A']\n",
    "cut_bins = [0, 120000, 150000, 200000, 250000, data['total_income'].max()]\n",
    "data['total_income_range'] = pd.cut(data['total_income'], bins=cut_bins, labels=cut_labels)\n",
    "\n",
    "# вывод таблицы на экран\n",
    "try:\n",
    "    display(data.groupby('total_income_range', observed=True).agg({\n",
    "        'debt': ['count', 'sum', ('rate_debt', lambda x: f'{x.sum() / x.count():.2%}')]\n",
    "    }).rename(index={\n",
    "    'A': 'более 250 тыс - A',\n",
    "    'B': 'от 200 тыс до 250 тыс - B',\n",
    "    'C': 'от 150 тыс до 200 тыс - C',\n",
    "    'D': 'от 120 тыс до 150 тыс - D',\n",
    "    'E': 'до 120 тыс - E'\n",
    "    }))\n",
    "except:\n",
    "    pass"
   ]
  },
  {
   "cell_type": "markdown",
   "id": "195a3e54-2151-4b0d-828c-3732c956fda6",
   "metadata": {
    "id": "6dd14b57"
   },
   "source": [
    "<div style=\"border:solid gray 1px; padding: 20px\">\n",
    "\n",
    "**Выводы:**\n",
    "\n",
    "1. Информация о задолженности по возврату кредита по новым категориям уровня дохода более равномерно включает в себя заемщиков и уменьшает искажение результатов исследования.\n",
    "\n",
    "2. С увеличением уровня дохода от **150 тыс** уменьшается процент задолженности по возврату кредита. Это может говорить о том, что люди с высоким уровнем дохода более надежны при возврате кредитов."
   ]
  },
  {
   "cell_type": "markdown",
   "id": "1dcc9b12",
   "metadata": {
    "deletable": false,
    "editable": true,
    "id": "1dcc9b12",
    "slideshow": {
     "slide_type": ""
    },
    "tags": []
   },
   "source": [
    "<a id=\"purpose_category\"></a>\n",
    "### Как разные цели кредита влияют на его возврат в срок?"
   ]
  },
  {
   "cell_type": "markdown",
   "id": "5efa5c1c",
   "metadata": {
    "editable": true,
    "slideshow": {
     "slide_type": ""
    },
    "tags": []
   },
   "source": [
    "Для ответа на вопрос проверим зависимость наличия задолженности по возврату кредитов `debt` от рассчитанных ранее категорий целей кредита в столбце `purpose_category`"
   ]
  },
  {
   "cell_type": "markdown",
   "id": "c73f3db0",
   "metadata": {},
   "source": [
    "**Сгруппируем данные по категориям целей кредита и вычислим по каждой группе:**\n",
    "* количество выданных кредитов \n",
    "* количество задолженностей по возврату кредита\n",
    "* процент наличия задолженности по кредиту."
   ]
  },
  {
   "cell_type": "code",
   "execution_count": 30,
   "id": "c602bc8b",
   "metadata": {
    "deletable": false,
    "id": "c602bc8b"
   },
   "outputs": [
    {
     "data": {
      "text/html": [
       "<div>\n",
       "<style scoped>\n",
       "    .dataframe tbody tr th:only-of-type {\n",
       "        vertical-align: middle;\n",
       "    }\n",
       "\n",
       "    .dataframe tbody tr th {\n",
       "        vertical-align: top;\n",
       "    }\n",
       "\n",
       "    .dataframe thead tr th {\n",
       "        text-align: left;\n",
       "    }\n",
       "\n",
       "    .dataframe thead tr:last-of-type th {\n",
       "        text-align: right;\n",
       "    }\n",
       "</style>\n",
       "<table border=\"1\" class=\"dataframe\">\n",
       "  <thead>\n",
       "    <tr>\n",
       "      <th></th>\n",
       "      <th colspan=\"3\" halign=\"left\">debt</th>\n",
       "    </tr>\n",
       "    <tr>\n",
       "      <th></th>\n",
       "      <th>count</th>\n",
       "      <th>sum</th>\n",
       "      <th>rate_debt</th>\n",
       "    </tr>\n",
       "    <tr>\n",
       "      <th>purpose_category</th>\n",
       "      <th></th>\n",
       "      <th></th>\n",
       "      <th></th>\n",
       "    </tr>\n",
       "  </thead>\n",
       "  <tbody>\n",
       "    <tr>\n",
       "      <th>операции с недвижимостью</th>\n",
       "      <td>10751</td>\n",
       "      <td>780</td>\n",
       "      <td>7.26%</td>\n",
       "    </tr>\n",
       "    <tr>\n",
       "      <th>проведение свадьбы</th>\n",
       "      <td>2313</td>\n",
       "      <td>183</td>\n",
       "      <td>7.91%</td>\n",
       "    </tr>\n",
       "    <tr>\n",
       "      <th>получение образования</th>\n",
       "      <td>3988</td>\n",
       "      <td>369</td>\n",
       "      <td>9.25%</td>\n",
       "    </tr>\n",
       "    <tr>\n",
       "      <th>операции с автомобилем</th>\n",
       "      <td>4279</td>\n",
       "      <td>400</td>\n",
       "      <td>9.35%</td>\n",
       "    </tr>\n",
       "  </tbody>\n",
       "</table>\n",
       "</div>"
      ],
      "text/plain": [
       "                           debt               \n",
       "                          count  sum rate_debt\n",
       "purpose_category                              \n",
       "операции с недвижимостью  10751  780     7.26%\n",
       "проведение свадьбы         2313  183     7.91%\n",
       "получение образования      3988  369     9.25%\n",
       "операции с автомобилем     4279  400     9.35%"
      ]
     },
     "execution_count": 30,
     "metadata": {},
     "output_type": "execute_result"
    }
   ],
   "source": [
    "#вывод таблицы для принятия решений\n",
    "# count - количества кредитов, \n",
    "# sum - количество задолженностей, \n",
    "# rate_debt - процент задолженности\n",
    "try:\n",
    "    result = data.groupby('purpose_category').agg({\n",
    "        'debt': ['count', 'sum', ('rate_debt', lambda x: f'{x.sum() / x.count():.2%}')]\n",
    "    })\n",
    "except:\n",
    "    pass\n",
    "\n",
    "# сортировка  по rate_debt для удобства анализа\n",
    "result.sort_values(by=('debt', 'rate_debt'), ascending=True)"
   ]
  },
  {
   "cell_type": "markdown",
   "id": "cf05ed63",
   "metadata": {
    "deletable": false,
    "id": "cf05ed63"
   },
   "source": [
    "<div style=\"border:solid gray 1px; padding: 20px\">\n",
    "\n",
    "**Выводы:** \n",
    "\n",
    "1. **\"Операции с недвижимостью\"** имеют самый низкий процент задолженности по возврату кредита **7.26%**. Это может указывать на то, что заемщики, берущие кредит на операции с недвижимостью, более ответственны и надежны при возврате кредитов.\n",
    "    \n",
    "    \n",
    "2. **\"Проведение свадьбы\"** имеет процент задолженности **7.91%**, что немного выше, чем у заемщиков на операции с недвижимостью. Это может свидетельствовать о том, что заемщики, берущие кредит на свадьбу, могут иметь некоторые финансовые трудности, но в целом возвращают кредиты в срок.\n",
    "    \n",
    "    \n",
    "3. **\"Получение образования\"** имеет процент задолженности **9.25%**, что выше, чем у заемщиков на операции с недвижимостью и свадьбу. Это может указывать на то, что заемщики, берущие кредит на образование, могут сталкиваться с финансовыми трудностями из-за высоких дополнительных расходов на обучение.\n",
    "    \n",
    "    \n",
    "4. **\"Операции с автомобилем\"** имеют самый высокий процент задолженности **9.35%**. Это может указывать на то, что заемщики, берущие кредит на автомобиль, чаще имеют проблемы с возвратом кредитов, возможно из-за дополнительных расходов на обслуживание и содержание автомобиля."
   ]
  },
  {
   "cell_type": "markdown",
   "id": "46c1f10b",
   "metadata": {
    "deletable": false,
    "editable": true,
    "id": "46c1f10b",
    "slideshow": {
     "slide_type": ""
    },
    "tags": []
   },
   "source": [
    "<a id=\"data_gaps\"></a>\n",
    "### Возможные причины появления пропусков в исходных данных."
   ]
  },
  {
   "cell_type": "markdown",
   "id": "3697d2a9",
   "metadata": {
    "deletable": false,
    "id": "3697d2a9"
   },
   "source": [
    "Одинакове количество пропусков в столбцах **«общий трудовой стаж в днях»** и **«ежемесячный доход»** может указывать на:\n",
    "- **Особенность процесса сбора данных**. Например, использовался определённый метод сбора данных, который не смог получить информацию о трудовом стаже и доходе одновременно для некоторых клиентов.\n",
    "- **Взаимозависимость данных**. Например, отсутствие информации о трудовом стаже исключает автоматическую проверку наличия информации о ежемесячном доходе.\n",
    "\n",
    "Возможные причины:\n",
    "\n",
    "1. **Новые клиенты**: Возможно, некоторые клиенты являются новыми и не предоставили достаточной информации о своем трудовом стаже и доходе на момент заполнения данных. Новые клиенты могут быть менее склонны к предоставлению подробной информации о своей трудовой и финансовой истории.\n",
    "\n",
    "\n",
    "2. **Специфика данных**: Иногда банки могут не иметь доступа к полной информации о трудовом стаже и доходе клиента, особенно если клиент работает неофициально или не предоставил необходимые документы.\n",
    "\n",
    "\n",
    "3. **Ошибки в сборе данных**: Возможно, при сборе данных произошли ошибки, которые привели к пропускам в столбцах \"общий трудовой стаж в днях\" и \"ежемесячный доход\". Это может быть вызвано недостаточной внимательностью при заполнении данных или техническими проблемами при вводе данных.\n",
    "\n",
    "\n",
    "4. **Нежелание предоставлять информацию**: Некоторые клиенты могут не желать предоставлять информацию о своем трудовом стаже и доходе по различным причинам, таким как конфиденциальность данных, недоверие к финансовым учреждениям или просто личные предпочтения."
   ]
  },
  {
   "cell_type": "markdown",
   "id": "3137d257",
   "metadata": {
    "deletable": false,
    "editable": true,
    "id": "3137d257",
    "slideshow": {
     "slide_type": ""
    },
    "tags": []
   },
   "source": [
    "<a id=\"median_value\"></a>\n",
    "### Заполнять пропуски медианным значением — лучшее решение для количественных переменных."
   ]
  },
  {
   "cell_type": "markdown",
   "id": "cf40012a",
   "metadata": {
    "deletable": false,
    "editable": true,
    "id": "cf40012a",
    "slideshow": {
     "slide_type": ""
    },
    "tags": []
   },
   "source": [
    "Заполнение пропусков медианным значением является лучшим решением для количественных переменных по нескольким причинам:\n",
    "\n",
    "\n",
    "1. **Сохранение распределения данных**: Медиана - центральная точка набора данных и меньше подвержена влиянию выбросов, чем среднее значение. Это позволяет сохранить исходное распределение данных и избежать искажения результатов из-за экстремальных значений.\n",
    "\n",
    "\n",
    "2. **Устойчивость к выбросам**: Медианное значение менее чувствительно к экстремальным значениям, чем среднее, что делает его более устойчивым к ошибкам и выбросам в данных. Это особенно важно, когда данные содержат ошибки или аномалии.\n",
    "\n",
    "\n",
    "3. **Сохранение структуры данных**: Медиана лучше отражает центральную тенденцию данных, сохраняя при этом структуру распределения. Это важно для сохранения внутренней логики и взаимосвязей между переменными.\n",
    "\n",
    "\n",
    "4. **Простота интерпретации**: Медианное значение легко интерпретировать, оно даёт представление о типичном значении переменной без влияния экстремальных значений.\n",
    "\n",
    "\n",
    "5. **Применимость к широкому спектру данных**: Метод подходит для широкого спектра количественных данных, включая те, где распределение сильно искажено или присутствуют выбросы."
   ]
  },
  {
   "cell_type": "markdown",
   "id": "57bc304e",
   "metadata": {
    "deletable": false,
    "editable": true,
    "id": "57bc304e",
    "slideshow": {
     "slide_type": ""
    },
    "tags": []
   },
   "source": [
    "<a id=\"research_results\"></a>\n",
    "## Итоги сследования"
   ]
  },
  {
   "cell_type": "markdown",
   "id": "1ab75d1c",
   "metadata": {
    "deletable": false,
    "editable": true,
    "id": "1ab75d1c",
    "slideshow": {
     "slide_type": ""
    },
    "tags": []
   },
   "source": [
    "Результаты исследования могут быть использованы для построения модели кредитного скоринга, оценивающего способность потенциального заёмщика вернуть кредит банку.\n",
    "\n",
    "**Установлено**:\n",
    "\n",
    "\n",
    "1. Существует зависимость между количеством детей у заемщика и возвратом кредита в срок, причем чем больше детей у заемщика, тем выше вероятность задолженности по возврату кредита. Однако, разница в процентах задолженности между группами заёмщиков с разным количеством детей невелика, и для более точного определения зависимости требуется дополнительный анализ. \n",
    "\n",
    "\n",
    "2. Существует зависимость между семейным положением заемщика и возвратом кредита в срок, причем люди, находившиеся/находящиеся в стабильных отношениях (вдовцы/вдовы, разведенные, женатые/замужние), имеют более низкий процент задолженности по возврату кредита.\n",
    "\n",
    "\n",
    "3. Существует зависимость между уровнем дохода и возвратом кредита в срок, причем люди с более высоким уровнем дохода имеют более низкий процент задолженности по возврату кредита. Это может указывать на то, что заёмщики с более высоким уровнем дохода более ответственно подходят к возврату кредитов.\n",
    "\n",
    "\n",
    "4. Цель кредита может влиять на его возврат в срок. Заемщики, берущие кредит на операции с недвижимостью, обычно имеют более низкий процент задолженности, в то время как заемщики, берущие кредит на автомобиль или образование, чаще имеют проблемы с возвратом кредитов.\n",
    "\n",
    "**Рекомендации**:\n",
    "\n",
    "1. Для более точной интерпретации зависимостей проанализировать и скорректировать информацию о заемщиках, у которых \"количество детей в семье\" равно `-1` и `20` \n",
    "\n",
    "\n",
    "2. По-возможности обогатить информацию о заемщиках, у которых не заполнена информация о трудовом стаже и ежемесячном доходе.\n",
    "\n",
    "\n",
    "3. Провести дополнительные исследования о зависимости возврата кредита в срок от уровня образования и возраста заемщика."
   ]
  },
  {
   "cell_type": "markdown",
   "id": "4eb62815-1626-4e1a-b14f-fc4eef39d252",
   "metadata": {
    "editable": true,
    "slideshow": {
     "slide_type": ""
    },
    "tags": []
   },
   "source": [
    "[Вернуться в начало](#intro)"
   ]
  }
 ],
 "metadata": {
  "ExecuteTimeLog": [
   {
    "duration": 66,
    "start_time": "2024-07-27T12:39:50.335Z"
   },
   {
    "duration": 508,
    "start_time": "2024-07-27T12:40:05.184Z"
   },
   {
    "duration": 25,
    "start_time": "2024-07-27T12:40:05.694Z"
   },
   {
    "duration": 51,
    "start_time": "2024-07-27T12:40:05.723Z"
   },
   {
    "duration": 16,
    "start_time": "2024-07-27T12:40:05.788Z"
   },
   {
    "duration": 73,
    "start_time": "2024-07-27T12:40:05.806Z"
   },
   {
    "duration": 4,
    "start_time": "2024-07-27T12:40:05.880Z"
   },
   {
    "duration": 29,
    "start_time": "2024-07-27T12:40:05.886Z"
   },
   {
    "duration": 10,
    "start_time": "2024-07-27T12:40:05.918Z"
   },
   {
    "duration": 9,
    "start_time": "2024-07-27T12:40:05.931Z"
   },
   {
    "duration": 5,
    "start_time": "2024-07-27T12:40:05.942Z"
   },
   {
    "duration": 49,
    "start_time": "2024-07-27T12:40:05.950Z"
   },
   {
    "duration": 10,
    "start_time": "2024-07-27T12:40:06.001Z"
   },
   {
    "duration": 4,
    "start_time": "2024-07-27T12:40:06.013Z"
   },
   {
    "duration": 46,
    "start_time": "2024-07-27T12:40:06.019Z"
   },
   {
    "duration": 52,
    "start_time": "2024-07-27T12:40:06.066Z"
   },
   {
    "duration": 18,
    "start_time": "2024-07-27T12:40:06.119Z"
   },
   {
    "duration": 5,
    "start_time": "2024-07-27T12:40:06.139Z"
   },
   {
    "duration": 31,
    "start_time": "2024-07-27T12:40:06.146Z"
   },
   {
    "duration": 9,
    "start_time": "2024-07-27T12:40:06.179Z"
   },
   {
    "duration": 5,
    "start_time": "2024-07-27T12:40:06.190Z"
   },
   {
    "duration": 13,
    "start_time": "2024-07-27T12:40:06.206Z"
   },
   {
    "duration": 14,
    "start_time": "2024-07-27T12:40:06.221Z"
   },
   {
    "duration": 3,
    "start_time": "2024-07-27T12:40:06.248Z"
   },
   {
    "duration": 17,
    "start_time": "2024-07-27T12:40:06.264Z"
   },
   {
    "duration": 11,
    "start_time": "2024-07-27T12:40:06.283Z"
   },
   {
    "duration": 93,
    "start_time": "2024-07-27T12:46:59.602Z"
   },
   {
    "duration": 8,
    "start_time": "2024-07-27T12:47:11.492Z"
   },
   {
    "duration": 10,
    "start_time": "2024-07-27T12:48:03.155Z"
   },
   {
    "duration": 15,
    "start_time": "2024-07-27T12:49:50.594Z"
   },
   {
    "duration": 18,
    "start_time": "2024-07-27T13:13:33.863Z"
   },
   {
    "duration": 11,
    "start_time": "2024-07-27T13:13:50.089Z"
   },
   {
    "duration": 12,
    "start_time": "2024-07-27T13:17:05.693Z"
   },
   {
    "duration": 68,
    "start_time": "2024-07-27T13:27:04.492Z"
   },
   {
    "duration": 27,
    "start_time": "2024-07-27T13:27:16.334Z"
   },
   {
    "duration": 15,
    "start_time": "2024-07-27T13:27:54.548Z"
   },
   {
    "duration": 81,
    "start_time": "2024-07-27T13:37:45.242Z"
   },
   {
    "duration": 67,
    "start_time": "2024-07-27T13:38:03.155Z"
   },
   {
    "duration": 15,
    "start_time": "2024-07-27T13:38:32.617Z"
   },
   {
    "duration": 18,
    "start_time": "2024-07-27T13:41:26.166Z"
   },
   {
    "duration": 15,
    "start_time": "2024-07-27T13:43:00.742Z"
   },
   {
    "duration": 13,
    "start_time": "2024-07-27T13:46:53.286Z"
   },
   {
    "duration": 14,
    "start_time": "2024-07-27T13:49:06.281Z"
   },
   {
    "duration": 15,
    "start_time": "2024-07-27T13:56:38.832Z"
   },
   {
    "duration": 14,
    "start_time": "2024-07-27T13:56:58.271Z"
   },
   {
    "duration": 17,
    "start_time": "2024-07-27T14:20:36.959Z"
   },
   {
    "duration": 63,
    "start_time": "2024-07-27T14:22:46.235Z"
   },
   {
    "duration": 8,
    "start_time": "2024-07-27T14:22:52.273Z"
   },
   {
    "duration": 24,
    "start_time": "2024-07-27T16:01:25.616Z"
   },
   {
    "duration": 102,
    "start_time": "2024-07-27T16:03:04.760Z"
   },
   {
    "duration": 6,
    "start_time": "2024-07-27T16:04:41.326Z"
   },
   {
    "duration": 5,
    "start_time": "2024-07-27T16:05:10.910Z"
   },
   {
    "duration": 11,
    "start_time": "2024-07-27T16:05:46.689Z"
   },
   {
    "duration": 8,
    "start_time": "2024-07-27T16:05:52.729Z"
   },
   {
    "duration": 5,
    "start_time": "2024-07-27T16:06:07.468Z"
   },
   {
    "duration": 7,
    "start_time": "2024-07-27T16:09:35.553Z"
   },
   {
    "duration": 5,
    "start_time": "2024-07-27T16:09:46.082Z"
   },
   {
    "duration": 5,
    "start_time": "2024-07-27T16:09:54.181Z"
   },
   {
    "duration": 15,
    "start_time": "2024-07-27T16:11:27.797Z"
   },
   {
    "duration": 4,
    "start_time": "2024-07-27T16:11:33.430Z"
   },
   {
    "duration": 4,
    "start_time": "2024-07-27T16:13:33.856Z"
   },
   {
    "duration": 25,
    "start_time": "2024-07-27T16:18:38.188Z"
   },
   {
    "duration": 19,
    "start_time": "2024-07-27T16:19:12.668Z"
   },
   {
    "duration": 30,
    "start_time": "2024-07-27T16:26:09.240Z"
   },
   {
    "duration": 20,
    "start_time": "2024-07-27T16:26:24.419Z"
   },
   {
    "duration": 16,
    "start_time": "2024-07-27T16:28:06.807Z"
   },
   {
    "duration": 26,
    "start_time": "2024-07-27T16:28:36.215Z"
   },
   {
    "duration": 26,
    "start_time": "2024-07-27T16:33:27.639Z"
   },
   {
    "duration": 24,
    "start_time": "2024-07-27T16:33:44.447Z"
   },
   {
    "duration": 9,
    "start_time": "2024-07-27T16:44:40.093Z"
   },
   {
    "duration": 21,
    "start_time": "2024-07-27T16:44:48.421Z"
   },
   {
    "duration": 15,
    "start_time": "2024-07-27T16:45:21.031Z"
   },
   {
    "duration": 23,
    "start_time": "2024-07-27T16:45:56.277Z"
   },
   {
    "duration": 14,
    "start_time": "2024-07-27T16:48:03.473Z"
   },
   {
    "duration": 16,
    "start_time": "2024-07-27T16:48:07.093Z"
   },
   {
    "duration": 24,
    "start_time": "2024-07-27T16:51:23.309Z"
   },
   {
    "duration": 6,
    "start_time": "2024-07-28T08:19:34.949Z"
   },
   {
    "duration": 4,
    "start_time": "2024-07-28T08:19:48.077Z"
   },
   {
    "duration": 10,
    "start_time": "2024-07-28T08:21:03.793Z"
   },
   {
    "duration": 10,
    "start_time": "2024-07-28T08:21:24.469Z"
   },
   {
    "duration": 10,
    "start_time": "2024-07-28T08:21:58.895Z"
   },
   {
    "duration": 482,
    "start_time": "2024-07-28T08:22:11.477Z"
   },
   {
    "duration": 23,
    "start_time": "2024-07-28T08:22:11.961Z"
   },
   {
    "duration": 22,
    "start_time": "2024-07-28T08:22:11.989Z"
   },
   {
    "duration": 33,
    "start_time": "2024-07-28T08:22:12.013Z"
   },
   {
    "duration": 37,
    "start_time": "2024-07-28T08:22:12.048Z"
   },
   {
    "duration": 4,
    "start_time": "2024-07-28T08:22:12.086Z"
   },
   {
    "duration": 18,
    "start_time": "2024-07-28T08:22:12.091Z"
   },
   {
    "duration": 4,
    "start_time": "2024-07-28T08:22:12.111Z"
   },
   {
    "duration": 28,
    "start_time": "2024-07-28T08:22:12.118Z"
   },
   {
    "duration": 5,
    "start_time": "2024-07-28T08:22:12.147Z"
   },
   {
    "duration": 43,
    "start_time": "2024-07-28T08:22:12.153Z"
   },
   {
    "duration": 11,
    "start_time": "2024-07-28T08:22:12.198Z"
   },
   {
    "duration": 14,
    "start_time": "2024-07-28T08:22:12.210Z"
   },
   {
    "duration": 23,
    "start_time": "2024-07-28T08:22:12.225Z"
   },
   {
    "duration": 26,
    "start_time": "2024-07-28T08:22:12.249Z"
   },
   {
    "duration": 17,
    "start_time": "2024-07-28T08:22:12.276Z"
   },
   {
    "duration": 13,
    "start_time": "2024-07-28T08:22:12.295Z"
   },
   {
    "duration": 14,
    "start_time": "2024-07-28T08:22:12.310Z"
   },
   {
    "duration": 20,
    "start_time": "2024-07-28T08:22:12.326Z"
   },
   {
    "duration": 4,
    "start_time": "2024-07-28T08:22:12.348Z"
   },
   {
    "duration": 10,
    "start_time": "2024-07-28T08:22:12.353Z"
   },
   {
    "duration": 5,
    "start_time": "2024-07-28T08:22:12.364Z"
   },
   {
    "duration": 10,
    "start_time": "2024-07-28T08:22:12.370Z"
   },
   {
    "duration": 5,
    "start_time": "2024-07-28T08:22:12.381Z"
   },
   {
    "duration": 13,
    "start_time": "2024-07-28T08:22:12.388Z"
   },
   {
    "duration": 56,
    "start_time": "2024-07-28T08:22:12.403Z"
   },
   {
    "duration": 2,
    "start_time": "2024-07-28T08:22:12.462Z"
   },
   {
    "duration": 31,
    "start_time": "2024-07-28T08:22:12.466Z"
   },
   {
    "duration": 15,
    "start_time": "2024-07-28T08:22:56.834Z"
   },
   {
    "duration": 18,
    "start_time": "2024-07-28T08:24:12.568Z"
   },
   {
    "duration": 11,
    "start_time": "2024-07-28T08:24:26.711Z"
   },
   {
    "duration": 15,
    "start_time": "2024-07-28T08:24:36.238Z"
   },
   {
    "duration": 20,
    "start_time": "2024-07-28T08:26:09.223Z"
   },
   {
    "duration": 17,
    "start_time": "2024-07-28T08:26:43.218Z"
   },
   {
    "duration": 84,
    "start_time": "2024-07-28T08:58:13.264Z"
   },
   {
    "duration": 19,
    "start_time": "2024-07-28T08:58:43.864Z"
   },
   {
    "duration": 15,
    "start_time": "2024-07-28T09:00:54.320Z"
   },
   {
    "duration": 18,
    "start_time": "2024-07-28T09:22:17.625Z"
   },
   {
    "duration": 15,
    "start_time": "2024-07-28T09:22:48.793Z"
   },
   {
    "duration": 16,
    "start_time": "2024-07-28T09:23:13.522Z"
   },
   {
    "duration": 16,
    "start_time": "2024-07-28T09:23:25.045Z"
   },
   {
    "duration": 15,
    "start_time": "2024-07-28T09:25:42.862Z"
   },
   {
    "duration": 16,
    "start_time": "2024-07-28T09:27:13.322Z"
   },
   {
    "duration": 15,
    "start_time": "2024-07-28T09:27:22.751Z"
   },
   {
    "duration": 24,
    "start_time": "2024-07-28T09:27:38.639Z"
   },
   {
    "duration": 16,
    "start_time": "2024-07-28T09:29:08.233Z"
   },
   {
    "duration": 19,
    "start_time": "2024-07-28T10:03:32.915Z"
   },
   {
    "duration": 17,
    "start_time": "2024-07-28T10:04:22.675Z"
   },
   {
    "duration": 21,
    "start_time": "2024-07-28T10:04:43.745Z"
   },
   {
    "duration": 36,
    "start_time": "2024-07-28T14:58:36.355Z"
   },
   {
    "duration": 8,
    "start_time": "2024-07-28T15:00:02.047Z"
   },
   {
    "duration": 7,
    "start_time": "2024-07-28T15:00:19.011Z"
   },
   {
    "duration": 8,
    "start_time": "2024-07-28T15:00:24.432Z"
   },
   {
    "duration": 17,
    "start_time": "2024-07-28T15:01:07.646Z"
   },
   {
    "duration": 10,
    "start_time": "2024-07-28T15:01:27.725Z"
   },
   {
    "duration": 8,
    "start_time": "2024-07-28T15:01:47.888Z"
   },
   {
    "duration": 505,
    "start_time": "2024-07-29T10:45:02.245Z"
   },
   {
    "duration": 22,
    "start_time": "2024-07-29T10:45:02.752Z"
   },
   {
    "duration": 19,
    "start_time": "2024-07-29T10:45:02.776Z"
   },
   {
    "duration": 10,
    "start_time": "2024-07-29T10:45:02.797Z"
   },
   {
    "duration": 45,
    "start_time": "2024-07-29T10:45:02.809Z"
   },
   {
    "duration": 9,
    "start_time": "2024-07-29T10:45:02.856Z"
   },
   {
    "duration": 18,
    "start_time": "2024-07-29T10:45:02.867Z"
   },
   {
    "duration": 8,
    "start_time": "2024-07-29T10:45:02.886Z"
   },
   {
    "duration": 8,
    "start_time": "2024-07-29T10:45:02.895Z"
   },
   {
    "duration": 5,
    "start_time": "2024-07-29T10:45:02.904Z"
   },
   {
    "duration": 110,
    "start_time": "2024-07-29T10:45:02.911Z"
   },
   {
    "duration": 10,
    "start_time": "2024-07-29T10:45:03.023Z"
   },
   {
    "duration": 10,
    "start_time": "2024-07-29T10:45:03.035Z"
   },
   {
    "duration": 29,
    "start_time": "2024-07-29T10:45:03.048Z"
   },
   {
    "duration": 24,
    "start_time": "2024-07-29T10:45:03.079Z"
   },
   {
    "duration": 17,
    "start_time": "2024-07-29T10:45:03.104Z"
   },
   {
    "duration": 3,
    "start_time": "2024-07-29T10:45:03.122Z"
   },
   {
    "duration": 19,
    "start_time": "2024-07-29T10:45:03.127Z"
   },
   {
    "duration": 23,
    "start_time": "2024-07-29T10:45:03.147Z"
   },
   {
    "duration": 19,
    "start_time": "2024-07-29T10:45:03.172Z"
   },
   {
    "duration": 21,
    "start_time": "2024-07-29T10:45:03.192Z"
   },
   {
    "duration": 26,
    "start_time": "2024-07-29T10:45:03.214Z"
   },
   {
    "duration": 15,
    "start_time": "2024-07-29T10:45:03.241Z"
   },
   {
    "duration": 11,
    "start_time": "2024-07-29T10:45:03.257Z"
   },
   {
    "duration": 23,
    "start_time": "2024-07-29T10:45:03.270Z"
   },
   {
    "duration": 97,
    "start_time": "2024-07-29T10:45:03.295Z"
   },
   {
    "duration": 14,
    "start_time": "2024-07-29T10:45:03.394Z"
   },
   {
    "duration": 15,
    "start_time": "2024-07-29T10:45:03.409Z"
   },
   {
    "duration": 444,
    "start_time": "2024-07-30T04:39:10.402Z"
   },
   {
    "duration": 21,
    "start_time": "2024-07-30T04:39:10.848Z"
   },
   {
    "duration": 15,
    "start_time": "2024-07-30T04:39:10.871Z"
   },
   {
    "duration": 10,
    "start_time": "2024-07-30T04:39:10.888Z"
   },
   {
    "duration": 33,
    "start_time": "2024-07-30T04:39:10.900Z"
   },
   {
    "duration": 26,
    "start_time": "2024-07-30T04:39:10.935Z"
   },
   {
    "duration": 21,
    "start_time": "2024-07-30T04:39:10.963Z"
   },
   {
    "duration": 4,
    "start_time": "2024-07-30T04:39:10.985Z"
   },
   {
    "duration": 8,
    "start_time": "2024-07-30T04:39:10.991Z"
   },
   {
    "duration": 4,
    "start_time": "2024-07-30T04:39:11.001Z"
   },
   {
    "duration": 34,
    "start_time": "2024-07-30T04:39:11.006Z"
   },
   {
    "duration": 25,
    "start_time": "2024-07-30T04:39:11.041Z"
   },
   {
    "duration": 2,
    "start_time": "2024-07-30T04:39:11.068Z"
   },
   {
    "duration": 12,
    "start_time": "2024-07-30T04:39:11.072Z"
   },
   {
    "duration": 19,
    "start_time": "2024-07-30T04:39:11.086Z"
   },
   {
    "duration": 16,
    "start_time": "2024-07-30T04:39:11.106Z"
   },
   {
    "duration": 3,
    "start_time": "2024-07-30T04:39:11.124Z"
   },
   {
    "duration": 41,
    "start_time": "2024-07-30T04:39:11.129Z"
   },
   {
    "duration": 7,
    "start_time": "2024-07-30T04:39:11.172Z"
   },
   {
    "duration": 5,
    "start_time": "2024-07-30T04:39:11.180Z"
   },
   {
    "duration": 9,
    "start_time": "2024-07-30T04:39:11.186Z"
   },
   {
    "duration": 4,
    "start_time": "2024-07-30T04:39:11.197Z"
   },
   {
    "duration": 14,
    "start_time": "2024-07-30T04:39:11.202Z"
   },
   {
    "duration": 5,
    "start_time": "2024-07-30T04:39:11.218Z"
   },
   {
    "duration": 42,
    "start_time": "2024-07-30T04:39:11.224Z"
   },
   {
    "duration": 29,
    "start_time": "2024-07-30T04:39:11.267Z"
   },
   {
    "duration": 14,
    "start_time": "2024-07-30T04:39:11.297Z"
   },
   {
    "duration": 15,
    "start_time": "2024-07-30T04:39:11.314Z"
   },
   {
    "duration": 25,
    "start_time": "2024-07-30T04:45:21.145Z"
   }
  ],
  "colab": {
   "provenance": []
  },
  "kernelspec": {
   "display_name": "Python 3 (ipykernel)",
   "language": "python",
   "name": "python3"
  },
  "language_info": {
   "codemirror_mode": {
    "name": "ipython",
    "version": 3
   },
   "file_extension": ".py",
   "mimetype": "text/x-python",
   "name": "python",
   "nbconvert_exporter": "python",
   "pygments_lexer": "ipython3",
   "version": "3.9.19"
  },
  "toc": {
   "base_numbering": 1,
   "nav_menu": {},
   "number_sections": true,
   "sideBar": true,
   "skip_h1_title": true,
   "title_cell": "Table of Contents",
   "title_sidebar": "Contents",
   "toc_cell": false,
   "toc_position": {
    "height": "calc(100% - 180px)",
    "left": "10px",
    "top": "150px",
    "width": "239.865px"
   },
   "toc_section_display": true,
   "toc_window_display": true
  }
 },
 "nbformat": 4,
 "nbformat_minor": 5
}
