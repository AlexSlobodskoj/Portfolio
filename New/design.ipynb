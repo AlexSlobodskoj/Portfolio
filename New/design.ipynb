{
 "cells": [
  {
   "cell_type": "markdown",
   "metadata": {
    "editable": true,
    "id": "-jNnJA8XhTPf",
    "slideshow": {
     "slide_type": ""
    },
    "tags": [
     "021c9b33-7b89-4683-a396-d65e08ce8385"
    ]
   },
   "source": [
    "# Jupyter Notebook: тетрадка в ячейку <a id='intro'></a>\n",
    "\n",
    "Jupyter Notebook — помощник аналитика и специалиста по Data Science.\n",
    "\n",
    "Тетради Юпитера состоят из ячеек двух типов:\n",
    "* с кодом на Python,\n",
    "* с текстом на языке разметки Markdown.\n",
    "\n",
    "Это делает тетради удобными для анализа данных. Аналитики исследуют данные, чтобы ответить на вопросы бизнеса. Ячейки с кодом нужны им для обработки данных, а ячейки с текстом — чтобы объяснить ход и результаты исследования.\n",
    "\n",
    "Этот текст вы читаете в текстовой ячейке. А следующая ячейка содержит код:\n"
   ]
  },
  {
   "cell_type": "code",
   "execution_count": 2,
   "metadata": {
    "id": "PD_2gCZIhTPf"
   },
   "outputs": [
    {
     "name": "stdout",
     "output_type": "stream",
     "text": [
      "У технарей тетради в клетку,\n",
      "у гуманитариев — в линейку,\n",
      "у аналитиков — в ячейку.\n",
      "first_number + second_number = 5\n"
     ]
    }
   ],
   "source": [
    "print('У технарей тетради в клетку,')\n",
    "print('у гуманитариев — в линейку,')\n",
    "print('у аналитиков — в ячейку.')\n",
    "\n",
    "first_number = 2\n",
    "second_number = 3\n",
    "\n",
    "result = first_number + second_number\n",
    "\n",
    "print('first_number + second_number =', result)"
   ]
  },
  {
   "cell_type": "markdown",
   "metadata": {
    "id": "WWg2SkX3hTPf"
   },
   "source": [
    "Кликните на ячейку с кодом один раз. Вокруг неё появится зелёная рамка. Это режим редактирования. В этом режиме вы можете  менять и запускать код.\n",
    "\n",
    "Чтобы запустить код, нажмите `Shift+Enter` или кликните ▶| Run в верхнем меню."
   ]
  },
  {
   "cell_type": "markdown",
   "metadata": {
    "editable": true,
    "id": "fO9xfZ3BhTPf",
    "slideshow": {
     "slide_type": ""
    },
    "tags": []
   },
   "source": [
    "## Ячейки с кодом\n",
    "\n",
    "Результат выполнения кода отображается прямо под ним. Причём результат последнего выражения в ячейке сразу выводится на экран — для него не нужно вызывать `print()`. Запустите следующую ячейку, чтобы в этом убедиться."
   ]
  },
  {
   "cell_type": "code",
   "execution_count": 3,
   "metadata": {
    "id": "V6hLUJyDhTPf"
   },
   "outputs": [
    {
     "data": {
      "text/plain": [
       "13"
      ]
     },
     "execution_count": 3,
     "metadata": {},
     "output_type": "execute_result"
    }
   ],
   "source": [
    "def sum_square(x, y):\n",
    "    return x*x + y*y;\n",
    "\n",
    "sum_square(first_number, second_number) # здесь можно не использовать print()"
   ]
  },
  {
   "cell_type": "markdown",
   "metadata": {
    "id": "U8pplckjhTPg"
   },
   "source": [
    "Код вывел на экран `13` и без функции `print()`.\n",
    "\n",
    "Здесь заметна и другая деталь. В коде мы не объявили переменные `first_number` и `second_number`. Но функция исполнилась без ошибок. Она получила значения переменных из прошлой ячейки. \n",
    "\n",
    "Выполняя код в ячейках, Юпитер запоминает результат. Все изменения в переменных будут учтены при следующем вызове любой ячейки.\n",
    "\n",
    "Запускать ячейки можно в любом порядке. Это удобно для экспериментов. Когда эксперименты завершены, проверьте, как ячейки работают вместе. Для этого в меню выберите Cell. Вы увидите три команды:\n",
    "* Run All запустит все ячейки.\n",
    "* Run All Above — ячейки от первой до выбранной.\n",
    "* Run All Below — от выбранной и до конца тетради.\n",
    "\n",
    "Чтобы сбросить все изменения в переменных, кликните ⟳ в верхнем меню.\n",
    "\n",
    "**Задание**. Заполните пропуск в следующей ячейке так, чтобы после выполнения кода значение переменной `sum_result` стало равным `8`. Проверьте решение — запустите ячейку."
   ]
  },
  {
   "cell_type": "code",
   "execution_count": 4,
   "metadata": {
    "id": "cjlAg-nfhTPg"
   },
   "outputs": [
    {
     "data": {
      "text/plain": [
       "8"
      ]
     },
     "execution_count": 4,
     "metadata": {},
     "output_type": "execute_result"
    }
   ],
   "source": [
    "third_number = ... # заполните пропуск\n",
    "sum_result = sum_square(third_number, first_number)\n",
    "sum_result # последним выражением в ячейке может быть просто имя переменной"
   ]
  },
  {
   "cell_type": "markdown",
   "metadata": {
    "id": "h1a36zgNrzQx"
   },
   "source": [
    "Вновь последнее значение из кода, `sum_result` автоматически выводится на экран."
   ]
  },
  {
   "cell_type": "code",
   "execution_count": 5,
   "metadata": {
    "id": "_-w94Ze8rzQx"
   },
   "outputs": [
    {
     "name": "stdout",
     "output_type": "stream",
     "text": [
      "1\n"
     ]
    },
    {
     "data": {
      "text/plain": [
       "2"
      ]
     },
     "execution_count": 5,
     "metadata": {},
     "output_type": "execute_result"
    }
   ],
   "source": [
    "first_number = 1\n",
    "print(first_number)\n",
    "\n",
    "last_number = 2\n",
    "last_number"
   ]
  },
  {
   "cell_type": "markdown",
   "metadata": {
    "id": "gRRx_4tecMV4"
   },
   "source": [
    "Как вы могли заметить, в предыдущей ячейке мы использовали `print()` для вывода переменной `first_number`, а для `last_number` -- нет. Ниже расскажем о правилах вывода разных объектов в Jupyter Notebook. "
   ]
  },
  {
   "cell_type": "markdown",
   "metadata": {
    "editable": true,
    "id": "6pM40S96ZppZ",
    "slideshow": {
     "slide_type": ""
    },
    "tags": []
   },
   "source": [
    "## Вывод одного объекта в одной ячейке"
   ]
  },
  {
   "cell_type": "markdown",
   "metadata": {
    "id": "tuL82W-FZppZ"
   },
   "source": [
    "Нужно вывести одну таблицу (датафрейм DataFrame) или один столбец (объект Series) в одной ячейке — укажите имя объекта в последней строке ячейки. Тогда для красивого вывода вам не понадобятся функции вывода:"
   ]
  },
  {
   "cell_type": "code",
   "execution_count": null,
   "metadata": {
    "id": "H5ykba5NZppa"
   },
   "outputs": [],
   "source": [
    "import pandas as pd\n",
    "\n",
    "# пример\n",
    "df = pd.read_csv('/datasets/yandex_music_project.csv')\n",
    "df"
   ]
  },
  {
   "cell_type": "code",
   "execution_count": null,
   "metadata": {
    "id": "a8FydRrWZppa"
   },
   "outputs": [],
   "source": [
    "# ещё пример\n",
    "df = pd.read_csv('/datasets/yandex_music_project.csv')\n",
    "df.head()"
   ]
  },
  {
   "cell_type": "code",
   "execution_count": 8,
   "metadata": {
    "id": "1zaEyh64Zppb"
   },
   "outputs": [
    {
     "data": {
      "text/plain": [
       "0                        Kamigata To Boots\n",
       "1              Delayed Because of Accident\n",
       "2                        Funiculì funiculà\n",
       "3                    Dragons in the Sunset\n",
       "4                              Soul People\n",
       "                       ...                \n",
       "65074                              My Name\n",
       "65075    Maybe One Day (feat. Black Spade)\n",
       "65076                            Jalopiina\n",
       "65077                        Freight Train\n",
       "65078            Tell Me Sweet Little Lies\n",
       "Name: Track, Length: 65079, dtype: object"
      ]
     },
     "execution_count": 8,
     "metadata": {},
     "output_type": "execute_result"
    }
   ],
   "source": [
    "# и ещё один\n",
    "df = pd.read_csv('/datasets/yandex_music_project.csv')\n",
    "# столбец всегда выводится текстом\n",
    "df['Track']"
   ]
  },
  {
   "cell_type": "markdown",
   "metadata": {
    "id": "2FNB8moAZppb"
   },
   "source": [
    "То же самое справедливо для вывода одного числа или одной строки:"
   ]
  },
  {
   "cell_type": "code",
   "execution_count": 9,
   "metadata": {
    "id": "c0NhWDupZppb"
   },
   "outputs": [
    {
     "data": {
      "text/plain": [
       "'Яндекс Практикум'"
      ]
     },
     "execution_count": 9,
     "metadata": {},
     "output_type": "execute_result"
    }
   ],
   "source": [
    "# пример ячейки\n",
    "platform = 'Яндекс Практикум'\n",
    "platform"
   ]
  },
  {
   "cell_type": "code",
   "execution_count": 10,
   "metadata": {
    "id": "oVSKAn23Zppc"
   },
   "outputs": [
    {
     "data": {
      "text/plain": [
       "777"
      ]
     },
     "execution_count": 10,
     "metadata": {},
     "output_type": "execute_result"
    }
   ],
   "source": [
    "# ещё пример\n",
    "b = 777\n",
    "b"
   ]
  },
  {
   "cell_type": "markdown",
   "metadata": {
    "id": "jpqYqp78Zppc"
   },
   "source": [
    "В последней строке ячейки можно вывести один объект. И часто используется правило: одна ячейка — один вывод."
   ]
  },
  {
   "cell_type": "markdown",
   "metadata": {
    "id": "njPR6E-eZppd"
   },
   "source": [
    "## Вывод нескольких таблиц или столбцов в одной ячейке"
   ]
  },
  {
   "cell_type": "markdown",
   "metadata": {
    "id": "Fva7aSdhZppd"
   },
   "source": [
    "Иногда требуется вывести более одной таблицы (или более одного столбца) в одной ячейке. Редко, но бывает. Используйте функцию `display()` — её можно применять во всех строках ячейки, кроме последней. В последней строке укажите имя объекта — таблицы или столбца."
   ]
  },
  {
   "cell_type": "code",
   "execution_count": 11,
   "metadata": {
    "id": "YczcK43EZppd"
   },
   "outputs": [
    {
     "data": {
      "text/html": [
       "<div>\n",
       "<style scoped>\n",
       "    .dataframe tbody tr th:only-of-type {\n",
       "        vertical-align: middle;\n",
       "    }\n",
       "\n",
       "    .dataframe tbody tr th {\n",
       "        vertical-align: top;\n",
       "    }\n",
       "\n",
       "    .dataframe thead th {\n",
       "        text-align: right;\n",
       "    }\n",
       "</style>\n",
       "<table border=\"1\" class=\"dataframe\">\n",
       "  <thead>\n",
       "    <tr style=\"text-align: right;\">\n",
       "      <th></th>\n",
       "      <th>userID</th>\n",
       "      <th>Track</th>\n",
       "      <th>artist</th>\n",
       "      <th>genre</th>\n",
       "      <th>City</th>\n",
       "      <th>time</th>\n",
       "      <th>Day</th>\n",
       "    </tr>\n",
       "  </thead>\n",
       "  <tbody>\n",
       "    <tr>\n",
       "      <th>0</th>\n",
       "      <td>FFB692EC</td>\n",
       "      <td>Kamigata To Boots</td>\n",
       "      <td>The Mass Missile</td>\n",
       "      <td>rock</td>\n",
       "      <td>Saint-Petersburg</td>\n",
       "      <td>20:28:33</td>\n",
       "      <td>Wednesday</td>\n",
       "    </tr>\n",
       "    <tr>\n",
       "      <th>1</th>\n",
       "      <td>55204538</td>\n",
       "      <td>Delayed Because of Accident</td>\n",
       "      <td>Andreas Rönnberg</td>\n",
       "      <td>rock</td>\n",
       "      <td>Moscow</td>\n",
       "      <td>14:07:09</td>\n",
       "      <td>Friday</td>\n",
       "    </tr>\n",
       "    <tr>\n",
       "      <th>2</th>\n",
       "      <td>20EC38</td>\n",
       "      <td>Funiculì funiculà</td>\n",
       "      <td>Mario Lanza</td>\n",
       "      <td>pop</td>\n",
       "      <td>Saint-Petersburg</td>\n",
       "      <td>20:58:07</td>\n",
       "      <td>Wednesday</td>\n",
       "    </tr>\n",
       "    <tr>\n",
       "      <th>3</th>\n",
       "      <td>A3DD03C9</td>\n",
       "      <td>Dragons in the Sunset</td>\n",
       "      <td>Fire + Ice</td>\n",
       "      <td>folk</td>\n",
       "      <td>Saint-Petersburg</td>\n",
       "      <td>08:37:09</td>\n",
       "      <td>Monday</td>\n",
       "    </tr>\n",
       "    <tr>\n",
       "      <th>4</th>\n",
       "      <td>E2DC1FAE</td>\n",
       "      <td>Soul People</td>\n",
       "      <td>Space Echo</td>\n",
       "      <td>dance</td>\n",
       "      <td>Moscow</td>\n",
       "      <td>08:34:34</td>\n",
       "      <td>Monday</td>\n",
       "    </tr>\n",
       "    <tr>\n",
       "      <th>...</th>\n",
       "      <td>...</td>\n",
       "      <td>...</td>\n",
       "      <td>...</td>\n",
       "      <td>...</td>\n",
       "      <td>...</td>\n",
       "      <td>...</td>\n",
       "      <td>...</td>\n",
       "    </tr>\n",
       "    <tr>\n",
       "      <th>65074</th>\n",
       "      <td>729CBB09</td>\n",
       "      <td>My Name</td>\n",
       "      <td>McLean</td>\n",
       "      <td>rnb</td>\n",
       "      <td>Moscow</td>\n",
       "      <td>13:32:28</td>\n",
       "      <td>Wednesday</td>\n",
       "    </tr>\n",
       "    <tr>\n",
       "      <th>65075</th>\n",
       "      <td>D08D4A55</td>\n",
       "      <td>Maybe One Day (feat. Black Spade)</td>\n",
       "      <td>Blu &amp; Exile</td>\n",
       "      <td>hip</td>\n",
       "      <td>Saint-Petersburg</td>\n",
       "      <td>10:00:00</td>\n",
       "      <td>Monday</td>\n",
       "    </tr>\n",
       "    <tr>\n",
       "      <th>65076</th>\n",
       "      <td>C5E3A0D5</td>\n",
       "      <td>Jalopiina</td>\n",
       "      <td>NaN</td>\n",
       "      <td>industrial</td>\n",
       "      <td>Moscow</td>\n",
       "      <td>20:09:26</td>\n",
       "      <td>Friday</td>\n",
       "    </tr>\n",
       "    <tr>\n",
       "      <th>65077</th>\n",
       "      <td>321D0506</td>\n",
       "      <td>Freight Train</td>\n",
       "      <td>Chas McDevitt</td>\n",
       "      <td>rock</td>\n",
       "      <td>Moscow</td>\n",
       "      <td>21:43:59</td>\n",
       "      <td>Friday</td>\n",
       "    </tr>\n",
       "    <tr>\n",
       "      <th>65078</th>\n",
       "      <td>3A64EF84</td>\n",
       "      <td>Tell Me Sweet Little Lies</td>\n",
       "      <td>Monica Lopez</td>\n",
       "      <td>country</td>\n",
       "      <td>Moscow</td>\n",
       "      <td>21:59:46</td>\n",
       "      <td>Friday</td>\n",
       "    </tr>\n",
       "  </tbody>\n",
       "</table>\n",
       "<p>65079 rows × 7 columns</p>\n",
       "</div>"
      ],
      "text/plain": [
       "         userID                              Track            artist  \\\n",
       "0      FFB692EC                  Kamigata To Boots  The Mass Missile   \n",
       "1      55204538        Delayed Because of Accident  Andreas Rönnberg   \n",
       "2        20EC38                  Funiculì funiculà       Mario Lanza   \n",
       "3      A3DD03C9              Dragons in the Sunset        Fire + Ice   \n",
       "4      E2DC1FAE                        Soul People        Space Echo   \n",
       "...         ...                                ...               ...   \n",
       "65074  729CBB09                            My Name            McLean   \n",
       "65075  D08D4A55  Maybe One Day (feat. Black Spade)       Blu & Exile   \n",
       "65076  C5E3A0D5                          Jalopiina               NaN   \n",
       "65077  321D0506                      Freight Train     Chas McDevitt   \n",
       "65078  3A64EF84          Tell Me Sweet Little Lies      Monica Lopez   \n",
       "\n",
       "            genre            City        time        Day  \n",
       "0            rock  Saint-Petersburg  20:28:33  Wednesday  \n",
       "1            rock            Moscow  14:07:09     Friday  \n",
       "2             pop  Saint-Petersburg  20:58:07  Wednesday  \n",
       "3            folk  Saint-Petersburg  08:37:09     Monday  \n",
       "4           dance            Moscow  08:34:34     Monday  \n",
       "...           ...               ...       ...        ...  \n",
       "65074         rnb            Moscow  13:32:28  Wednesday  \n",
       "65075         hip  Saint-Petersburg  10:00:00     Monday  \n",
       "65076  industrial            Moscow  20:09:26     Friday  \n",
       "65077        rock            Moscow  21:43:59     Friday  \n",
       "65078     country            Moscow  21:59:46     Friday  \n",
       "\n",
       "[65079 rows x 7 columns]"
      ]
     },
     "metadata": {},
     "output_type": "display_data"
    },
    {
     "data": {
      "text/html": [
       "<div>\n",
       "<style scoped>\n",
       "    .dataframe tbody tr th:only-of-type {\n",
       "        vertical-align: middle;\n",
       "    }\n",
       "\n",
       "    .dataframe tbody tr th {\n",
       "        vertical-align: top;\n",
       "    }\n",
       "\n",
       "    .dataframe thead th {\n",
       "        text-align: right;\n",
       "    }\n",
       "</style>\n",
       "<table border=\"1\" class=\"dataframe\">\n",
       "  <thead>\n",
       "    <tr style=\"text-align: right;\">\n",
       "      <th></th>\n",
       "      <th>userID</th>\n",
       "      <th>Track</th>\n",
       "      <th>artist</th>\n",
       "      <th>genre</th>\n",
       "      <th>City</th>\n",
       "      <th>time</th>\n",
       "      <th>Day</th>\n",
       "    </tr>\n",
       "  </thead>\n",
       "  <tbody>\n",
       "    <tr>\n",
       "      <th>0</th>\n",
       "      <td>FFB692EC</td>\n",
       "      <td>Kamigata To Boots</td>\n",
       "      <td>The Mass Missile</td>\n",
       "      <td>rock</td>\n",
       "      <td>Saint-Petersburg</td>\n",
       "      <td>20:28:33</td>\n",
       "      <td>Wednesday</td>\n",
       "    </tr>\n",
       "    <tr>\n",
       "      <th>1</th>\n",
       "      <td>55204538</td>\n",
       "      <td>Delayed Because of Accident</td>\n",
       "      <td>Andreas Rönnberg</td>\n",
       "      <td>rock</td>\n",
       "      <td>Moscow</td>\n",
       "      <td>14:07:09</td>\n",
       "      <td>Friday</td>\n",
       "    </tr>\n",
       "    <tr>\n",
       "      <th>2</th>\n",
       "      <td>20EC38</td>\n",
       "      <td>Funiculì funiculà</td>\n",
       "      <td>Mario Lanza</td>\n",
       "      <td>pop</td>\n",
       "      <td>Saint-Petersburg</td>\n",
       "      <td>20:58:07</td>\n",
       "      <td>Wednesday</td>\n",
       "    </tr>\n",
       "    <tr>\n",
       "      <th>3</th>\n",
       "      <td>A3DD03C9</td>\n",
       "      <td>Dragons in the Sunset</td>\n",
       "      <td>Fire + Ice</td>\n",
       "      <td>folk</td>\n",
       "      <td>Saint-Petersburg</td>\n",
       "      <td>08:37:09</td>\n",
       "      <td>Monday</td>\n",
       "    </tr>\n",
       "    <tr>\n",
       "      <th>4</th>\n",
       "      <td>E2DC1FAE</td>\n",
       "      <td>Soul People</td>\n",
       "      <td>Space Echo</td>\n",
       "      <td>dance</td>\n",
       "      <td>Moscow</td>\n",
       "      <td>08:34:34</td>\n",
       "      <td>Monday</td>\n",
       "    </tr>\n",
       "    <tr>\n",
       "      <th>...</th>\n",
       "      <td>...</td>\n",
       "      <td>...</td>\n",
       "      <td>...</td>\n",
       "      <td>...</td>\n",
       "      <td>...</td>\n",
       "      <td>...</td>\n",
       "      <td>...</td>\n",
       "    </tr>\n",
       "    <tr>\n",
       "      <th>65074</th>\n",
       "      <td>729CBB09</td>\n",
       "      <td>My Name</td>\n",
       "      <td>McLean</td>\n",
       "      <td>rnb</td>\n",
       "      <td>Moscow</td>\n",
       "      <td>13:32:28</td>\n",
       "      <td>Wednesday</td>\n",
       "    </tr>\n",
       "    <tr>\n",
       "      <th>65075</th>\n",
       "      <td>D08D4A55</td>\n",
       "      <td>Maybe One Day (feat. Black Spade)</td>\n",
       "      <td>Blu &amp; Exile</td>\n",
       "      <td>hip</td>\n",
       "      <td>Saint-Petersburg</td>\n",
       "      <td>10:00:00</td>\n",
       "      <td>Monday</td>\n",
       "    </tr>\n",
       "    <tr>\n",
       "      <th>65076</th>\n",
       "      <td>C5E3A0D5</td>\n",
       "      <td>Jalopiina</td>\n",
       "      <td>NaN</td>\n",
       "      <td>industrial</td>\n",
       "      <td>Moscow</td>\n",
       "      <td>20:09:26</td>\n",
       "      <td>Friday</td>\n",
       "    </tr>\n",
       "    <tr>\n",
       "      <th>65077</th>\n",
       "      <td>321D0506</td>\n",
       "      <td>Freight Train</td>\n",
       "      <td>Chas McDevitt</td>\n",
       "      <td>rock</td>\n",
       "      <td>Moscow</td>\n",
       "      <td>21:43:59</td>\n",
       "      <td>Friday</td>\n",
       "    </tr>\n",
       "    <tr>\n",
       "      <th>65078</th>\n",
       "      <td>3A64EF84</td>\n",
       "      <td>Tell Me Sweet Little Lies</td>\n",
       "      <td>Monica Lopez</td>\n",
       "      <td>country</td>\n",
       "      <td>Moscow</td>\n",
       "      <td>21:59:46</td>\n",
       "      <td>Friday</td>\n",
       "    </tr>\n",
       "  </tbody>\n",
       "</table>\n",
       "<p>65079 rows × 7 columns</p>\n",
       "</div>"
      ],
      "text/plain": [
       "         userID                              Track            artist  \\\n",
       "0      FFB692EC                  Kamigata To Boots  The Mass Missile   \n",
       "1      55204538        Delayed Because of Accident  Andreas Rönnberg   \n",
       "2        20EC38                  Funiculì funiculà       Mario Lanza   \n",
       "3      A3DD03C9              Dragons in the Sunset        Fire + Ice   \n",
       "4      E2DC1FAE                        Soul People        Space Echo   \n",
       "...         ...                                ...               ...   \n",
       "65074  729CBB09                            My Name            McLean   \n",
       "65075  D08D4A55  Maybe One Day (feat. Black Spade)       Blu & Exile   \n",
       "65076  C5E3A0D5                          Jalopiina               NaN   \n",
       "65077  321D0506                      Freight Train     Chas McDevitt   \n",
       "65078  3A64EF84          Tell Me Sweet Little Lies      Monica Lopez   \n",
       "\n",
       "            genre            City        time        Day  \n",
       "0            rock  Saint-Petersburg  20:28:33  Wednesday  \n",
       "1            rock            Moscow  14:07:09     Friday  \n",
       "2             pop  Saint-Petersburg  20:58:07  Wednesday  \n",
       "3            folk  Saint-Petersburg  08:37:09     Monday  \n",
       "4           dance            Moscow  08:34:34     Monday  \n",
       "...           ...               ...       ...        ...  \n",
       "65074         rnb            Moscow  13:32:28  Wednesday  \n",
       "65075         hip  Saint-Petersburg  10:00:00     Monday  \n",
       "65076  industrial            Moscow  20:09:26     Friday  \n",
       "65077        rock            Moscow  21:43:59     Friday  \n",
       "65078     country            Moscow  21:59:46     Friday  \n",
       "\n",
       "[65079 rows x 7 columns]"
      ]
     },
     "execution_count": 11,
     "metadata": {},
     "output_type": "execute_result"
    }
   ],
   "source": [
    "# пример ячейки\n",
    "first_df = pd.read_csv('/datasets/yandex_music_project.csv')\n",
    "display(first_df)\n",
    "second_df = pd.read_csv('/datasets/yandex_music_project.csv')\n",
    "second_df"
   ]
  },
  {
   "cell_type": "markdown",
   "metadata": {
    "id": "9NkP5AdWZppe"
   },
   "source": [
    "## Вывод нескольких строк или чисел в одной ячейке"
   ]
  },
  {
   "cell_type": "markdown",
   "metadata": {
    "id": "UY3vZVGbZppe"
   },
   "source": [
    "Чтобы вывести более одной строки (или более одного числа) в одной ячейке, используйте функцию `print()`. Она пригодится для вывода нескольких простых объектов.\n",
    "\n",
    "Для вывода нескольких простых объектов воспользуйтесь функцией `print()`:"
   ]
  },
  {
   "cell_type": "code",
   "execution_count": 14,
   "metadata": {
    "id": "ZYkT8jLQZppe"
   },
   "outputs": [
    {
     "name": "stdout",
     "output_type": "stream",
     "text": [
      "Сейчас будут выведены числа...\n",
      "100\n",
      "777\n",
      "Вывод закончен.\n"
     ]
    }
   ],
   "source": [
    "# пример ячейки\n",
    "a = 100\n",
    "b = 777\n",
    "print('Сейчас будут выведены числа...')\n",
    "# будут выведены значения a и b\n",
    "print(a)\n",
    "print(b)\n",
    "print('Вывод закончен.')"
   ]
  },
  {
   "cell_type": "markdown",
   "metadata": {
    "id": "6d7pyXr2Zppf"
   },
   "source": [
    "Чтобы вывести значение в последней строке ячейки, `print()` можно не использовать:"
   ]
  },
  {
   "cell_type": "code",
   "execution_count": null,
   "metadata": {
    "id": "M8gS0yCzZppf"
   },
   "outputs": [],
   "source": [
    "# пример ячейки\n",
    "a = 100\n",
    "b = 777\n",
    "print('Сейчас будут выведены числа...')\n",
    "# будут выведены значения a и b\n",
    "print(a)\n",
    "b"
   ]
  },
  {
   "cell_type": "markdown",
   "metadata": {
    "id": "9kj0uSPfZppf"
   },
   "source": [
    "Jupyter Notebook используют не только для исследований, но и для презентации результатов. Поэтому красивое форматирование таблиц повышает ценность проекта."
   ]
  },
  {
   "cell_type": "markdown",
   "metadata": {
    "id": "o1sJmy6PhTPg",
    "jp-MarkdownHeadingCollapsed": true
   },
   "source": [
    "##  Ячейки с текстом\n",
    "\n",
    "Текстовые ячейки нужны, чтобы отображать текст вместе с элементами форматирования. Например, с заголовками, списками или таблицами.\n",
    "\n",
    "Любую ячейку с кодом можно превратить в текстовую — и наоборот. \n",
    "\n",
    "Измените тип следующей ячейки на текстовый и примените форматирование. Для этого: \n",
    "* кликните по ячейке таблицей,\n",
    "* выберите в меню Cell -> Cell type -> Markdown;\n",
    "* нажмите `Shift + Enter`, чтобы отформатировать ячейку.\n",
    "\n",
    "\n",
    "\n",
    "\n"
   ]
  },
  {
   "cell_type": "markdown",
   "metadata": {
    "id": "dBJ2CWnQhTPg"
   },
   "source": [
    "## Таблица 1\n",
    "\n",
    "| Язык                     | Доля сайтов в топ 10 млн | Носители, млн | Говорящие, млн |\n",
    "|--------------------------|-----------------|--------------------|-------------|\n",
    "| Английский               | 53.90%          | 378.2              | 1121        |\n",
    "| Русский                  | 6.10%           | 153.9              | 264.3       |\n",
    "| Немецкий                 | 6.00%           | 76                 | 132         |\n",
    "| Испанский                | 4.90%           | 442.3              | 512.9       |\n",
    "| Французский              | 4.00%           | 76.7               | 284.9       |\n",
    "| Японский                 | 3.40%           | 128.2              | 128.3       |\n",
    "| Португальский            | 2.90%           | 222.7              | 236.5       |\n",
    "| Итальянский              | 2.40%           | 64.8               | 67.8        |\n",
    "| Персидский               | 2.00%           | 60                 | 110         |\n",
    "| Польский                 | 1.80%           | 39.6               | 40.3        |\n",
    "| Китайский | 1.70%           | 908.7              | 1.107       |\n",
    "| Датский                  | 1.20%           | 22                 | 28          |\n",
    "| Турецкий                 | 1.20%           | 78.5               | 78.9        |\n",
    "| Чешский                  | 1.00%           | 10.4               | 10.6        |\n",
    "\n"
   ]
  },
  {
   "cell_type": "markdown",
   "metadata": {
    "id": "MxNKUirwhTPg"
   },
   "source": [
    "Текстовые ячейки размечают по правилам Markdown. В текст добавляют специальные символы, которые подсказывают Юпитеру, как должен быть отформатирован текст. Специальные символы не видны, пока вы не войдёте в режим редактирования. \n",
    "\n",
    "**Режимы ячейки**\n",
    "\n",
    "Когда вы кликаете по текстовой ячейке один раз, вокруг неё появляется синяя рамка. Это командный режим: в нём можно изменить тип ячейки, но не её содержимое.\n",
    "\n",
    "Кликните по текстовой ячейке дважды, чтобы открыть её в режиме редактирования. Форматирование исчезнет, а вы увидите специальные символы. "
   ]
  },
  {
   "cell_type": "markdown",
   "metadata": {
    "id": "XSjnV5qZBQtK"
   },
   "source": [
    "**Жирный текст** помещают между двумя звёздочками, `**`.\n",
    "\n",
    "Дважды кликните по этой ячейке, чтобы увидеть текст с разметкой Markdown. \n",
    "\n",
    "Затем нажмите `Shift + Enter` — чтобы вернуть форматирование."
   ]
  },
  {
   "cell_type": "markdown",
   "metadata": {
    "id": "3-PHTB4mhTPg"
   },
   "source": [
    "**Списки** начинают со знака `-` или `*`:\n",
    "\n",
    "- пришёл,\n",
    "- увидел,\n",
    "- проанализировал.\n"
   ]
  },
  {
   "cell_type": "markdown",
   "metadata": {
    "id": "xvp945kY_Pfb"
   },
   "source": [
    "**Выделить код** в тексте можно, поместив его в косые кавычки. Например: `display()`. \n",
    "\n",
    "Несколько `строчек` кода помещают в тройные обратные кавычки — как в следующей ячейке."
   ]
  },
  {
   "cell_type": "markdown",
   "metadata": {
    "id": "uuAOqrUZ8y4Z"
   },
   "source": [
    "**Заголовки** начинают со знака `#`:\n",
    "\n",
    "```\n",
    "# Заголовок первого уровня\n",
    "## Заголовок второго уровня\n",
    "### Заголовок третьего уровня\n",
    "```\n",
    "\n",
    "Дважды кликните на любой заголовок в этом документе, чтобы посмотреть его разметку. И верните форматирование с помощью `Shift + Enter`."
   ]
  },
  {
   "cell_type": "markdown",
   "metadata": {
    "editable": true,
    "id": "BAQwtW-UrzQ0",
    "slideshow": {
     "slide_type": ""
    },
    "tags": []
   },
   "source": [
    "**Ссылки** в маркдауне состоят из двух частей:\n",
    "* в квадратных скобках пишут текст, который увидит пользователь;\n",
    "* за ними в круглых скобках — ссылку, которую Юпитер добавит к тексту. \n",
    "\n",
    "Например:\n",
    "\n",
    "Маркдаун — `[Яндекс Практикум](https://practicum.yandex.ru/)`.\n",
    "\n",
    "Результат — [Яндекс Практикум](https://practicum.yandex.ru/).\n",
    "\n",
    "\n",
    "**Внутренние ссылки** ведут к отдельным ячейкам тетради. Это пригодится в самостоятельных проектах. С помощью внутренних ссылок в Юпитере создают оглавление исследования.\n",
    "\n",
    "Чтобы сослаться на ячейку тетради, к ней добавляют метку с id — уникальным именем метки:\n",
    "\n",
    "`<a id='intro'></a>`\n",
    "\n",
    "Такую метку мы добавили в первую ячейку этой тетради. Теперь можно написать ссылку, которая вернёт в начало этой тетрадки: \n",
    "\n",
    "Маркдаун — `[Начало тетрадки](#intro)`.\n",
    "\n",
    "Результат — [начало тетрадки](#intro).\n"
   ]
  },
  {
   "cell_type": "markdown",
   "metadata": {
    "id": "CGy21Mv6hTPg"
   },
   "source": [
    "## Сочетания клавиш\n",
    "Сочетания клавиш помогают быстро вызывать некоторые команды. Например, вы видели, как действует сочетание `Shift + Enter`:\n",
    "\n",
    "* в ячейке с кодом — выполняет код;\n",
    "* в ячейке с текстом — форматирует текст.\n",
    "\n",
    "Это сочетание клавиш работает как в режиме редактирования, так и в режиме управления.\n",
    "\n",
    "Другие горячие клавиши работают только в режиме управления, когда ячейка обведена синей рамкой:\n",
    "\n",
    "- `m`  — из ячейки с кодом делает текстовую; \n",
    "- `y`  — из текстовой ячейки делает ячейку с кодом;\n",
    "- `b`  — добавляет новую ячейку под выбранной;\n",
    "- `a`  — добавляет новую ячейку над выбранной.\n",
    "\n",
    "Наконец, в режиме редактирования нажмите `Esc`, чтобы перейти в режим управления.\n",
    "\n",
    "Поэкспериментируйте с сочетаниями клавиш в этом документе. Например, выберите эту ячейку, создайте под ней новую — клавишей `b`. Затем сделайте её текстовой — клавишей `m`.\n",
    "\n",
    "\n",
    "### Лайфхак: как запомнить горячие клавиши\n",
    "* останавливайте себя, когда тянетесь к кнопке меню,\n",
    "* вспомните, какое сочетание клавиш может заменить кнопку, к которой вы тянулись,\n",
    "* нажмите эту горячую клавишу.\n",
    "\n",
    "Это полезная привычка, которая ещё сохранит вам время.\n",
    "\n",
    "\n",
    "## Автоматическое сохранение тетради\n",
    "Юпитер сам сохраняет изменения в тетради. Но иногда автоматическое сохранение даёт сбой. В самостоятельных проектах после значимых изменений сохраните файл — нажмите на иконку дискеты, 💾. В верхнем меню она расположена слева."
   ]
  },
  {
   "cell_type": "code",
   "execution_count": null,
   "metadata": {},
   "outputs": [],
   "source": []
  }
 ],
 "metadata": {
  "ExecuteTimeLog": [
   {
    "duration": 9,
    "start_time": "2024-07-10T10:33:05.555Z"
   },
   {
    "duration": 4,
    "start_time": "2024-07-10T10:33:17.847Z"
   },
   {
    "duration": 9,
    "start_time": "2024-07-10T10:34:04.101Z"
   },
   {
    "duration": 3,
    "start_time": "2024-07-10T10:36:50.349Z"
   },
   {
    "duration": 5,
    "start_time": "2024-07-10T10:37:10.799Z"
   },
   {
    "duration": 839,
    "start_time": "2024-07-10T10:46:05.525Z"
   },
   {
    "duration": 161,
    "start_time": "2024-07-10T10:46:35.495Z"
   },
   {
    "duration": 156,
    "start_time": "2024-07-10T10:47:44.828Z"
   },
   {
    "duration": 4,
    "start_time": "2024-07-10T10:48:01.018Z"
   },
   {
    "duration": 3,
    "start_time": "2024-07-10T10:48:06.788Z"
   },
   {
    "duration": 301,
    "start_time": "2024-07-10T11:02:12.103Z"
   },
   {
    "duration": 4,
    "start_time": "2024-07-10T11:03:20.927Z"
   },
   {
    "duration": 5,
    "start_time": "2024-07-10T11:03:28.722Z"
   },
   {
    "duration": 4,
    "start_time": "2024-07-10T11:03:38.298Z"
   }
  ],
  "colab": {
   "collapsed_sections": [],
   "provenance": []
  },
  "kernelspec": {
   "display_name": "Python 3 (ipykernel)",
   "language": "python",
   "name": "python3"
  },
  "language_info": {
   "codemirror_mode": {
    "name": "ipython",
    "version": 3
   },
   "file_extension": ".py",
   "mimetype": "text/x-python",
   "name": "python",
   "nbconvert_exporter": "python",
   "pygments_lexer": "ipython3",
   "version": "3.9.19"
  },
  "toc": {
   "base_numbering": 1,
   "nav_menu": {},
   "number_sections": true,
   "sideBar": true,
   "skip_h1_title": true,
   "title_cell": "Table of Contents",
   "title_sidebar": "Contents",
   "toc_cell": false,
   "toc_position": {},
   "toc_section_display": true,
   "toc_window_display": false
  }
 },
 "nbformat": 4,
 "nbformat_minor": 4
}
