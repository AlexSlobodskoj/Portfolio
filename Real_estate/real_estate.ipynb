{
 "cells": [
  {
   "cell_type": "markdown",
   "id": "9b222a9e-151b-4026-a330-9fb18f0df21f",
   "metadata": {},
   "source": [
    "<div style=\"background-color:lavender; color:#black; text-align:left; padding:2%\">\n",
    "    \n",
    "**Привет!:**  \n",
    "\n",
    "Меня зовут **Александр**. Со мной можно общаться на \"ты\".\n",
    "\n",
    "Любая обратная связь приветствуется! \n",
    "\n",
    "И всякие подсказки как сделать проект лучше, лайфхаки по оптимизации 🙂"
   ]
  },
  {
   "cell_type": "markdown",
   "id": "7647345e",
   "metadata": {},
   "source": [
    "<div style=\"border:solid green 3px; padding: 20px\">\n",
    "<b>Привет,  Александр!👋</b>\n",
    "    \n",
    "Меня зовут Ольга Вишневская, я буду проверять твой проект. Спасибо за подсказку, будем на \"ты\" :)\n",
    "    \n",
    "Моя основная цель — не указать на совершенные тобою ошибки, а поделиться своим опытом и помочь тебе в учебе.\n",
    "\n",
    "\n",
    "Ты можешь найти мои комментарии, обозначенные <font color='green'>зеленым</font>, <font color='gold'>желтым</font> и <font color='red'>красным</font> цветами, например:\n",
    "\n",
    "<p>\n",
    "<div class=\"alert-danger\">\n",
    "<b>Комментарий ревьюера ❌</b>\n",
    "\n",
    "Так выделены самые важные замечания. Без их отработки я не смогу принять проект. </div>\n",
    "\n",
    "<div class=\"alert-warning\">\n",
    "<b>Комментарий ревьюера ⚠️</b>\n",
    "\n",
    "Так выделены небольшие замечания. Не более трёх таких замечаний допустимы. Если их много - постарайся исправить их.</div>\n",
    "<p>\n",
    "<div class=\"alert-success\">\n",
    "<b>Комментарий ревьюера ✔️</b>\n",
    "\n",
    "Так выделены все остальные комментарии.</div>\n",
    "    \n",
    "Пожалуйста, <b>не перемещай, не изменяй и не удаляй мои комментарии</b>, они будут особенно полезны для нашей работы в случае повторной проверки проекта. \n",
    "Предлагаю работать в диалоге: если что-то дорабатываешь или отвечаешь на мой комментарий - пиши об этом и мне будет удобней, если ты выделишь свои комментарии:\n",
    "<p>\n",
    "<div class=\"alert-info\">\n",
    "<b>Комментарий студента</b>\n",
    "\n",
    "Например, так.</div>\n",
    "    \n",
    "Увидев у тебя неточность, в первый раз я лишь укажу на ее наличие и дам тебе возможность самому найти и исправить ее. На реальной работе твой руководитель будет поступать также. Но если ты пока не справишься с такой задачей - при следующей проверке я дам более точную подсказку!🤓"
   ]
  },
  {
   "cell_type": "markdown",
   "id": "ebe80754",
   "metadata": {},
   "source": [
    "<div style=\"border:solid green 3px; padding: 20px\">\n",
    "<p>\n",
    "<div class=\"alert-success\">\n",
    "    \n",
    "Добрый день, Александр! Новые комментарии я буду помечать вот так:  \n",
    "<b>Комментарий ревьюера 2</b>\n"
   ]
  },
  {
   "cell_type": "markdown",
   "id": "386f2ae7",
   "metadata": {
    "deletable": false,
    "id": "386f2ae7",
    "slideshow": {
     "slide_type": ""
    },
    "tags": []
   },
   "source": [
    "<a id=\"intro\"></a>\n",
    "# Исследование объявлений о продаже квартир"
   ]
  },
  {
   "cell_type": "markdown",
   "id": "83298658-d1c7-4d5d-861d-db09eb3cf0d2",
   "metadata": {
    "slideshow": {
     "slide_type": ""
    },
    "tags": []
   },
   "source": [
    "**Описание проекта**\n",
    "\n",
    "Заказчик — сервис Яндекс Недвижимость. \n",
    "\n",
    "Входные данные - архив объявлений о продаже квартир в Санкт-Петербурге и соседних населённых пунктах за несколько лет.\n",
    "\n",
    "Результаты исследования рыночной стоимости объектов недвижимости позволят построить автоматизированную систему для отслеживания аномалий и мошеннической деятельности.\n",
    "\n",
    "По каждой квартире на продажу доступны два вида данных:\n",
    "- **Первые** вписаны пользователем,\n",
    "- **Вторые** — получены автоматически на основе картографических данных. Расстояние до центра, аэропорта и других объектов — автоматически получены из геосервисов. Количество парков и водоёмов также заполняется без участия пользователя.\n",
    "\n",
    "**Цели исследования** - ответить на вопросы:\n",
    "1. [В каких параметрах объектов недвижимости встречаются редкие и выбивающиеся значения](#data_analysis)\n",
    "2. [Как быстро продавались квартиры](#how_fast)\n",
    "3. [Какие факторы больше всего влияют на общую (полную) стоимость объекта](#factors)\n",
    "4. [У каких населённых пунктов самая высокая и низкая стоимость квадратного метра](#localities)\n",
    "5. [Как стоимость объектов зависит от расстояния до центра города](#center_distance)\n",
    "\n",
    " 👉 **[Итоги исследования здесь](#research_results)**\n",
    "\n",
    "**Описание данных**\n",
    "- `airports_nearest` — расстояние до ближайшего аэропорта в метрах (м)\n",
    "- `balcony` — число балконов\n",
    "- `ceiling_height` — высота потолков (м)\n",
    "- `cityCenters_nearest` — расстояние до центра города (м)\n",
    "- `days_exposition` — сколько дней было размещено объявление (от публикации до снятия)\n",
    "- `first_day_exposition` — дата публикации\n",
    "- `floor` — этаж\n",
    "- `floors_total` — всего этажей в доме\n",
    "- `is_apartment` — апартаменты (булев тип)\n",
    "- `kitchen_area` — площадь кухни в квадратных метрах (м²)\n",
    "- `last_price` — цена на момент снятия с публикации\n",
    "- `living_area` — жилая площадь в квадратных метрах (м²)\n",
    "- `locality_name` — название населённого пункта\n",
    "- `open_plan` — свободная планировка (булев тип)\n",
    "- `parks_around3000` — число парков в радиусе 3 км\n",
    "- `parks_nearest` — расстояние до ближайшего парка (м)\n",
    "- `ponds_around3000` — число водоёмов в радиусе 3 км\n",
    "- `ponds_nearest` — расстояние до ближайшего водоёма (м)\n",
    "- `rooms` — число комнат\n",
    "- `studio` — квартира-студия (булев тип)\n",
    "- `total_area` — общая площадь квартиры в квадратных метрах (м²)\n",
    "- `total_images` — число фотографий квартиры в объявлении"
   ]
  },
  {
   "cell_type": "markdown",
   "id": "9a185a89",
   "metadata": {},
   "source": [
    "<p>\n",
    "<div class=\"alert-success\">\n",
    "<b>Комментарий ревьюера ✔️</b>\n",
    "\n",
    "        \n",
    "Здорово, что во вступлении к твоему проекту есть заголовок, краткое описание проекта, цель проекта, план работы и описание данных. Спасибо, что есть оглавление, в том числе и в плагине toc. Теперь по проекту удобно перемещаться."
   ]
  },
  {
   "cell_type": "markdown",
   "id": "26613308",
   "metadata": {
    "deletable": false,
    "id": "26613308",
    "slideshow": {
     "slide_type": ""
    },
    "tags": []
   },
   "source": [
    "## Общая информация о данных"
   ]
  },
  {
   "cell_type": "code",
   "execution_count": 1,
   "id": "77a68a90",
   "metadata": {
    "deletable": false,
    "id": "77a68a90",
    "slideshow": {
     "slide_type": ""
    },
    "tags": []
   },
   "outputs": [],
   "source": [
    "# импорт библиотек\n",
    "import pandas as pd\n",
    "import matplotlib.pyplot as plt\n",
    "from IPython.display import display, Markdown\n",
    "import os\n",
    "import seaborn as sns"
   ]
  },
  {
   "cell_type": "code",
   "execution_count": 2,
   "id": "328e15ab",
   "metadata": {
    "id": "77a68a90",
    "slideshow": {
     "slide_type": ""
    },
    "tags": []
   },
   "outputs": [],
   "source": [
    "# чтение файла с данными и сохранение в data\n",
    "pth1 = '/datasets/real_estate_data.csv'\n",
    "pth2 = '/Users/alexslobodskoj/real_estate_data.csv'\n",
    "\n",
    "if os.path.exists(pth1):\n",
    "    data = pd.read_csv(pth1, sep='\\t')\n",
    "elif os.path.exists(pth2):\n",
    "    data = pd.read_csv(pth2, sep='\\t')\n",
    "else:\n",
    "    print('Something is wrong')\n",
    "\n",
    "# преобразование научной нотации больших чисел для удобства\n",
    "pd.set_option('display.float_format', lambda x: '%.2f' % x)"
   ]
  },
  {
   "cell_type": "markdown",
   "id": "454fd670",
   "metadata": {},
   "source": [
    "<div class=\"alert-warning\">\n",
    "<b>Комментарий ревьюера ⚠️</b>\n",
    "\n",
    "Блок загрузки библиотек лучше размещать в отдельной от остального кода ячейке. Такой подход позволит улучшить читаемость кода, снизит время поиска ошибок (если они есть) и исключит повторное выполнение кода. \n"
   ]
  },
  {
   "cell_type": "markdown",
   "id": "be3783fc",
   "metadata": {},
   "source": [
    "<div class=\"alert-info\">\n",
    "<b>Александр</b>\n",
    "\n",
    "Исправил</div>"
   ]
  },
  {
   "cell_type": "markdown",
   "id": "67040e20",
   "metadata": {},
   "source": [
    "<p>\n",
    "<div class=\"alert-success\">\n",
    "<b>Комментарий ревьюера 2 ✔️</b>\n",
    "\n",
    "    \n",
    "👍</div>"
   ]
  },
  {
   "cell_type": "markdown",
   "id": "0d15354d",
   "metadata": {},
   "source": [
    "<p>\n",
    "<div class=\"alert-success\">\n",
    "<b>Комментарий ревьюера ✔️</b>\n",
    "\n",
    "Здорово, что ты используешь конструкцию ``try-except`` для путей файлов. Но еще лучше использовать библиотеку ``os``:\n",
    "\n",
    "    import os\n",
    "\n",
    "    pth1 = '/folder_1/data.csv'\n",
    "    pth2 = '/folder_2/data.csv'\n",
    "    \n",
    "    if os.path.exists(pth1):\n",
    "        query_1 = pd.read_csv(pth1)\n",
    "    elif os.path.exists(pth2):\n",
    "        query_1 = pd.read_csv(pth2)\n",
    "    else:\n",
    "        print('Something is wrong)"
   ]
  },
  {
   "cell_type": "markdown",
   "id": "94c6b317",
   "metadata": {},
   "source": [
    "<div class=\"alert-info\">\n",
    "<b>Александр</b>\n",
    "\n",
    "Исправил</div>"
   ]
  },
  {
   "cell_type": "markdown",
   "id": "98f6124b",
   "metadata": {},
   "source": [
    "<p>\n",
    "<div class=\"alert-success\">\n",
    "<b>Комментарий ревьюера 2 ✔️</b>\n",
    "\n",
    "    \n",
    "👍</div>"
   ]
  },
  {
   "cell_type": "code",
   "execution_count": 3,
   "id": "b0451a9a",
   "metadata": {
    "deletable": false,
    "id": "b0451a9a",
    "outputId": "1a8f3ef2-d323-4ec2-ddf7-89670b5944c4",
    "slideshow": {
     "slide_type": ""
    },
    "tags": []
   },
   "outputs": [
    {
     "data": {
      "text/html": [
       "<div>\n",
       "<style scoped>\n",
       "    .dataframe tbody tr th:only-of-type {\n",
       "        vertical-align: middle;\n",
       "    }\n",
       "\n",
       "    .dataframe tbody tr th {\n",
       "        vertical-align: top;\n",
       "    }\n",
       "\n",
       "    .dataframe thead th {\n",
       "        text-align: right;\n",
       "    }\n",
       "</style>\n",
       "<table border=\"1\" class=\"dataframe\">\n",
       "  <thead>\n",
       "    <tr style=\"text-align: right;\">\n",
       "      <th></th>\n",
       "      <th>total_images</th>\n",
       "      <th>last_price</th>\n",
       "      <th>total_area</th>\n",
       "      <th>first_day_exposition</th>\n",
       "      <th>rooms</th>\n",
       "      <th>ceiling_height</th>\n",
       "      <th>floors_total</th>\n",
       "      <th>living_area</th>\n",
       "      <th>floor</th>\n",
       "      <th>is_apartment</th>\n",
       "      <th>...</th>\n",
       "      <th>kitchen_area</th>\n",
       "      <th>balcony</th>\n",
       "      <th>locality_name</th>\n",
       "      <th>airports_nearest</th>\n",
       "      <th>cityCenters_nearest</th>\n",
       "      <th>parks_around3000</th>\n",
       "      <th>parks_nearest</th>\n",
       "      <th>ponds_around3000</th>\n",
       "      <th>ponds_nearest</th>\n",
       "      <th>days_exposition</th>\n",
       "    </tr>\n",
       "  </thead>\n",
       "  <tbody>\n",
       "    <tr>\n",
       "      <th>0</th>\n",
       "      <td>20</td>\n",
       "      <td>13000000.00</td>\n",
       "      <td>108.00</td>\n",
       "      <td>2019-03-07T00:00:00</td>\n",
       "      <td>3</td>\n",
       "      <td>2.70</td>\n",
       "      <td>16.00</td>\n",
       "      <td>51.00</td>\n",
       "      <td>8</td>\n",
       "      <td>NaN</td>\n",
       "      <td>...</td>\n",
       "      <td>25.00</td>\n",
       "      <td>NaN</td>\n",
       "      <td>Санкт-Петербург</td>\n",
       "      <td>18863.00</td>\n",
       "      <td>16028.00</td>\n",
       "      <td>1.00</td>\n",
       "      <td>482.00</td>\n",
       "      <td>2.00</td>\n",
       "      <td>755.00</td>\n",
       "      <td>NaN</td>\n",
       "    </tr>\n",
       "    <tr>\n",
       "      <th>1</th>\n",
       "      <td>7</td>\n",
       "      <td>3350000.00</td>\n",
       "      <td>40.40</td>\n",
       "      <td>2018-12-04T00:00:00</td>\n",
       "      <td>1</td>\n",
       "      <td>NaN</td>\n",
       "      <td>11.00</td>\n",
       "      <td>18.60</td>\n",
       "      <td>1</td>\n",
       "      <td>NaN</td>\n",
       "      <td>...</td>\n",
       "      <td>11.00</td>\n",
       "      <td>2.00</td>\n",
       "      <td>посёлок Шушары</td>\n",
       "      <td>12817.00</td>\n",
       "      <td>18603.00</td>\n",
       "      <td>0.00</td>\n",
       "      <td>NaN</td>\n",
       "      <td>0.00</td>\n",
       "      <td>NaN</td>\n",
       "      <td>81.00</td>\n",
       "    </tr>\n",
       "    <tr>\n",
       "      <th>2</th>\n",
       "      <td>10</td>\n",
       "      <td>5196000.00</td>\n",
       "      <td>56.00</td>\n",
       "      <td>2015-08-20T00:00:00</td>\n",
       "      <td>2</td>\n",
       "      <td>NaN</td>\n",
       "      <td>5.00</td>\n",
       "      <td>34.30</td>\n",
       "      <td>4</td>\n",
       "      <td>NaN</td>\n",
       "      <td>...</td>\n",
       "      <td>8.30</td>\n",
       "      <td>0.00</td>\n",
       "      <td>Санкт-Петербург</td>\n",
       "      <td>21741.00</td>\n",
       "      <td>13933.00</td>\n",
       "      <td>1.00</td>\n",
       "      <td>90.00</td>\n",
       "      <td>2.00</td>\n",
       "      <td>574.00</td>\n",
       "      <td>558.00</td>\n",
       "    </tr>\n",
       "    <tr>\n",
       "      <th>3</th>\n",
       "      <td>0</td>\n",
       "      <td>64900000.00</td>\n",
       "      <td>159.00</td>\n",
       "      <td>2015-07-24T00:00:00</td>\n",
       "      <td>3</td>\n",
       "      <td>NaN</td>\n",
       "      <td>14.00</td>\n",
       "      <td>NaN</td>\n",
       "      <td>9</td>\n",
       "      <td>NaN</td>\n",
       "      <td>...</td>\n",
       "      <td>NaN</td>\n",
       "      <td>0.00</td>\n",
       "      <td>Санкт-Петербург</td>\n",
       "      <td>28098.00</td>\n",
       "      <td>6800.00</td>\n",
       "      <td>2.00</td>\n",
       "      <td>84.00</td>\n",
       "      <td>3.00</td>\n",
       "      <td>234.00</td>\n",
       "      <td>424.00</td>\n",
       "    </tr>\n",
       "    <tr>\n",
       "      <th>4</th>\n",
       "      <td>2</td>\n",
       "      <td>10000000.00</td>\n",
       "      <td>100.00</td>\n",
       "      <td>2018-06-19T00:00:00</td>\n",
       "      <td>2</td>\n",
       "      <td>3.03</td>\n",
       "      <td>14.00</td>\n",
       "      <td>32.00</td>\n",
       "      <td>13</td>\n",
       "      <td>NaN</td>\n",
       "      <td>...</td>\n",
       "      <td>41.00</td>\n",
       "      <td>NaN</td>\n",
       "      <td>Санкт-Петербург</td>\n",
       "      <td>31856.00</td>\n",
       "      <td>8098.00</td>\n",
       "      <td>2.00</td>\n",
       "      <td>112.00</td>\n",
       "      <td>1.00</td>\n",
       "      <td>48.00</td>\n",
       "      <td>121.00</td>\n",
       "    </tr>\n",
       "  </tbody>\n",
       "</table>\n",
       "<p>5 rows × 22 columns</p>\n",
       "</div>"
      ],
      "text/plain": [
       "   total_images  last_price  total_area first_day_exposition  rooms  \\\n",
       "0            20 13000000.00      108.00  2019-03-07T00:00:00      3   \n",
       "1             7  3350000.00       40.40  2018-12-04T00:00:00      1   \n",
       "2            10  5196000.00       56.00  2015-08-20T00:00:00      2   \n",
       "3             0 64900000.00      159.00  2015-07-24T00:00:00      3   \n",
       "4             2 10000000.00      100.00  2018-06-19T00:00:00      2   \n",
       "\n",
       "   ceiling_height  floors_total  living_area  floor is_apartment  ...  \\\n",
       "0            2.70         16.00        51.00      8          NaN  ...   \n",
       "1             NaN         11.00        18.60      1          NaN  ...   \n",
       "2             NaN          5.00        34.30      4          NaN  ...   \n",
       "3             NaN         14.00          NaN      9          NaN  ...   \n",
       "4            3.03         14.00        32.00     13          NaN  ...   \n",
       "\n",
       "   kitchen_area  balcony    locality_name  airports_nearest  \\\n",
       "0         25.00      NaN  Санкт-Петербург          18863.00   \n",
       "1         11.00     2.00   посёлок Шушары          12817.00   \n",
       "2          8.30     0.00  Санкт-Петербург          21741.00   \n",
       "3           NaN     0.00  Санкт-Петербург          28098.00   \n",
       "4         41.00      NaN  Санкт-Петербург          31856.00   \n",
       "\n",
       "  cityCenters_nearest  parks_around3000  parks_nearest  ponds_around3000  \\\n",
       "0            16028.00              1.00         482.00              2.00   \n",
       "1            18603.00              0.00            NaN              0.00   \n",
       "2            13933.00              1.00          90.00              2.00   \n",
       "3             6800.00              2.00          84.00              3.00   \n",
       "4             8098.00              2.00         112.00              1.00   \n",
       "\n",
       "   ponds_nearest  days_exposition  \n",
       "0         755.00              NaN  \n",
       "1            NaN            81.00  \n",
       "2         574.00           558.00  \n",
       "3         234.00           424.00  \n",
       "4          48.00           121.00  \n",
       "\n",
       "[5 rows x 22 columns]"
      ]
     },
     "execution_count": 3,
     "metadata": {},
     "output_type": "execute_result"
    }
   ],
   "source": [
    "# вывод первых 5 строчек датафрейма `data` на экран\n",
    "data.head(5)"
   ]
  },
  {
   "cell_type": "code",
   "execution_count": 4,
   "id": "ab3f863b",
   "metadata": {
    "deletable": false,
    "id": "ab3f863b",
    "outputId": "15376089-8dad-46c9-b520-c05248d43158",
    "slideshow": {
     "slide_type": ""
    },
    "tags": []
   },
   "outputs": [
    {
     "name": "stdout",
     "output_type": "stream",
     "text": [
      "<class 'pandas.core.frame.DataFrame'>\n",
      "RangeIndex: 23699 entries, 0 to 23698\n",
      "Data columns (total 22 columns):\n",
      " #   Column                Non-Null Count  Dtype  \n",
      "---  ------                --------------  -----  \n",
      " 0   total_images          23699 non-null  int64  \n",
      " 1   last_price            23699 non-null  float64\n",
      " 2   total_area            23699 non-null  float64\n",
      " 3   first_day_exposition  23699 non-null  object \n",
      " 4   rooms                 23699 non-null  int64  \n",
      " 5   ceiling_height        14504 non-null  float64\n",
      " 6   floors_total          23613 non-null  float64\n",
      " 7   living_area           21796 non-null  float64\n",
      " 8   floor                 23699 non-null  int64  \n",
      " 9   is_apartment          2775 non-null   object \n",
      " 10  studio                23699 non-null  bool   \n",
      " 11  open_plan             23699 non-null  bool   \n",
      " 12  kitchen_area          21421 non-null  float64\n",
      " 13  balcony               12180 non-null  float64\n",
      " 14  locality_name         23650 non-null  object \n",
      " 15  airports_nearest      18157 non-null  float64\n",
      " 16  cityCenters_nearest   18180 non-null  float64\n",
      " 17  parks_around3000      18181 non-null  float64\n",
      " 18  parks_nearest         8079 non-null   float64\n",
      " 19  ponds_around3000      18181 non-null  float64\n",
      " 20  ponds_nearest         9110 non-null   float64\n",
      " 21  days_exposition       20518 non-null  float64\n",
      "dtypes: bool(2), float64(14), int64(3), object(3)\n",
      "memory usage: 3.7+ MB\n"
     ]
    }
   ],
   "source": [
    "# вывод основной информации о датафрейме\n",
    "data.info()"
   ]
  },
  {
   "cell_type": "code",
   "execution_count": 5,
   "id": "6bc5f943-e0d4-405d-95a9-556ced464759",
   "metadata": {},
   "outputs": [
    {
     "data": {
      "image/png": "[encoded data removed]",
      "text/plain": [
       "<Figure size 1080x1440 with 20 Axes>"
      ]
     },
     "metadata": {
      "needs_background": "light"
     },
     "output_type": "display_data"
    }
   ],
   "source": [
    "# гистограммы для всех числовых столбцов\n",
    "data.hist(figsize=(15, 20))\n",
    "plt.show()"
   ]
  },
  {
   "cell_type": "markdown",
   "id": "68abefdf-8fad-427f-abb2-04a4fa528e05",
   "metadata": {},
   "source": [
    "<div style=\"border:solid gray 1px; padding: 20px\">\n",
    "\n",
    "**Выводы:**\n",
    "- есть неслучайные пропущенные значения из-за технических ошибок и человеческого фактора\n",
    "- есть выбросы и аномальные значения\n",
    "- в некоторых столбцах необходимо изменить тип данных"
   ]
  },
  {
   "cell_type": "markdown",
   "id": "031b14b5",
   "metadata": {},
   "source": [
    "<p>\n",
    "<div class=\"alert-success\">\n",
    "<b>Комментарий ревьюера ✔️</b>\n",
    "    \n",
    "Первый взгляд на данные сделан! 👍 На этом этапе можно подумать о причине образования пропусков и о том, являются ли они случайными."
   ]
  },
  {
   "cell_type": "markdown",
   "id": "60e3e22d",
   "metadata": {
    "deletable": false,
    "editable": false,
    "id": "60e3e22d",
    "slideshow": {
     "slide_type": ""
    },
    "tags": []
   },
   "source": [
    "## Предобработка данных"
   ]
  },
  {
   "cell_type": "markdown",
   "id": "03dc170c",
   "metadata": {
    "deletable": false,
    "editable": false,
    "id": "03dc170c",
    "slideshow": {
     "slide_type": ""
    },
    "tags": []
   },
   "source": [
    "### Удаление пропусков"
   ]
  },
  {
   "cell_type": "markdown",
   "id": "a4f54eef",
   "metadata": {
    "deletable": false,
    "id": "a4f54eef",
    "slideshow": {
     "slide_type": ""
    },
    "tags": []
   },
   "source": [
    "Пропущенные значения обнаружены в следующих столбцах:"
   ]
  },
  {
   "cell_type": "code",
   "execution_count": 6,
   "id": "2dc372b2",
   "metadata": {
    "deletable": false,
    "id": "2dc372b2",
    "outputId": "81f4d817-781c-465c-ed15-91ce4446810d",
    "slideshow": {
     "slide_type": ""
    },
    "tags": []
   },
   "outputs": [
    {
     "data": {
      "text/plain": [
       "ceiling_height          9195\n",
       "floors_total              86\n",
       "living_area             1903\n",
       "is_apartment           20924\n",
       "kitchen_area            2278\n",
       "balcony                11519\n",
       "locality_name             49\n",
       "airports_nearest        5542\n",
       "cityCenters_nearest     5519\n",
       "parks_around3000        5518\n",
       "parks_nearest          15620\n",
       "ponds_around3000        5518\n",
       "ponds_nearest          14589\n",
       "days_exposition         3181\n",
       "dtype: int64"
      ]
     },
     "execution_count": 6,
     "metadata": {},
     "output_type": "execute_result"
    }
   ],
   "source": [
    "# вывод названий столбцов с пропусками и количества пропусков\n",
    "data.isna().sum()[data.isna().sum() > 0]"
   ]
  },
  {
   "cell_type": "markdown",
   "id": "8e1cc296",
   "metadata": {
    "id": "a4f54eef",
    "slideshow": {
     "slide_type": ""
    },
    "tags": []
   },
   "source": [
    "Рассчитаем долю пропущенных значений."
   ]
  },
  {
   "cell_type": "code",
   "execution_count": 7,
   "id": "91ae57b1",
   "metadata": {},
   "outputs": [
    {
     "data": {
      "text/html": [
       "<style  type=\"text/css\" >\n",
       "#T_ffaa5_row0_col0,#T_ffaa5_row1_col0,#T_ffaa5_row2_col0,#T_ffaa5_row3_col0,#T_ffaa5_row4_col0,#T_ffaa5_row8_col0,#T_ffaa5_row10_col0,#T_ffaa5_row11_col0,#T_ffaa5_row14_col0{\n",
       "            background-color:  #3b4cc0;\n",
       "            color:  #f1f1f1;\n",
       "        }#T_ffaa5_row5_col0{\n",
       "            background-color:  #ccd9ed;\n",
       "            color:  #000000;\n",
       "        }#T_ffaa5_row6_col0{\n",
       "            background-color:  #3c4ec2;\n",
       "            color:  #f1f1f1;\n",
       "        }#T_ffaa5_row7_col0{\n",
       "            background-color:  #5673e0;\n",
       "            color:  #000000;\n",
       "        }#T_ffaa5_row9_col0{\n",
       "            background-color:  #b40426;\n",
       "            color:  #f1f1f1;\n",
       "        }#T_ffaa5_row12_col0{\n",
       "            background-color:  #5b7ae5;\n",
       "            color:  #000000;\n",
       "        }#T_ffaa5_row13_col0{\n",
       "            background-color:  #e9d5cb;\n",
       "            color:  #000000;\n",
       "        }#T_ffaa5_row15_col0,#T_ffaa5_row16_col0,#T_ffaa5_row17_col0,#T_ffaa5_row19_col0{\n",
       "            background-color:  #92b4fe;\n",
       "            color:  #000000;\n",
       "        }#T_ffaa5_row18_col0{\n",
       "            background-color:  #f49a7b;\n",
       "            color:  #000000;\n",
       "        }#T_ffaa5_row20_col0{\n",
       "            background-color:  #f7ad90;\n",
       "            color:  #000000;\n",
       "        }#T_ffaa5_row21_col0{\n",
       "            background-color:  #6a8bef;\n",
       "            color:  #000000;\n",
       "        }</style><table id=\"T_ffaa5_\" ><thead>    <tr>        <th class=\"blank level0\" ></th>        <th class=\"col_heading level0 col0\" >0</th>    </tr></thead><tbody>\n",
       "                <tr>\n",
       "                        <th id=\"T_ffaa5_level0_row0\" class=\"row_heading level0 row0\" >total_images</th>\n",
       "                        <td id=\"T_ffaa5_row0_col0\" class=\"data row0 col0\" >0.0</td>\n",
       "            </tr>\n",
       "            <tr>\n",
       "                        <th id=\"T_ffaa5_level0_row1\" class=\"row_heading level0 row1\" >last_price</th>\n",
       "                        <td id=\"T_ffaa5_row1_col0\" class=\"data row1 col0\" >0.0</td>\n",
       "            </tr>\n",
       "            <tr>\n",
       "                        <th id=\"T_ffaa5_level0_row2\" class=\"row_heading level0 row2\" >total_area</th>\n",
       "                        <td id=\"T_ffaa5_row2_col0\" class=\"data row2 col0\" >0.0</td>\n",
       "            </tr>\n",
       "            <tr>\n",
       "                        <th id=\"T_ffaa5_level0_row3\" class=\"row_heading level0 row3\" >first_day_exposition</th>\n",
       "                        <td id=\"T_ffaa5_row3_col0\" class=\"data row3 col0\" >0.0</td>\n",
       "            </tr>\n",
       "            <tr>\n",
       "                        <th id=\"T_ffaa5_level0_row4\" class=\"row_heading level0 row4\" >rooms</th>\n",
       "                        <td id=\"T_ffaa5_row4_col0\" class=\"data row4 col0\" >0.0</td>\n",
       "            </tr>\n",
       "            <tr>\n",
       "                        <th id=\"T_ffaa5_level0_row5\" class=\"row_heading level0 row5\" >ceiling_height</th>\n",
       "                        <td id=\"T_ffaa5_row5_col0\" class=\"data row5 col0\" >38.8</td>\n",
       "            </tr>\n",
       "            <tr>\n",
       "                        <th id=\"T_ffaa5_level0_row6\" class=\"row_heading level0 row6\" >floors_total</th>\n",
       "                        <td id=\"T_ffaa5_row6_col0\" class=\"data row6 col0\" >0.4</td>\n",
       "            </tr>\n",
       "            <tr>\n",
       "                        <th id=\"T_ffaa5_level0_row7\" class=\"row_heading level0 row7\" >living_area</th>\n",
       "                        <td id=\"T_ffaa5_row7_col0\" class=\"data row7 col0\" >8.0</td>\n",
       "            </tr>\n",
       "            <tr>\n",
       "                        <th id=\"T_ffaa5_level0_row8\" class=\"row_heading level0 row8\" >floor</th>\n",
       "                        <td id=\"T_ffaa5_row8_col0\" class=\"data row8 col0\" >0.0</td>\n",
       "            </tr>\n",
       "            <tr>\n",
       "                        <th id=\"T_ffaa5_level0_row9\" class=\"row_heading level0 row9\" >is_apartment</th>\n",
       "                        <td id=\"T_ffaa5_row9_col0\" class=\"data row9 col0\" >88.3</td>\n",
       "            </tr>\n",
       "            <tr>\n",
       "                        <th id=\"T_ffaa5_level0_row10\" class=\"row_heading level0 row10\" >studio</th>\n",
       "                        <td id=\"T_ffaa5_row10_col0\" class=\"data row10 col0\" >0.0</td>\n",
       "            </tr>\n",
       "            <tr>\n",
       "                        <th id=\"T_ffaa5_level0_row11\" class=\"row_heading level0 row11\" >open_plan</th>\n",
       "                        <td id=\"T_ffaa5_row11_col0\" class=\"data row11 col0\" >0.0</td>\n",
       "            </tr>\n",
       "            <tr>\n",
       "                        <th id=\"T_ffaa5_level0_row12\" class=\"row_heading level0 row12\" >kitchen_area</th>\n",
       "                        <td id=\"T_ffaa5_row12_col0\" class=\"data row12 col0\" >9.6</td>\n",
       "            </tr>\n",
       "            <tr>\n",
       "                        <th id=\"T_ffaa5_level0_row13\" class=\"row_heading level0 row13\" >balcony</th>\n",
       "                        <td id=\"T_ffaa5_row13_col0\" class=\"data row13 col0\" >48.6</td>\n",
       "            </tr>\n",
       "            <tr>\n",
       "                        <th id=\"T_ffaa5_level0_row14\" class=\"row_heading level0 row14\" >locality_name</th>\n",
       "                        <td id=\"T_ffaa5_row14_col0\" class=\"data row14 col0\" >0.2</td>\n",
       "            </tr>\n",
       "            <tr>\n",
       "                        <th id=\"T_ffaa5_level0_row15\" class=\"row_heading level0 row15\" >airports_nearest</th>\n",
       "                        <td id=\"T_ffaa5_row15_col0\" class=\"data row15 col0\" >23.4</td>\n",
       "            </tr>\n",
       "            <tr>\n",
       "                        <th id=\"T_ffaa5_level0_row16\" class=\"row_heading level0 row16\" >cityCenters_nearest</th>\n",
       "                        <td id=\"T_ffaa5_row16_col0\" class=\"data row16 col0\" >23.3</td>\n",
       "            </tr>\n",
       "            <tr>\n",
       "                        <th id=\"T_ffaa5_level0_row17\" class=\"row_heading level0 row17\" >parks_around3000</th>\n",
       "                        <td id=\"T_ffaa5_row17_col0\" class=\"data row17 col0\" >23.3</td>\n",
       "            </tr>\n",
       "            <tr>\n",
       "                        <th id=\"T_ffaa5_level0_row18\" class=\"row_heading level0 row18\" >parks_nearest</th>\n",
       "                        <td id=\"T_ffaa5_row18_col0\" class=\"data row18 col0\" >65.9</td>\n",
       "            </tr>\n",
       "            <tr>\n",
       "                        <th id=\"T_ffaa5_level0_row19\" class=\"row_heading level0 row19\" >ponds_around3000</th>\n",
       "                        <td id=\"T_ffaa5_row19_col0\" class=\"data row19 col0\" >23.3</td>\n",
       "            </tr>\n",
       "            <tr>\n",
       "                        <th id=\"T_ffaa5_level0_row20\" class=\"row_heading level0 row20\" >ponds_nearest</th>\n",
       "                        <td id=\"T_ffaa5_row20_col0\" class=\"data row20 col0\" >61.6</td>\n",
       "            </tr>\n",
       "            <tr>\n",
       "                        <th id=\"T_ffaa5_level0_row21\" class=\"row_heading level0 row21\" >days_exposition</th>\n",
       "                        <td id=\"T_ffaa5_row21_col0\" class=\"data row21 col0\" >13.4</td>\n",
       "            </tr>\n",
       "    </tbody></table>"
      ],
      "text/plain": [
       "<pandas.io.formats.style.Styler at 0x7efbfa97bf10>"
      ]
     },
     "execution_count": 7,
     "metadata": {},
     "output_type": "execute_result"
    }
   ],
   "source": [
    "(\n",
    "    pd.DataFrame(data.isna().mean()*100)\n",
    "    .style.format(\"{:.1f}\")\n",
    "    .background_gradient('coolwarm')\n",
    ")"
   ]
  },
  {
   "cell_type": "markdown",
   "id": "6ab5c0e6",
   "metadata": {},
   "source": [
    "<p>\n",
    "<div class=\"alert-success\">\n",
    "<b>Комментарий ревьюера ✔️</b>\n",
    "\n",
    "\n",
    "Удобно было бы сразу вывести долю пропусков. Так мы увидим, что можно отбросить, а с чем надо работать. Пример кода:\n",
    "    \n",
    "    pd.DataFrame(data.isna().mean()*100).style.set_precision(1).background_gradient('coolwarm')"
   ]
  },
  {
   "cell_type": "markdown",
   "id": "b6c569ad",
   "metadata": {},
   "source": [
    "<div class=\"alert-info\">\n",
    "<b>Александр</b>\n",
    "\n",
    "Добавил</div>"
   ]
  },
  {
   "cell_type": "markdown",
   "id": "b71aad1e",
   "metadata": {},
   "source": [
    "<p>\n",
    "<div class=\"alert-success\">\n",
    "<b>Комментарий ревьюера 2 ✔️</b>\n",
    "\n",
    "    \n",
    "👍</div>"
   ]
  },
  {
   "cell_type": "markdown",
   "id": "a563fe13-f502-4c43-81f1-86bde51b59ba",
   "metadata": {
    "id": "14f011b1",
    "slideshow": {
     "slide_type": ""
    },
    "tags": []
   },
   "source": [
    "В **11** столбцах есть пропущенные значения. Пропуски в: `ceiling_height` и `living_area` обработаем в [п.2.3](#dropna)\n",
    "\n",
    "Заполним пропуски в четырех столбцах с пропущенными значениями:\n",
    "\n",
    "- `is_apartment`\n",
    "- `balcony`\n",
    "- `floors_total`\n",
    "- `days_exposition`\n",
    "\n",
    "\n",
    "В остальных столбцах с пропущенными значениями логичную замену предложить невозможно. Оставим их без изменения.\n"
   ]
  },
  {
   "cell_type": "markdown",
   "id": "cff823a3",
   "metadata": {},
   "source": [
    "<p>\n",
    "<div class=\"alert-success\">\n",
    "<b>Комментарий ревьюера ✔️</b>\n",
    "    \n",
    "* Пропуски в жилой площади можно посчитать разделив общую площадь на коэффициент. Чтобы посчитать коэффициент, подели среднее значение общей площади на среднее значение из имеющихся данных по жилой площади.\n"
   ]
  },
  {
   "cell_type": "markdown",
   "id": "d5451a24-aad9-4f66-93a9-b454717c7f6d",
   "metadata": {},
   "source": [
    "<div class=\"alert-info\">\n",
    "<b>Александр</b>\n",
    "\n",
    "Добавил в [п.2.3](#dropna)\n",
    "\n",
    "Я изначально думал о таком ходе, но мне показалось это слишком необъективно</div>"
   ]
  },
  {
   "cell_type": "markdown",
   "id": "51cda5bd",
   "metadata": {},
   "source": [
    "<p>\n",
    "<div class=\"alert-success\">\n",
    "<b>Комментарий ревьюера 2 ✔️</b>\n",
    "\n",
    "    \n",
    "Тут на твое усмотрение, можно пропуски оставить</div>"
   ]
  },
  {
   "cell_type": "markdown",
   "id": "afa027f6-1030-4a9e-adb1-997e628971a7",
   "metadata": {
    "id": "14f011b1",
    "slideshow": {
     "slide_type": ""
    },
    "tags": []
   },
   "source": [
    "**Заполнение пропусков в столбце `is_apartment`** \n",
    "\n",
    "В столбце используется булево значение.\n",
    "Очевидно:\n",
    "\n",
    "- 1 - квартира является апартаментами\n",
    "- 0 - не является\n",
    "  \n",
    "Предположительно, если признак апартаментов отсутствуют, то это означает, что объект не является апартаментами. Заполним пропущенный признак апартаментов."
   ]
  },
  {
   "cell_type": "code",
   "execution_count": 8,
   "id": "8f163554-1fd7-4f6b-b44a-5f95e034870a",
   "metadata": {
    "slideshow": {
     "slide_type": ""
    },
    "tags": []
   },
   "outputs": [],
   "source": [
    "# заполнение пропущенных значений в столбце `is_apartment` булевым `False` \n",
    "data['is_apartment'] = \\\n",
    "(\n",
    "    data['is_apartment']\n",
    "    .astype(bool)\n",
    "    .fillna(False)\n",
    ")"
   ]
  },
  {
   "cell_type": "markdown",
   "id": "9082ac21",
   "metadata": {},
   "source": [
    "<p>\n",
    "<div class=\"alert-success\">\n",
    "<b>Комментарий ревьюера ✔️</b>\n",
    "\n",
    "    \n",
    "👍</div>"
   ]
  },
  {
   "cell_type": "markdown",
   "id": "8d0c1795-54e2-462a-97db-6693603191ad",
   "metadata": {
    "id": "14f011b1",
    "slideshow": {
     "slide_type": ""
    },
    "tags": []
   },
   "source": [
    "**Заполнение пропусков в столбце `balcony`** \n",
    "\n",
    "Предположим, если количество балконов не указано, то значит - балкона нет. Заполним числом \"0\" пропущенные значения количества балконов."
   ]
  },
  {
   "cell_type": "code",
   "execution_count": 9,
   "id": "26f1777f-7971-473e-81c4-33f6b5a96de1",
   "metadata": {
    "slideshow": {
     "slide_type": ""
    },
    "tags": []
   },
   "outputs": [],
   "source": [
    "# заполнение пропущенных значений в столбце `balcony`\n",
    "data['balcony'] = data['balcony'].fillna(0)"
   ]
  },
  {
   "cell_type": "markdown",
   "id": "d9016e82",
   "metadata": {},
   "source": [
    "<p>\n",
    "<div class=\"alert-success\">\n",
    "<b>Комментарий ревьюера ✔️</b>\n",
    "\n",
    "    \n",
    "👍</div>"
   ]
  },
  {
   "cell_type": "markdown",
   "id": "9c743044-3903-42f5-98d4-830ed6720bd4",
   "metadata": {
    "id": "14f011b1",
    "slideshow": {
     "slide_type": ""
    },
    "tags": []
   },
   "source": [
    "**Заполнение пропусков в столбце `floors_total`** \n",
    "\n",
    "Пропущенные значения этажности дома заполним информацией об этаже, на котором находится квартира."
   ]
  },
  {
   "cell_type": "code",
   "execution_count": 10,
   "id": "a663e05a-23ad-4085-b0b1-e5a26af77952",
   "metadata": {
    "slideshow": {
     "slide_type": ""
    },
    "tags": []
   },
   "outputs": [],
   "source": [
    "# заполнеие пропусков в столбце `floors_total`\n",
    "data['floors_total'] = data['floors_total'].fillna(data['floor'])"
   ]
  },
  {
   "cell_type": "markdown",
   "id": "7f94e33f",
   "metadata": {},
   "source": [
    "<p>\n",
    "<div class=\"alert-success\">\n",
    "<b>Комментарий ревьюера ✔️</b>\n",
    "\n",
    "    \n",
    "👍</div>"
   ]
  },
  {
   "cell_type": "markdown",
   "id": "651ebe87-c643-42c8-8740-44619bac7b4d",
   "metadata": {
    "id": "14f011b1",
    "slideshow": {
     "slide_type": ""
    },
    "tags": []
   },
   "source": [
    "**Заполнение пропусков в столбце `days_exposition`** \n",
    "\n",
    "Для дальнейших преобразований данных необходимо отсутствие пропущенных значений. Заполним числом \"0\" пропущенные значения."
   ]
  },
  {
   "cell_type": "code",
   "execution_count": 11,
   "id": "a22d863a-4704-48ee-9021-6b61d1065173",
   "metadata": {
    "slideshow": {
     "slide_type": ""
    },
    "tags": []
   },
   "outputs": [],
   "source": [
    "# заполнеие пропусков в столбце `days_exposition`\n",
    "#data['days_exposition'] = data['days_exposition'].fillna(0)"
   ]
  },
  {
   "cell_type": "markdown",
   "id": "434fb991",
   "metadata": {},
   "source": [
    "<p>\n",
    "<div class=\"alert-success\">\n",
    "<b>Комментарий ревьюера ✔️</b>\n",
    "\n",
    "Ты заполняешь пропуски \"заглушкой\" (ноль). \n",
    "    \n",
    "В этом случае: \n",
    "1. При расчете корреляций значение \"заглушку\" нужно будет \"ловить\" (надо отфильтровать!) \n",
    "2. При проверке гипотез заглушка также будет \"сбивать\" правильный вывод (надо отфильтровать!) \n",
    "3. Графики, которые ты будешь строить - будут \"заглушку\" отображать на осях (нужно фильтровать)\n",
    "4. В группировках также по-видимому \"заглушку\" надо будет убирать."
   ]
  },
  {
   "cell_type": "markdown",
   "id": "56c3fd7d",
   "metadata": {},
   "source": [
    "<div class=\"alert-info\">\n",
    "<b>Александр</b>\n",
    "\n",
    "Исправил. Не стал удалять ячейку с кодом чтобы было понятно о чем речь</div>"
   ]
  },
  {
   "cell_type": "markdown",
   "id": "d8d079e7",
   "metadata": {},
   "source": [
    "<p>\n",
    "<div class=\"alert-success\">\n",
    "<b>Комментарий ревьюера 2 ✔️</b>\n",
    "\n",
    "    \n",
    "👍</div>"
   ]
  },
  {
   "cell_type": "markdown",
   "id": "52196650-9b77-414e-b5d9-f073136cb2e6",
   "metadata": {
    "slideshow": {
     "slide_type": ""
    },
    "tags": []
   },
   "source": [
    "<div style=\"border:solid gray 1px; padding: 20px\">\n",
    "\n",
    "**Возможные причины** появления пропусков:\n",
    "- **Человеческий фактор**: Ошибки при вводе данных или неправильное понимание инструкций по вводу данных\n",
    "- **Технические ошибки**: Ошибки при сборе или обработке данных. Например, отсутствие автоматического контроля по заполнению категорийных данных"
   ]
  },
  {
   "cell_type": "markdown",
   "id": "8b634f27",
   "metadata": {},
   "source": [
    "<p>\n",
    "<div class=\"alert-success\">\n",
    "<b>Комментарий ревьюера ✔️</b>\n",
    "\n",
    "    \n",
    "👍</div>"
   ]
  },
  {
   "cell_type": "markdown",
   "id": "5be34059",
   "metadata": {
    "deletable": false,
    "id": "5be34059",
    "slideshow": {
     "slide_type": ""
    },
    "tags": []
   },
   "source": [
    "### Устранение неявных дубликатов"
   ]
  },
  {
   "cell_type": "markdown",
   "id": "a87606cb",
   "metadata": {
    "deletable": false,
    "id": "a87606cb",
    "slideshow": {
     "slide_type": ""
    },
    "tags": []
   },
   "source": [
    "Оценим количество и уникальные значения названий населенных пунктов."
   ]
  },
  {
   "cell_type": "code",
   "execution_count": 12,
   "id": "020c46cc",
   "metadata": {
    "deletable": false,
    "id": "020c46cc",
    "scrolled": true,
    "slideshow": {
     "slide_type": ""
    },
    "tags": []
   },
   "outputs": [
    {
     "data": {
      "text/markdown": [
       "Количество уникальных значений: **364**"
      ],
      "text/plain": [
       "<IPython.core.display.Markdown object>"
      ]
     },
     "metadata": {},
     "output_type": "display_data"
    },
    {
     "data": {
      "text/plain": [
       "array(['Бокситогорск', 'Волосово', 'Волхов', 'Всеволожск', 'Выборг',\n",
       "       'Высоцк', 'Гатчина', 'Зеленогорск', 'Ивангород', 'Каменногорск',\n",
       "       'Кингисепп', 'Кириши', 'Кировск', 'Колпино', 'Коммунар',\n",
       "       'Красное Село', 'Кронштадт', 'Кудрово', 'Лодейное Поле',\n",
       "       'Ломоносов', 'Луга', 'Любань', 'Мурино', 'Никольское',\n",
       "       'Новая Ладога', 'Отрадное', 'Павловск', 'Петергоф', 'Пикалёво',\n",
       "       'Подпорожье', 'Приморск', 'Приозерск', 'Пушкин', 'Санкт-Петербург',\n",
       "       'Светогорск', 'Сертолово', 'Сестрорецк', 'Сланцы', 'Сосновый Бор',\n",
       "       'Сясьстрой', 'Тихвин', 'Тосно', 'Шлиссельбург',\n",
       "       'городской поселок Большая Ижора', 'городской поселок Янино-1',\n",
       "       'городской посёлок Будогощь', 'городской посёлок Виллози',\n",
       "       'городской посёлок Лесогорский', 'городской посёлок Мга',\n",
       "       'городской посёлок Назия', 'городской посёлок Новоселье',\n",
       "       'городской посёлок Павлово', 'городской посёлок Рощино',\n",
       "       'городской посёлок Свирьстрой', 'городской посёлок Советский',\n",
       "       'городской посёлок Фёдоровское', 'городской посёлок Янино-1',\n",
       "       'деревня Агалатово', 'деревня Аро', 'деревня Батово',\n",
       "       'деревня Бегуницы', 'деревня Белогорка', 'деревня Большая Вруда',\n",
       "       'деревня Большая Пустомержа', 'деревня Большие Колпаны',\n",
       "       'деревня Большое Рейзино', 'деревня Большой Сабск', 'деревня Бор',\n",
       "       'деревня Борисова Грива', 'деревня Ваганово', 'деревня Вартемяги',\n",
       "       'деревня Вахнова Кара', 'деревня Выскатка', 'деревня Гарболово',\n",
       "       'деревня Глинка', 'деревня Горбунки', 'деревня Гостилицы',\n",
       "       'деревня Заклинье', 'деревня Заневка', 'деревня Зимитицы',\n",
       "       'деревня Извара', 'деревня Иссад', 'деревня Калитино',\n",
       "       'деревня Кальтино', 'деревня Камышовка', 'деревня Каськово',\n",
       "       'деревня Келози', 'деревня Кипень', 'деревня Кисельня',\n",
       "       'деревня Колтуши', 'деревня Коркино', 'деревня Котлы',\n",
       "       'деревня Кривко', 'деревня Кудрово', 'деревня Кузьмолово',\n",
       "       'деревня Курковицы', 'деревня Куровицы', 'деревня Куттузи',\n",
       "       'деревня Лаврики', 'деревня Лаголово', 'деревня Лампово',\n",
       "       'деревня Лесколово', 'деревня Лопухинка', 'деревня Лупполово',\n",
       "       'деревня Малая Романовка', 'деревня Малое Верево',\n",
       "       'деревня Малое Карлино', 'деревня Малые Колпаны',\n",
       "       'деревня Мануйлово', 'деревня Меньково', 'деревня Мины',\n",
       "       'деревня Мистолово', 'деревня Ненимяки', 'деревня Нижние Осельки',\n",
       "       'деревня Нижняя', 'деревня Низино', 'деревня Новое Девяткино',\n",
       "       'деревня Новолисино', 'деревня Нурма', 'деревня Оржицы',\n",
       "       'деревня Парицы', 'деревня Пельгора', 'деревня Пеники',\n",
       "       'деревня Пижма', 'деревня Пикколово', 'деревня Пудомяги',\n",
       "       'деревня Пустынка', 'деревня Пчева', 'деревня Рабитицы',\n",
       "       'деревня Разбегаево', 'деревня Раздолье', 'деревня Разметелево',\n",
       "       'деревня Рапполово', 'деревня Реброво', 'деревня Русско',\n",
       "       'деревня Сижно', 'деревня Снегирёвка', 'деревня Старая',\n",
       "       'деревня Старая Пустошь', 'деревня Старое Хинколово',\n",
       "       'деревня Старополье', 'деревня Старосиверская',\n",
       "       'деревня Старые Бегуницы', 'деревня Суоранда',\n",
       "       'деревня Сяськелево', 'деревня Тарасово', 'деревня Терпилицы',\n",
       "       'деревня Тихковицы', 'деревня Тойворово', 'деревня Торосово',\n",
       "       'деревня Торошковичи', 'деревня Трубников Бор',\n",
       "       'деревня Фалилеево', 'деревня Фёдоровское', 'деревня Хапо-Ое',\n",
       "       'деревня Хязельки', 'деревня Чудской Бор', 'деревня Шпаньково',\n",
       "       'деревня Щеглово', 'деревня Юкки', 'деревня Ялгино',\n",
       "       'деревня Яльгелево', 'деревня Ям-Тесово',\n",
       "       'коттеджный поселок Кивеннапа Север', 'коттеджный поселок Счастье',\n",
       "       'коттеджный посёлок Лесное', 'поселок Аннино', 'поселок Барышево',\n",
       "       'поселок Бугры', 'поселок Возрождение', 'поселок Войсковицы',\n",
       "       'поселок Володарское', 'поселок Гаврилово', 'поселок Гарболово',\n",
       "       'поселок Гладкое', 'поселок Глажево', 'поселок Глебычево',\n",
       "       'поселок Гончарово', 'поселок Громово', 'поселок Дружноселье',\n",
       "       'поселок Елизаветино', 'поселок Жилгородок', 'поселок Жилпосёлок',\n",
       "       'поселок Житково', 'поселок Заводской', 'поселок Запорожское',\n",
       "       'поселок Зимитицы', 'поселок Ильичёво', 'поселок Калитино',\n",
       "       'поселок Каложицы', 'поселок Кингисеппский', 'поселок Кирпичное',\n",
       "       'поселок Кобралово', 'поселок Кобринское', 'поселок Коммунары',\n",
       "       'поселок Коробицыно', 'поселок Котельский',\n",
       "       'поселок Красная Долина', 'поселок Красносельское',\n",
       "       'поселок Лесное', 'поселок Лисий Нос', 'поселок Лукаши',\n",
       "       'поселок Любань', 'поселок Мельниково', 'поселок Мичуринское',\n",
       "       'поселок Молодцово', 'поселок Мурино', 'поселок Новый Свет',\n",
       "       'поселок Новый Учхоз', 'поселок Оредеж',\n",
       "       'поселок Пансионат Зелёный Бор', 'поселок Первомайское',\n",
       "       'поселок Перово', 'поселок Петровское', 'поселок Победа',\n",
       "       'поселок Поляны', 'поселок Почап', 'поселок Починок',\n",
       "       'поселок Пушное', 'поселок Пчевжа', 'поселок Рабитицы',\n",
       "       'поселок Романовка', 'поселок Ромашки', 'поселок Рябово',\n",
       "       'поселок Севастьяново', 'поселок Селезнёво', 'поселок Сельцо',\n",
       "       'поселок Семиозерье', 'поселок Семрино', 'поселок Серебрянский',\n",
       "       'поселок Совхозный', 'поселок Старая Малукса',\n",
       "       'поселок Стеклянный', 'поселок Сумино', 'поселок Суходолье',\n",
       "       'поселок Тельмана', 'поселок Терволово', 'поселок Торковичи',\n",
       "       'поселок Тёсово-4', 'поселок Углово', 'поселок Усть-Луга',\n",
       "       'поселок Ушаки', 'поселок Цвелодубово', 'поселок Цвылёво',\n",
       "       'поселок городского типа Большая Ижора',\n",
       "       'поселок городского типа Вырица',\n",
       "       'поселок городского типа Дружная Горка',\n",
       "       'поселок городского типа Дубровка',\n",
       "       'поселок городского типа Ефимовский',\n",
       "       'поселок городского типа Кондратьево',\n",
       "       'поселок городского типа Красный Бор',\n",
       "       'поселок городского типа Кузьмоловский',\n",
       "       'поселок городского типа Лебяжье',\n",
       "       'поселок городского типа Лесогорский',\n",
       "       'поселок городского типа Назия',\n",
       "       'поселок городского типа Никольский',\n",
       "       'поселок городского типа Приладожский',\n",
       "       'поселок городского типа Рахья', 'поселок городского типа Рощино',\n",
       "       'поселок городского типа Рябово',\n",
       "       'поселок городского типа Синявино',\n",
       "       'поселок городского типа Советский',\n",
       "       'поселок городского типа Токсово',\n",
       "       'поселок городского типа Форносово',\n",
       "       'поселок городского типа имени Свердлова',\n",
       "       'поселок станции Вещево', 'поселок станции Корнево',\n",
       "       'поселок станции Лужайка', 'поселок станции Приветнинское',\n",
       "       'посёлок Александровская', 'посёлок Алексеевка', 'посёлок Аннино',\n",
       "       'посёлок Белоостров', 'посёлок Бугры', 'посёлок Возрождение',\n",
       "       'посёлок Войскорово', 'посёлок Высокоключевой',\n",
       "       'посёлок Гаврилово', 'посёлок Дзержинского', 'посёлок Жилгородок',\n",
       "       'посёлок Ильичёво', 'посёлок Кикерино', 'посёлок Кобралово',\n",
       "       'посёлок Коробицыно', 'посёлок Левашово', 'посёлок Ленинское',\n",
       "       'посёлок Лисий Нос', 'посёлок Мельниково', 'посёлок Металлострой',\n",
       "       'посёлок Мичуринское', 'посёлок Молодёжное', 'посёлок Мурино',\n",
       "       'посёлок Мыза-Ивановка', 'посёлок Новогорелово',\n",
       "       'посёлок Новый Свет', 'посёлок Пансионат Зелёный Бор',\n",
       "       'посёлок Парголово', 'посёлок Перово', 'посёлок Песочный',\n",
       "       'посёлок Петро-Славянка', 'посёлок Петровское',\n",
       "       'посёлок Платформа 69-й километр', 'посёлок Плодовое',\n",
       "       'посёлок Плоское', 'посёлок Победа', 'посёлок Поляны',\n",
       "       'посёлок Понтонный', 'посёлок Пригородный', 'посёлок Пудость',\n",
       "       'посёлок Репино', 'посёлок Ропша', 'посёлок Сапёрное',\n",
       "       'посёлок Сапёрный', 'посёлок Сосново', 'посёлок Старая Малукса',\n",
       "       'посёлок Стеклянный', 'посёлок Стрельна', 'посёлок Суйда',\n",
       "       'посёлок Сумино', 'посёлок Тельмана', 'посёлок Терволово',\n",
       "       'посёлок Торфяное', 'посёлок Усть-Ижора', 'посёлок Усть-Луга',\n",
       "       'посёлок Форт Красная Горка', 'посёлок Шугозеро', 'посёлок Шушары',\n",
       "       'посёлок Щеглово', 'посёлок городского типа Важины',\n",
       "       'посёлок городского типа Вознесенье',\n",
       "       'посёлок городского типа Вырица',\n",
       "       'посёлок городского типа Красный Бор',\n",
       "       'посёлок городского типа Кузнечное',\n",
       "       'посёлок городского типа Кузьмоловский',\n",
       "       'посёлок городского типа Лебяжье', 'посёлок городского типа Мга',\n",
       "       'посёлок городского типа Павлово',\n",
       "       'посёлок городского типа Рощино', 'посёлок городского типа Рябово',\n",
       "       'посёлок городского типа Сиверский',\n",
       "       'посёлок городского типа Тайцы', 'посёлок городского типа Токсово',\n",
       "       'посёлок городского типа Ульяновка',\n",
       "       'посёлок городского типа Форносово',\n",
       "       'посёлок городского типа имени Морозова',\n",
       "       'посёлок городского типа имени Свердлова',\n",
       "       'посёлок при железнодорожной станции Вещево',\n",
       "       'посёлок при железнодорожной станции Приветнинское',\n",
       "       'посёлок станции Громово', 'посёлок станции Свирь',\n",
       "       'садоводческое некоммерческое товарищество Лесная Поляна',\n",
       "       'садовое товарищество Новая Ропша',\n",
       "       'садовое товарищество Приладожский', 'садовое товарищество Рахья',\n",
       "       'садовое товарищество Садко', 'село Копорье', 'село Никольское',\n",
       "       'село Павлово', 'село Паша', 'село Путилово', 'село Рождествено',\n",
       "       'село Русско-Высоцкое', 'село Старая Ладога', 'село Шум', nan],\n",
       "      dtype=object)"
      ]
     },
     "execution_count": 12,
     "metadata": {},
     "output_type": "execute_result"
    }
   ],
   "source": [
    "# вывод количества уникальных значений в столбце 'locality_name'\n",
    "display(\n",
    "    Markdown(\n",
    "        f'Количество уникальных значений: '\n",
    "        f'**{data[\"locality_name\"].nunique()}**')\n",
    ")\n",
    "\n",
    "# вывод отсортированного уникального списка значений в 'locality_name'\n",
    "(\n",
    "    data['locality_name']\n",
    "    .sort_values()\n",
    "    .unique()\n",
    ")    "
   ]
  },
  {
   "cell_type": "markdown",
   "id": "9833ae30-5fd9-42a4-9413-e02e53fb8fd5",
   "metadata": {
    "id": "a87606cb",
    "slideshow": {
     "slide_type": ""
    },
    "tags": []
   },
   "source": [
    "В столбце с названиями населённого пункта присутствуют неявные дубликаты и пропущенные значения. Устраним их для дальнейшего использования населенного пункта при заполнении пропущенных значений в столбце `ceiling_height`."
   ]
  },
  {
   "cell_type": "markdown",
   "id": "45538a3a",
   "metadata": {
    "deletable": false,
    "id": "45538a3a",
    "slideshow": {
     "slide_type": ""
    },
    "tags": []
   },
   "source": [
    "**Планируемые замены:**\n",
    "- \"ё\" на \"е\"\n",
    "- \"при железнодорожной станции\" на \"станции\"\n",
    "- \"городской поселок\" и \"поселок городского типа\" на \"поселок\"\n",
    "- пропущенные значения на \"без населенного пункта\"\n",
    "\n",
    "Для сохранения оригинального названия населенного пункта - замененные названия запишем в новый столбец `locality_name_dupless`"
   ]
  },
  {
   "cell_type": "code",
   "execution_count": 13,
   "id": "cd3e6328",
   "metadata": {
    "deletable": false,
    "id": "cd3e6328",
    "outputId": "801ef80e-522b-4668-f34e-565af7432bcf",
    "slideshow": {
     "slide_type": ""
    },
    "tags": []
   },
   "outputs": [
    {
     "data": {
      "text/markdown": [
       "Количество уникальных значений: **320**"
      ],
      "text/plain": [
       "<IPython.core.display.Markdown object>"
      ]
     },
     "metadata": {},
     "output_type": "display_data"
    }
   ],
   "source": [
    "# запись последовательных замен в новый столбец `locality_name_dupless`\n",
    "data['locality_name_dupless'] = \\\n",
    "(\n",
    "    data['locality_name']\n",
    "    .str.replace('ё', 'е')\n",
    "    .replace('при железнодорожной станции', 'станции', regex=True)\n",
    "    .replace(['городской ', ' городского типа', ''], '', regex=True)\n",
    "    .replace('коттеджный ', '', regex=True)\n",
    "    .fillna('без н/п')\n",
    "    .str.strip()\n",
    ") \n",
    "\n",
    "# вывод количества уникальных значений в столбце 'locality_name'\n",
    "display(\n",
    "    Markdown(\n",
    "        f'Количество уникальных значений: '\n",
    "        f'**{data[\"locality_name_dupless\"].nunique()}**')\n",
    ")"
   ]
  },
  {
   "cell_type": "markdown",
   "id": "504befd3",
   "metadata": {},
   "source": [
    "<p>\n",
    "<div class=\"alert-success\">\n",
    "<b>Комментарий ревьюера ✔️</b>\n",
    "    \n",
    "* можно убрать лишние пробелы на концах названий при помощи `strip()`"
   ]
  },
  {
   "cell_type": "markdown",
   "id": "1a1adc0d",
   "metadata": {},
   "source": [
    "<div class=\"alert-info\">\n",
    "<b>Александр</b>\n",
    "\n",
    "Добавил</div>"
   ]
  },
  {
   "cell_type": "markdown",
   "id": "7a579a65",
   "metadata": {},
   "source": [
    "<p>\n",
    "<div class=\"alert-success\">\n",
    "<b>Комментарий ревьюера 2 ✔️</b>\n",
    "\n",
    "    \n",
    "👍</div>"
   ]
  },
  {
   "cell_type": "markdown",
   "id": "90c5f058",
   "metadata": {
    "deletable": false,
    "id": "90c5f058",
    "slideshow": {
     "slide_type": ""
    },
    "tags": []
   },
   "source": [
    "После устранения неявных дубликатов количество населенных пунктов сократилось на **12%** - с 364 до 320"
   ]
  },
  {
   "cell_type": "markdown",
   "id": "ee3f52d4",
   "metadata": {
    "deletable": false,
    "id": "ee3f52d4",
    "slideshow": {
     "slide_type": ""
    },
    "tags": []
   },
   "source": [
    "<a id=\"dropna\"></a>\n",
    "### Удаление пропусков (продолжение)"
   ]
  },
  {
   "cell_type": "markdown",
   "id": "a700b0e4",
   "metadata": {
    "deletable": false,
    "id": "a700b0e4",
    "slideshow": {
     "slide_type": ""
    },
    "tags": []
   },
   "source": [
    "**Заполнение пропусков в столбце `ceiling_height`**\n",
    "\n",
    "1. Заполним медианными значениями по каждому населенному пункту из столбца `locality_name_dupless`.\n",
    "2. Есть населенные пункты у которых все значения в столбце `ceiling_height` пропущены. Информацию по ним заполним медианным значением по всему столбцу `ceiling_height`"
   ]
  },
  {
   "cell_type": "code",
   "execution_count": 14,
   "id": "b4fbfde3-9b03-4848-ba80-a04ccddbdb7c",
   "metadata": {
    "slideshow": {
     "slide_type": ""
    },
    "tags": []
   },
   "outputs": [],
   "source": [
    "# функция для заполнения пропущенных значений медианным значением\n",
    "def fillna_median(x):\n",
    "    if x.count() > 0:\n",
    "        return x.fillna(x.median())\n",
    "    else:\n",
    "        return x\n",
    "\n",
    "# заполнение пропусков в столбце ceiling_height медианными значениями \n",
    "# по населенному пункту из столбца `locality_name_dupless`        \n",
    "data['ceiling_height'] = \\\n",
    "(\n",
    "    data.groupby('locality_name_dupless')['ceiling_height']\n",
    "    .transform(fillna_median)\n",
    ")    \n",
    "# заполнение оставшихся пропусков в столбце ceiling_height медианным значением столбца\n",
    "data['ceiling_height'] = \\\n",
    "(\n",
    "    data['ceiling_height']\n",
    "    .fillna(data['ceiling_height'].median())\n",
    ")"
   ]
  },
  {
   "cell_type": "markdown",
   "id": "6040e405-61dd-4df5-bccc-35303feb28ce",
   "metadata": {
    "id": "a700b0e4",
    "slideshow": {
     "slide_type": ""
    },
    "tags": []
   },
   "source": [
    "**Заполнение пропусков в столбце `living_area`**\n",
    "\n",
    "1. Создадим столбец `ratio_area_living`как отношение медианных значений обшей площади и жилой площади по каждому населенному пункту из столбца `locality_name_dupless`.\n",
    "2. Есть населенные пункты у которых нет значений жилой площади для расчета медианы и получения `ratio_area_living`. Значение `ratio_area_living` по ним заполним как отношение медианных значений столбцов обшей площади и жилой площади.\n",
    "3. Заполним пропуски в жилой площади поделив значения общей площади на `ratio_area_living`"
   ]
  },
  {
   "cell_type": "code",
   "execution_count": 15,
   "id": "1173be31",
   "metadata": {},
   "outputs": [],
   "source": [
    "# запись в переменную `ratio_area` отношения медиан общей и жилой площади \n",
    "# по каждому населенному пункту\n",
    "ratio_area = data.groupby('locality_name_dupless')[['total_area', 'living_area']].transform('median')\n",
    "\n",
    "# преобразование `ratio_area` в датафрейм\n",
    "ratio_area = pd.DataFrame(ratio_area['total_area'] / ratio_area['living_area'], columns=['ratio_area_living'])\n",
    "\n",
    "# присоединение датафрейма `ratio_area` к датафрейму `data`\n",
    "data = data.join(ratio_area)\n",
    "\n",
    "# запись в столбец `ratio_area_living` отношения медиан столбцов общей и жилой площади\n",
    "data['ratio_area_living'] = \\\n",
    "(\n",
    "    data['ratio_area_living']\n",
    "    .fillna(data['total_area'].median() / data['living_area'].median())\n",
    ")    \n",
    "# заполнение пропусков в `living_area`\n",
    "data['living_area'] = \\\n",
    "(\n",
    "    data['living_area']\n",
    "    .fillna(data['total_area'] / data['ratio_area_living'])\n",
    ")"
   ]
  },
  {
   "cell_type": "markdown",
   "id": "f2defa3c-2d38-46c1-993f-24a6b8a4ae0f",
   "metadata": {},
   "source": [
    "<div class=\"alert-info\">\n",
    "<b>Александр</b>\n",
    "\n",
    "Добавил</div>"
   ]
  },
  {
   "cell_type": "markdown",
   "id": "d82873a0",
   "metadata": {},
   "source": [
    "<p>\n",
    "<div class=\"alert-success\">\n",
    "<b>Комментарий ревьюера ✔️</b>\n",
    "    \n",
    "Отлично!"
   ]
  },
  {
   "cell_type": "markdown",
   "id": "d522e295",
   "metadata": {
    "deletable": false,
    "editable": false,
    "id": "d522e295",
    "slideshow": {
     "slide_type": ""
    },
    "tags": []
   },
   "source": [
    "### Изменение типов данных"
   ]
  },
  {
   "cell_type": "markdown",
   "id": "c958640d-0deb-494b-8879-8f437e7560f3",
   "metadata": {
    "slideshow": {
     "slide_type": ""
    },
    "tags": []
   },
   "source": [
    "В следущих столбцах необходимо изменить тип данных:\n",
    "\n",
    "- `first_day_exposition` с текстового на DateTime для дальнейшего использования дня, месяца, года\n",
    "- `floors_total` c float64 на int64 - количество этажей в доме не может быть дробным числом\n",
    "- `balcony` c float64 на int64 - количество балконов не может быть дробным числом\n",
    "- `days_exposition` c float64 на int64 - количество дней размещения объявления не может быть дробным числом"
   ]
  },
  {
   "cell_type": "code",
   "execution_count": 16,
   "id": "a90ee674-d288-45e1-923e-6c2aee850e7a",
   "metadata": {
    "slideshow": {
     "slide_type": ""
    },
    "tags": []
   },
   "outputs": [],
   "source": [
    "# изменение типа данных в столбцах 'floors_total', 'balcony'\n",
    "data[['floors_total', 'balcony']] = \\\n",
    "(\n",
    "    data[['floors_total', 'balcony']]\n",
    "    .astype('int64', errors='raise')\n",
    ")   \n",
    "\n",
    "# изменение типа данных в столбце 'days_exposition'\n",
    "data['days_exposition'] = \\\n",
    "(\n",
    "    data['days_exposition']\n",
    "    .round()\n",
    "    .astype(pd.Int64Dtype())\n",
    ")\n",
    "\n",
    "# изменение типа данных в столбце `first_day_exposition`\n",
    "data['first_day_exposition'] = \\\n",
    "pd.to_datetime(data['first_day_exposition'], format='%Y-%m-%dT%H:%M:%S')"
   ]
  },
  {
   "cell_type": "markdown",
   "id": "c51224e1-2ef0-4a0c-b085-dcdae68c5c3d",
   "metadata": {},
   "source": [
    "Проверим результаты преобразования типов данных"
   ]
  },
  {
   "cell_type": "code",
   "execution_count": 17,
   "id": "ebbf8f5e-a336-4923-9de8-933ece335b02",
   "metadata": {
    "slideshow": {
     "slide_type": ""
    },
    "tags": []
   },
   "outputs": [
    {
     "data": {
      "text/plain": [
       "floors_total                     int64\n",
       "balcony                          int64\n",
       "days_exposition                  Int64\n",
       "first_day_exposition    datetime64[ns]\n",
       "dtype: object"
      ]
     },
     "execution_count": 17,
     "metadata": {},
     "output_type": "execute_result"
    }
   ],
   "source": [
    "# проверка изменения типов данных\n",
    "data[['floors_total', 'balcony', 'days_exposition','first_day_exposition']].dtypes"
   ]
  },
  {
   "cell_type": "markdown",
   "id": "e6fbfad9",
   "metadata": {},
   "source": [
    "<p>\n",
    "<div class=\"alert-success\">\n",
    "<b>Комментарий ревьюера ✔️</b>\n",
    "\n",
    "Тип столбца с пропусками можно заменить на целочисленный `Int64`, он отличается от типа `int64` именно тем, что может содержать пропуски    \n",
    "\n",
    "    data['floors_total'].astype('Int64')\n",
    "    "
   ]
  },
  {
   "cell_type": "markdown",
   "id": "cc50175e",
   "metadata": {},
   "source": [
    "<div class=\"alert-info\">\n",
    "<b>Александр</b>\n",
    "\n",
    "Исправил\n",
    "    \n",
    "На всякий случай - `data['days_exposition'].astype('Int64')` не работает с пропущенными\n",
    "\n",
    "</div>"
   ]
  },
  {
   "cell_type": "markdown",
   "id": "ebc6d410",
   "metadata": {},
   "source": [
    "<p>\n",
    "<div class=\"alert-success\">\n",
    "<b>Комментарий ревьюера 2 ✔️</b>\n",
    "\n",
    "    \n",
    "👍</div>"
   ]
  },
  {
   "cell_type": "markdown",
   "id": "3d596c34",
   "metadata": {
    "deletable": false,
    "id": "3d596c34",
    "slideshow": {
     "slide_type": ""
    },
    "tags": []
   },
   "source": [
    "## Добавление новых столбцов"
   ]
  },
  {
   "cell_type": "markdown",
   "id": "648db036",
   "metadata": {
    "deletable": false,
    "id": "648db036",
    "slideshow": {
     "slide_type": ""
    },
    "tags": []
   },
   "source": [
    "**Цена квадратного метра**\n",
    "\n",
    "Добавим в стобец `price_meter` цену одного квадратного метра. Поделим стоимость на момент снятия с публикации из столбца `last_price` на общую площадь квартиры в квадратных метрах `total_area` и округлим до двух знаков после запятой."
   ]
  },
  {
   "cell_type": "code",
   "execution_count": 18,
   "id": "7fcff25e",
   "metadata": {
    "deletable": false,
    "id": "7fcff25e",
    "slideshow": {
     "slide_type": ""
    },
    "tags": []
   },
   "outputs": [],
   "source": [
    "# добавление столбца 'price_meter' с ценой квадратного метра\n",
    "data['price_meter'] = round(data['last_price'] / data['total_area'], 2)"
   ]
  },
  {
   "cell_type": "markdown",
   "id": "1fed6b4b-eb36-4ce3-af03-0953ea02bcc5",
   "metadata": {
    "id": "648db036",
    "slideshow": {
     "slide_type": ""
    },
    "tags": []
   },
   "source": [
    "**День недели**\n",
    "\n",
    "Добавим в стобец `day_public`день недели публикации объявления. Получим день из информации о дате публикации в столбце `first_day_exposition`. Используем специальный атрибут `dt`."
   ]
  },
  {
   "cell_type": "code",
   "execution_count": 19,
   "id": "196047b4-a465-4aa6-8fd1-630c010225de",
   "metadata": {
    "slideshow": {
     "slide_type": ""
    },
    "tags": []
   },
   "outputs": [],
   "source": [
    "# добавление столбца `day_puplc`\n",
    "data['day_public'] = data['first_day_exposition'].dt.weekday"
   ]
  },
  {
   "cell_type": "markdown",
   "id": "35ecca61-8a18-42e2-8d4b-658da3028600",
   "metadata": {
    "id": "648db036",
    "slideshow": {
     "slide_type": ""
    },
    "tags": []
   },
   "source": [
    "**Месяц публикации**\n",
    "\n",
    "Добавим в стобец `month_public`месяц в который было опубликовано объявление. Получим месяц из информации о дате публикации в столбце `first_day_exposition`. Используем специальный атрибут `dt`."
   ]
  },
  {
   "cell_type": "code",
   "execution_count": 20,
   "id": "d6059fdd-523a-4b31-ae46-c6bea0cc332c",
   "metadata": {
    "slideshow": {
     "slide_type": ""
    },
    "tags": []
   },
   "outputs": [],
   "source": [
    "# добавление столбца `month_puplc`\n",
    "data['month_public'] = data['first_day_exposition'].dt.month"
   ]
  },
  {
   "cell_type": "markdown",
   "id": "9dd3cd59-a1f0-4634-83dc-1331dca43a05",
   "metadata": {
    "id": "648db036",
    "slideshow": {
     "slide_type": ""
    },
    "tags": []
   },
   "source": [
    "**Год публикации**\n",
    "\n",
    "Добавим в стобец `year_public`год в который было опубликовано объявление. Получим год из информации о дате публикации в столбце `first_day_exposition`. Используем специальный атрибут `dt`."
   ]
  },
  {
   "cell_type": "code",
   "execution_count": 21,
   "id": "fe9ed54d-2ad6-48ab-b5c7-6930e028502f",
   "metadata": {
    "slideshow": {
     "slide_type": ""
    },
    "tags": []
   },
   "outputs": [],
   "source": [
    "# добавление столбца `year_puplc`\n",
    "data['year_public'] = data['first_day_exposition'].dt.year"
   ]
  },
  {
   "cell_type": "markdown",
   "id": "a1b5d628-fbf9-4762-bf57-23caec19db3a",
   "metadata": {
    "id": "648db036",
    "slideshow": {
     "slide_type": ""
    },
    "tags": []
   },
   "source": [
    "**Тип этажа квартиры**\n",
    "\n",
    "Добавим в стобец `floor_type`тип этажа квартиры в зависимости от этажа квартиры в столбце `floor` и этажности дома в столбце `floors_total`:\n",
    "\n",
    "- \"первый\", если квартира на первом этаже\n",
    "- \"последний\", если этаж квартиры совпадает с этажностью дома\n",
    "- \"другой\" - во всех остальных случаях"
   ]
  },
  {
   "cell_type": "code",
   "execution_count": 22,
   "id": "e3691d37-d146-4994-a157-81ecd7dbf47c",
   "metadata": {
    "slideshow": {
     "slide_type": ""
    },
    "tags": []
   },
   "outputs": [],
   "source": [
    "# добавление столбца `floor_type` из `floor`\n",
    "# для `floor` = 1 в `floor_type` запишется 'первый'\n",
    "# для `floor` = 'floors_total' в `floor_type` запишется 'последний'\n",
    "# в остальных случаях в `floor_type` запишется 'другой'\n",
    "data['floor_type'] = \\\n",
    "(\n",
    "    data['floor']\n",
    "    .where(data['floor'] != 1, 'первый')\n",
    "    .where(data['floor'] != data['floors_total'], 'последний')\n",
    "    .where((data['floor'] == 1) | (data['floor'] == data['floors_total']), 'другой')\n",
    ")"
   ]
  },
  {
   "cell_type": "markdown",
   "id": "6e9e9ea3-82f7-40b4-b151-f52c5aebf4e3",
   "metadata": {
    "id": "648db036",
    "slideshow": {
     "slide_type": ""
    },
    "tags": []
   },
   "source": [
    "**Расстояние до центра города**\n",
    "\n",
    "Добавим в стобец `cityCenters_km`расстояние до центра города в километрах. Пересчитаем расстояние из столбца `cityCenters_nearest` и округлим до ближайшего целого."
   ]
  },
  {
   "cell_type": "code",
   "execution_count": 23,
   "id": "9351a0b5-c2a0-4926-8f5c-af7a038d4345",
   "metadata": {
    "slideshow": {
     "slide_type": ""
    },
    "tags": []
   },
   "outputs": [],
   "source": [
    "# добавление столбца `cityCenters_km`\n",
    "data['cityCenters_km'] = \\\n",
    "(\n",
    "    data.query('cityCenters_nearest.notna()')\n",
    "    ['cityCenters_nearest'] / 1000\n",
    ").round()"
   ]
  },
  {
   "cell_type": "markdown",
   "id": "d7b7ef7e",
   "metadata": {},
   "source": [
    "<p>\n",
    "<div class=\"alert-success\">\n",
    "<b>Комментарий ревьюера ✔️</b>\n",
    "\n",
    "    \n",
    "👍</div>"
   ]
  },
  {
   "cell_type": "markdown",
   "id": "74c9b3a7",
   "metadata": {
    "deletable": false,
    "id": "74c9b3a7",
    "slideshow": {
     "slide_type": ""
    },
    "tags": []
   },
   "source": [
    "<a id=\"data_analysis\"></a>\n",
    "## Исследовательский анализ данных"
   ]
  },
  {
   "cell_type": "markdown",
   "id": "71e1f97d",
   "metadata": {
    "deletable": false,
    "id": "8098ab3b",
    "slideshow": {
     "slide_type": ""
    },
    "tags": []
   },
   "source": [
    "### Анализ основных параметров квартир"
   ]
  },
  {
   "cell_type": "markdown",
   "id": "56504074",
   "metadata": {
    "slideshow": {
     "slide_type": ""
    },
    "tags": []
   },
   "source": [
    "#### Общая площадь\n",
    "\n",
    "Проанализируем значения общей площади из столбца `total_area`"
   ]
  },
  {
   "cell_type": "code",
   "execution_count": 24,
   "id": "ac09ab31-e10b-43f7-9d3d-fd84d67264d0",
   "metadata": {
    "slideshow": {
     "slide_type": ""
    },
    "tags": []
   },
   "outputs": [
    {
     "data": {
      "text/plain": [
       "count   23699.00\n",
       "mean       60.35\n",
       "std        35.65\n",
       "min        12.00\n",
       "25%        40.00\n",
       "50%        52.00\n",
       "75%        69.90\n",
       "max       900.00\n",
       "Name: total_area, dtype: float64"
      ]
     },
     "execution_count": 24,
     "metadata": {},
     "output_type": "execute_result"
    }
   ],
   "source": [
    "# числовое описание данных в `total_area`\n",
    "data['total_area'].describe()"
   ]
  },
  {
   "cell_type": "markdown",
   "id": "3a906f72-dfb5-4b7b-8ebe-ad0bd1bd6100",
   "metadata": {},
   "source": [
    "Проверим редкие большие значения жилой площади. Например, более 500 м2."
   ]
  },
  {
   "cell_type": "code",
   "execution_count": 25,
   "id": "0b0b53e7-73c2-4d11-822d-1209c842fa4a",
   "metadata": {},
   "outputs": [
    {
     "data": {
      "text/html": [
       "<div>\n",
       "<style scoped>\n",
       "    .dataframe tbody tr th:only-of-type {\n",
       "        vertical-align: middle;\n",
       "    }\n",
       "\n",
       "    .dataframe tbody tr th {\n",
       "        vertical-align: top;\n",
       "    }\n",
       "\n",
       "    .dataframe thead th {\n",
       "        text-align: right;\n",
       "    }\n",
       "</style>\n",
       "<table border=\"1\" class=\"dataframe\">\n",
       "  <thead>\n",
       "    <tr style=\"text-align: right;\">\n",
       "      <th></th>\n",
       "      <th>total_images</th>\n",
       "      <th>last_price</th>\n",
       "      <th>total_area</th>\n",
       "      <th>first_day_exposition</th>\n",
       "      <th>rooms</th>\n",
       "      <th>ceiling_height</th>\n",
       "      <th>floors_total</th>\n",
       "      <th>living_area</th>\n",
       "      <th>floor</th>\n",
       "      <th>is_apartment</th>\n",
       "      <th>...</th>\n",
       "      <th>ponds_nearest</th>\n",
       "      <th>days_exposition</th>\n",
       "      <th>locality_name_dupless</th>\n",
       "      <th>ratio_area_living</th>\n",
       "      <th>price_meter</th>\n",
       "      <th>day_public</th>\n",
       "      <th>month_public</th>\n",
       "      <th>year_public</th>\n",
       "      <th>floor_type</th>\n",
       "      <th>cityCenters_km</th>\n",
       "    </tr>\n",
       "  </thead>\n",
       "  <tbody>\n",
       "    <tr>\n",
       "      <th>3117</th>\n",
       "      <td>19</td>\n",
       "      <td>140000000.00</td>\n",
       "      <td>631.00</td>\n",
       "      <td>2019-03-30</td>\n",
       "      <td>7</td>\n",
       "      <td>2.70</td>\n",
       "      <td>5</td>\n",
       "      <td>359.10</td>\n",
       "      <td>5</td>\n",
       "      <td>True</td>\n",
       "      <td>...</td>\n",
       "      <td>210.00</td>\n",
       "      <td>&lt;NA&gt;</td>\n",
       "      <td>Санкт-Петербург</td>\n",
       "      <td>1.76</td>\n",
       "      <td>221870.05</td>\n",
       "      <td>5</td>\n",
       "      <td>3</td>\n",
       "      <td>2019</td>\n",
       "      <td>последний</td>\n",
       "      <td>5.00</td>\n",
       "    </tr>\n",
       "    <tr>\n",
       "      <th>4237</th>\n",
       "      <td>1</td>\n",
       "      <td>50000000.00</td>\n",
       "      <td>517.00</td>\n",
       "      <td>2017-10-14</td>\n",
       "      <td>7</td>\n",
       "      <td>2.70</td>\n",
       "      <td>4</td>\n",
       "      <td>332.00</td>\n",
       "      <td>3</td>\n",
       "      <td>True</td>\n",
       "      <td>...</td>\n",
       "      <td>540.00</td>\n",
       "      <td>&lt;NA&gt;</td>\n",
       "      <td>Санкт-Петербург</td>\n",
       "      <td>1.76</td>\n",
       "      <td>96711.80</td>\n",
       "      <td>5</td>\n",
       "      <td>10</td>\n",
       "      <td>2017</td>\n",
       "      <td>другой</td>\n",
       "      <td>2.00</td>\n",
       "    </tr>\n",
       "    <tr>\n",
       "      <th>5358</th>\n",
       "      <td>20</td>\n",
       "      <td>65000000.00</td>\n",
       "      <td>590.00</td>\n",
       "      <td>2019-02-14</td>\n",
       "      <td>15</td>\n",
       "      <td>3.50</td>\n",
       "      <td>6</td>\n",
       "      <td>409.00</td>\n",
       "      <td>3</td>\n",
       "      <td>True</td>\n",
       "      <td>...</td>\n",
       "      <td>NaN</td>\n",
       "      <td>14</td>\n",
       "      <td>Санкт-Петербург</td>\n",
       "      <td>1.76</td>\n",
       "      <td>110169.49</td>\n",
       "      <td>3</td>\n",
       "      <td>2</td>\n",
       "      <td>2019</td>\n",
       "      <td>другой</td>\n",
       "      <td>5.00</td>\n",
       "    </tr>\n",
       "    <tr>\n",
       "      <th>8018</th>\n",
       "      <td>20</td>\n",
       "      <td>84000000.00</td>\n",
       "      <td>507.00</td>\n",
       "      <td>2015-12-17</td>\n",
       "      <td>5</td>\n",
       "      <td>4.45</td>\n",
       "      <td>7</td>\n",
       "      <td>301.50</td>\n",
       "      <td>7</td>\n",
       "      <td>True</td>\n",
       "      <td>...</td>\n",
       "      <td>NaN</td>\n",
       "      <td>1078</td>\n",
       "      <td>Санкт-Петербург</td>\n",
       "      <td>1.76</td>\n",
       "      <td>165680.47</td>\n",
       "      <td>3</td>\n",
       "      <td>12</td>\n",
       "      <td>2015</td>\n",
       "      <td>последний</td>\n",
       "      <td>6.00</td>\n",
       "    </tr>\n",
       "    <tr>\n",
       "      <th>12859</th>\n",
       "      <td>20</td>\n",
       "      <td>140000000.00</td>\n",
       "      <td>631.20</td>\n",
       "      <td>2019-04-09</td>\n",
       "      <td>7</td>\n",
       "      <td>3.90</td>\n",
       "      <td>4</td>\n",
       "      <td>322.30</td>\n",
       "      <td>4</td>\n",
       "      <td>True</td>\n",
       "      <td>...</td>\n",
       "      <td>210.00</td>\n",
       "      <td>&lt;NA&gt;</td>\n",
       "      <td>Санкт-Петербург</td>\n",
       "      <td>1.76</td>\n",
       "      <td>221799.75</td>\n",
       "      <td>1</td>\n",
       "      <td>4</td>\n",
       "      <td>2019</td>\n",
       "      <td>последний</td>\n",
       "      <td>5.00</td>\n",
       "    </tr>\n",
       "    <tr>\n",
       "      <th>15651</th>\n",
       "      <td>20</td>\n",
       "      <td>300000000.00</td>\n",
       "      <td>618.00</td>\n",
       "      <td>2017-12-18</td>\n",
       "      <td>7</td>\n",
       "      <td>3.40</td>\n",
       "      <td>7</td>\n",
       "      <td>258.00</td>\n",
       "      <td>5</td>\n",
       "      <td>True</td>\n",
       "      <td>...</td>\n",
       "      <td>198.00</td>\n",
       "      <td>111</td>\n",
       "      <td>Санкт-Петербург</td>\n",
       "      <td>1.76</td>\n",
       "      <td>485436.89</td>\n",
       "      <td>0</td>\n",
       "      <td>12</td>\n",
       "      <td>2017</td>\n",
       "      <td>другой</td>\n",
       "      <td>5.00</td>\n",
       "    </tr>\n",
       "    <tr>\n",
       "      <th>19540</th>\n",
       "      <td>8</td>\n",
       "      <td>420000000.00</td>\n",
       "      <td>900.00</td>\n",
       "      <td>2017-12-06</td>\n",
       "      <td>12</td>\n",
       "      <td>2.80</td>\n",
       "      <td>25</td>\n",
       "      <td>409.70</td>\n",
       "      <td>25</td>\n",
       "      <td>True</td>\n",
       "      <td>...</td>\n",
       "      <td>318.00</td>\n",
       "      <td>106</td>\n",
       "      <td>Санкт-Петербург</td>\n",
       "      <td>1.76</td>\n",
       "      <td>466666.67</td>\n",
       "      <td>2</td>\n",
       "      <td>12</td>\n",
       "      <td>2017</td>\n",
       "      <td>последний</td>\n",
       "      <td>8.00</td>\n",
       "    </tr>\n",
       "  </tbody>\n",
       "</table>\n",
       "<p>7 rows × 30 columns</p>\n",
       "</div>"
      ],
      "text/plain": [
       "       total_images   last_price  total_area first_day_exposition  rooms  \\\n",
       "3117             19 140000000.00      631.00           2019-03-30      7   \n",
       "4237              1  50000000.00      517.00           2017-10-14      7   \n",
       "5358             20  65000000.00      590.00           2019-02-14     15   \n",
       "8018             20  84000000.00      507.00           2015-12-17      5   \n",
       "12859            20 140000000.00      631.20           2019-04-09      7   \n",
       "15651            20 300000000.00      618.00           2017-12-18      7   \n",
       "19540             8 420000000.00      900.00           2017-12-06     12   \n",
       "\n",
       "       ceiling_height  floors_total  living_area  floor  is_apartment  ...  \\\n",
       "3117             2.70             5       359.10      5          True  ...   \n",
       "4237             2.70             4       332.00      3          True  ...   \n",
       "5358             3.50             6       409.00      3          True  ...   \n",
       "8018             4.45             7       301.50      7          True  ...   \n",
       "12859            3.90             4       322.30      4          True  ...   \n",
       "15651            3.40             7       258.00      5          True  ...   \n",
       "19540            2.80            25       409.70     25          True  ...   \n",
       "\n",
       "       ponds_nearest  days_exposition  locality_name_dupless  \\\n",
       "3117          210.00             <NA>        Санкт-Петербург   \n",
       "4237          540.00             <NA>        Санкт-Петербург   \n",
       "5358             NaN               14        Санкт-Петербург   \n",
       "8018             NaN             1078        Санкт-Петербург   \n",
       "12859         210.00             <NA>        Санкт-Петербург   \n",
       "15651         198.00              111        Санкт-Петербург   \n",
       "19540         318.00              106        Санкт-Петербург   \n",
       "\n",
       "       ratio_area_living price_meter  day_public  month_public  year_public  \\\n",
       "3117                1.76   221870.05           5             3         2019   \n",
       "4237                1.76    96711.80           5            10         2017   \n",
       "5358                1.76   110169.49           3             2         2019   \n",
       "8018                1.76   165680.47           3            12         2015   \n",
       "12859               1.76   221799.75           1             4         2019   \n",
       "15651               1.76   485436.89           0            12         2017   \n",
       "19540               1.76   466666.67           2            12         2017   \n",
       "\n",
       "       floor_type  cityCenters_km  \n",
       "3117    последний            5.00  \n",
       "4237       другой            2.00  \n",
       "5358       другой            5.00  \n",
       "8018    последний            6.00  \n",
       "12859   последний            5.00  \n",
       "15651      другой            5.00  \n",
       "19540   последний            8.00  \n",
       "\n",
       "[7 rows x 30 columns]"
      ]
     },
     "execution_count": 25,
     "metadata": {},
     "output_type": "execute_result"
    }
   ],
   "source": [
    "# вывод строк в которых занчения столбца `total_area` > 500\n",
    "data.query('total_area > 500')"
   ]
  },
  {
   "cell_type": "markdown",
   "id": "374f7487-dcd2-41d0-b5e8-853ea0e979b9",
   "metadata": {
    "slideshow": {
     "slide_type": ""
    },
    "tags": []
   },
   "source": [
    "Кавртира площадью **900 м2** - выбивающееся значение. Удалим строку с информацией об этой квартире."
   ]
  },
  {
   "cell_type": "code",
   "execution_count": 26,
   "id": "41a4e233-c724-48a1-b6ac-09861fe502ee",
   "metadata": {},
   "outputs": [],
   "source": [
    "# удаление строки со значением в столбце `total_area` = 900\n",
    "data.drop(data.query('total_area == 900').index, inplace=True)"
   ]
  },
  {
   "cell_type": "markdown",
   "id": "4831d727-5ad6-4e6d-a5bd-caba725f63bd",
   "metadata": {
    "slideshow": {
     "slide_type": ""
    },
    "tags": []
   },
   "source": [
    "Покажем на гистограмме распределение квартир по общей площади"
   ]
  },
  {
   "cell_type": "code",
   "execution_count": 27,
   "id": "d1b83f5d",
   "metadata": {
    "slideshow": {
     "slide_type": ""
    },
    "tags": []
   },
   "outputs": [
    {
     "data": {
      "image/png": "[encoded data removed]",
      "text/plain": [
       "<Figure size 648x360 with 1 Axes>"
      ]
     },
     "metadata": {
      "needs_background": "light"
     },
     "output_type": "display_data"
    }
   ],
   "source": [
    "# описание данных в `total_area` с помощью гистограммы\n",
    "data.plot(\n",
    "    kind='hist',\n",
    "    y='total_area',\n",
    "    bins=30,\n",
    "    ylabel='Количество',\n",
    "    xlabel='Общая площадь, м2',\n",
    "    grid=True,\n",
    "    legend=False,\n",
    "    figsize=(9,5),\n",
    "    range=(12, 400),\n",
    "    title='Распределение квартир по размеру общей площади'\n",
    ") \n",
    "plt.show()"
   ]
  },
  {
   "cell_type": "markdown",
   "id": "9bd0dec2",
   "metadata": {
    "slideshow": {
     "slide_type": ""
    },
    "tags": []
   },
   "source": [
    "Есть выбросы, превышающие **Q3 + 1.5 IQR = 112.5 м2**. Возможно их общие площади указаны ошибочно. \n",
    "\n",
    "Сравним медианные цены квадратного метра: квартир с общей площадью до **300 м2** с квартирами большей площади."
   ]
  },
  {
   "cell_type": "code",
   "execution_count": 28,
   "id": "da63c98b",
   "metadata": {},
   "outputs": [
    {
     "data": {
      "text/markdown": [
       "Медианная цена 1 м2 квартир до 300 м2 = **94997.755**"
      ],
      "text/plain": [
       "<IPython.core.display.Markdown object>"
      ]
     },
     "metadata": {},
     "output_type": "display_data"
    },
    {
     "data": {
      "text/markdown": [
       "Медианная цена 1 м2 квартир более 300 м2 = **126924.9**"
      ],
      "text/plain": [
       "<IPython.core.display.Markdown object>"
      ]
     },
     "metadata": {},
     "output_type": "display_data"
    }
   ],
   "source": [
    "# расчет медианной цены 1 м2 квартир площадью до 300 м2 \n",
    "display(\n",
    "    Markdown(\n",
    "        f'Медианная цена 1 м2 квартир до 300 м2 = '\n",
    "        f'**{data.query(\"total_area <= 300\")[\"price_meter\"].median()}**')\n",
    ")\n",
    "\n",
    "# расчет медианной цены 1 м2 квартир площадью более 300 м2 \n",
    "display(\n",
    "    Markdown(\n",
    "        f'Медианная цена 1 м2 квартир более 300 м2 = '\n",
    "        f'**{data.query(\"total_area > 300\")[\"price_meter\"].median()}**')\n",
    ")"
   ]
  },
  {
   "cell_type": "markdown",
   "id": "b190c268-e34e-49cf-8284-fb73299696ab",
   "metadata": {},
   "source": [
    "<div style=\"border:solid gray 1px; padding: 20px\">\n",
    "\n",
    "**Выводы**\n",
    "1. Плошадь 75% квартир до 70 м2\n",
    "2. Цены \"больших\" квартир не выглядят ошибочными и могут использоваться в дальнейшем исследовании\n",
    "3. Строка с выбивающимся значением общей площади = 900 м2 удалена"
   ]
  },
  {
   "cell_type": "markdown",
   "id": "d961657e",
   "metadata": {},
   "source": [
    "<p>\n",
    "<div class=\"alert-success\">\n",
    "<b>Комментарий ревьюера ✔️</b>\n",
    "\n",
    "    \n",
    "👍</div>"
   ]
  },
  {
   "cell_type": "markdown",
   "id": "a40c1535",
   "metadata": {},
   "source": [
    "#### Жилая площадь\n",
    "\n",
    "Проанализируем значения жилой площади из столбца `living_area`"
   ]
  },
  {
   "cell_type": "code",
   "execution_count": 29,
   "id": "cb514667-d7e6-497a-9efa-8a7b08700cd0",
   "metadata": {
    "slideshow": {
     "slide_type": ""
    },
    "tags": []
   },
   "outputs": [
    {
     "data": {
      "text/plain": [
       "count   23698.00\n",
       "mean       34.56\n",
       "std        22.22\n",
       "min         2.00\n",
       "25%        19.00\n",
       "50%        30.00\n",
       "75%        42.11\n",
       "max       409.00\n",
       "Name: living_area, dtype: float64"
      ]
     },
     "execution_count": 29,
     "metadata": {},
     "output_type": "execute_result"
    }
   ],
   "source": [
    "# числовое описание данных в `living_area`\n",
    "data['living_area'].describe()"
   ]
  },
  {
   "cell_type": "markdown",
   "id": "e0ed1584-3736-443c-8dfc-d230ff61bd26",
   "metadata": {},
   "source": [
    "Проверим редкие маленькие значения жилой площади. Например, с долей менее 10% от общей площади"
   ]
  },
  {
   "cell_type": "code",
   "execution_count": 30,
   "id": "3d587d75-85b9-4609-9286-145dec98b970",
   "metadata": {
    "scrolled": true
   },
   "outputs": [
    {
     "data": {
      "text/html": [
       "<div>\n",
       "<style scoped>\n",
       "    .dataframe tbody tr th:only-of-type {\n",
       "        vertical-align: middle;\n",
       "    }\n",
       "\n",
       "    .dataframe tbody tr th {\n",
       "        vertical-align: top;\n",
       "    }\n",
       "\n",
       "    .dataframe thead th {\n",
       "        text-align: right;\n",
       "    }\n",
       "</style>\n",
       "<table border=\"1\" class=\"dataframe\">\n",
       "  <thead>\n",
       "    <tr style=\"text-align: right;\">\n",
       "      <th></th>\n",
       "      <th>total_images</th>\n",
       "      <th>last_price</th>\n",
       "      <th>total_area</th>\n",
       "      <th>first_day_exposition</th>\n",
       "      <th>rooms</th>\n",
       "      <th>ceiling_height</th>\n",
       "      <th>floors_total</th>\n",
       "      <th>living_area</th>\n",
       "      <th>floor</th>\n",
       "      <th>is_apartment</th>\n",
       "      <th>...</th>\n",
       "      <th>ponds_nearest</th>\n",
       "      <th>days_exposition</th>\n",
       "      <th>locality_name_dupless</th>\n",
       "      <th>ratio_area_living</th>\n",
       "      <th>price_meter</th>\n",
       "      <th>day_public</th>\n",
       "      <th>month_public</th>\n",
       "      <th>year_public</th>\n",
       "      <th>floor_type</th>\n",
       "      <th>cityCenters_km</th>\n",
       "    </tr>\n",
       "  </thead>\n",
       "  <tbody>\n",
       "    <tr>\n",
       "      <th>3242</th>\n",
       "      <td>7</td>\n",
       "      <td>4440000.00</td>\n",
       "      <td>41.00</td>\n",
       "      <td>2017-07-02</td>\n",
       "      <td>1</td>\n",
       "      <td>2.70</td>\n",
       "      <td>17</td>\n",
       "      <td>3.00</td>\n",
       "      <td>17</td>\n",
       "      <td>True</td>\n",
       "      <td>...</td>\n",
       "      <td>NaN</td>\n",
       "      <td>216</td>\n",
       "      <td>Санкт-Петербург</td>\n",
       "      <td>1.76</td>\n",
       "      <td>108292.68</td>\n",
       "      <td>6</td>\n",
       "      <td>7</td>\n",
       "      <td>2017</td>\n",
       "      <td>последний</td>\n",
       "      <td>13.00</td>\n",
       "    </tr>\n",
       "    <tr>\n",
       "      <th>13915</th>\n",
       "      <td>20</td>\n",
       "      <td>6350000.00</td>\n",
       "      <td>52.00</td>\n",
       "      <td>2018-02-06</td>\n",
       "      <td>2</td>\n",
       "      <td>3.00</td>\n",
       "      <td>6</td>\n",
       "      <td>2.00</td>\n",
       "      <td>2</td>\n",
       "      <td>True</td>\n",
       "      <td>...</td>\n",
       "      <td>1012.00</td>\n",
       "      <td>91</td>\n",
       "      <td>Санкт-Петербург</td>\n",
       "      <td>1.76</td>\n",
       "      <td>122115.38</td>\n",
       "      <td>1</td>\n",
       "      <td>2</td>\n",
       "      <td>2018</td>\n",
       "      <td>другой</td>\n",
       "      <td>7.00</td>\n",
       "    </tr>\n",
       "    <tr>\n",
       "      <th>21758</th>\n",
       "      <td>0</td>\n",
       "      <td>2330000.00</td>\n",
       "      <td>23.00</td>\n",
       "      <td>2018-01-01</td>\n",
       "      <td>0</td>\n",
       "      <td>2.70</td>\n",
       "      <td>24</td>\n",
       "      <td>2.00</td>\n",
       "      <td>22</td>\n",
       "      <td>True</td>\n",
       "      <td>...</td>\n",
       "      <td>NaN</td>\n",
       "      <td>66</td>\n",
       "      <td>поселок Мурино</td>\n",
       "      <td>2.15</td>\n",
       "      <td>101304.35</td>\n",
       "      <td>0</td>\n",
       "      <td>1</td>\n",
       "      <td>2018</td>\n",
       "      <td>другой</td>\n",
       "      <td>NaN</td>\n",
       "    </tr>\n",
       "    <tr>\n",
       "      <th>21943</th>\n",
       "      <td>15</td>\n",
       "      <td>6100000.00</td>\n",
       "      <td>77.60</td>\n",
       "      <td>2019-02-28</td>\n",
       "      <td>4</td>\n",
       "      <td>2.50</td>\n",
       "      <td>9</td>\n",
       "      <td>5.40</td>\n",
       "      <td>1</td>\n",
       "      <td>True</td>\n",
       "      <td>...</td>\n",
       "      <td>NaN</td>\n",
       "      <td>33</td>\n",
       "      <td>Санкт-Петербург</td>\n",
       "      <td>1.76</td>\n",
       "      <td>78608.25</td>\n",
       "      <td>3</td>\n",
       "      <td>2</td>\n",
       "      <td>2019</td>\n",
       "      <td>первый</td>\n",
       "      <td>11.00</td>\n",
       "    </tr>\n",
       "    <tr>\n",
       "      <th>23574</th>\n",
       "      <td>14</td>\n",
       "      <td>64990000.00</td>\n",
       "      <td>139.00</td>\n",
       "      <td>2015-11-24</td>\n",
       "      <td>3</td>\n",
       "      <td>3.00</td>\n",
       "      <td>8</td>\n",
       "      <td>3.00</td>\n",
       "      <td>8</td>\n",
       "      <td>True</td>\n",
       "      <td>...</td>\n",
       "      <td>100.00</td>\n",
       "      <td>280</td>\n",
       "      <td>Санкт-Петербург</td>\n",
       "      <td>1.76</td>\n",
       "      <td>467553.96</td>\n",
       "      <td>1</td>\n",
       "      <td>11</td>\n",
       "      <td>2015</td>\n",
       "      <td>последний</td>\n",
       "      <td>6.00</td>\n",
       "    </tr>\n",
       "  </tbody>\n",
       "</table>\n",
       "<p>5 rows × 30 columns</p>\n",
       "</div>"
      ],
      "text/plain": [
       "       total_images  last_price  total_area first_day_exposition  rooms  \\\n",
       "3242              7  4440000.00       41.00           2017-07-02      1   \n",
       "13915            20  6350000.00       52.00           2018-02-06      2   \n",
       "21758             0  2330000.00       23.00           2018-01-01      0   \n",
       "21943            15  6100000.00       77.60           2019-02-28      4   \n",
       "23574            14 64990000.00      139.00           2015-11-24      3   \n",
       "\n",
       "       ceiling_height  floors_total  living_area  floor  is_apartment  ...  \\\n",
       "3242             2.70            17         3.00     17          True  ...   \n",
       "13915            3.00             6         2.00      2          True  ...   \n",
       "21758            2.70            24         2.00     22          True  ...   \n",
       "21943            2.50             9         5.40      1          True  ...   \n",
       "23574            3.00             8         3.00      8          True  ...   \n",
       "\n",
       "       ponds_nearest  days_exposition  locality_name_dupless  \\\n",
       "3242             NaN              216        Санкт-Петербург   \n",
       "13915        1012.00               91        Санкт-Петербург   \n",
       "21758            NaN               66         поселок Мурино   \n",
       "21943            NaN               33        Санкт-Петербург   \n",
       "23574         100.00              280        Санкт-Петербург   \n",
       "\n",
       "       ratio_area_living price_meter  day_public  month_public  year_public  \\\n",
       "3242                1.76   108292.68           6             7         2017   \n",
       "13915               1.76   122115.38           1             2         2018   \n",
       "21758               2.15   101304.35           0             1         2018   \n",
       "21943               1.76    78608.25           3             2         2019   \n",
       "23574               1.76   467553.96           1            11         2015   \n",
       "\n",
       "       floor_type  cityCenters_km  \n",
       "3242    последний           13.00  \n",
       "13915      другой            7.00  \n",
       "21758      другой             NaN  \n",
       "21943      первый           11.00  \n",
       "23574   последний            6.00  \n",
       "\n",
       "[5 rows x 30 columns]"
      ]
     },
     "metadata": {},
     "output_type": "display_data"
    }
   ],
   "source": [
    "# запись в переменную `data_filtered` отфильтрованного датафрейма\n",
    "data_filtered = data.query('living_area / total_area < 0.1')\n",
    "\n",
    "# вывод переменной data_filtered на экран\n",
    "display(data_filtered)"
   ]
  },
  {
   "cell_type": "markdown",
   "id": "9842c3ce-4af7-4445-b5d7-bbed9bc5a139",
   "metadata": {},
   "source": [
    "Вероятно отсутствует вторая цифра в размере жилой площади. Логичное исправление невозможно. Удалим эти строки из таблицы."
   ]
  },
  {
   "cell_type": "code",
   "execution_count": 31,
   "id": "05015bf5-5e16-4d83-93b4-cf8f7c99b8b3",
   "metadata": {},
   "outputs": [],
   "source": [
    "# удаление строк с маленькой жилой площадью\n",
    "data.drop(data_filtered.index, inplace=True)"
   ]
  },
  {
   "cell_type": "markdown",
   "id": "890d1f06-8794-4a95-8186-7d417e05c70e",
   "metadata": {
    "slideshow": {
     "slide_type": ""
    },
    "tags": []
   },
   "source": [
    "Покажем на гистограмме распределение квартир по размеру жилой площади"
   ]
  },
  {
   "cell_type": "code",
   "execution_count": 32,
   "id": "fd938f37-3d86-4d9d-ab20-2ff66fe4889f",
   "metadata": {},
   "outputs": [
    {
     "data": {
      "image/png": "[encoded data removed]",
      "text/plain": [
       "<Figure size 648x360 with 1 Axes>"
      ]
     },
     "metadata": {
      "needs_background": "light"
     },
     "output_type": "display_data"
    }
   ],
   "source": [
    "# описание данных в `living_area` с помощью гистограммы\n",
    "data.plot(\n",
    "    kind='hist',\n",
    "    y='living_area',\n",
    "    bins=30,\n",
    "    ylabel='Количество',\n",
    "    xlabel='Жилая площадь, м2',\n",
    "    grid=True,\n",
    "    legend=False,\n",
    "    figsize=(9,5),\n",
    "    range=(10, 300),\n",
    "    title='Распределение квартир по размеру жилой площади'\n",
    ") \n",
    "plt.show()"
   ]
  },
  {
   "cell_type": "markdown",
   "id": "1c29118d-ff29-40a5-9ba8-b85fca97ecc8",
   "metadata": {
    "slideshow": {
     "slide_type": ""
    },
    "tags": []
   },
   "source": [
    "Есть выбросы, превышающие **Q3 + 1.5 IQR = 77.5 м2**. Возможно жилые площади этих квартир указаны ошибочно. \n",
    " \n",
    "\n",
    "Сравним медианные цены квадратного метра: квартир с жилой площадью до **100 м2** с квартирами большей площади."
   ]
  },
  {
   "cell_type": "code",
   "execution_count": 33,
   "id": "706fe2ed-4103-40e3-bf71-0b7058fb1834",
   "metadata": {},
   "outputs": [
    {
     "data": {
      "text/markdown": [
       "Медианная цена 1 м2 квартир с жилой площадью до 100 м2 = **94791.67**"
      ],
      "text/plain": [
       "<IPython.core.display.Markdown object>"
      ]
     },
     "metadata": {},
     "output_type": "display_data"
    },
    {
     "data": {
      "text/markdown": [
       "Медианная цена 1 м2 квартир с жилой площадью более 100 м2 = **117215.95**"
      ],
      "text/plain": [
       "<IPython.core.display.Markdown object>"
      ]
     },
     "metadata": {},
     "output_type": "display_data"
    }
   ],
   "source": [
    "# расчет медианной цены 1 м2 квартир с жилой площадью до 100 м2 \n",
    "display(\n",
    "    Markdown(\n",
    "        f'Медианная цена 1 м2 квартир с жилой площадью до 100 м2 = '\n",
    "        f'**{data.query(\"living_area <= 100\")[\"price_meter\"].median()}**')\n",
    ")\n",
    "\n",
    "# расчет медианной цены 1 м2 квартир с жилой площадью более 100 м2 \n",
    "display(\n",
    "    Markdown(\n",
    "        f'Медианная цена 1 м2 квартир с жилой площадью более 100 м2 = '\n",
    "        f'**{data.query(\"living_area > 100\")[\"price_meter\"].median()}**')\n",
    ")"
   ]
  },
  {
   "cell_type": "markdown",
   "id": "c389ca63",
   "metadata": {
    "deletable": false,
    "id": "c389ca63"
   },
   "source": [
    "<div style=\"border:solid gray 1px; padding: 20px\">\n",
    "\n",
    "**Выводы:** \n",
    "1. Жилая площадь 75% квартир до 43 м2\n",
    "2. Цены квартир с \"большой\" жилой площадью не выглядят ошибочными и могут использоваться в дальнейшем исследовании\n",
    "3. Аномально маленькие значения в жилой площади квартир исключены\n",
    "4. 8,03% пропущенных значений не повлияют на результаты исследования\n"
   ]
  },
  {
   "cell_type": "markdown",
   "id": "abc0b3ae",
   "metadata": {},
   "source": [
    "<p>\n",
    "<div class=\"alert-success\">\n",
    "<b>Комментарий ревьюера ✔️</b>\n",
    "\n",
    "    \n",
    "👍</div>"
   ]
  },
  {
   "cell_type": "markdown",
   "id": "d741104e-e8ce-4d05-b618-8ca0bd42724a",
   "metadata": {},
   "source": [
    "#### Площадь кухни\n",
    "\n",
    "Проанализируем значения площади кухни из столбца `kitchen_area`"
   ]
  },
  {
   "cell_type": "code",
   "execution_count": 34,
   "id": "79604d77-7ebf-472a-b543-9f7578dd8fdf",
   "metadata": {},
   "outputs": [
    {
     "data": {
      "text/markdown": [
       "Доля пропущенных значений площади кухни = **9.61%**"
      ],
      "text/plain": [
       "<IPython.core.display.Markdown object>"
      ]
     },
     "metadata": {},
     "output_type": "display_data"
    }
   ],
   "source": [
    "# расчет доли пропущенных значений в столбце `kitchen_area`\n",
    "display(\n",
    "    Markdown(\n",
    "        f'Доля пропущенных значений площади кухни = '\n",
    "        f'**{data[\"kitchen_area\"].isna().sum() / len(data[\"kitchen_area\"]):.2%}**')\n",
    ")"
   ]
  },
  {
   "cell_type": "code",
   "execution_count": 35,
   "id": "8a25b989-d910-4610-a534-4653f0635c9b",
   "metadata": {
    "slideshow": {
     "slide_type": ""
    },
    "tags": []
   },
   "outputs": [
    {
     "data": {
      "text/plain": [
       "count   21416.00\n",
       "mean       10.56\n",
       "std         5.87\n",
       "min         1.30\n",
       "25%         7.00\n",
       "50%         9.10\n",
       "75%        12.00\n",
       "max       107.00\n",
       "Name: kitchen_area, dtype: float64"
      ]
     },
     "execution_count": 35,
     "metadata": {},
     "output_type": "execute_result"
    }
   ],
   "source": [
    "# числовое описание данных в `kitchen_area`\n",
    "data['kitchen_area'].describe()"
   ]
  },
  {
   "cell_type": "markdown",
   "id": "d013b0e5-836d-4504-a46a-6e439120e227",
   "metadata": {},
   "source": [
    "Проверим маленькие значения площади кухни. Например, с площадью кухни менее 2 м2."
   ]
  },
  {
   "cell_type": "code",
   "execution_count": 36,
   "id": "b3b9d104-513f-4979-9d6e-32c83945b0b4",
   "metadata": {},
   "outputs": [
    {
     "data": {
      "text/html": [
       "<div>\n",
       "<style scoped>\n",
       "    .dataframe tbody tr th:only-of-type {\n",
       "        vertical-align: middle;\n",
       "    }\n",
       "\n",
       "    .dataframe tbody tr th {\n",
       "        vertical-align: top;\n",
       "    }\n",
       "\n",
       "    .dataframe thead th {\n",
       "        text-align: right;\n",
       "    }\n",
       "</style>\n",
       "<table border=\"1\" class=\"dataframe\">\n",
       "  <thead>\n",
       "    <tr style=\"text-align: right;\">\n",
       "      <th></th>\n",
       "      <th>total_images</th>\n",
       "      <th>last_price</th>\n",
       "      <th>total_area</th>\n",
       "      <th>first_day_exposition</th>\n",
       "      <th>rooms</th>\n",
       "      <th>ceiling_height</th>\n",
       "      <th>floors_total</th>\n",
       "      <th>living_area</th>\n",
       "      <th>floor</th>\n",
       "      <th>is_apartment</th>\n",
       "      <th>...</th>\n",
       "      <th>ponds_nearest</th>\n",
       "      <th>days_exposition</th>\n",
       "      <th>locality_name_dupless</th>\n",
       "      <th>ratio_area_living</th>\n",
       "      <th>price_meter</th>\n",
       "      <th>day_public</th>\n",
       "      <th>month_public</th>\n",
       "      <th>year_public</th>\n",
       "      <th>floor_type</th>\n",
       "      <th>cityCenters_km</th>\n",
       "    </tr>\n",
       "  </thead>\n",
       "  <tbody>\n",
       "    <tr>\n",
       "      <th>20217</th>\n",
       "      <td>7</td>\n",
       "      <td>4250000.00</td>\n",
       "      <td>28.50</td>\n",
       "      <td>2019-05-01</td>\n",
       "      <td>1</td>\n",
       "      <td>2.80</td>\n",
       "      <td>14</td>\n",
       "      <td>19.50</td>\n",
       "      <td>10</td>\n",
       "      <td>True</td>\n",
       "      <td>...</td>\n",
       "      <td>NaN</td>\n",
       "      <td>&lt;NA&gt;</td>\n",
       "      <td>Санкт-Петербург</td>\n",
       "      <td>1.76</td>\n",
       "      <td>149122.81</td>\n",
       "      <td>2</td>\n",
       "      <td>5</td>\n",
       "      <td>2019</td>\n",
       "      <td>другой</td>\n",
       "      <td>13.00</td>\n",
       "    </tr>\n",
       "  </tbody>\n",
       "</table>\n",
       "<p>1 rows × 30 columns</p>\n",
       "</div>"
      ],
      "text/plain": [
       "       total_images  last_price  total_area first_day_exposition  rooms  \\\n",
       "20217             7  4250000.00       28.50           2019-05-01      1   \n",
       "\n",
       "       ceiling_height  floors_total  living_area  floor  is_apartment  ...  \\\n",
       "20217            2.80            14        19.50     10          True  ...   \n",
       "\n",
       "       ponds_nearest  days_exposition  locality_name_dupless  \\\n",
       "20217            NaN             <NA>        Санкт-Петербург   \n",
       "\n",
       "       ratio_area_living price_meter  day_public  month_public  year_public  \\\n",
       "20217               1.76   149122.81           2             5         2019   \n",
       "\n",
       "       floor_type  cityCenters_km  \n",
       "20217      другой           13.00  \n",
       "\n",
       "[1 rows x 30 columns]"
      ]
     },
     "metadata": {},
     "output_type": "display_data"
    }
   ],
   "source": [
    "# запись в переменную `data_filtered` отфильтрованного датафрейма \n",
    "data_filtered = data.query('kitchen_area < 2')\n",
    "\n",
    "#вывод переменной `data_filtered` на экран\n",
    "display(data_filtered)"
   ]
  },
  {
   "cell_type": "markdown",
   "id": "2f13890a-dad4-40b3-9969-5b74980ba27a",
   "metadata": {},
   "source": [
    "Удалим строку с площадью кухни менее 2 м2."
   ]
  },
  {
   "cell_type": "code",
   "execution_count": 37,
   "id": "0fdd86b0-6c20-4fe4-98e8-92a3bae279ba",
   "metadata": {},
   "outputs": [],
   "source": [
    "# удаление строк с площадью кухни менее 2 м2\n",
    "data.drop(data_filtered.index, inplace=True)"
   ]
  },
  {
   "cell_type": "markdown",
   "id": "25e1606f-f55e-4ed1-9077-dbe4b87419d8",
   "metadata": {
    "slideshow": {
     "slide_type": ""
    },
    "tags": []
   },
   "source": [
    "Покажем на гистограмме распределение квартир по площади кухни"
   ]
  },
  {
   "cell_type": "code",
   "execution_count": 38,
   "id": "68de9d6a-ad8c-4357-9cd5-3374e4678e21",
   "metadata": {
    "slideshow": {
     "slide_type": ""
    },
    "tags": []
   },
   "outputs": [
    {
     "data": {
      "image/png": "[encoded data removed]",
      "text/plain": [
       "<Figure size 648x360 with 1 Axes>"
      ]
     },
     "metadata": {
      "needs_background": "light"
     },
     "output_type": "display_data"
    }
   ],
   "source": [
    "# описание данных в `kitchen_area` с помощью гистограммы\n",
    "data.plot(\n",
    "    kind='hist',\n",
    "    y='kitchen_area',\n",
    "    bins=30,\n",
    "    ylabel='Количество',\n",
    "    xlabel='Площадь кухни, м2',\n",
    "    grid=True,\n",
    "    legend=False,\n",
    "    figsize=(9,5),\n",
    "    range=(2, 100),\n",
    "    title='Распределение квартир по площади кухни'\n",
    ")\n",
    "plt.show()"
   ]
  },
  {
   "cell_type": "markdown",
   "id": "96a4afe9-a4dc-47cd-a3db-2a538807de4f",
   "metadata": {
    "id": "c389ca63"
   },
   "source": [
    "<div style=\"border:solid gray 1px; padding: 20px\">\n",
    "\n",
    "**Выводы:** \n",
    "1. Плошадь кухни 75% квартир до 12 м2\n",
    "2. Аномальные значения в площади кухни исключены\n",
    "3. 9,61% пропущенных значений не окажут сущеcтвенного влияния на результаты исследования\n"
   ]
  },
  {
   "cell_type": "markdown",
   "id": "406473a3",
   "metadata": {},
   "source": [
    "<p>\n",
    "<div class=\"alert-success\">\n",
    "<b>Комментарий ревьюера ✔️</b>\n",
    "\n",
    "    \n",
    "👍</div>"
   ]
  },
  {
   "cell_type": "markdown",
   "id": "fa984ffd-e154-4811-8ef0-ee21f44f7450",
   "metadata": {},
   "source": [
    "#### Стоимость объекта недвижимости\n",
    "\n",
    "Проанализируем значения стоимости из столбца `last_price`"
   ]
  },
  {
   "cell_type": "code",
   "execution_count": 39,
   "id": "e5ca129a-5ff8-4cc2-9a5a-7ca474757c3b",
   "metadata": {
    "slideshow": {
     "slide_type": ""
    },
    "tags": []
   },
   "outputs": [
    {
     "data": {
      "text/plain": [
       "count       23692.00\n",
       "mean      6522020.27\n",
       "std      10545169.55\n",
       "min         12190.00\n",
       "25%       3400000.00\n",
       "50%       4650000.00\n",
       "75%       6800000.00\n",
       "max     763000000.00\n",
       "Name: last_price, dtype: float64"
      ]
     },
     "execution_count": 39,
     "metadata": {},
     "output_type": "execute_result"
    }
   ],
   "source": [
    "# числовое описание данных в `last_price`\n",
    "data['last_price'].describe()"
   ]
  },
  {
   "cell_type": "markdown",
   "id": "b7df5c34-26aa-47fc-9cce-25f7c4c29bb9",
   "metadata": {},
   "source": [
    "Проверим квартиры с низкой стоимостью. Например, менее 100 тыс"
   ]
  },
  {
   "cell_type": "code",
   "execution_count": 40,
   "id": "d6f8233c-0b46-4cfe-a2fa-603e29770783",
   "metadata": {},
   "outputs": [
    {
     "data": {
      "text/html": [
       "<div>\n",
       "<style scoped>\n",
       "    .dataframe tbody tr th:only-of-type {\n",
       "        vertical-align: middle;\n",
       "    }\n",
       "\n",
       "    .dataframe tbody tr th {\n",
       "        vertical-align: top;\n",
       "    }\n",
       "\n",
       "    .dataframe thead th {\n",
       "        text-align: right;\n",
       "    }\n",
       "</style>\n",
       "<table border=\"1\" class=\"dataframe\">\n",
       "  <thead>\n",
       "    <tr style=\"text-align: right;\">\n",
       "      <th></th>\n",
       "      <th>total_images</th>\n",
       "      <th>last_price</th>\n",
       "      <th>total_area</th>\n",
       "      <th>first_day_exposition</th>\n",
       "      <th>rooms</th>\n",
       "      <th>ceiling_height</th>\n",
       "      <th>floors_total</th>\n",
       "      <th>living_area</th>\n",
       "      <th>floor</th>\n",
       "      <th>is_apartment</th>\n",
       "      <th>...</th>\n",
       "      <th>ponds_nearest</th>\n",
       "      <th>days_exposition</th>\n",
       "      <th>locality_name_dupless</th>\n",
       "      <th>ratio_area_living</th>\n",
       "      <th>price_meter</th>\n",
       "      <th>day_public</th>\n",
       "      <th>month_public</th>\n",
       "      <th>year_public</th>\n",
       "      <th>floor_type</th>\n",
       "      <th>cityCenters_km</th>\n",
       "    </tr>\n",
       "  </thead>\n",
       "  <tbody>\n",
       "    <tr>\n",
       "      <th>8793</th>\n",
       "      <td>7</td>\n",
       "      <td>12190.00</td>\n",
       "      <td>109.00</td>\n",
       "      <td>2019-03-20</td>\n",
       "      <td>2</td>\n",
       "      <td>2.75</td>\n",
       "      <td>25</td>\n",
       "      <td>32.00</td>\n",
       "      <td>25</td>\n",
       "      <td>True</td>\n",
       "      <td>...</td>\n",
       "      <td>NaN</td>\n",
       "      <td>8</td>\n",
       "      <td>Санкт-Петербург</td>\n",
       "      <td>1.76</td>\n",
       "      <td>111.83</td>\n",
       "      <td>2</td>\n",
       "      <td>3</td>\n",
       "      <td>2019</td>\n",
       "      <td>последний</td>\n",
       "      <td>9.00</td>\n",
       "    </tr>\n",
       "  </tbody>\n",
       "</table>\n",
       "<p>1 rows × 30 columns</p>\n",
       "</div>"
      ],
      "text/plain": [
       "      total_images  last_price  total_area first_day_exposition  rooms  \\\n",
       "8793             7    12190.00      109.00           2019-03-20      2   \n",
       "\n",
       "      ceiling_height  floors_total  living_area  floor  is_apartment  ...  \\\n",
       "8793            2.75            25        32.00     25          True  ...   \n",
       "\n",
       "      ponds_nearest  days_exposition  locality_name_dupless  \\\n",
       "8793            NaN                8        Санкт-Петербург   \n",
       "\n",
       "      ratio_area_living price_meter  day_public  month_public  year_public  \\\n",
       "8793               1.76      111.83           2             3         2019   \n",
       "\n",
       "      floor_type  cityCenters_km  \n",
       "8793   последний            9.00  \n",
       "\n",
       "[1 rows x 30 columns]"
      ]
     },
     "metadata": {},
     "output_type": "display_data"
    }
   ],
   "source": [
    "# запись в переменную `data_filtered` отфильтрованного датафрейма \n",
    "data_filtered = data.query('last_price < 100000')\n",
    "\n",
    "#вывод переменной `data_filtered` на экран\n",
    "display(data_filtered)"
   ]
  },
  {
   "cell_type": "markdown",
   "id": "e0a624ba-d3c3-4d99-8e9a-ba02d148fe09",
   "metadata": {},
   "source": [
    "Учитывая общую плошадь квартиры, вероятно в стоимости не зватает трёх нулей. Исправим стоимость и цену квадратного метра."
   ]
  },
  {
   "cell_type": "code",
   "execution_count": 41,
   "id": "c170ebad-648a-4f27-b5ec-7033d6404069",
   "metadata": {},
   "outputs": [],
   "source": [
    "# запись нового значения стоимости в столбец `last_price`\n",
    "data.loc[data_filtered.index, 'last_price'] = 12190000\n",
    "\n",
    "# расчет и запись новой цены квадратного метра в столбец `price_meter`\n",
    "data.loc[data_filtered.index, 'price_meter'] = \\\n",
    "(\n",
    "    data.loc[data_filtered.index, 'last_price'] / \n",
    "    data.loc[data_filtered.index, 'total_area']\n",
    ")"
   ]
  },
  {
   "cell_type": "markdown",
   "id": "2d851c6b-29a6-48df-bbf5-2a7ba1b2460a",
   "metadata": {},
   "source": [
    "Проверим квартиры с аномально высокой стоимостью более 400 млн. И сравним со стоимостью квартир с такой же общей площадью 400 м2."
   ]
  },
  {
   "cell_type": "code",
   "execution_count": 42,
   "id": "112a99db-275d-4a92-a4cd-503d1ae0af13",
   "metadata": {},
   "outputs": [
    {
     "data": {
      "text/html": [
       "<div>\n",
       "<style scoped>\n",
       "    .dataframe tbody tr th:only-of-type {\n",
       "        vertical-align: middle;\n",
       "    }\n",
       "\n",
       "    .dataframe tbody tr th {\n",
       "        vertical-align: top;\n",
       "    }\n",
       "\n",
       "    .dataframe thead th {\n",
       "        text-align: right;\n",
       "    }\n",
       "</style>\n",
       "<table border=\"1\" class=\"dataframe\">\n",
       "  <thead>\n",
       "    <tr style=\"text-align: right;\">\n",
       "      <th></th>\n",
       "      <th>total_images</th>\n",
       "      <th>last_price</th>\n",
       "      <th>total_area</th>\n",
       "      <th>first_day_exposition</th>\n",
       "      <th>rooms</th>\n",
       "      <th>ceiling_height</th>\n",
       "      <th>floors_total</th>\n",
       "      <th>living_area</th>\n",
       "      <th>floor</th>\n",
       "      <th>is_apartment</th>\n",
       "      <th>...</th>\n",
       "      <th>ponds_nearest</th>\n",
       "      <th>days_exposition</th>\n",
       "      <th>locality_name_dupless</th>\n",
       "      <th>ratio_area_living</th>\n",
       "      <th>price_meter</th>\n",
       "      <th>day_public</th>\n",
       "      <th>month_public</th>\n",
       "      <th>year_public</th>\n",
       "      <th>floor_type</th>\n",
       "      <th>cityCenters_km</th>\n",
       "    </tr>\n",
       "  </thead>\n",
       "  <tbody>\n",
       "    <tr>\n",
       "      <th>5873</th>\n",
       "      <td>0</td>\n",
       "      <td>38000000.00</td>\n",
       "      <td>400.00</td>\n",
       "      <td>2019-03-15</td>\n",
       "      <td>7</td>\n",
       "      <td>3.60</td>\n",
       "      <td>3</td>\n",
       "      <td>227.64</td>\n",
       "      <td>1</td>\n",
       "      <td>True</td>\n",
       "      <td>...</td>\n",
       "      <td>NaN</td>\n",
       "      <td>&lt;NA&gt;</td>\n",
       "      <td>Санкт-Петербург</td>\n",
       "      <td>1.76</td>\n",
       "      <td>95000.00</td>\n",
       "      <td>4</td>\n",
       "      <td>3</td>\n",
       "      <td>2019</td>\n",
       "      <td>первый</td>\n",
       "      <td>5.00</td>\n",
       "    </tr>\n",
       "    <tr>\n",
       "      <th>12971</th>\n",
       "      <td>19</td>\n",
       "      <td>763000000.00</td>\n",
       "      <td>400.00</td>\n",
       "      <td>2017-09-30</td>\n",
       "      <td>7</td>\n",
       "      <td>2.70</td>\n",
       "      <td>10</td>\n",
       "      <td>250.00</td>\n",
       "      <td>10</td>\n",
       "      <td>True</td>\n",
       "      <td>...</td>\n",
       "      <td>756.00</td>\n",
       "      <td>33</td>\n",
       "      <td>Санкт-Петербург</td>\n",
       "      <td>1.76</td>\n",
       "      <td>1907500.00</td>\n",
       "      <td>5</td>\n",
       "      <td>9</td>\n",
       "      <td>2017</td>\n",
       "      <td>последний</td>\n",
       "      <td>4.00</td>\n",
       "    </tr>\n",
       "    <tr>\n",
       "      <th>14706</th>\n",
       "      <td>15</td>\n",
       "      <td>401300000.00</td>\n",
       "      <td>401.00</td>\n",
       "      <td>2016-02-20</td>\n",
       "      <td>5</td>\n",
       "      <td>2.70</td>\n",
       "      <td>9</td>\n",
       "      <td>204.00</td>\n",
       "      <td>9</td>\n",
       "      <td>False</td>\n",
       "      <td>...</td>\n",
       "      <td>478.00</td>\n",
       "      <td>393</td>\n",
       "      <td>Санкт-Петербург</td>\n",
       "      <td>1.76</td>\n",
       "      <td>1000748.13</td>\n",
       "      <td>5</td>\n",
       "      <td>2</td>\n",
       "      <td>2016</td>\n",
       "      <td>последний</td>\n",
       "      <td>2.00</td>\n",
       "    </tr>\n",
       "    <tr>\n",
       "      <th>15151</th>\n",
       "      <td>15</td>\n",
       "      <td>88000000.00</td>\n",
       "      <td>400.00</td>\n",
       "      <td>2019-03-27</td>\n",
       "      <td>9</td>\n",
       "      <td>2.50</td>\n",
       "      <td>2</td>\n",
       "      <td>250.00</td>\n",
       "      <td>1</td>\n",
       "      <td>True</td>\n",
       "      <td>...</td>\n",
       "      <td>578.00</td>\n",
       "      <td>&lt;NA&gt;</td>\n",
       "      <td>Санкт-Петербург</td>\n",
       "      <td>1.76</td>\n",
       "      <td>220000.00</td>\n",
       "      <td>2</td>\n",
       "      <td>3</td>\n",
       "      <td>2019</td>\n",
       "      <td>первый</td>\n",
       "      <td>3.00</td>\n",
       "    </tr>\n",
       "  </tbody>\n",
       "</table>\n",
       "<p>4 rows × 30 columns</p>\n",
       "</div>"
      ],
      "text/plain": [
       "       total_images   last_price  total_area first_day_exposition  rooms  \\\n",
       "5873              0  38000000.00      400.00           2019-03-15      7   \n",
       "12971            19 763000000.00      400.00           2017-09-30      7   \n",
       "14706            15 401300000.00      401.00           2016-02-20      5   \n",
       "15151            15  88000000.00      400.00           2019-03-27      9   \n",
       "\n",
       "       ceiling_height  floors_total  living_area  floor  is_apartment  ...  \\\n",
       "5873             3.60             3       227.64      1          True  ...   \n",
       "12971            2.70            10       250.00     10          True  ...   \n",
       "14706            2.70             9       204.00      9         False  ...   \n",
       "15151            2.50             2       250.00      1          True  ...   \n",
       "\n",
       "       ponds_nearest  days_exposition  locality_name_dupless  \\\n",
       "5873             NaN             <NA>        Санкт-Петербург   \n",
       "12971         756.00               33        Санкт-Петербург   \n",
       "14706         478.00              393        Санкт-Петербург   \n",
       "15151         578.00             <NA>        Санкт-Петербург   \n",
       "\n",
       "       ratio_area_living price_meter  day_public  month_public  year_public  \\\n",
       "5873                1.76    95000.00           4             3         2019   \n",
       "12971               1.76  1907500.00           5             9         2017   \n",
       "14706               1.76  1000748.13           5             2         2016   \n",
       "15151               1.76   220000.00           2             3         2019   \n",
       "\n",
       "       floor_type  cityCenters_km  \n",
       "5873       первый            5.00  \n",
       "12971   последний            4.00  \n",
       "14706   последний            2.00  \n",
       "15151      первый            3.00  \n",
       "\n",
       "[4 rows x 30 columns]"
      ]
     },
     "execution_count": 42,
     "metadata": {},
     "output_type": "execute_result"
    }
   ],
   "source": [
    "# вывод списка квартир со стоимостью более 700 млн или общей площадью 400 м2\n",
    "data.query('last_price > 400000000 or total_area == 400')"
   ]
  },
  {
   "cell_type": "markdown",
   "id": "bcfe6e6d-95e6-46f2-8109-2423a27371b8",
   "metadata": {},
   "source": [
    "Вероятно в стоимости квартир **763 млн** и **401,3 млн** есть лишний ноль. Исправим стоимость и цену квадратного метра."
   ]
  },
  {
   "cell_type": "code",
   "execution_count": 43,
   "id": "b1fc8438-d89b-4d1b-856a-9cc621524b3c",
   "metadata": {},
   "outputs": [],
   "source": [
    "# сохранение индексов исправляемых строк в переменную `index_price`\n",
    "index_price = data.query('last_price > 400000000').index\n",
    "\n",
    "# запись новых значений `last_price` и `price_meter`\n",
    "data.loc[index_price, ['last_price','price_meter']] *= 0.1"
   ]
  },
  {
   "cell_type": "markdown",
   "id": "9f2c51f6-0625-4417-94c2-edbac0a9b5cf",
   "metadata": {
    "slideshow": {
     "slide_type": ""
    },
    "tags": []
   },
   "source": [
    "Покажем на гистограмме распределение квартир по стоимости"
   ]
  },
  {
   "cell_type": "code",
   "execution_count": 44,
   "id": "f1af04a7-b9b0-4dcf-b4c1-62df96d74c5c",
   "metadata": {
    "slideshow": {
     "slide_type": ""
    },
    "tags": []
   },
   "outputs": [
    {
     "data": {
      "image/png": "[encoded data removed]",
      "text/plain": [
       "<Figure size 648x360 with 1 Axes>"
      ]
     },
     "metadata": {
      "needs_background": "light"
     },
     "output_type": "display_data"
    }
   ],
   "source": [
    "# описание данных в `last_price` с помощью гистограммы c ограничением до 100 млн\n",
    "data.plot(\n",
    "    kind='hist',\n",
    "    y='last_price',\n",
    "    bins=40,\n",
    "    ylabel='Количество',\n",
    "    xlabel='Стоимость',\n",
    "    grid=True,\n",
    "    legend=False,\n",
    "    figsize=(9,5),\n",
    "    range=(400000, 80000000),\n",
    "    title='Распределение квартир по стоимости'\n",
    ")\n",
    "plt.show()"
   ]
  },
  {
   "cell_type": "markdown",
   "id": "2049a594-35b2-4078-a330-7db884f4f913",
   "metadata": {
    "id": "c389ca63"
   },
   "source": [
    "<div style=\"border:solid gray 1px; padding: 20px\">\n",
    "\n",
    "**Выводы:** \n",
    "1. Стоимость 75% квартир до 6,8 млн\n",
    "2. Аномальные значения стоимости исправлены"
   ]
  },
  {
   "cell_type": "markdown",
   "id": "5430a196",
   "metadata": {},
   "source": [
    "<p>\n",
    "<div class=\"alert-success\">\n",
    "<b>Комментарий ревьюера ✔️</b>\n",
    "\n",
    "    \n",
    "👍</div>"
   ]
  },
  {
   "cell_type": "markdown",
   "id": "19c5529b-0e65-4087-917e-066ca5d052c4",
   "metadata": {},
   "source": [
    "#### Количество комнат\n",
    "\n",
    "Проанализируем значения количества комнат из столбца `rooms`"
   ]
  },
  {
   "cell_type": "code",
   "execution_count": 45,
   "id": "3d79b444-9fb2-4b15-847f-680b2c51433d",
   "metadata": {
    "slideshow": {
     "slide_type": ""
    },
    "tags": []
   },
   "outputs": [
    {
     "data": {
      "text/plain": [
       "count   23692.00\n",
       "mean        2.07\n",
       "std         1.08\n",
       "min         0.00\n",
       "25%         1.00\n",
       "50%         2.00\n",
       "75%         3.00\n",
       "max        19.00\n",
       "Name: rooms, dtype: float64"
      ]
     },
     "execution_count": 45,
     "metadata": {},
     "output_type": "execute_result"
    }
   ],
   "source": [
    "# числовое описание данных в `last_price`\n",
    "data['rooms'].describe()"
   ]
  },
  {
   "cell_type": "markdown",
   "id": "f0172619-3ca6-411e-9db2-dcec32271d80",
   "metadata": {},
   "source": [
    "Прверим квартиры с нулевым количеством комнат."
   ]
  },
  {
   "cell_type": "code",
   "execution_count": 46,
   "id": "148659b3-6a84-4388-9524-e7abc1fa63fe",
   "metadata": {},
   "outputs": [
    {
     "data": {
      "text/markdown": [
       "У **196** квартир нулевое количество комнат."
      ],
      "text/plain": [
       "<IPython.core.display.Markdown object>"
      ]
     },
     "metadata": {},
     "output_type": "display_data"
    }
   ],
   "source": [
    "# запись в переменную `data_filtered` датафрейма c нулевым количеством комнат  \n",
    "data_filtered = data.query('rooms == 0')\n",
    "\n",
    "# вывод количества строк c нулевым количеством комнат\n",
    "display(\n",
    "    Markdown(\n",
    "        f'У **{data_filtered[\"rooms\"].count()}** квартир нулевое количество комнат.')\n",
    ")"
   ]
  },
  {
   "cell_type": "markdown",
   "id": "c266e6b0-e832-4290-a6f3-2a0202a40ce3",
   "metadata": {},
   "source": [
    "Вероятно это ошибка при выгрузке - вместо отсутствующих значений записались нули.\n",
    "\n",
    "Исправим количество комнат на медианное количество комнат у квартир с подобной общей площадью:\n",
    "\n",
    "- посчитаем медианное значение общей площади квартир с количеством комнат = 0\n",
    "- отфильтруем квартиры по полученной общей площади и получим их медиану количества комнат\n",
    "- исправим нулевые значения комнат"
   ]
  },
  {
   "cell_type": "code",
   "execution_count": 47,
   "id": "447b689e-494d-4814-921f-de34cb8e54ff",
   "metadata": {},
   "outputs": [],
   "source": [
    "# запись в переменную `median_total_area` медианы общей площади с нулевым количеством комнат\n",
    "median_total_area = data.query('rooms == 0')['total_area'].median()\n",
    "\n",
    "#запись количества комнат вместо нулевых значений в `rooms`       \n",
    "data.loc[data_filtered.index, 'rooms'] = (\n",
    "    data\n",
    "    .query('@median_total_area+1 > total_area > @median_total_area-1 and rooms != 0')\n",
    "    .groupby('total_area')['rooms']\n",
    "    .transform(lambda x: round(x.median()))\n",
    ")"
   ]
  },
  {
   "cell_type": "markdown",
   "id": "69457fd1-4e9b-4c9e-b6a3-2685a5d26236",
   "metadata": {
    "slideshow": {
     "slide_type": ""
    },
    "tags": []
   },
   "source": [
    "Покажем на гистограмме распределение квартир по количеству комнат"
   ]
  },
  {
   "cell_type": "code",
   "execution_count": 48,
   "id": "2c8890ee-c75d-4f49-9295-7ce7d6d05838",
   "metadata": {
    "slideshow": {
     "slide_type": ""
    },
    "tags": []
   },
   "outputs": [
    {
     "data": {
      "image/png": "[encoded data removed]",
      "text/plain": [
       "<Figure size 648x360 with 1 Axes>"
      ]
     },
     "metadata": {
      "needs_background": "light"
     },
     "output_type": "display_data"
    }
   ],
   "source": [
    "### описание данных в `rooms` с помощью гистограммы \n",
    "data.plot(\n",
    "    kind='hist',\n",
    "    y='rooms',\n",
    "    bins=30,\n",
    "    ylabel='Количество',\n",
    "    xlabel='Количество комнат',\n",
    "    grid=True,\n",
    "    legend=False,\n",
    "    figsize=(9,5),\n",
    "    range=(1, 10),\n",
    "    title='Распределение квартир по количеству комнат'\n",
    ")\n",
    "plt.show()"
   ]
  },
  {
   "cell_type": "markdown",
   "id": "8a374675-8e63-42fe-a10d-048bc83682d9",
   "metadata": {
    "id": "c389ca63"
   },
   "source": [
    "<div style=\"border:solid gray 1px; padding: 20px\">\n",
    "\n",
    "**Выводы:** \n",
    "1. У 50% квартир одна или две комнаты.\n",
    "2. Судя по гистограмме количество однушек и двушек примерно равное - примерно по четверти каждых  \n",
    "3. Аномальные нулевые значения количества комнат исправлены"
   ]
  },
  {
   "cell_type": "markdown",
   "id": "078a18b8",
   "metadata": {},
   "source": [
    "<p>\n",
    "<div class=\"alert-success\">\n",
    "<b>Комментарий ревьюера ✔️</b>\n",
    "\n",
    "    \n",
    "👍</div>"
   ]
  },
  {
   "cell_type": "markdown",
   "id": "21dce1bb-d6c7-42dc-93f1-adad9008e4a9",
   "metadata": {},
   "source": [
    "#### Высота потолков\n",
    "\n",
    "Проанализируем значения высоты потолков из столбца `ceiling_height`"
   ]
  },
  {
   "cell_type": "code",
   "execution_count": 49,
   "id": "0410038f-0ad8-4a37-b045-94da774c6036",
   "metadata": {},
   "outputs": [
    {
     "data": {
      "text/plain": [
       "count   23692.00\n",
       "mean        2.73\n",
       "std         1.00\n",
       "min         1.00\n",
       "25%         2.55\n",
       "50%         2.70\n",
       "75%         2.70\n",
       "max       100.00\n",
       "Name: ceiling_height, dtype: float64"
      ]
     },
     "execution_count": 49,
     "metadata": {},
     "output_type": "execute_result"
    }
   ],
   "source": [
    "# числовое описание данных в `ceiling_height`\n",
    "data['ceiling_height'].describe()"
   ]
  },
  {
   "cell_type": "markdown",
   "id": "59b89e9f-e36c-44f7-8a73-98cf3e374805",
   "metadata": {},
   "source": [
    "Прверим квартиры с высотой потолков от 10 метров."
   ]
  },
  {
   "cell_type": "code",
   "execution_count": 50,
   "id": "d8d7f632-1f31-4d3e-8e8a-1a348e1053be",
   "metadata": {},
   "outputs": [
    {
     "data": {
      "text/html": [
       "<div>\n",
       "<style scoped>\n",
       "    .dataframe tbody tr th:only-of-type {\n",
       "        vertical-align: middle;\n",
       "    }\n",
       "\n",
       "    .dataframe tbody tr th {\n",
       "        vertical-align: top;\n",
       "    }\n",
       "\n",
       "    .dataframe thead th {\n",
       "        text-align: right;\n",
       "    }\n",
       "</style>\n",
       "<table border=\"1\" class=\"dataframe\">\n",
       "  <thead>\n",
       "    <tr style=\"text-align: right;\">\n",
       "      <th></th>\n",
       "      <th>total_images</th>\n",
       "      <th>last_price</th>\n",
       "      <th>total_area</th>\n",
       "      <th>first_day_exposition</th>\n",
       "      <th>rooms</th>\n",
       "      <th>ceiling_height</th>\n",
       "      <th>floors_total</th>\n",
       "      <th>living_area</th>\n",
       "      <th>floor</th>\n",
       "      <th>is_apartment</th>\n",
       "      <th>...</th>\n",
       "      <th>ponds_nearest</th>\n",
       "      <th>days_exposition</th>\n",
       "      <th>locality_name_dupless</th>\n",
       "      <th>ratio_area_living</th>\n",
       "      <th>price_meter</th>\n",
       "      <th>day_public</th>\n",
       "      <th>month_public</th>\n",
       "      <th>year_public</th>\n",
       "      <th>floor_type</th>\n",
       "      <th>cityCenters_km</th>\n",
       "    </tr>\n",
       "  </thead>\n",
       "  <tbody>\n",
       "    <tr>\n",
       "      <th>22869</th>\n",
       "      <td>0</td>\n",
       "      <td>15000000.00</td>\n",
       "      <td>25.00</td>\n",
       "      <td>2018-07-25</td>\n",
       "      <td>1.00</td>\n",
       "      <td>100.00</td>\n",
       "      <td>5</td>\n",
       "      <td>14.00</td>\n",
       "      <td>5</td>\n",
       "      <td>True</td>\n",
       "      <td>...</td>\n",
       "      <td>30.00</td>\n",
       "      <td>19</td>\n",
       "      <td>Санкт-Петербург</td>\n",
       "      <td>1.76</td>\n",
       "      <td>600000.00</td>\n",
       "      <td>2</td>\n",
       "      <td>7</td>\n",
       "      <td>2018</td>\n",
       "      <td>последний</td>\n",
       "      <td>8.00</td>\n",
       "    </tr>\n",
       "    <tr>\n",
       "      <th>3148</th>\n",
       "      <td>14</td>\n",
       "      <td>2900000.00</td>\n",
       "      <td>75.00</td>\n",
       "      <td>2018-11-12</td>\n",
       "      <td>3.00</td>\n",
       "      <td>32.00</td>\n",
       "      <td>3</td>\n",
       "      <td>53.00</td>\n",
       "      <td>2</td>\n",
       "      <td>True</td>\n",
       "      <td>...</td>\n",
       "      <td>NaN</td>\n",
       "      <td>&lt;NA&gt;</td>\n",
       "      <td>Волхов</td>\n",
       "      <td>1.58</td>\n",
       "      <td>38666.67</td>\n",
       "      <td>0</td>\n",
       "      <td>11</td>\n",
       "      <td>2018</td>\n",
       "      <td>другой</td>\n",
       "      <td>NaN</td>\n",
       "    </tr>\n",
       "    <tr>\n",
       "      <th>22336</th>\n",
       "      <td>19</td>\n",
       "      <td>9999000.00</td>\n",
       "      <td>92.40</td>\n",
       "      <td>2019-04-05</td>\n",
       "      <td>2.00</td>\n",
       "      <td>32.00</td>\n",
       "      <td>6</td>\n",
       "      <td>55.50</td>\n",
       "      <td>5</td>\n",
       "      <td>False</td>\n",
       "      <td>...</td>\n",
       "      <td>511.00</td>\n",
       "      <td>&lt;NA&gt;</td>\n",
       "      <td>Санкт-Петербург</td>\n",
       "      <td>1.76</td>\n",
       "      <td>108214.29</td>\n",
       "      <td>4</td>\n",
       "      <td>4</td>\n",
       "      <td>2019</td>\n",
       "      <td>другой</td>\n",
       "      <td>4.00</td>\n",
       "    </tr>\n",
       "    <tr>\n",
       "      <th>21377</th>\n",
       "      <td>19</td>\n",
       "      <td>4900000.00</td>\n",
       "      <td>42.00</td>\n",
       "      <td>2017-04-18</td>\n",
       "      <td>1.00</td>\n",
       "      <td>27.50</td>\n",
       "      <td>24</td>\n",
       "      <td>37.70</td>\n",
       "      <td>19</td>\n",
       "      <td>False</td>\n",
       "      <td>...</td>\n",
       "      <td>NaN</td>\n",
       "      <td>61</td>\n",
       "      <td>Санкт-Петербург</td>\n",
       "      <td>1.76</td>\n",
       "      <td>116666.67</td>\n",
       "      <td>1</td>\n",
       "      <td>4</td>\n",
       "      <td>2017</td>\n",
       "      <td>другой</td>\n",
       "      <td>10.00</td>\n",
       "    </tr>\n",
       "    <tr>\n",
       "      <th>22938</th>\n",
       "      <td>14</td>\n",
       "      <td>4000000.00</td>\n",
       "      <td>98.00</td>\n",
       "      <td>2018-03-15</td>\n",
       "      <td>4.00</td>\n",
       "      <td>27.00</td>\n",
       "      <td>2</td>\n",
       "      <td>73.00</td>\n",
       "      <td>2</td>\n",
       "      <td>True</td>\n",
       "      <td>...</td>\n",
       "      <td>NaN</td>\n",
       "      <td>27</td>\n",
       "      <td>деревня Нижняя</td>\n",
       "      <td>1.34</td>\n",
       "      <td>40816.33</td>\n",
       "      <td>3</td>\n",
       "      <td>3</td>\n",
       "      <td>2018</td>\n",
       "      <td>последний</td>\n",
       "      <td>NaN</td>\n",
       "    </tr>\n",
       "  </tbody>\n",
       "</table>\n",
       "<p>5 rows × 30 columns</p>\n",
       "</div>"
      ],
      "text/plain": [
       "       total_images  last_price  total_area first_day_exposition  rooms  \\\n",
       "22869             0 15000000.00       25.00           2018-07-25   1.00   \n",
       "3148             14  2900000.00       75.00           2018-11-12   3.00   \n",
       "22336            19  9999000.00       92.40           2019-04-05   2.00   \n",
       "21377            19  4900000.00       42.00           2017-04-18   1.00   \n",
       "22938            14  4000000.00       98.00           2018-03-15   4.00   \n",
       "\n",
       "       ceiling_height  floors_total  living_area  floor  is_apartment  ...  \\\n",
       "22869          100.00             5        14.00      5          True  ...   \n",
       "3148            32.00             3        53.00      2          True  ...   \n",
       "22336           32.00             6        55.50      5         False  ...   \n",
       "21377           27.50            24        37.70     19         False  ...   \n",
       "22938           27.00             2        73.00      2          True  ...   \n",
       "\n",
       "       ponds_nearest  days_exposition  locality_name_dupless  \\\n",
       "22869          30.00               19        Санкт-Петербург   \n",
       "3148             NaN             <NA>                 Волхов   \n",
       "22336         511.00             <NA>        Санкт-Петербург   \n",
       "21377            NaN               61        Санкт-Петербург   \n",
       "22938            NaN               27         деревня Нижняя   \n",
       "\n",
       "       ratio_area_living price_meter  day_public  month_public  year_public  \\\n",
       "22869               1.76   600000.00           2             7         2018   \n",
       "3148                1.58    38666.67           0            11         2018   \n",
       "22336               1.76   108214.29           4             4         2019   \n",
       "21377               1.76   116666.67           1             4         2017   \n",
       "22938               1.34    40816.33           3             3         2018   \n",
       "\n",
       "       floor_type  cityCenters_km  \n",
       "22869   последний            8.00  \n",
       "3148       другой             NaN  \n",
       "22336      другой            4.00  \n",
       "21377      другой           10.00  \n",
       "22938   последний             NaN  \n",
       "\n",
       "[5 rows x 30 columns]"
      ]
     },
     "metadata": {},
     "output_type": "display_data"
    }
   ],
   "source": [
    "# запись в переменную `data_filtered` датафрейма c `ceiling_height` >= 10\n",
    "data_filtered = data.query('ceiling_height >= 10')\n",
    "\n",
    "# вывод 5-ти строк отсортированного датафрейма в переменной`data_filtered`\n",
    "display(\n",
    "    data_filtered\n",
    "    .sort_values(by='ceiling_height', ascending=False)\n",
    "    .head()\n",
    ")"
   ]
  },
  {
   "cell_type": "markdown",
   "id": "48918a61-79d7-4c32-b28d-8330af835fac",
   "metadata": {},
   "source": [
    "Вероятно двузначные и трехзначное значения высоты потолков - ошибка при вводе информации. Запишем новые значения, разделив текущие на 10"
   ]
  },
  {
   "cell_type": "code",
   "execution_count": 51,
   "id": "80e0fc63-196a-463e-9057-680a05650532",
   "metadata": {},
   "outputs": [],
   "source": [
    "# деление на 10 и перезапись отфильтрованных значений высоты потолка в столбце `ceiling_height`\n",
    "data.loc[data_filtered.index, 'ceiling_height'] /= 10"
   ]
  },
  {
   "cell_type": "markdown",
   "id": "9c094df8",
   "metadata": {},
   "source": [
    "<p>\n",
    "<div class=\"alert-success\">\n",
    "<b>Комментарий ревьюера ✔️</b>\n",
    "\n",
    "    \n",
    "👍</div>"
   ]
  },
  {
   "cell_type": "markdown",
   "id": "8cc87870-c410-49d5-88b1-4b0a90c90f9e",
   "metadata": {},
   "source": [
    "Прверим квартиры с высотой потолков менее 2 метров."
   ]
  },
  {
   "cell_type": "code",
   "execution_count": 52,
   "id": "f9a83292-d65e-4cf8-90a7-4d00961d8711",
   "metadata": {},
   "outputs": [
    {
     "data": {
      "text/html": [
       "<div>\n",
       "<style scoped>\n",
       "    .dataframe tbody tr th:only-of-type {\n",
       "        vertical-align: middle;\n",
       "    }\n",
       "\n",
       "    .dataframe tbody tr th {\n",
       "        vertical-align: top;\n",
       "    }\n",
       "\n",
       "    .dataframe thead th {\n",
       "        text-align: right;\n",
       "    }\n",
       "</style>\n",
       "<table border=\"1\" class=\"dataframe\">\n",
       "  <thead>\n",
       "    <tr style=\"text-align: right;\">\n",
       "      <th></th>\n",
       "      <th>total_images</th>\n",
       "      <th>last_price</th>\n",
       "      <th>total_area</th>\n",
       "      <th>first_day_exposition</th>\n",
       "      <th>rooms</th>\n",
       "      <th>ceiling_height</th>\n",
       "      <th>floors_total</th>\n",
       "      <th>living_area</th>\n",
       "      <th>floor</th>\n",
       "      <th>is_apartment</th>\n",
       "      <th>...</th>\n",
       "      <th>ponds_nearest</th>\n",
       "      <th>days_exposition</th>\n",
       "      <th>locality_name_dupless</th>\n",
       "      <th>ratio_area_living</th>\n",
       "      <th>price_meter</th>\n",
       "      <th>day_public</th>\n",
       "      <th>month_public</th>\n",
       "      <th>year_public</th>\n",
       "      <th>floor_type</th>\n",
       "      <th>cityCenters_km</th>\n",
       "    </tr>\n",
       "  </thead>\n",
       "  <tbody>\n",
       "    <tr>\n",
       "      <th>22590</th>\n",
       "      <td>16</td>\n",
       "      <td>6000000.00</td>\n",
       "      <td>55.00</td>\n",
       "      <td>2018-10-31</td>\n",
       "      <td>2.00</td>\n",
       "      <td>1.00</td>\n",
       "      <td>12</td>\n",
       "      <td>32.40</td>\n",
       "      <td>7</td>\n",
       "      <td>True</td>\n",
       "      <td>...</td>\n",
       "      <td>289.00</td>\n",
       "      <td>13</td>\n",
       "      <td>Санкт-Петербург</td>\n",
       "      <td>1.76</td>\n",
       "      <td>109090.91</td>\n",
       "      <td>2</td>\n",
       "      <td>10</td>\n",
       "      <td>2018</td>\n",
       "      <td>другой</td>\n",
       "      <td>14.00</td>\n",
       "    </tr>\n",
       "    <tr>\n",
       "      <th>22309</th>\n",
       "      <td>20</td>\n",
       "      <td>5300000.00</td>\n",
       "      <td>45.00</td>\n",
       "      <td>2017-09-30</td>\n",
       "      <td>1.00</td>\n",
       "      <td>1.03</td>\n",
       "      <td>16</td>\n",
       "      <td>15.50</td>\n",
       "      <td>15</td>\n",
       "      <td>True</td>\n",
       "      <td>...</td>\n",
       "      <td>450.00</td>\n",
       "      <td>136</td>\n",
       "      <td>Санкт-Петербург</td>\n",
       "      <td>1.76</td>\n",
       "      <td>117777.78</td>\n",
       "      <td>5</td>\n",
       "      <td>9</td>\n",
       "      <td>2017</td>\n",
       "      <td>другой</td>\n",
       "      <td>12.00</td>\n",
       "    </tr>\n",
       "    <tr>\n",
       "      <th>5712</th>\n",
       "      <td>5</td>\n",
       "      <td>1500000.00</td>\n",
       "      <td>42.80</td>\n",
       "      <td>2017-08-14</td>\n",
       "      <td>2.00</td>\n",
       "      <td>1.20</td>\n",
       "      <td>2</td>\n",
       "      <td>27.50</td>\n",
       "      <td>1</td>\n",
       "      <td>True</td>\n",
       "      <td>...</td>\n",
       "      <td>NaN</td>\n",
       "      <td>248</td>\n",
       "      <td>поселок Мга</td>\n",
       "      <td>1.50</td>\n",
       "      <td>35046.73</td>\n",
       "      <td>0</td>\n",
       "      <td>8</td>\n",
       "      <td>2017</td>\n",
       "      <td>первый</td>\n",
       "      <td>NaN</td>\n",
       "    </tr>\n",
       "    <tr>\n",
       "      <th>15061</th>\n",
       "      <td>19</td>\n",
       "      <td>5600000.00</td>\n",
       "      <td>56.40</td>\n",
       "      <td>2018-05-11</td>\n",
       "      <td>2.00</td>\n",
       "      <td>1.40</td>\n",
       "      <td>14</td>\n",
       "      <td>32.40</td>\n",
       "      <td>5</td>\n",
       "      <td>True</td>\n",
       "      <td>...</td>\n",
       "      <td>NaN</td>\n",
       "      <td>315</td>\n",
       "      <td>Санкт-Петербург</td>\n",
       "      <td>1.76</td>\n",
       "      <td>99290.78</td>\n",
       "      <td>4</td>\n",
       "      <td>5</td>\n",
       "      <td>2018</td>\n",
       "      <td>другой</td>\n",
       "      <td>14.00</td>\n",
       "    </tr>\n",
       "    <tr>\n",
       "      <th>16934</th>\n",
       "      <td>5</td>\n",
       "      <td>4100000.00</td>\n",
       "      <td>40.00</td>\n",
       "      <td>2017-10-17</td>\n",
       "      <td>1.00</td>\n",
       "      <td>1.75</td>\n",
       "      <td>37</td>\n",
       "      <td>17.40</td>\n",
       "      <td>5</td>\n",
       "      <td>True</td>\n",
       "      <td>...</td>\n",
       "      <td>80.00</td>\n",
       "      <td>71</td>\n",
       "      <td>Санкт-Петербург</td>\n",
       "      <td>1.76</td>\n",
       "      <td>102500.00</td>\n",
       "      <td>1</td>\n",
       "      <td>10</td>\n",
       "      <td>2017</td>\n",
       "      <td>другой</td>\n",
       "      <td>20.00</td>\n",
       "    </tr>\n",
       "  </tbody>\n",
       "</table>\n",
       "<p>5 rows × 30 columns</p>\n",
       "</div>"
      ],
      "text/plain": [
       "       total_images  last_price  total_area first_day_exposition  rooms  \\\n",
       "22590            16  6000000.00       55.00           2018-10-31   2.00   \n",
       "22309            20  5300000.00       45.00           2017-09-30   1.00   \n",
       "5712              5  1500000.00       42.80           2017-08-14   2.00   \n",
       "15061            19  5600000.00       56.40           2018-05-11   2.00   \n",
       "16934             5  4100000.00       40.00           2017-10-17   1.00   \n",
       "\n",
       "       ceiling_height  floors_total  living_area  floor  is_apartment  ...  \\\n",
       "22590            1.00            12        32.40      7          True  ...   \n",
       "22309            1.03            16        15.50     15          True  ...   \n",
       "5712             1.20             2        27.50      1          True  ...   \n",
       "15061            1.40            14        32.40      5          True  ...   \n",
       "16934            1.75            37        17.40      5          True  ...   \n",
       "\n",
       "       ponds_nearest  days_exposition  locality_name_dupless  \\\n",
       "22590         289.00               13        Санкт-Петербург   \n",
       "22309         450.00              136        Санкт-Петербург   \n",
       "5712             NaN              248            поселок Мга   \n",
       "15061            NaN              315        Санкт-Петербург   \n",
       "16934          80.00               71        Санкт-Петербург   \n",
       "\n",
       "       ratio_area_living price_meter  day_public  month_public  year_public  \\\n",
       "22590               1.76   109090.91           2            10         2018   \n",
       "22309               1.76   117777.78           5             9         2017   \n",
       "5712                1.50    35046.73           0             8         2017   \n",
       "15061               1.76    99290.78           4             5         2018   \n",
       "16934               1.76   102500.00           1            10         2017   \n",
       "\n",
       "       floor_type  cityCenters_km  \n",
       "22590      другой           14.00  \n",
       "22309      другой           12.00  \n",
       "5712       первый             NaN  \n",
       "15061      другой           14.00  \n",
       "16934      другой           20.00  \n",
       "\n",
       "[5 rows x 30 columns]"
      ]
     },
     "metadata": {},
     "output_type": "display_data"
    }
   ],
   "source": [
    "# запись в переменную `data_filtered` датафрейма c `ceiling_height` < 2\n",
    "data_filtered = data.query('ceiling_height < 2')\n",
    "\n",
    "# вывод 5-ти строк отсортированного датафрейма в переменной`data_filtered`\n",
    "display(\n",
    "    data_filtered\n",
    "    .sort_values(by='ceiling_height')\n",
    "    .head()\n",
    ")"
   ]
  },
  {
   "cell_type": "markdown",
   "id": "3a7a1ee8-f295-4fcf-927a-1e9e556a2a2e",
   "metadata": {},
   "source": [
    "Исправим высоту потолков менее 2 метров медианными значениями высоты потолков в каждом населенном пункте"
   ]
  },
  {
   "cell_type": "code",
   "execution_count": 53,
   "id": "54b19a79-ad25-4400-8097-0d2818c73add",
   "metadata": {
    "id": "61946b83",
    "slideshow": {
     "slide_type": ""
    },
    "tags": []
   },
   "outputs": [],
   "source": [
    "# запись в переменную `data_filtered` датафрейма с высотой потолка < 2 м\n",
    "data_filtered = data.query('ceiling_height < 2')\n",
    "\n",
    "# исправление значений в столбце ceiling_height медианными значениями из столбца `locality_name_dupless`\n",
    "data.loc[data_filtered.index, 'ceiling_height'] = \\\n",
    "(\n",
    "    data\n",
    "    .groupby('locality_name_dupless')['ceiling_height']\n",
    "    .transform('median')\n",
    ")"
   ]
  },
  {
   "cell_type": "markdown",
   "id": "2d5337ea-7e8b-4d3f-8786-ae75c78431ce",
   "metadata": {
    "slideshow": {
     "slide_type": ""
    },
    "tags": []
   },
   "source": [
    "Покажем на гистограмме распределение квартир по высоте потолков"
   ]
  },
  {
   "cell_type": "code",
   "execution_count": 54,
   "id": "200691dc-4df1-405f-867e-256488a9ab6a",
   "metadata": {
    "slideshow": {
     "slide_type": ""
    },
    "tags": []
   },
   "outputs": [
    {
     "data": {
      "image/png": "[encoded data removed]",
      "text/plain": [
       "<Figure size 648x360 with 1 Axes>"
      ]
     },
     "metadata": {
      "needs_background": "light"
     },
     "output_type": "display_data"
    }
   ],
   "source": [
    "# описание данных в `ceiling_height` с помощью гистограммы \n",
    "data.plot(\n",
    "    kind='hist',\n",
    "    y='ceiling_height',\n",
    "    bins=30,\n",
    "    ylabel='Количество',\n",
    "    xlabel='Высота потолка',\n",
    "    grid=True,\n",
    "    legend=False,\n",
    "    figsize=(9,5),\n",
    "    range=(2, 5),\n",
    "    title='Распределение квартир по высоте потолков'\n",
    ")\n",
    "plt.show()"
   ]
  },
  {
   "cell_type": "markdown",
   "id": "4853fe03-dba7-4b7b-b279-2f1109d035d2",
   "metadata": {
    "id": "c389ca63"
   },
   "source": [
    "<div style=\"border:solid gray 1px; padding: 20px\">\n",
    "\n",
    "**Выводы:** \n",
    "1. У 75% квартир высота потолков 2,7 метра.\n",
    "2. Ошибочные значения высоты потолков исправлены  "
   ]
  },
  {
   "cell_type": "markdown",
   "id": "8365f4b3",
   "metadata": {},
   "source": [
    "<p>\n",
    "<div class=\"alert-success\">\n",
    "<b>Комментарий ревьюера ✔️</b>\n",
    "\n",
    "    \n",
    "👍</div>"
   ]
  },
  {
   "cell_type": "markdown",
   "id": "824e3d90-a093-4c1b-b63f-e4caf3c57ea5",
   "metadata": {},
   "source": [
    "#### Тип этажа квартиры\n",
    "\n",
    "Проанализируем значения типов этажа из столбца `floor_type`."
   ]
  },
  {
   "cell_type": "code",
   "execution_count": 55,
   "id": "d3ff643a-df62-4294-99b4-1a47188c2bb0",
   "metadata": {},
   "outputs": [
    {
     "data": {
      "text/plain": [
       "другой       17360\n",
       "последний     3444\n",
       "первый        2888\n",
       "Name: floor_type, dtype: int64"
      ]
     },
     "execution_count": 55,
     "metadata": {},
     "output_type": "execute_result"
    }
   ],
   "source": [
    "# количество квартир по типам  в `floor_type`\n",
    "data['floor_type'].value_counts()"
   ]
  },
  {
   "cell_type": "code",
   "execution_count": 56,
   "id": "c1660391-2f7d-4b88-904f-a71da5d32015",
   "metadata": {},
   "outputs": [
    {
     "data": {
      "text/plain": [
       "другой       73.27%\n",
       "последний    14.54%\n",
       "первый       12.19%\n",
       "Name: floor_type, dtype: object"
      ]
     },
     "execution_count": 56,
     "metadata": {},
     "output_type": "execute_result"
    }
   ],
   "source": [
    "# доля каждого типа в `floor_type`\n",
    "(\n",
    "    data[\"floor_type\"]\n",
    "    .value_counts(normalize=True)\n",
    "    .apply(lambda x: f\"{x:.2%}\")\n",
    ")"
   ]
  },
  {
   "cell_type": "markdown",
   "id": "efbe3929-ff51-4114-b1b1-ab77b14a56c1",
   "metadata": {
    "slideshow": {
     "slide_type": ""
    },
    "tags": []
   },
   "source": [
    "Покажем на круговой диаграмме распределение квартир по типу этажа"
   ]
  },
  {
   "cell_type": "code",
   "execution_count": 57,
   "id": "b807512d-c67f-4add-92a5-a5d94c5b6cec",
   "metadata": {
    "slideshow": {
     "slide_type": ""
    },
    "tags": []
   },
   "outputs": [
    {
     "data": {
      "image/png": "[encoded data removed]",
      "text/plain": [
       "<Figure size 648x360 with 1 Axes>"
      ]
     },
     "metadata": {},
     "output_type": "display_data"
    }
   ],
   "source": [
    "# описание данных в `floor_type` с помощью круговой диаграммы \n",
    "(\n",
    "    data['floor_type']\n",
    "    .value_counts()\n",
    "    .plot(\n",
    "        kind='pie',\n",
    "        grid=True,\n",
    "        legend=True,\n",
    "        figsize=(9,5),title='Распределение квартир по типу этажа')\n",
    ")\n",
    "plt.axis('equal')\n",
    "plt.axis('off')  \n",
    "plt.show()"
   ]
  },
  {
   "cell_type": "markdown",
   "id": "d3502c31-b613-47ca-a824-19cb74a83d43",
   "metadata": {
    "id": "c389ca63"
   },
   "source": [
    "<div style=\"border:solid gray 1px; padding: 20px\">\n",
    "\n",
    "**Выводы:** \n",
    "1. 73% квартир находится между первым и последним этажами.\n",
    "2. Количество квартир на первом и последнем этажах примерно одинаковое."
   ]
  },
  {
   "cell_type": "markdown",
   "id": "abed7f18",
   "metadata": {},
   "source": [
    "<p>\n",
    "<div class=\"alert-success\">\n",
    "<b>Комментарий ревьюера ✔️</b>\n",
    "\n",
    "    \n",
    "👍</div>"
   ]
  },
  {
   "cell_type": "markdown",
   "id": "75870434-820a-4cbe-90d6-eda424344e4e",
   "metadata": {},
   "source": [
    "#### Общее количество этажей в доме\n",
    "\n",
    "Проанализируем этажность домов из столбца `floors_total`."
   ]
  },
  {
   "cell_type": "code",
   "execution_count": 58,
   "id": "305af6d0-abbc-430c-8a85-f036043ac047",
   "metadata": {},
   "outputs": [
    {
     "data": {
      "text/plain": [
       "count   23692.00\n",
       "mean       10.67\n",
       "std         6.60\n",
       "min         1.00\n",
       "25%         5.00\n",
       "50%         9.00\n",
       "75%        16.00\n",
       "max        60.00\n",
       "Name: floors_total, dtype: float64"
      ]
     },
     "execution_count": 58,
     "metadata": {},
     "output_type": "execute_result"
    }
   ],
   "source": [
    "# числовое описание данных в `floors_total`\n",
    "data['floors_total'].describe()"
   ]
  },
  {
   "cell_type": "markdown",
   "id": "ef58e036-0d7c-4b1d-860f-079c1557a31e",
   "metadata": {
    "slideshow": {
     "slide_type": ""
    },
    "tags": []
   },
   "source": [
    "Проверим максимальную этажность дома. Например, выведем строки с этажностью более 40."
   ]
  },
  {
   "cell_type": "code",
   "execution_count": 59,
   "id": "7225244b-9730-4eb1-bfe3-4d11b0f0a550",
   "metadata": {},
   "outputs": [
    {
     "data": {
      "text/html": [
       "<div>\n",
       "<style scoped>\n",
       "    .dataframe tbody tr th:only-of-type {\n",
       "        vertical-align: middle;\n",
       "    }\n",
       "\n",
       "    .dataframe tbody tr th {\n",
       "        vertical-align: top;\n",
       "    }\n",
       "\n",
       "    .dataframe thead th {\n",
       "        text-align: right;\n",
       "    }\n",
       "</style>\n",
       "<table border=\"1\" class=\"dataframe\">\n",
       "  <thead>\n",
       "    <tr style=\"text-align: right;\">\n",
       "      <th></th>\n",
       "      <th>total_images</th>\n",
       "      <th>last_price</th>\n",
       "      <th>total_area</th>\n",
       "      <th>first_day_exposition</th>\n",
       "      <th>rooms</th>\n",
       "      <th>ceiling_height</th>\n",
       "      <th>floors_total</th>\n",
       "      <th>living_area</th>\n",
       "      <th>floor</th>\n",
       "      <th>is_apartment</th>\n",
       "      <th>...</th>\n",
       "      <th>ponds_nearest</th>\n",
       "      <th>days_exposition</th>\n",
       "      <th>locality_name_dupless</th>\n",
       "      <th>ratio_area_living</th>\n",
       "      <th>price_meter</th>\n",
       "      <th>day_public</th>\n",
       "      <th>month_public</th>\n",
       "      <th>year_public</th>\n",
       "      <th>floor_type</th>\n",
       "      <th>cityCenters_km</th>\n",
       "    </tr>\n",
       "  </thead>\n",
       "  <tbody>\n",
       "    <tr>\n",
       "      <th>2253</th>\n",
       "      <td>12</td>\n",
       "      <td>3800000.00</td>\n",
       "      <td>45.50</td>\n",
       "      <td>2018-06-28</td>\n",
       "      <td>2.00</td>\n",
       "      <td>2.88</td>\n",
       "      <td>60</td>\n",
       "      <td>27.40</td>\n",
       "      <td>4</td>\n",
       "      <td>True</td>\n",
       "      <td>...</td>\n",
       "      <td>614.00</td>\n",
       "      <td>166</td>\n",
       "      <td>Кронштадт</td>\n",
       "      <td>1.65</td>\n",
       "      <td>83516.48</td>\n",
       "      <td>3</td>\n",
       "      <td>6</td>\n",
       "      <td>2018</td>\n",
       "      <td>другой</td>\n",
       "      <td>49.00</td>\n",
       "    </tr>\n",
       "    <tr>\n",
       "      <th>16731</th>\n",
       "      <td>9</td>\n",
       "      <td>3978000.00</td>\n",
       "      <td>40.00</td>\n",
       "      <td>2018-09-24</td>\n",
       "      <td>1.00</td>\n",
       "      <td>2.65</td>\n",
       "      <td>52</td>\n",
       "      <td>10.50</td>\n",
       "      <td>18</td>\n",
       "      <td>True</td>\n",
       "      <td>...</td>\n",
       "      <td>NaN</td>\n",
       "      <td>45</td>\n",
       "      <td>Санкт-Петербург</td>\n",
       "      <td>1.76</td>\n",
       "      <td>99450.00</td>\n",
       "      <td>0</td>\n",
       "      <td>9</td>\n",
       "      <td>2018</td>\n",
       "      <td>другой</td>\n",
       "      <td>13.00</td>\n",
       "    </tr>\n",
       "  </tbody>\n",
       "</table>\n",
       "<p>2 rows × 30 columns</p>\n",
       "</div>"
      ],
      "text/plain": [
       "       total_images  last_price  total_area first_day_exposition  rooms  \\\n",
       "2253             12  3800000.00       45.50           2018-06-28   2.00   \n",
       "16731             9  3978000.00       40.00           2018-09-24   1.00   \n",
       "\n",
       "       ceiling_height  floors_total  living_area  floor  is_apartment  ...  \\\n",
       "2253             2.88            60        27.40      4          True  ...   \n",
       "16731            2.65            52        10.50     18          True  ...   \n",
       "\n",
       "       ponds_nearest  days_exposition  locality_name_dupless  \\\n",
       "2253          614.00              166              Кронштадт   \n",
       "16731            NaN               45        Санкт-Петербург   \n",
       "\n",
       "       ratio_area_living price_meter  day_public  month_public  year_public  \\\n",
       "2253                1.65    83516.48           3             6         2018   \n",
       "16731               1.76    99450.00           0             9         2018   \n",
       "\n",
       "       floor_type  cityCenters_km  \n",
       "2253       другой           49.00  \n",
       "16731      другой           13.00  \n",
       "\n",
       "[2 rows x 30 columns]"
      ]
     },
     "metadata": {},
     "output_type": "display_data"
    }
   ],
   "source": [
    "# запись в переменную `data_filtered` датафрейма c `floors_total` > 40\n",
    "data_filtered = data.query('floors_total > 40')\n",
    "\n",
    "# вывод отсортированного датафрейма в переменной`data_filtered`\n",
    "display(data_filtered)"
   ]
  },
  {
   "cell_type": "markdown",
   "id": "fab5d9cd-9945-4b24-980a-4c19f5a49ed7",
   "metadata": {
    "slideshow": {
     "slide_type": ""
    },
    "tags": []
   },
   "source": [
    "Удалим строки с редкими и выбивающиеся значениями этажности **более 40**."
   ]
  },
  {
   "cell_type": "code",
   "execution_count": 60,
   "id": "c699dac7-24f7-40a8-b4e4-f2c6bedebdb0",
   "metadata": {},
   "outputs": [],
   "source": [
    "# удаление строк в которых `floors_total` > 40\n",
    "data.drop(data_filtered.index, inplace=True)"
   ]
  },
  {
   "cell_type": "markdown",
   "id": "01251281-b4bd-412e-a743-317c4e71794b",
   "metadata": {
    "slideshow": {
     "slide_type": ""
    },
    "tags": []
   },
   "source": [
    "Покажем на гистограмме распределение квартир по этажности дома"
   ]
  },
  {
   "cell_type": "code",
   "execution_count": 61,
   "id": "faa3f506-936d-477e-b4c5-cad7f530d5b0",
   "metadata": {},
   "outputs": [
    {
     "data": {
      "image/png": "[encoded data removed]",
      "text/plain": [
       "<Figure size 648x360 with 1 Axes>"
      ]
     },
     "metadata": {
      "needs_background": "light"
     },
     "output_type": "display_data"
    }
   ],
   "source": [
    "# описание данных в `floor_type` с помощью гистограммы \n",
    "data.plot(\n",
    "    kind='hist',\n",
    "    y='floors_total',\n",
    "    bins=20,\n",
    "    ylabel='Количество',\n",
    "    xlabel='Этажность дома',\n",
    "    grid=True,\n",
    "    legend=False,\n",
    "    figsize=(9,5),\n",
    "    range=(1, 40),\n",
    "    title='Распределение квартир по этажности дома'\n",
    ") \n",
    "plt.show()"
   ]
  },
  {
   "cell_type": "markdown",
   "id": "63b68652-f2e2-4c35-8d8a-2acc09327eb9",
   "metadata": {
    "id": "c389ca63"
   },
   "source": [
    "<div style=\"border:solid gray 1px; padding: 20px\">\n",
    "\n",
    "**Выводы:** \n",
    "1. Преобладают квартиры в 5-ти этажных и 9-ти этажных домах.\n",
    "2. Исключены квартиры с выбивающиеся значениями этажности более 40 "
   ]
  },
  {
   "cell_type": "markdown",
   "id": "9afbd3ee",
   "metadata": {},
   "source": [
    "<p>\n",
    "<div class=\"alert-success\">\n",
    "<b>Комментарий ревьюера ✔️</b>\n",
    "\n",
    "    \n",
    "👍</div>"
   ]
  },
  {
   "cell_type": "markdown",
   "id": "a9432cb2-6aa6-400e-a60e-9d087b28a56f",
   "metadata": {},
   "source": [
    "#### Расстояние до центра города в метрах\n",
    "\n",
    "Проанализируем значения из столбца `cityCenters_nearest`."
   ]
  },
  {
   "cell_type": "code",
   "execution_count": 62,
   "id": "512c1c28-3fd9-473d-b711-410e6395b2e6",
   "metadata": {},
   "outputs": [
    {
     "data": {
      "text/markdown": [
       "Доля пропущенных значений в расстоянии до центра города: **23.29%**"
      ],
      "text/plain": [
       "<IPython.core.display.Markdown object>"
      ]
     },
     "metadata": {},
     "output_type": "display_data"
    }
   ],
   "source": [
    "# расчет доли пропущенных значений в столбце `cityCenters_nearest`\n",
    "display(\n",
    "    Markdown(\n",
    "    f'Доля пропущенных значений в расстоянии до центра города: '\n",
    "    f'**{data[\"cityCenters_nearest\"].isna().sum() / len(data[\"cityCenters_nearest\"]):.2%}**')\n",
    ")"
   ]
  },
  {
   "cell_type": "code",
   "execution_count": 63,
   "id": "2f3f05cd-d20f-433a-93f6-35707c9dd8f1",
   "metadata": {},
   "outputs": [
    {
     "data": {
      "text/plain": [
       "count   18172.00\n",
       "mean    14190.93\n",
       "std      8605.72\n",
       "min       181.00\n",
       "25%      9238.00\n",
       "50%     13101.00\n",
       "75%     16293.00\n",
       "max     65968.00\n",
       "Name: cityCenters_nearest, dtype: float64"
      ]
     },
     "execution_count": 63,
     "metadata": {},
     "output_type": "execute_result"
    }
   ],
   "source": [
    "# числовое описание данных в `floors_total`\n",
    "data['cityCenters_nearest'].describe()"
   ]
  },
  {
   "cell_type": "markdown",
   "id": "92de1afa-ad99-4c65-b205-e19abce2a47c",
   "metadata": {
    "slideshow": {
     "slide_type": ""
    },
    "tags": []
   },
   "source": [
    "Ранее мы рассчитывали и округляли удаленность квартиры от центра в километрах. И для дальнейшего анализа нам нужны квартиры с удаленностью **от 1 км**. Проверим, есть ли квартиры с меньшей удаленностью."
   ]
  },
  {
   "cell_type": "code",
   "execution_count": 64,
   "id": "63ef3bef-d747-44bf-8fb3-4530e657605a",
   "metadata": {},
   "outputs": [
    {
     "data": {
      "text/markdown": [
       "**27** квартир с удаленностью от центра менее 1 км"
      ],
      "text/plain": [
       "<IPython.core.display.Markdown object>"
      ]
     },
     "metadata": {},
     "output_type": "display_data"
    }
   ],
   "source": [
    "# запись в переменную `data_filtered` датафрейма c `cityCenters_km` < 1\n",
    "data_filtered = data.query(\"cityCenters_km < 1\")\n",
    "\n",
    "# вывод количество строк с `cityCenters_km` < 1\n",
    "display(Markdown(\n",
    "    f'**{data_filtered[\"cityCenters_km\"].count()}**'\n",
    "    f' квартир с удаленностью от центра менее 1 км')\n",
    ")"
   ]
  },
  {
   "cell_type": "markdown",
   "id": "06a99bab-db6f-40cc-a65d-f2ef3a71c5f0",
   "metadata": {
    "slideshow": {
     "slide_type": ""
    },
    "tags": []
   },
   "source": [
    "Исправим удаленнсть от центра таких квартир:\n",
    "- в метрах на 500\n",
    "- в километрах на 1"
   ]
  },
  {
   "cell_type": "code",
   "execution_count": 65,
   "id": "27521b84-7d0e-47b2-8486-0a600ba4e78f",
   "metadata": {},
   "outputs": [],
   "source": [
    "# перезапись значений столбца `cityCenters_nearest` в строках где `cityCenters_km` < 1 км\n",
    "data.loc[data_filtered.index, 'cityCenters_nearest'] = 500\n",
    "\n",
    "# перезапись значений столбца `cityCenters_km` в строках где `cityCenters_km` < 1 км\n",
    "data.loc[data_filtered.index, 'cityCenters_km'] = 1"
   ]
  },
  {
   "cell_type": "markdown",
   "id": "a01ba847-0e1e-4cd8-9fac-87dcec02c9d3",
   "metadata": {
    "slideshow": {
     "slide_type": ""
    },
    "tags": []
   },
   "source": [
    "Покажем на гистограмме распределение квартир по удаленности от центра в метрах"
   ]
  },
  {
   "cell_type": "code",
   "execution_count": 66,
   "id": "6897f0e5-03c0-490a-ab3f-acaa8249f438",
   "metadata": {},
   "outputs": [
    {
     "data": {
      "image/png": "[encoded data removed]",
      "text/plain": [
       "<Figure size 648x360 with 1 Axes>"
      ]
     },
     "metadata": {
      "needs_background": "light"
     },
     "output_type": "display_data"
    }
   ],
   "source": [
    "# описание данных в `cityCenters_nearest` с помощью гистограммы \n",
    "data.plot(\n",
    "    kind='hist',\n",
    "    y='cityCenters_nearest',\n",
    "    bins=30,\n",
    "    ylabel='Количество',\n",
    "    xlabel='Удаленность от центра, м',\n",
    "    grid=True,\n",
    "    legend=False,\n",
    "    figsize=(9,5),\n",
    "    range=(500, 65000),\n",
    "    title='Распределение квартир по удаленности от центра'\n",
    ") \n",
    "plt.show()"
   ]
  },
  {
   "cell_type": "markdown",
   "id": "4b62f7c0-b4ab-4f45-9697-222da7c2c4c7",
   "metadata": {
    "id": "c389ca63"
   },
   "source": [
    "<div style=\"border:solid gray 1px; padding: 20px\">\n",
    "\n",
    "**Выводы:** \n",
    "1. 75% квартир находятся в радиусе 16293 м от центра города\n",
    "2. У квартир, удаленных от центра менее 500 м:\n",
    "   - исправлена удаленность в метрах на 500\n",
    "   - исправлена удаленность в километрах на 1\n",
    "4. 23.29% пропущенных значений могут повлиять на результаты исследования"
   ]
  },
  {
   "cell_type": "markdown",
   "id": "70a01eb7",
   "metadata": {},
   "source": [
    "<p>\n",
    "<div class=\"alert-success\">\n",
    "<b>Комментарий ревьюера ✔️</b>\n",
    "\n",
    "    \n",
    "👍</div>"
   ]
  },
  {
   "cell_type": "markdown",
   "id": "92dc1306-8cc6-4c22-a1ee-3b837ab148f2",
   "metadata": {},
   "source": [
    "#### Расстояние до ближайшего парка\n",
    "\n",
    "Проанализируем значения из столбца `parks_nearest`."
   ]
  },
  {
   "cell_type": "code",
   "execution_count": 67,
   "id": "bd2d064e-1677-4cbd-8652-c81f079f0ffd",
   "metadata": {},
   "outputs": [
    {
     "data": {
      "text/markdown": [
       "Доля пропущенных значений в расстоянии до ближайшего парка: **65.91%**"
      ],
      "text/plain": [
       "<IPython.core.display.Markdown object>"
      ]
     },
     "metadata": {},
     "output_type": "display_data"
    }
   ],
   "source": [
    "# расчет доли пропущенных значений в столбце `parks_nearest`\n",
    "display(\n",
    "    Markdown(\n",
    "        f'Доля пропущенных значений в расстоянии до ближайшего парка: '\n",
    "        f'**{data[\"parks_nearest\"].isna().sum() / len(data[\"parks_nearest\"]):.2%}**')\n",
    ")"
   ]
  },
  {
   "cell_type": "code",
   "execution_count": 68,
   "id": "86fd827e-2b96-427a-a9ea-193094e231ee",
   "metadata": {},
   "outputs": [
    {
     "data": {
      "text/plain": [
       "count   8075.00\n",
       "mean     490.76\n",
       "std      342.38\n",
       "min        1.00\n",
       "25%      288.00\n",
       "50%      455.00\n",
       "75%      612.00\n",
       "max     3190.00\n",
       "Name: parks_nearest, dtype: float64"
      ]
     },
     "execution_count": 68,
     "metadata": {},
     "output_type": "execute_result"
    }
   ],
   "source": [
    "# числовое описание данных в `parks_nearest`\n",
    "data['parks_nearest'].describe()"
   ]
  },
  {
   "cell_type": "markdown",
   "id": "c853e1cd-f1b6-42dd-93aa-9db5c62d64e8",
   "metadata": {
    "slideshow": {
     "slide_type": ""
    },
    "tags": []
   },
   "source": [
    "Покажем на гистограмме распределение квартир по удаленности от парка в метрах"
   ]
  },
  {
   "cell_type": "code",
   "execution_count": 69,
   "id": "ef09d140-fa91-4e63-a6de-c9f54fbff4d4",
   "metadata": {},
   "outputs": [
    {
     "data": {
      "image/png": "[encoded data removed]",
      "text/plain": [
       "<Figure size 648x360 with 1 Axes>"
      ]
     },
     "metadata": {
      "needs_background": "light"
     },
     "output_type": "display_data"
    }
   ],
   "source": [
    "# описание данных в `parks_nearest` с помощью гистограммы \n",
    "data.plot(\n",
    "    kind='hist',\n",
    "    y='parks_nearest',\n",
    "    bins=30,\n",
    "    ylabel='Количество',\n",
    "    xlabel='Удаленность от парка, м',\n",
    "    grid=True,\n",
    "    legend=False,\n",
    "    figsize=(9,5),\n",
    "    range=(1, 3200),\n",
    "    title='Распределение квартир по удаленности от парка'\n",
    ") \n",
    "plt.show()"
   ]
  },
  {
   "cell_type": "markdown",
   "id": "a16225fb-4c5c-4914-85a0-f862aded25ff",
   "metadata": {
    "id": "c389ca63"
   },
   "source": [
    "<div style=\"border:solid gray 1px; padding: 20px\">\n",
    "\n",
    "**Выводы:** \n",
    "1. 75% квартир находятся в радиусе 612 м от парка\n",
    "4. 65.91% вероятно повлияют на результаты исследования"
   ]
  },
  {
   "cell_type": "markdown",
   "id": "d55b491c",
   "metadata": {},
   "source": [
    "<p>\n",
    "<div class=\"alert-success\">\n",
    "<b>Комментарий ревьюера ✔️</b>\n",
    "\n",
    "    \n",
    "👍</div>"
   ]
  },
  {
   "cell_type": "markdown",
   "id": "9529de68",
   "metadata": {
    "deletable": false,
    "id": "9529de68",
    "slideshow": {
     "slide_type": ""
    },
    "tags": []
   },
   "source": [
    "<a id=\"how_fast\"></a>\n",
    "### Как быстро продавались квартиры?"
   ]
  },
  {
   "cell_type": "markdown",
   "id": "c8ecc981",
   "metadata": {
    "slideshow": {
     "slide_type": ""
    },
    "tags": []
   },
   "source": [
    "Для ответа на вопрос проанализируем количество дней размещения каждого объявления в столбце `days_exposition`.\n",
    "\n",
    "Оценим числовое распределение данных в столбце."
   ]
  },
  {
   "cell_type": "code",
   "execution_count": 70,
   "id": "7a04347b-4e05-411b-8f74-407c4a95437a",
   "metadata": {},
   "outputs": [
    {
     "data": {
      "text/plain": [
       "count   20510.00\n",
       "mean      180.91\n",
       "std       219.76\n",
       "min         1.00\n",
       "25%        45.00\n",
       "50%        95.00\n",
       "75%       232.00\n",
       "max      1580.00\n",
       "Name: days_exposition, dtype: float64"
      ]
     },
     "execution_count": 70,
     "metadata": {},
     "output_type": "execute_result"
    }
   ],
   "source": [
    "# числовое описание данных в `days_exposition`\n",
    "data['days_exposition'].describe()"
   ]
  },
  {
   "cell_type": "markdown",
   "id": "84526f50-add4-4468-9168-4659be9cb06d",
   "metadata": {},
   "source": [
    "<a id=\"hist_day\"></a>\n",
    "Построим гистограмму распределение квартир по времени размещения объвления."
   ]
  },
  {
   "cell_type": "code",
   "execution_count": 71,
   "id": "0fa552ad-4123-4142-9374-3b10ed001d41",
   "metadata": {},
   "outputs": [
    {
     "data": {
      "image/png": "[encoded data removed]",
      "text/plain": [
       "<Figure size 648x360 with 1 Axes>"
      ]
     },
     "metadata": {
      "needs_background": "light"
     },
     "output_type": "display_data"
    }
   ],
   "source": [
    "# описание данных в `days_exposition` с помощью гистограммы \n",
    "data.plot(\n",
    "    kind='hist',\n",
    "    y='days_exposition',\n",
    "    bins=50,\n",
    "    ylabel='Количество',\n",
    "    xlabel='Количество дней',\n",
    "    grid=True,\n",
    "    legend=False,\n",
    "    figsize=(9,5),\n",
    "    range=(1, 1600),\n",
    "    title='Распределение квартир по количеству дней размещения'\n",
    ") \n",
    "plt.show()"
   ]
  },
  {
   "cell_type": "markdown",
   "id": "33e89a38",
   "metadata": {},
   "source": [
    "Посчитаем отдельно среднее и медианное значения количества дней"
   ]
  },
  {
   "cell_type": "code",
   "execution_count": 72,
   "id": "8787f44a",
   "metadata": {
    "deletable": false,
    "id": "8787f44a",
    "slideshow": {
     "slide_type": ""
    },
    "tags": []
   },
   "outputs": [
    {
     "data": {
      "text/markdown": [
       "Среднее количество дней размещения объявления: **181**"
      ],
      "text/plain": [
       "<IPython.core.display.Markdown object>"
      ]
     },
     "metadata": {},
     "output_type": "display_data"
    },
    {
     "data": {
      "text/markdown": [
       "Медианное количество дней размещения объявления: **95**"
      ],
      "text/plain": [
       "<IPython.core.display.Markdown object>"
      ]
     },
     "metadata": {},
     "output_type": "display_data"
    }
   ],
   "source": [
    "# вывод среднего значения в столбце `days_exposition`\n",
    "display(\n",
    "    Markdown(\n",
    "        f'Среднее количество дней размещения объявления: '\n",
    "        f'**{data[\"days_exposition\"].mean():.0f}**')\n",
    ")\n",
    "\n",
    "# вывод медианного значения в столбце `days_exposition`\n",
    "display(\n",
    "    Markdown(\n",
    "        f'Медианное количество дней размещения объявления: '\n",
    "        f'**{data[\"days_exposition\"].median():.0f}**')\n",
    ")"
   ]
  },
  {
   "cell_type": "markdown",
   "id": "b9a87a1b",
   "metadata": {},
   "source": [
    "<p>\n",
    "<div class=\"alert-danger\">\n",
    "<b>Комментарий ревьюера ❌</b> \n",
    "    \n",
    "Перед анализом нужно отфильтровать нули"
   ]
  },
  {
   "cell_type": "markdown",
   "id": "d1822b45",
   "metadata": {},
   "source": [
    "<div class=\"alert-info\">\n",
    "<b>Александр</b>\n",
    "\n",
    "Исправил</div>"
   ]
  },
  {
   "cell_type": "markdown",
   "id": "c08a0a8e",
   "metadata": {},
   "source": [
    "<p>\n",
    "<div class=\"alert-success\">\n",
    "<b>Комментарий ревьюера 2 ✔️</b>\n",
    "\n",
    "    \n",
    "👍</div>"
   ]
  },
  {
   "cell_type": "markdown",
   "id": "73b208fe-ae65-43a7-8b6a-c4dc328c6a1d",
   "metadata": {},
   "source": [
    "<a id=\"boxplot\"></a>\n",
    "Для визуального подтверждения характеристик распределения построим диаграмму размаха."
   ]
  },
  {
   "cell_type": "code",
   "execution_count": 73,
   "id": "de22a9da-4610-4d6b-b3cf-ab787c4328e0",
   "metadata": {},
   "outputs": [
    {
     "data": {
      "image/png": "[encoded data removed]",
      "text/plain": [
       "<Figure size 432x288 with 1 Axes>"
      ]
     },
     "metadata": {
      "needs_background": "light"
     },
     "output_type": "display_data"
    }
   ],
   "source": [
    "# вывод диаграммы boxplot для значений столбца `days_exposition`\n",
    "(\n",
    "    data[\"days_exposition\"]\n",
    "    .plot(\n",
    "        kind='box',\n",
    "        ylabel='Количество дней',\n",
    "    )\n",
    ")\n",
    "plt.title('Распределение \"ящик с усами\" количества дней размещения')\n",
    "plt.show()"
   ]
  },
  {
   "cell_type": "markdown",
   "id": "6dd14b57",
   "metadata": {
    "deletable": false,
    "id": "6dd14b57"
   },
   "source": [
    "<div style=\"border:solid gray 1px; padding: 20px\">\n",
    "\n",
    "**Выводы:**\n",
    "\n",
    "1. Характеристики распределения объявлений по количеству дней размещения:\n",
    "   - Q1 = 45\n",
    "   - Q3 = 232\n",
    "   - Интерквартильный размах (IQR) = 232-45 = 187\n",
    "2. Обычно продажа квартиры происходит в течение **95** дней после размещения объявления. Это медианное значение.\n",
    "3. Быстрыми продажами можно считать те, которые завершились в течение **45** дней размещения объявления (до первого квартиля)\n",
    "4. Необычно долгими продажами можно считать те, которые произошли после **513** (Q3+1,5*IQR) дней размещения\n",
    "5. Среднее значение **181** почти в раза больше Медианы **95**:\n",
    "   - распределение данных имеет длинный хвост выбросов в сторону объявлений с большим сроком размещения (см. [выбросы на диаграмме размаха](#boxplot). Эти значения значительно превышают медиану и не влияют на нее сильно. Но увеличивают среднее значение, делая его больше медианы.\n",
    "   - большое количество объявлений с маленьким сроком размещения (см. [гистограмму](#hist_day)) сдвигает медианное значение в сторону меньших значений\n",
    "   "
   ]
  },
  {
   "cell_type": "markdown",
   "id": "fd80d5c0",
   "metadata": {},
   "source": [
    "<p>\n",
    "<div class=\"alert-success\">\n",
    "<b>Комментарий ревьюера 2 ✔️</b>\n",
    "\n",
    "    \n",
    "👍</div>"
   ]
  },
  {
   "cell_type": "markdown",
   "id": "1dcc9b12",
   "metadata": {
    "deletable": false,
    "id": "1dcc9b12",
    "slideshow": {
     "slide_type": ""
    },
    "tags": []
   },
   "source": [
    "<a id=\"factors\"></a>\n",
    "### Анализ факторов, влияющих на стоимость квартиры"
   ]
  },
  {
   "cell_type": "markdown",
   "id": "5efa5c1c",
   "metadata": {
    "slideshow": {
     "slide_type": ""
    },
    "tags": []
   },
   "source": [
    "Проанализируем зависимость значений в столбце `last_price` от значений в следующих слобцах:\n",
    "- `total_area` - общая площадь\n",
    "- `living_area` - жилая площадь\n",
    "- `kitchen_area` - площадь кухни\n",
    "- `rooms` - количество комнат\n",
    "- `floor_type` - тип этажа квартиры\n",
    "- `day_pulic` - дня недели размещения\n",
    "- `month_pulic` - месяца размещения\n",
    "- `year_pulic` - года размещения"
   ]
  },
  {
   "cell_type": "markdown",
   "id": "c73f3db0",
   "metadata": {},
   "source": [
    "#### Зависимость стоимости квартиры от общей площади\n",
    "\n",
    "Построим график зависимости и рассчитаем коэффициент корреляции Пирсона. Исключим на графике редкие значения общей площади более 400 м2."
   ]
  },
  {
   "cell_type": "code",
   "execution_count": 74,
   "id": "c602bc8b",
   "metadata": {
    "deletable": false,
    "id": "c602bc8b"
   },
   "outputs": [
    {
     "data": {
      "image/png": "[encoded data removed]",
      "text/plain": [
       "<Figure size 720x360 with 1 Axes>"
      ]
     },
     "metadata": {
      "needs_background": "light"
     },
     "output_type": "display_data"
    },
    {
     "data": {
      "image/png": "[encoded data removed]",
      "text/plain": [
       "<Figure size 720x360 with 1 Axes>"
      ]
     },
     "metadata": {
      "needs_background": "light"
     },
     "output_type": "display_data"
    },
    {
     "data": {
      "text/markdown": [
       "Коэффициент корреляции: **0.71**"
      ],
      "text/plain": [
       "<IPython.core.display.Markdown object>"
      ]
     },
     "metadata": {},
     "output_type": "display_data"
    }
   ],
   "source": [
    "# запись в переменную `data_filtered` отфильтрованного датафрейма\n",
    "data_filtered = data.query('total_area < 400')\n",
    "\n",
    "# создание сводной таблицы медианных значений `last_price` для сглаживания выбросов\n",
    "data_pivot = \\\n",
    "(\n",
    "    data_filtered\n",
    "    .pivot_table(index='total_area', values='last_price', aggfunc='median')\n",
    "    .reset_index()\n",
    ")\n",
    "\n",
    "# вывод графика зависимости между значениями медианы `last_price` и `total_area`\n",
    "sns.pairplot(\n",
    "    data_pivot,\n",
    "    kind='scatter',\n",
    "    x_vars='total_area',\n",
    "    y_vars='last_price',\n",
    "    aspect= 2,\n",
    "    height=5,\n",
    ")\n",
    "\n",
    "plt.xlabel('Общая площадь, м2')\n",
    "plt.ylabel('Стоимость квартиры')\n",
    "plt.title('Зависимость стоимости квартиры от общей площади')\n",
    "\n",
    "# вывод графика зависимости между значениями `last_price` и `total_area` без группировки\n",
    "sns.pairplot(\n",
    "    data_filtered,\n",
    "    kind='scatter',\n",
    "    x_vars='total_area',\n",
    "    y_vars='last_price',\n",
    "    aspect= 2,\n",
    "    height=5,\n",
    ")\n",
    "\n",
    "plt.xlabel('Общая площадь, м2')\n",
    "plt.ylabel('Стоимость квартиры')\n",
    "plt.title('Зависимость стоимости квартиры от общей площади')\n",
    "plt.show()\n",
    "\n",
    "# вывод коэффициента корреляции между значениями в `last_price` и `total_area`\n",
    "display(\n",
    "    Markdown(\n",
    "        f'Коэффициент корреляции: '\n",
    "        f'**{data[\"last_price\"].corr(data[\"total_area\"]):.2f}**')\n",
    ")"
   ]
  },
  {
   "cell_type": "markdown",
   "id": "01c1b15d",
   "metadata": {},
   "source": [
    "<div class=\"alert-warning\">\n",
    "<b>Комментарий ревьюера ⚠️</b>\n",
    "\n",
    "\n",
    "Для визуализации лучше подойдет диаграмма рассеивания, рекомендую использовать `sns.pairplot` - этот простой и полезный метод"
   ]
  },
  {
   "cell_type": "markdown",
   "id": "1b45b0e4-7697-456b-9aff-310696a659e1",
   "metadata": {},
   "source": [
    "<div class=\"alert-info\">\n",
    "<b>Александр</b>\n",
    "\n",
    "Исправил\n",
    "Но как выглядит не нравится)). Вроде и сводная таблица нужна чтобы сгладить выбросы. Но тогда точки сливаются на первом графике.\n",
    "\n",
    "Вывел на второй график без сворачивания до медианы. Так больше нравится.\n",
    "\n",
    "Нужно твое мнение!</div>"
   ]
  },
  {
   "cell_type": "markdown",
   "id": "a8aa1958",
   "metadata": {},
   "source": [
    "<p>\n",
    "<div class=\"alert-success\">\n",
    "<b>Комментарий ревьюера 2 ✔️</b>\n",
    "\n",
    "    \n",
    "Обычно не делают группировку перед построением этого графика. То, что точки наслаиваются друг на друга это нормально и показывает тенденцию, а отдельные выбросы не мешают, они так же полезны для анализа </div>"
   ]
  },
  {
   "cell_type": "markdown",
   "id": "0f0ee50d-f1e3-4132-a0bb-c52e6fb6fec6",
   "metadata": {
    "id": "6dd14b57"
   },
   "source": [
    "<div style=\"border:solid gray 1px; padding: 20px\">\n",
    "\n",
    "**Выводы:**\n",
    "\n",
    "1. График и коэффициент корреляции указывают на умеренно сильную положительную связь между общей площадью и стоимостью квартиры.\n",
    "2. Более крупные объекты стремятся к более высоким ценам, а меньшие объекты - к более низким ценам.\n",
    "3. Характерные выбросы на графике указывют на наличие и других факторов, влияющих на стоимость квартиры."
   ]
  },
  {
   "cell_type": "markdown",
   "id": "b9c7bb35",
   "metadata": {},
   "source": [
    "<p>\n",
    "<div class=\"alert-success\">\n",
    "<b>Комментарий ревьюера ✔️</b>\n",
    "\n",
    "    \n",
    "👍</div>"
   ]
  },
  {
   "cell_type": "markdown",
   "id": "49cec621-dc04-4046-8ebe-46f5904720ee",
   "metadata": {},
   "source": [
    "#### Зависимость стоимости квартиры от жилой площади\n",
    "\n",
    "Построим график зависимости и рассчитаем коэффициент корреляции Пирсона. Исключим на графике редкие значения общей площади более 200 м2."
   ]
  },
  {
   "cell_type": "code",
   "execution_count": 75,
   "id": "fb6ce878-9ac2-4597-b19a-1f716d14dbeb",
   "metadata": {
    "id": "c602bc8b"
   },
   "outputs": [
    {
     "data": {
      "image/png": "[encoded data removed]",
      "text/plain": [
       "<Figure size 720x360 with 1 Axes>"
      ]
     },
     "metadata": {
      "needs_background": "light"
     },
     "output_type": "display_data"
    },
    {
     "data": {
      "text/markdown": [
       "Коэффициент корреляции: **0.64**"
      ],
      "text/plain": [
       "<IPython.core.display.Markdown object>"
      ]
     },
     "metadata": {},
     "output_type": "display_data"
    }
   ],
   "source": [
    "# запись в переменную `data_filtered` отфильтрованного датафрейма\n",
    "data_filtered = data.query('living_area < 200')\n",
    "\n",
    "# вывод графика зависимости между значениями в `last_price` и `living_area`\n",
    "sns.pairplot(\n",
    "    data_filtered,\n",
    "    kind='scatter',\n",
    "    x_vars='living_area',\n",
    "    y_vars='last_price',\n",
    "    aspect= 2,\n",
    "    height=5,\n",
    ")\n",
    "\n",
    "plt.xlabel('Жилая площадь, м2')\n",
    "plt.ylabel('Стоимость квартиры')\n",
    "plt.title('Зависимость стоимости квартиры от жилой площади')\n",
    "plt.show()\n",
    "\n",
    "# вывод коэффициента корреляции между значениями в `last_price` и `total_area`\n",
    "display(\n",
    "    Markdown(\n",
    "        f\"Коэффициент корреляции: \"\n",
    "        f\"**{data['last_price'].corr(data['living_area']):.2f}**\")\n",
    ")"
   ]
  },
  {
   "cell_type": "markdown",
   "id": "7fd3aa0d",
   "metadata": {},
   "source": [
    "<div class=\"alert-warning\">\n",
    "<b>Комментарий ревьюера ⚠️</b>\n",
    "\n",
    "\n",
    "Для визуализации лучше подойдет диаграмма рассеивания"
   ]
  },
  {
   "cell_type": "markdown",
   "id": "1b6d6215-fc06-42d5-9e27-8a90beee473a",
   "metadata": {},
   "source": [
    "<div class=\"alert-info\">\n",
    "<b>Александр</b>\n",
    "\n",
    "Исправил</div>"
   ]
  },
  {
   "cell_type": "markdown",
   "id": "871db800",
   "metadata": {},
   "source": [
    "<p>\n",
    "<div class=\"alert-success\">\n",
    "<b>Комментарий ревьюера 2 ✔️</b>\n",
    "\n",
    "    \n",
    "👍</div>"
   ]
  },
  {
   "cell_type": "markdown",
   "id": "0092bd84-de97-41ab-945c-82ffc793427c",
   "metadata": {
    "id": "6dd14b57"
   },
   "source": [
    "<div style=\"border:solid gray 1px; padding: 20px\">\n",
    "\n",
    "**Выводы:**\n",
    "\n",
    "1. График и коэффициент корреляции указывают на умеренно сильную положительную связь между жилой площадью и стоимостью квартиры.\n",
    "2. Изменение жилой площади влияет на стоимость квартиры меньше чем изменение общей площади.\n",
    "3. Выбросы на графике указывют на наличие и других факторов, влияющих на стоимость квартиры."
   ]
  },
  {
   "cell_type": "markdown",
   "id": "512fcc75",
   "metadata": {},
   "source": [
    "<p>\n",
    "<div class=\"alert-success\">\n",
    "<b>Комментарий ревьюера ✔️</b>\n",
    "\n",
    "    \n",
    "👍</div>"
   ]
  },
  {
   "cell_type": "markdown",
   "id": "cccd4b20-bc3c-40d1-be3e-ed554007a548",
   "metadata": {},
   "source": [
    "#### Зависимость стоимости квартиры от площади кухни\n",
    "\n",
    "Построим график зависимости и рассчитаем коэффициент корреляции Пирсона. Исключим на графике редкие значения общей площади более 60 м2."
   ]
  },
  {
   "cell_type": "code",
   "execution_count": 76,
   "id": "fcfd22b2-f9dd-4041-b1c8-c86a87433936",
   "metadata": {
    "id": "c602bc8b"
   },
   "outputs": [
    {
     "data": {
      "image/png": "[encoded data removed]",
      "text/plain": [
       "<Figure size 720x360 with 1 Axes>"
      ]
     },
     "metadata": {
      "needs_background": "light"
     },
     "output_type": "display_data"
    },
    {
     "data": {
      "text/markdown": [
       "Коэффициент корреляции: **0.53**"
      ],
      "text/plain": [
       "<IPython.core.display.Markdown object>"
      ]
     },
     "metadata": {},
     "output_type": "display_data"
    }
   ],
   "source": [
    "# запись в переменную `data_filtered` отфильтрованного датафрейма\n",
    "data_filtered = data.query('kitchen_area < 60')\n",
    "\n",
    "# вывод графика зависимости между значениями в `last_price` и `kitchen_area`\n",
    "sns.pairplot(\n",
    "    data_filtered,\n",
    "    kind='scatter',\n",
    "    x_vars='kitchen_area',\n",
    "    y_vars='last_price',\n",
    "    aspect= 2,\n",
    "    height=5,\n",
    ")\n",
    "\n",
    "plt.xlabel('Площадь кухни, м2')\n",
    "plt.ylabel('Стоимость квартиры')\n",
    "plt.title('Зависимость стоимости квартиры от площади кухни')\n",
    "plt.show()\n",
    "# вывод коэффициента корреляции между значениями в `last_price` и `kitchen_area`\n",
    "display(\n",
    "    Markdown(\n",
    "        f\"Коэффициент корреляции: \"\n",
    "        f\"**{data['last_price'].corr(data['kitchen_area']):.2f}**\")\n",
    ")"
   ]
  },
  {
   "cell_type": "markdown",
   "id": "2fc44a6e",
   "metadata": {},
   "source": [
    "<div class=\"alert-warning\">\n",
    "<b>Комментарий ревьюера ⚠️</b>\n",
    "\n",
    "\n",
    "Для визуализации лучше подойдет диаграмма рассеивания"
   ]
  },
  {
   "cell_type": "markdown",
   "id": "e6fd68ec-5fa9-40b9-bb42-9f10a0a670ac",
   "metadata": {},
   "source": [
    "<div class=\"alert-info\">\n",
    "<b>Александр</b>\n",
    "\n",
    "Исправил</div>"
   ]
  },
  {
   "cell_type": "markdown",
   "id": "55826c0e",
   "metadata": {},
   "source": [
    "<p>\n",
    "<div class=\"alert-success\">\n",
    "<b>Комментарий ревьюера 2 ✔️</b>\n",
    "\n",
    "    \n",
    "👍</div>"
   ]
  },
  {
   "cell_type": "markdown",
   "id": "d2ce4cc3-99e4-49db-bf68-ba9870fe7581",
   "metadata": {
    "id": "6dd14b57"
   },
   "source": [
    "<div style=\"border:solid gray 1px; padding: 20px\">\n",
    "\n",
    "**Выводы:**\n",
    "\n",
    "1. График и коэффициент корреляции указывают на умеренную положительную связь между площадью кухни и стоимостью квартиры.\n",
    "2. Изменение площади кухни влияет на стоимость квартиры меньше чем изменение общей и жилой площади.\n",
    "3. Выбросы на графике указывют на влияние других факторов на стоимость квартиры."
   ]
  },
  {
   "cell_type": "markdown",
   "id": "73776bcd",
   "metadata": {},
   "source": [
    "<p>\n",
    "<div class=\"alert-success\">\n",
    "<b>Комментарий ревьюера ✔️</b>\n",
    "\n",
    "    \n",
    "👍</div>"
   ]
  },
  {
   "cell_type": "markdown",
   "id": "5488b279-6d47-47e1-92ec-e1fdc1db0243",
   "metadata": {},
   "source": [
    "#### Зависимость стоимости квартиры от количества комнат\n",
    "\n",
    "Построим график зависимости и рассчитаем коэффициент корреляции Пирсона."
   ]
  },
  {
   "cell_type": "code",
   "execution_count": 77,
   "id": "8aafebd6-360d-4241-9875-8db8ab965231",
   "metadata": {
    "id": "c602bc8b"
   },
   "outputs": [
    {
     "data": {
      "image/png": "[encoded data removed]",
      "text/plain": [
       "<Figure size 864x360 with 1 Axes>"
      ]
     },
     "metadata": {
      "needs_background": "light"
     },
     "output_type": "display_data"
    },
    {
     "data": {
      "text/markdown": [
       "Коэффициент корреляции: **0.41**"
      ],
      "text/plain": [
       "<IPython.core.display.Markdown object>"
      ]
     },
     "metadata": {},
     "output_type": "display_data"
    }
   ],
   "source": [
    "# вывод графика зависимости между значениями в `last_price` и `rooms`\n",
    "(\n",
    "    data\n",
    "    .pivot_table(index='rooms', values='last_price', aggfunc='median')\n",
    "    .plot(\n",
    "        grid=True, \n",
    "        figsize=(12, 5),\n",
    "        ylabel='Стоимость квартиры',\n",
    "        xlabel='Количество комнат',\n",
    "        legend=False,\n",
    "        title='Зависимость стоимости квартиры от количества комнат')\n",
    ") \n",
    "plt.show()\n",
    "\n",
    "# вывод коэффициента корреляции между значениями в `last_price` и `rooms`\n",
    "display(\n",
    "    Markdown(\n",
    "        f\"Коэффициент корреляции: \"\n",
    "        f\"**{data['last_price'].corr(data['rooms']):.2f}**\")\n",
    ")"
   ]
  },
  {
   "cell_type": "markdown",
   "id": "27498267-ebff-4c26-b8bd-0050f67b1cb6",
   "metadata": {
    "id": "6dd14b57"
   },
   "source": [
    "<div style=\"border:solid gray 1px; padding: 20px\">\n",
    "\n",
    "**Выводы:**\n",
    "\n",
    "1. График и коэффициент корреляции указывают на умеренную положительную связь между количеством комнат и стоимостью квартиры.\n",
    "2. Изменение количества комнат влияет на стоимость квартиры в меньшей степени чем характеристики площади квартиры."
   ]
  },
  {
   "cell_type": "markdown",
   "id": "b5fd7b1a",
   "metadata": {},
   "source": [
    "<p>\n",
    "<div class=\"alert-success\">\n",
    "<b>Комментарий ревьюера ✔️</b>\n",
    "\n",
    "    \n",
    "👍</div>"
   ]
  },
  {
   "cell_type": "markdown",
   "id": "f7ceb5a2-0248-42f5-958c-f04ed252396d",
   "metadata": {},
   "source": [
    "#### Зависимость стоимости квартиры от типа этажа\n",
    "\n",
    "Построим график зависимости."
   ]
  },
  {
   "cell_type": "code",
   "execution_count": 78,
   "id": "654db8eb-0edd-40c1-875a-b35d771c038e",
   "metadata": {
    "id": "c602bc8b"
   },
   "outputs": [
    {
     "data": {
      "image/png": "[encoded data removed]",
      "text/plain": [
       "<Figure size 720x432 with 1 Axes>"
      ]
     },
     "metadata": {
      "needs_background": "light"
     },
     "output_type": "display_data"
    }
   ],
   "source": [
    "# создание сводной таблицы для получения медианных значений `last_price`\n",
    "pivot_table = data.pivot_table(index='floor_type', values='last_price', aggfunc='median')\n",
    "\n",
    "# преобразование индекса в столбец\n",
    "pivot_table.reset_index(inplace=True)\n",
    "# вывод графика зависимости между значениями в `last_price` и `floor_type`\n",
    "plt.figure(figsize=(10, 6))\n",
    "sns.barplot(\n",
    "    data=pivot_table,\n",
    "    x='floor_type',\n",
    "    y='last_price',\n",
    "    color='#4c72b0'\n",
    ")\n",
    "\n",
    "plt.xlabel('Тип этажа')\n",
    "plt.ylabel('Стоимость квартиры')\n",
    "plt.title('Зависимость стоимости квартиры от типа этажа')\n",
    "plt.show()"
   ]
  },
  {
   "cell_type": "markdown",
   "id": "5f6e7c1d",
   "metadata": {},
   "source": [
    "<div class=\"alert-warning\">\n",
    "<b>Комментарий ревьюера ⚠️</b>\n",
    "\n",
    "Барплоты подойдут лучше для отпределения зависимости цены от типа этажа, дня недели, года и месяца.\n",
    "    \n",
    "Схема для выбора визуализации в зависимости от задач:\n",
    "    \n",
    "    \n",
    "https://extremepresentation.typepad.com/.a/6a00d8341bfd2e53ef0111683a7591970c-pi\n",
    "\n",
    "</div>"
   ]
  },
  {
   "cell_type": "markdown",
   "id": "ca98113e",
   "metadata": {},
   "source": [
    "<div class=\"alert-info\">\n",
    "<b>Александр</b>\n",
    "\n",
    "Исправил. Спасибо. \n",
    "\n",
    "👍 схема про диаграммы</div>"
   ]
  },
  {
   "cell_type": "markdown",
   "id": "f8318fcd",
   "metadata": {},
   "source": [
    "<p>\n",
    "<div class=\"alert-success\">\n",
    "<b>Комментарий ревьюера 2 ✔️</b>\n",
    "\n",
    "    \n",
    "👍</div>"
   ]
  },
  {
   "cell_type": "markdown",
   "id": "146ab4f8-aa4a-4530-9ca5-f5766310edc6",
   "metadata": {
    "id": "6dd14b57"
   },
   "source": [
    "<div style=\"border:solid gray 1px; padding: 20px\">\n",
    "\n",
    "**Выводы:**\n",
    "\n",
    "1. Квартиры на первом этаже имеют самую низкую стоимость.\n",
    "2. Квартиры на последнем этаже дороже квартир на первом этаже\n",
    "3. \"Другие\" квартиры дороже, чем на первом и последнем этажах"
   ]
  },
  {
   "cell_type": "markdown",
   "id": "05aedb59",
   "metadata": {},
   "source": [
    "<p>\n",
    "<div class=\"alert-success\">\n",
    "<b>Комментарий ревьюера ✔️</b>\n",
    "\n",
    "    \n",
    "👍</div>"
   ]
  },
  {
   "cell_type": "markdown",
   "id": "caddccda-559a-4c7d-99bc-2adb6a9bc9c7",
   "metadata": {},
   "source": [
    "#### Зависимость стоимости квартиры от дня недели размещения объявления\n",
    "\n",
    "Построим график зависимости."
   ]
  },
  {
   "cell_type": "code",
   "execution_count": 79,
   "id": "8ee4863c-86a7-400f-9c54-63f5209f4c35",
   "metadata": {
    "id": "c602bc8b"
   },
   "outputs": [
    {
     "data": {
      "image/png": "[encoded data removed]",
      "text/plain": [
       "<Figure size 720x432 with 1 Axes>"
      ]
     },
     "metadata": {
      "needs_background": "light"
     },
     "output_type": "display_data"
    }
   ],
   "source": [
    "# создание сводной таблицы для получения медианных значений `last_price`\n",
    "pivot_table = data.pivot_table(index='day_public', values='last_price', aggfunc='median')\n",
    "\n",
    "# создание словаря для замены номеров дней недели на названия\n",
    "day_dict = {\n",
    "    0: 'Понедельник', \n",
    "    1: 'Вторник', \n",
    "    2: 'Среда', \n",
    "    3: 'Четверг', \n",
    "    4: 'Пятница', \n",
    "    5: 'Суббота', \n",
    "    6: 'Воскресенье'\n",
    "}\n",
    "\n",
    "# замена номеров дней недели на названия в индексе сводной таблицы\n",
    "pivot_table.index = pivot_table.index.map(day_dict)\n",
    "\n",
    "# преобразование индекса в столбец\n",
    "pivot_table.reset_index(inplace=True)\n",
    "\n",
    "# вывод графика зависимости между значениями в `last_price` и `day_public`\n",
    "plt.figure(figsize=(10, 6))\n",
    "sns.barplot(\n",
    "    data=pivot_table,\n",
    "    x='day_public',\n",
    "    y='last_price',\n",
    "    color='#dd8452'\n",
    ")\n",
    "\n",
    "plt.xlabel('День недели')\n",
    "plt.ylabel('Стоимость квартиры')\n",
    "plt.title('Зависимость стоимости квартиры от дня недели')\n",
    "plt.show()"
   ]
  },
  {
   "cell_type": "markdown",
   "id": "bc64912b",
   "metadata": {},
   "source": [
    "<p>\n",
    "<div class=\"alert-danger\">\n",
    "<b>Комментарий ревьюера ❌</b> \n",
    "\n",
    "\n",
    "Некоторые блоки кода не работают. Посмотри, пожалуйста, что пошло не так. Перед отправкой проекта стоит проверять работоспособность кода — это можно сделать, нажав на панели Jupiter Hub ``Kernel`` и ``Restart & Run All`` (см скриншот ниже).\n",
    "![](https://i.postimg.cc/yd19rYf6/Screenshot-428.png)"
   ]
  },
  {
   "cell_type": "markdown",
   "id": "e0e80fbc",
   "metadata": {},
   "source": [
    "<div class=\"alert-info\">\n",
    "<b>Александр</b>\n",
    "\n",
    "У меня на desktop все работало))\n",
    "\n",
    "Исправил</div>"
   ]
  },
  {
   "cell_type": "markdown",
   "id": "feb7f8c3",
   "metadata": {},
   "source": [
    "<p>\n",
    "<div class=\"alert-success\">\n",
    "<b>Комментарий ревьюера 2 ✔️</b>\n",
    "\n",
    "    \n",
    "Спасибо 👍 Теперь и тут работает</div>"
   ]
  },
  {
   "cell_type": "markdown",
   "id": "cf05ed63",
   "metadata": {
    "deletable": false,
    "id": "cf05ed63"
   },
   "source": [
    "<div style=\"border:solid gray 1px; padding: 20px\">\n",
    "\n",
    "**Вывод:** \n",
    "\n",
    "1. Квартиры, размещенные в конце недели продавались по немного сниженной цене. Возможно, продавцы или агенты стараются привлечь больше клиентов и закрыть сделки до конца недели."
   ]
  },
  {
   "cell_type": "markdown",
   "id": "4af55359-5290-45bb-b6ab-f64a0c6859ec",
   "metadata": {},
   "source": [
    "#### Зависимость стоимости квартиры от месяца размещения объявления\n",
    "\n",
    "Построим график зависимости."
   ]
  },
  {
   "cell_type": "code",
   "execution_count": 80,
   "id": "e9388aa9-e8d6-4e9a-83e9-409f09104356",
   "metadata": {},
   "outputs": [
    {
     "data": {
      "image/png": "[encoded data removed]",
      "text/plain": [
       "<Figure size 864x432 with 1 Axes>"
      ]
     },
     "metadata": {
      "needs_background": "light"
     },
     "output_type": "display_data"
    }
   ],
   "source": [
    "# создание сводной таблицы для стоимости и количества\n",
    "pivot_table = data.pivot_table(index='month_public', values='last_price', aggfunc=['median', 'count'])\n",
    "\n",
    "# переименование столбцов\n",
    "pivot_table.columns = ['Стоимость', 'Количество']\n",
    "\n",
    "# выравнивание порядка величин\n",
    "pivot_table['Количество'] *= 1000\n",
    "\n",
    "# создание словаря для замены номеров месяца на названия\n",
    "month_dict = {\n",
    "    1: 'Январь', \n",
    "    2: 'Февраль', \n",
    "    3: 'Март', \n",
    "    4: 'Апрель', \n",
    "    5: 'Май', \n",
    "    6: 'Июнь', \n",
    "    7: 'Июль',\n",
    "    8: 'Агуст',\n",
    "    9: 'Сентябрь',\n",
    "    10: 'Октябрь',\n",
    "    11: 'Ноябрь',\n",
    "    12: 'Декабрь',\n",
    "}\n",
    "\n",
    "# замена номеров месяца на названия в индексе сводной таблицы\n",
    "pivot_table.index = pivot_table.index.map(month_dict)\n",
    "\n",
    "# преобразование индекса в столбец\n",
    "pivot_table.reset_index(inplace=True)\n",
    "\n",
    "# преобразование `pivot_table` для отображения\n",
    "melted_table = pivot_table.melt(id_vars='month_public', var_name='метрика', value_name='значение')\n",
    "\n",
    "# вывод графика зависимости между значениями в `last_price` и `month_public`\n",
    "plt.figure(figsize=(12, 6))\n",
    "sns.barplot(x='month_public', y='значение', hue='метрика', data=melted_table)\n",
    "plt.xlabel('Месяц публикации')\n",
    "plt.ylabel('')\n",
    "plt.title('Зависимость стоимости квартиры и количества объявлений от месяца')\n",
    "plt.legend(title='', loc='upper right')\n",
    "plt.show()"
   ]
  },
  {
   "cell_type": "markdown",
   "id": "c106ae7e-2e91-401e-8545-99f9c4c73a71",
   "metadata": {
    "id": "cf05ed63"
   },
   "source": [
    "<div style=\"border:solid gray 1px; padding: 20px\">\n",
    "\n",
    "**Вывод:** \n",
    "\n",
    "1. Сезонное снижение цен следует за сезонным снижением спроса на недвижимость и уменьшением количества объвлений о продаже. Например с середины мая до середины августа спрос и предложение держатся на низком уровне, что способствует снижение стоимости."
   ]
  },
  {
   "cell_type": "markdown",
   "id": "7a7a4991",
   "metadata": {},
   "source": [
    "<p>\n",
    "<div class=\"alert-success\">\n",
    "<b>Комментарий ревьюера 2 ✔️</b>\n",
    "\n",
    "    \n",
    "Отлично 👍</div>"
   ]
  },
  {
   "cell_type": "markdown",
   "id": "cb1b9ede-6cae-4e20-b072-03e284a0550a",
   "metadata": {},
   "source": [
    "#### Зависимость стоимости квартиры от года размещения объявления\n",
    "\n",
    "Построим график зависимости."
   ]
  },
  {
   "cell_type": "code",
   "execution_count": 81,
   "id": "a6f63502-d927-42e7-9d70-7ca8f0f40c63",
   "metadata": {},
   "outputs": [
    {
     "data": {
      "image/png": "[encoded data removed]",
      "text/plain": [
       "<Figure size 864x432 with 2 Axes>"
      ]
     },
     "metadata": {
      "needs_background": "light"
     },
     "output_type": "display_data"
    }
   ],
   "source": [
    "# создание сводной таблицы для стоимости и количества\n",
    "pivot_table = data.pivot_table(index='year_public', values='last_price', aggfunc=['median', 'count'])\n",
    "\n",
    "# переименование столбцов\n",
    "pivot_table.columns = ['Стоимость', 'Количество']\n",
    "\n",
    "# выравнивание порядка величин\n",
    "pivot_table['Количество'] *= 300\n",
    "\n",
    "# преобразование индекса в столбец\n",
    "pivot_table.reset_index(inplace=True)\n",
    "\n",
    "# преобразование pivot_table для отображения\n",
    "melted_table = pivot_table.melt(id_vars='year_public', var_name='метрика', value_name='значение')\n",
    "\n",
    "# вывод графика зависимости между значениями в last_price и month_public\n",
    "fig, ax1 = plt.subplots(figsize=(12, 6))\n",
    "\n",
    "sns.barplot(x='year_public', y='значение', hue='метрика', data=melted_table, ax=ax1)\n",
    "\n",
    "ax1.set_xlabel('Год публикации')\n",
    "ax1.set_ylabel('Стоимость')\n",
    "\n",
    "# создаем вторую ось y\n",
    "ax2 = ax1.twinx()\n",
    "\n",
    "# задаем метки для второй оси y\n",
    "ax2.set_ylabel('Количество')\n",
    "\n",
    "# задаем лимиты для второй оси y\n",
    "ax2.set_ylim(1, melted_table.query('метрика == \"Количество\"')['значение'].max())\n",
    "\n",
    "fig.tight_layout()  # чтобы оси не перекрывались\n",
    "plt.title('Зависимость стоимости квартиры и количества объявлений от года')\n",
    "plt.show()"
   ]
  },
  {
   "cell_type": "markdown",
   "id": "98b9b4e0-751c-4850-abdd-666ae97e382c",
   "metadata": {
    "id": "cf05ed63"
   },
   "source": [
    "<div style=\"border:solid gray 1px; padding: 20px\">\n",
    "\n",
    "**Вывод:** \n",
    "\n",
    "1. Периоды экономического роста и стабильности приводят к росту цен и увеличению количества предложений( 2017-2018 гг.)\n",
    "2. Во время кризисов может уменьшаться количество предложений и снижаться стоимость квартир (2014-2015 гг.)"
   ]
  },
  {
   "cell_type": "markdown",
   "id": "9f52c11c",
   "metadata": {},
   "source": [
    "<p>\n",
    "<div class=\"alert-danger\">\n",
    "<b>Комментарий ревьюера ❌</b>\n",
    "    \n",
    "На рассмотренных параметрах взаимозависимости цены  с общей площадью, жилой площадью, площадью кухни коэффициент корреляции Пирсона работал хорошо. Но применение его к остальным параметрам - типу этажа, дню недели, году, и месяцу - не эффективно, т.к. это не непрерывные переменные и цена квартиры зависит от них нелинейно. Построй, пожалуйста, отдельные \n",
    "барплоты.\n",
    "    \n"
   ]
  },
  {
   "cell_type": "markdown",
   "id": "22212fe1-da56-4261-b308-0d0190090ab1",
   "metadata": {},
   "source": [
    "<div class=\"alert-info\">\n",
    "<b>Александр</b>\n",
    "\n",
    "Построил этот график на двух вертикальных осях.\n",
    "\n",
    "Но так и не удалось избавиться от ручного выравнивания порядка величин\n",
    "\n",
    "Надеялся что вторая ось с этим справится </div>"
   ]
  },
  {
   "cell_type": "markdown",
   "id": "ff364bdc",
   "metadata": {},
   "source": [
    "<div class=\"alert-warning\">\n",
    "<b>Комментарий ревьюера ⚠️</b>\n",
    "\n",
    "Дальше я проверю после исправления ошибки в коде\n",
    "\n",
    "</div>"
   ]
  },
  {
   "cell_type": "markdown",
   "id": "50e671ea",
   "metadata": {},
   "source": [
    "<p>\n",
    "<div class=\"alert-success\">\n",
    "<b>Комментарий ревьюера 2 ✔️</b>\n",
    "\n",
    "    \n",
    "👍</div>"
   ]
  },
  {
   "cell_type": "markdown",
   "id": "46c1f10b",
   "metadata": {
    "deletable": false,
    "id": "46c1f10b",
    "slideshow": {
     "slide_type": ""
    },
    "tags": []
   },
   "source": [
    "<a id=\"localities\"></a>\n",
    "### Анализ населенных пунктов"
   ]
  },
  {
   "cell_type": "markdown",
   "id": "3697d2a9",
   "metadata": {
    "deletable": false,
    "id": "3697d2a9"
   },
   "source": [
    "Посчитаем среднюю цену одного квадратного метра в 10 населённых пунктах с наибольшим числом объявлений. Используем значения населенных пунктов из столбца `locality_name_dupless`, содержащим названия без дубликатов."
   ]
  },
  {
   "cell_type": "code",
   "execution_count": 82,
   "id": "75c121f4-4f8e-48cc-b2d8-f4ff241f7e9b",
   "metadata": {},
   "outputs": [
    {
     "data": {
      "text/html": [
       "<div>\n",
       "<style scoped>\n",
       "    .dataframe tbody tr th:only-of-type {\n",
       "        vertical-align: middle;\n",
       "    }\n",
       "\n",
       "    .dataframe tbody tr th {\n",
       "        vertical-align: top;\n",
       "    }\n",
       "\n",
       "    .dataframe thead th {\n",
       "        text-align: right;\n",
       "    }\n",
       "</style>\n",
       "<table border=\"1\" class=\"dataframe\">\n",
       "  <thead>\n",
       "    <tr style=\"text-align: right;\">\n",
       "      <th></th>\n",
       "      <th>Количество объвлений</th>\n",
       "      <th>Средняя цена</th>\n",
       "    </tr>\n",
       "    <tr>\n",
       "      <th>Населенный пункт</th>\n",
       "      <th></th>\n",
       "      <th></th>\n",
       "    </tr>\n",
       "  </thead>\n",
       "  <tbody>\n",
       "    <tr>\n",
       "      <th>Санкт-Петербург</th>\n",
       "      <td>15714</td>\n",
       "      <td>114645.78</td>\n",
       "    </tr>\n",
       "    <tr>\n",
       "      <th>поселок Мурино</th>\n",
       "      <td>555</td>\n",
       "      <td>85653.61</td>\n",
       "    </tr>\n",
       "    <tr>\n",
       "      <th>поселок Шушары</th>\n",
       "      <td>440</td>\n",
       "      <td>78677.36</td>\n",
       "    </tr>\n",
       "    <tr>\n",
       "      <th>Всеволожск</th>\n",
       "      <td>398</td>\n",
       "      <td>68654.47</td>\n",
       "    </tr>\n",
       "    <tr>\n",
       "      <th>Пушкин</th>\n",
       "      <td>369</td>\n",
       "      <td>103125.82</td>\n",
       "    </tr>\n",
       "    <tr>\n",
       "      <th>Колпино</th>\n",
       "      <td>338</td>\n",
       "      <td>75424.58</td>\n",
       "    </tr>\n",
       "    <tr>\n",
       "      <th>поселок Парголово</th>\n",
       "      <td>327</td>\n",
       "      <td>90175.91</td>\n",
       "    </tr>\n",
       "    <tr>\n",
       "      <th>Гатчина</th>\n",
       "      <td>307</td>\n",
       "      <td>68746.15</td>\n",
       "    </tr>\n",
       "    <tr>\n",
       "      <th>деревня Кудрово</th>\n",
       "      <td>299</td>\n",
       "      <td>92473.55</td>\n",
       "    </tr>\n",
       "    <tr>\n",
       "      <th>Выборг</th>\n",
       "      <td>237</td>\n",
       "      <td>58141.91</td>\n",
       "    </tr>\n",
       "  </tbody>\n",
       "</table>\n",
       "</div>"
      ],
      "text/plain": [
       "                   Количество объвлений  Средняя цена\n",
       "Населенный пункт                                     \n",
       "Санкт-Петербург                   15714     114645.78\n",
       "поселок Мурино                      555      85653.61\n",
       "поселок Шушары                      440      78677.36\n",
       "Всеволожск                          398      68654.47\n",
       "Пушкин                              369     103125.82\n",
       "Колпино                             338      75424.58\n",
       "поселок Парголово                   327      90175.91\n",
       "Гатчина                             307      68746.15\n",
       "деревня Кудрово                     299      92473.55\n",
       "Выборг                              237      58141.91"
      ]
     },
     "execution_count": 82,
     "metadata": {},
     "output_type": "execute_result"
    }
   ],
   "source": [
    "# запись сводной талицы в переменную `locality_price`\n",
    "locality_price = \\\n",
    "(\n",
    "    data.pivot_table(\n",
    "        index='locality_name_dupless', \n",
    "        values='price_meter', \n",
    "        aggfunc=['count', 'mean'])\n",
    ")\n",
    "# переименование названия столбцов\n",
    "locality_price.columns = ['Количество объвлений', 'Средняя цена']\n",
    "\n",
    "# переименование индекса, сортировка по убыванию, вывод 10 первых строк\n",
    "(\n",
    "    locality_price\n",
    "    .rename_axis('Населенный пункт')\n",
    "    .sort_values(by='Количество объвлений', ascending=False)\n",
    "    .head(10)\n",
    ")"
   ]
  },
  {
   "cell_type": "markdown",
   "id": "7d2de645-ec6e-45bc-aac1-45627823bf5f",
   "metadata": {
    "id": "3697d2a9"
   },
   "source": [
    "Населённые пункты с самой высокой/низкой стоимостью квадратного метра."
   ]
  },
  {
   "cell_type": "code",
   "execution_count": 83,
   "id": "b4b8eccd-0ec4-492b-b9d5-ac1301cae766",
   "metadata": {},
   "outputs": [
    {
     "data": {
      "text/markdown": [
       "В городе **\"Санкт-Петербург\"** самая высокая стоимость квадратного метра **1736842.11**"
      ],
      "text/plain": [
       "<IPython.core.display.Markdown object>"
      ]
     },
     "metadata": {},
     "output_type": "display_data"
    },
    {
     "data": {
      "text/markdown": [
       "В **\"поселок станции Свирь\"** самая низкая стоимость квадратного метра **7962.96**"
      ],
      "text/plain": [
       "<IPython.core.display.Markdown object>"
      ]
     },
     "metadata": {},
     "output_type": "display_data"
    }
   ],
   "source": [
    "# запись максимальной цены в переменную`max_price`\n",
    "max_price = data['price_meter'].max()\n",
    "\n",
    "# вывод значения `locality_name_dupless` с максимальной ценой\n",
    "display(\n",
    "    Markdown(\n",
    "        f'В городе **\"{data.query(\"price_meter == @max_price\")[\"locality_name_dupless\"].values[0]}\"**'\n",
    "        f' самая высокая стоимость квадратного метра **{max_price}**')\n",
    ")\n",
    "\n",
    "# запись минимальной цены в переменную`min_price`\n",
    "min_price = data['price_meter'].min()\n",
    "\n",
    "# вывод значения `locality_name_dupless` с минимальной ценой\n",
    "display(\n",
    "    Markdown(\n",
    "        f'В **\"{data.query(\"price_meter == @min_price\")[\"locality_name_dupless\"].values[0]}\"**'\n",
    "        f' самая низкая стоимость квадратного метра **{min_price}**')\n",
    ")"
   ]
  },
  {
   "cell_type": "markdown",
   "id": "3acfb6c7-1a4a-4a03-8af0-208aaa30d762",
   "metadata": {
    "id": "cf05ed63"
   },
   "source": [
    "<div style=\"border:solid gray 1px; padding: 20px\">\n",
    "\n",
    "**Выводы:** \n",
    "\n",
    "1. Больше всего объвлений о продаже евартир в городе Санкт-Петербург - **15714**\n",
    "2. В Санкт-Петербурге и самая высокая стоимость квадратного метра - **1 736 842** руб.\n",
    "3. Самая низкая стоимость квадратного метра в поселке при станции Свирь - **7 962** руб."
   ]
  },
  {
   "cell_type": "markdown",
   "id": "ddea3a5b",
   "metadata": {},
   "source": [
    "<p>\n",
    "<div class=\"alert-success\">\n",
    "<b>Комментарий ревьюера 2 ✔️</b>\n",
    "\n",
    "    \n",
    "👍</div>"
   ]
  },
  {
   "cell_type": "markdown",
   "id": "3137d257",
   "metadata": {
    "deletable": false,
    "id": "3137d257",
    "slideshow": {
     "slide_type": ""
    },
    "tags": []
   },
   "source": [
    "<a id=\"center_distance\"></a>\n",
    "### Зависимость стоимости квартир от расстояния до центра города"
   ]
  },
  {
   "cell_type": "markdown",
   "id": "cf40012a",
   "metadata": {
    "deletable": false,
    "id": "cf40012a",
    "slideshow": {
     "slide_type": ""
    },
    "tags": []
   },
   "source": [
    "Построим график зависимости и рассчитаем коэффициент корреляции Пирсона для квартир в городе Санкт-Петербург"
   ]
  },
  {
   "cell_type": "code",
   "execution_count": 84,
   "id": "d7d57b68-4616-4ec0-9df7-28dafbceb751",
   "metadata": {},
   "outputs": [
    {
     "data": {
      "image/png": "[encoded data removed]",
      "text/plain": [
       "<Figure size 864x360 with 1 Axes>"
      ]
     },
     "metadata": {
      "needs_background": "light"
     },
     "output_type": "display_data"
    },
    {
     "data": {
      "text/markdown": [
       "Коэффициент корреляции: **-0.31**"
      ],
      "text/plain": [
       "<IPython.core.display.Markdown object>"
      ]
     },
     "metadata": {},
     "output_type": "display_data"
    }
   ],
   "source": [
    "# запись таблицы квартир Санкт-петербурга в `data_spb` \n",
    "data_spb = data.query('locality_name == \"Санкт-Петербург\"')\n",
    "\n",
    "# расчет сводной таблицы и построение графика` \n",
    "(\n",
    "    data_spb\n",
    "    .pivot_table(index='cityCenters_km', values='last_price')\n",
    "    .plot(\n",
    "        grid=True, \n",
    "        figsize=(12, 5),\n",
    "        ylabel='Стоимость квартиры',\n",
    "        xlabel='Расстояние до центра города, км',\n",
    "        legend=False,\n",
    "        title='Зависимость стоимости квартиры в Санкт-Петербурге от расстояния до центра города')\n",
    ")   \n",
    "plt.show()\n",
    "\n",
    "# вывод коэффициента корреляции между значениями в `last_price` и `cityCenters_km`\n",
    "display(\n",
    "    Markdown(\n",
    "        f\"Коэффициент корреляции: \"\n",
    "        f\"**{data_spb['last_price'].corr(data_spb['cityCenters_km']):.2f}**\")\n",
    ")"
   ]
  },
  {
   "cell_type": "markdown",
   "id": "423f76f1-ff7d-41a8-a7ab-c1d6393a29d5",
   "metadata": {
    "id": "cf05ed63"
   },
   "source": [
    "<div style=\"border:solid gray 1px; padding: 20px\">\n",
    "\n",
    "**Выводы:** \n",
    "\n",
    "1. График и коэффициент корреляции указывают на слабую отрицательную связь между удаленнлстью квартир в Санкт-Петербурге от центра города и их стоимостью. \n",
    "2. Удаление квартиры от центра не всегда приводит к уменьшению ее стоимости. Например на графике удаленность между ~ 2,5 - 7 км.\n",
    "3. Наличие парков, водоемов, инфраструктуры может снизить негативное влияние удаленности от центра"
   ]
  },
  {
   "cell_type": "markdown",
   "id": "5e71f5d7",
   "metadata": {},
   "source": [
    "<p>\n",
    "<div class=\"alert-success\">\n",
    "<b>Комментарий ревьюера 2 ✔️</b>\n",
    "\n",
    "    \n",
    "👍</div>"
   ]
  },
  {
   "cell_type": "markdown",
   "id": "57bc304e",
   "metadata": {
    "deletable": false,
    "id": "57bc304e",
    "slideshow": {
     "slide_type": ""
    },
    "tags": []
   },
   "source": [
    "<a id=\"research_results\"></a>\n",
    "## Итоги исследования"
   ]
  },
  {
   "cell_type": "markdown",
   "id": "1ab75d1c",
   "metadata": {
    "deletable": false,
    "id": "1ab75d1c",
    "slideshow": {
     "slide_type": ""
    },
    "tags": []
   },
   "source": [
    "Результаты исследования рыночной стоимости объектов недвижимости могут быть использованы для построения автоматизированной системы отслеживания аномалий и мошеннической деятельности.\n",
    "\n",
    "**Установлено**:\n",
    "\n",
    "\n",
    "1. Редкие и аномальные значения:\n",
    "   - большие значения обшей площади квартир\n",
    "   - редкие маленькие значения жилой площади\n",
    "   - маленькие значения площади кухни\n",
    "   - аномально высокие и низкие значения стоимости\n",
    "   - \"нулевые\" значения количества комнат\n",
    "   - двузначные и трехзначное значения высоты потолков\n",
    "   - большие значения этажности дома\n",
    "2. **Обычно** продажа квартиры происходит в течение **95** дней после размещения объявления. **Быстрая** продажа квартиры происходит в течение **45** дней после размещения объявления. Необычно **долгая** продажа - после **513** дней размещения.\n",
    "3. Больше всего на стоимоость квартиры влияет **общая и жилая** площади квартиры. Увеличение этих площадей приводит к увеличению стоимости квартиры. Расположение на первом или последнем этаже может снижать стоимость квартиры.\n",
    "5. Cамая **высокая** стоимость квадратного метраВ Санкт-Петербурге - **1 736 842** руб. А самая **низкая** в поселке при станции Свирь - **7 962** руб.\n",
    "6. Удаление квартиры от центра Санкт-Петербурга не всегда приводит к уменьшению ее стоимости. Наличие парков, водоемов, инфраструктуры может снизить негативное влияние удаленности от центра на стоимость квартиры.\n",
    "   \n",
    "**Рекомендации**:\n",
    "\n",
    "1. Повысить квачество и процент собираемости данных из геосервисов. Например, расстояние до центра города, аэропорта и других объектов.\n",
    "2. Провести дополнительное исследование про влияние на стоимость: типа квартиры, удаленности от парков, водоемов и аэропортов.\n",
    "3. Выявить возможные причины появления пропусков. Исключить технические ошибки и снизить влияние человеческого фактора за счет автоматического контроля корректности заполнения ключевой информации"
   ]
  },
  {
   "cell_type": "markdown",
   "id": "d4998af9",
   "metadata": {},
   "source": [
    "<p>\n",
    "<div class=\"alert-danger\">\n",
    "<b>Комментарий ревьюера ❌</b>\n",
    "    \n",
    "После внесения изменений в проект, нужно будет пересмотреть вывод. Молодец, что пишешь подробный вывод!"
   ]
  },
  {
   "cell_type": "markdown",
   "id": "beaba94e-1690-486a-82e8-742492f682a3",
   "metadata": {},
   "source": [
    "<div class=\"alert-info\">\n",
    "<b>Александр</b>\n",
    "\n",
    "Исправил</div>"
   ]
  },
  {
   "cell_type": "markdown",
   "id": "9a553685",
   "metadata": {},
   "source": [
    "<p>\n",
    "<div class=\"alert-success\">\n",
    "<b>Комментарий ревьюера 2 ✔️</b>\n",
    "\n",
    "    \n",
    "Отлично 👍</div>"
   ]
  },
  {
   "cell_type": "markdown",
   "id": "b119c206",
   "metadata": {},
   "source": [
    "<div style=\"border:solid green 3px; padding: 20px\">\n",
    "\n",
    "**Общий вывод по проекту**\n",
    "\n",
    "Александр, спасибо за проделанную работу. Мне понравился твой подход, оформление проекта, подробное исследование, ты большой молодец! Есть несколько важных моментов, которые я отметила и которые можно было бы улучшить, подсказки ты найдешь в моих комментариях. \n",
    "\n",
    "\n",
    "**Что нужно переделать, чтобы я приняла твой проект🤓**:\n",
    "    \n",
    "* Отфильтровать нули перед исследованием скорости продажи квартир\n",
    "* Сделать барплоты для определения зависимости цены от типа этажа, дня недели, года, и месяца.\n",
    "* Поправить ошибку в коде\n",
    "* После исправлений пересмотреть зависимости и переписать выводы.\n",
    "\n",
    "**Рекомендации ты найдешь в моих комментариях!**\n",
    "    \n",
    "\n",
    "\n",
    "Полезная ссылка на тему построения графиков, с примерами:\n",
    "\n",
    "https://habr.com/ru/post/468295/\n",
    "\n",
    "\n",
    "\n",
    "**Желаю удачи и жду твой проект на повторное ревью!**😉"
   ]
  },
  {
   "cell_type": "markdown",
   "id": "f33fe975",
   "metadata": {},
   "source": [
    "<div style=\"border:solid green 3px; padding: 20px\">\n",
    "\n",
    "**Общий вывод по проекту 2**\n",
    "\n",
    "Александр, поздравляю со сдачей проекта!  🎉 🎉 🎉\n",
    "\n",
    "Советую тебе бесплатный курс по статистике, можно посмотреть отдельно интересующие тебя темы:\n",
    "    \n",
    "https://stepik.org/course/76/"
   ]
  },
  {
   "cell_type": "markdown",
   "id": "4eb62815-1626-4e1a-b14f-fc4eef39d252",
   "metadata": {
    "slideshow": {
     "slide_type": ""
    },
    "tags": []
   },
   "source": [
    "[Вернуться в начало](#intro)"
   ]
  }
 ],
 "metadata": {
  "ExecuteTimeLog": [
   {
    "duration": 66,
    "start_time": "2024-07-27T12:39:50.335Z"
   },
   {
    "duration": 508,
    "start_time": "2024-07-27T12:40:05.184Z"
   },
   {
    "duration": 25,
    "start_time": "2024-07-27T12:40:05.694Z"
   },
   {
    "duration": 51,
    "start_time": "2024-07-27T12:40:05.723Z"
   },
   {
    "duration": 16,
    "start_time": "2024-07-27T12:40:05.788Z"
   },
   {
    "duration": 73,
    "start_time": "2024-07-27T12:40:05.806Z"
   },
   {
    "duration": 4,
    "start_time": "2024-07-27T12:40:05.880Z"
   },
   {
    "duration": 29,
    "start_time": "2024-07-27T12:40:05.886Z"
   },
   {
    "duration": 10,
    "start_time": "2024-07-27T12:40:05.918Z"
   },
   {
    "duration": 9,
    "start_time": "2024-07-27T12:40:05.931Z"
   },
   {
    "duration": 5,
    "start_time": "2024-07-27T12:40:05.942Z"
   },
   {
    "duration": 49,
    "start_time": "2024-07-27T12:40:05.950Z"
   },
   {
    "duration": 10,
    "start_time": "2024-07-27T12:40:06.001Z"
   },
   {
    "duration": 4,
    "start_time": "2024-07-27T12:40:06.013Z"
   },
   {
    "duration": 46,
    "start_time": "2024-07-27T12:40:06.019Z"
   },
   {
    "duration": 52,
    "start_time": "2024-07-27T12:40:06.066Z"
   },
   {
    "duration": 18,
    "start_time": "2024-07-27T12:40:06.119Z"
   },
   {
    "duration": 5,
    "start_time": "2024-07-27T12:40:06.139Z"
   },
   {
    "duration": 31,
    "start_time": "2024-07-27T12:40:06.146Z"
   },
   {
    "duration": 9,
    "start_time": "2024-07-27T12:40:06.179Z"
   },
   {
    "duration": 5,
    "start_time": "2024-07-27T12:40:06.190Z"
   },
   {
    "duration": 13,
    "start_time": "2024-07-27T12:40:06.206Z"
   },
   {
    "duration": 14,
    "start_time": "2024-07-27T12:40:06.221Z"
   },
   {
    "duration": 3,
    "start_time": "2024-07-27T12:40:06.248Z"
   },
   {
    "duration": 17,
    "start_time": "2024-07-27T12:40:06.264Z"
   },
   {
    "duration": 11,
    "start_time": "2024-07-27T12:40:06.283Z"
   },
   {
    "duration": 93,
    "start_time": "2024-07-27T12:46:59.602Z"
   },
   {
    "duration": 8,
    "start_time": "2024-07-27T12:47:11.492Z"
   },
   {
    "duration": 10,
    "start_time": "2024-07-27T12:48:03.155Z"
   },
   {
    "duration": 15,
    "start_time": "2024-07-27T12:49:50.594Z"
   },
   {
    "duration": 18,
    "start_time": "2024-07-27T13:13:33.863Z"
   },
   {
    "duration": 11,
    "start_time": "2024-07-27T13:13:50.089Z"
   },
   {
    "duration": 12,
    "start_time": "2024-07-27T13:17:05.693Z"
   },
   {
    "duration": 68,
    "start_time": "2024-07-27T13:27:04.492Z"
   },
   {
    "duration": 27,
    "start_time": "2024-07-27T13:27:16.334Z"
   },
   {
    "duration": 15,
    "start_time": "2024-07-27T13:27:54.548Z"
   },
   {
    "duration": 81,
    "start_time": "2024-07-27T13:37:45.242Z"
   },
   {
    "duration": 67,
    "start_time": "2024-07-27T13:38:03.155Z"
   },
   {
    "duration": 15,
    "start_time": "2024-07-27T13:38:32.617Z"
   },
   {
    "duration": 18,
    "start_time": "2024-07-27T13:41:26.166Z"
   },
   {
    "duration": 15,
    "start_time": "2024-07-27T13:43:00.742Z"
   },
   {
    "duration": 13,
    "start_time": "2024-07-27T13:46:53.286Z"
   },
   {
    "duration": 14,
    "start_time": "2024-07-27T13:49:06.281Z"
   },
   {
    "duration": 15,
    "start_time": "2024-07-27T13:56:38.832Z"
   },
   {
    "duration": 14,
    "start_time": "2024-07-27T13:56:58.271Z"
   },
   {
    "duration": 17,
    "start_time": "2024-07-27T14:20:36.959Z"
   },
   {
    "duration": 63,
    "start_time": "2024-07-27T14:22:46.235Z"
   },
   {
    "duration": 8,
    "start_time": "2024-07-27T14:22:52.273Z"
   },
   {
    "duration": 24,
    "start_time": "2024-07-27T16:01:25.616Z"
   },
   {
    "duration": 102,
    "start_time": "2024-07-27T16:03:04.760Z"
   },
   {
    "duration": 6,
    "start_time": "2024-07-27T16:04:41.326Z"
   },
   {
    "duration": 5,
    "start_time": "2024-07-27T16:05:10.910Z"
   },
   {
    "duration": 11,
    "start_time": "2024-07-27T16:05:46.689Z"
   },
   {
    "duration": 8,
    "start_time": "2024-07-27T16:05:52.729Z"
   },
   {
    "duration": 5,
    "start_time": "2024-07-27T16:06:07.468Z"
   },
   {
    "duration": 7,
    "start_time": "2024-07-27T16:09:35.553Z"
   },
   {
    "duration": 5,
    "start_time": "2024-07-27T16:09:46.082Z"
   },
   {
    "duration": 5,
    "start_time": "2024-07-27T16:09:54.181Z"
   },
   {
    "duration": 15,
    "start_time": "2024-07-27T16:11:27.797Z"
   },
   {
    "duration": 4,
    "start_time": "2024-07-27T16:11:33.430Z"
   },
   {
    "duration": 4,
    "start_time": "2024-07-27T16:13:33.856Z"
   },
   {
    "duration": 25,
    "start_time": "2024-07-27T16:18:38.188Z"
   },
   {
    "duration": 19,
    "start_time": "2024-07-27T16:19:12.668Z"
   },
   {
    "duration": 30,
    "start_time": "2024-07-27T16:26:09.240Z"
   },
   {
    "duration": 20,
    "start_time": "2024-07-27T16:26:24.419Z"
   },
   {
    "duration": 16,
    "start_time": "2024-07-27T16:28:06.807Z"
   },
   {
    "duration": 26,
    "start_time": "2024-07-27T16:28:36.215Z"
   },
   {
    "duration": 26,
    "start_time": "2024-07-27T16:33:27.639Z"
   },
   {
    "duration": 24,
    "start_time": "2024-07-27T16:33:44.447Z"
   },
   {
    "duration": 9,
    "start_time": "2024-07-27T16:44:40.093Z"
   },
   {
    "duration": 21,
    "start_time": "2024-07-27T16:44:48.421Z"
   },
   {
    "duration": 15,
    "start_time": "2024-07-27T16:45:21.031Z"
   },
   {
    "duration": 23,
    "start_time": "2024-07-27T16:45:56.277Z"
   },
   {
    "duration": 14,
    "start_time": "2024-07-27T16:48:03.473Z"
   },
   {
    "duration": 16,
    "start_time": "2024-07-27T16:48:07.093Z"
   },
   {
    "duration": 24,
    "start_time": "2024-07-27T16:51:23.309Z"
   },
   {
    "duration": 6,
    "start_time": "2024-07-28T08:19:34.949Z"
   },
   {
    "duration": 4,
    "start_time": "2024-07-28T08:19:48.077Z"
   },
   {
    "duration": 10,
    "start_time": "2024-07-28T08:21:03.793Z"
   },
   {
    "duration": 10,
    "start_time": "2024-07-28T08:21:24.469Z"
   },
   {
    "duration": 10,
    "start_time": "2024-07-28T08:21:58.895Z"
   },
   {
    "duration": 482,
    "start_time": "2024-07-28T08:22:11.477Z"
   },
   {
    "duration": 23,
    "start_time": "2024-07-28T08:22:11.961Z"
   },
   {
    "duration": 22,
    "start_time": "2024-07-28T08:22:11.989Z"
   },
   {
    "duration": 33,
    "start_time": "2024-07-28T08:22:12.013Z"
   },
   {
    "duration": 37,
    "start_time": "2024-07-28T08:22:12.048Z"
   },
   {
    "duration": 4,
    "start_time": "2024-07-28T08:22:12.086Z"
   },
   {
    "duration": 18,
    "start_time": "2024-07-28T08:22:12.091Z"
   },
   {
    "duration": 4,
    "start_time": "2024-07-28T08:22:12.111Z"
   },
   {
    "duration": 28,
    "start_time": "2024-07-28T08:22:12.118Z"
   },
   {
    "duration": 5,
    "start_time": "2024-07-28T08:22:12.147Z"
   },
   {
    "duration": 43,
    "start_time": "2024-07-28T08:22:12.153Z"
   },
   {
    "duration": 11,
    "start_time": "2024-07-28T08:22:12.198Z"
   },
   {
    "duration": 14,
    "start_time": "2024-07-28T08:22:12.210Z"
   },
   {
    "duration": 23,
    "start_time": "2024-07-28T08:22:12.225Z"
   },
   {
    "duration": 26,
    "start_time": "2024-07-28T08:22:12.249Z"
   },
   {
    "duration": 17,
    "start_time": "2024-07-28T08:22:12.276Z"
   },
   {
    "duration": 13,
    "start_time": "2024-07-28T08:22:12.295Z"
   },
   {
    "duration": 14,
    "start_time": "2024-07-28T08:22:12.310Z"
   },
   {
    "duration": 20,
    "start_time": "2024-07-28T08:22:12.326Z"
   },
   {
    "duration": 4,
    "start_time": "2024-07-28T08:22:12.348Z"
   },
   {
    "duration": 10,
    "start_time": "2024-07-28T08:22:12.353Z"
   },
   {
    "duration": 5,
    "start_time": "2024-07-28T08:22:12.364Z"
   },
   {
    "duration": 10,
    "start_time": "2024-07-28T08:22:12.370Z"
   },
   {
    "duration": 5,
    "start_time": "2024-07-28T08:22:12.381Z"
   },
   {
    "duration": 13,
    "start_time": "2024-07-28T08:22:12.388Z"
   },
   {
    "duration": 56,
    "start_time": "2024-07-28T08:22:12.403Z"
   },
   {
    "duration": 2,
    "start_time": "2024-07-28T08:22:12.462Z"
   },
   {
    "duration": 31,
    "start_time": "2024-07-28T08:22:12.466Z"
   },
   {
    "duration": 15,
    "start_time": "2024-07-28T08:22:56.834Z"
   },
   {
    "duration": 18,
    "start_time": "2024-07-28T08:24:12.568Z"
   },
   {
    "duration": 11,
    "start_time": "2024-07-28T08:24:26.711Z"
   },
   {
    "duration": 15,
    "start_time": "2024-07-28T08:24:36.238Z"
   },
   {
    "duration": 20,
    "start_time": "2024-07-28T08:26:09.223Z"
   },
   {
    "duration": 17,
    "start_time": "2024-07-28T08:26:43.218Z"
   },
   {
    "duration": 84,
    "start_time": "2024-07-28T08:58:13.264Z"
   },
   {
    "duration": 19,
    "start_time": "2024-07-28T08:58:43.864Z"
   },
   {
    "duration": 15,
    "start_time": "2024-07-28T09:00:54.320Z"
   },
   {
    "duration": 18,
    "start_time": "2024-07-28T09:22:17.625Z"
   },
   {
    "duration": 15,
    "start_time": "2024-07-28T09:22:48.793Z"
   },
   {
    "duration": 16,
    "start_time": "2024-07-28T09:23:13.522Z"
   },
   {
    "duration": 16,
    "start_time": "2024-07-28T09:23:25.045Z"
   },
   {
    "duration": 15,
    "start_time": "2024-07-28T09:25:42.862Z"
   },
   {
    "duration": 16,
    "start_time": "2024-07-28T09:27:13.322Z"
   },
   {
    "duration": 15,
    "start_time": "2024-07-28T09:27:22.751Z"
   },
   {
    "duration": 24,
    "start_time": "2024-07-28T09:27:38.639Z"
   },
   {
    "duration": 16,
    "start_time": "2024-07-28T09:29:08.233Z"
   },
   {
    "duration": 19,
    "start_time": "2024-07-28T10:03:32.915Z"
   },
   {
    "duration": 17,
    "start_time": "2024-07-28T10:04:22.675Z"
   },
   {
    "duration": 21,
    "start_time": "2024-07-28T10:04:43.745Z"
   },
   {
    "duration": 36,
    "start_time": "2024-07-28T14:58:36.355Z"
   },
   {
    "duration": 8,
    "start_time": "2024-07-28T15:00:02.047Z"
   },
   {
    "duration": 7,
    "start_time": "2024-07-28T15:00:19.011Z"
   },
   {
    "duration": 8,
    "start_time": "2024-07-28T15:00:24.432Z"
   },
   {
    "duration": 17,
    "start_time": "2024-07-28T15:01:07.646Z"
   },
   {
    "duration": 10,
    "start_time": "2024-07-28T15:01:27.725Z"
   },
   {
    "duration": 8,
    "start_time": "2024-07-28T15:01:47.888Z"
   },
   {
    "duration": 505,
    "start_time": "2024-07-29T10:45:02.245Z"
   },
   {
    "duration": 22,
    "start_time": "2024-07-29T10:45:02.752Z"
   },
   {
    "duration": 19,
    "start_time": "2024-07-29T10:45:02.776Z"
   },
   {
    "duration": 10,
    "start_time": "2024-07-29T10:45:02.797Z"
   },
   {
    "duration": 45,
    "start_time": "2024-07-29T10:45:02.809Z"
   },
   {
    "duration": 9,
    "start_time": "2024-07-29T10:45:02.856Z"
   },
   {
    "duration": 18,
    "start_time": "2024-07-29T10:45:02.867Z"
   },
   {
    "duration": 8,
    "start_time": "2024-07-29T10:45:02.886Z"
   },
   {
    "duration": 8,
    "start_time": "2024-07-29T10:45:02.895Z"
   },
   {
    "duration": 5,
    "start_time": "2024-07-29T10:45:02.904Z"
   },
   {
    "duration": 110,
    "start_time": "2024-07-29T10:45:02.911Z"
   },
   {
    "duration": 10,
    "start_time": "2024-07-29T10:45:03.023Z"
   },
   {
    "duration": 10,
    "start_time": "2024-07-29T10:45:03.035Z"
   },
   {
    "duration": 29,
    "start_time": "2024-07-29T10:45:03.048Z"
   },
   {
    "duration": 24,
    "start_time": "2024-07-29T10:45:03.079Z"
   },
   {
    "duration": 17,
    "start_time": "2024-07-29T10:45:03.104Z"
   },
   {
    "duration": 3,
    "start_time": "2024-07-29T10:45:03.122Z"
   },
   {
    "duration": 19,
    "start_time": "2024-07-29T10:45:03.127Z"
   },
   {
    "duration": 23,
    "start_time": "2024-07-29T10:45:03.147Z"
   },
   {
    "duration": 19,
    "start_time": "2024-07-29T10:45:03.172Z"
   },
   {
    "duration": 21,
    "start_time": "2024-07-29T10:45:03.192Z"
   },
   {
    "duration": 26,
    "start_time": "2024-07-29T10:45:03.214Z"
   },
   {
    "duration": 15,
    "start_time": "2024-07-29T10:45:03.241Z"
   },
   {
    "duration": 11,
    "start_time": "2024-07-29T10:45:03.257Z"
   },
   {
    "duration": 23,
    "start_time": "2024-07-29T10:45:03.270Z"
   },
   {
    "duration": 97,
    "start_time": "2024-07-29T10:45:03.295Z"
   },
   {
    "duration": 14,
    "start_time": "2024-07-29T10:45:03.394Z"
   },
   {
    "duration": 15,
    "start_time": "2024-07-29T10:45:03.409Z"
   },
   {
    "duration": 444,
    "start_time": "2024-07-30T04:39:10.402Z"
   },
   {
    "duration": 21,
    "start_time": "2024-07-30T04:39:10.848Z"
   },
   {
    "duration": 15,
    "start_time": "2024-07-30T04:39:10.871Z"
   },
   {
    "duration": 10,
    "start_time": "2024-07-30T04:39:10.888Z"
   },
   {
    "duration": 33,
    "start_time": "2024-07-30T04:39:10.900Z"
   },
   {
    "duration": 26,
    "start_time": "2024-07-30T04:39:10.935Z"
   },
   {
    "duration": 21,
    "start_time": "2024-07-30T04:39:10.963Z"
   },
   {
    "duration": 4,
    "start_time": "2024-07-30T04:39:10.985Z"
   },
   {
    "duration": 8,
    "start_time": "2024-07-30T04:39:10.991Z"
   },
   {
    "duration": 4,
    "start_time": "2024-07-30T04:39:11.001Z"
   },
   {
    "duration": 34,
    "start_time": "2024-07-30T04:39:11.006Z"
   },
   {
    "duration": 25,
    "start_time": "2024-07-30T04:39:11.041Z"
   },
   {
    "duration": 2,
    "start_time": "2024-07-30T04:39:11.068Z"
   },
   {
    "duration": 12,
    "start_time": "2024-07-30T04:39:11.072Z"
   },
   {
    "duration": 19,
    "start_time": "2024-07-30T04:39:11.086Z"
   },
   {
    "duration": 16,
    "start_time": "2024-07-30T04:39:11.106Z"
   },
   {
    "duration": 3,
    "start_time": "2024-07-30T04:39:11.124Z"
   },
   {
    "duration": 41,
    "start_time": "2024-07-30T04:39:11.129Z"
   },
   {
    "duration": 7,
    "start_time": "2024-07-30T04:39:11.172Z"
   },
   {
    "duration": 5,
    "start_time": "2024-07-30T04:39:11.180Z"
   },
   {
    "duration": 9,
    "start_time": "2024-07-30T04:39:11.186Z"
   },
   {
    "duration": 4,
    "start_time": "2024-07-30T04:39:11.197Z"
   },
   {
    "duration": 14,
    "start_time": "2024-07-30T04:39:11.202Z"
   },
   {
    "duration": 5,
    "start_time": "2024-07-30T04:39:11.218Z"
   },
   {
    "duration": 42,
    "start_time": "2024-07-30T04:39:11.224Z"
   },
   {
    "duration": 29,
    "start_time": "2024-07-30T04:39:11.267Z"
   },
   {
    "duration": 14,
    "start_time": "2024-07-30T04:39:11.297Z"
   },
   {
    "duration": 15,
    "start_time": "2024-07-30T04:39:11.314Z"
   },
   {
    "duration": 25,
    "start_time": "2024-07-30T04:45:21.145Z"
   },
   {
    "duration": 66,
    "start_time": "2024-08-14T15:52:06.117Z"
   },
   {
    "duration": 791,
    "start_time": "2024-08-14T15:52:17.887Z"
   },
   {
    "duration": 23,
    "start_time": "2024-08-14T15:52:18.680Z"
   },
   {
    "duration": 15,
    "start_time": "2024-08-14T15:52:18.704Z"
   },
   {
    "duration": 2273,
    "start_time": "2024-08-14T15:52:18.721Z"
   },
   {
    "duration": 16,
    "start_time": "2024-08-14T15:52:20.997Z"
   },
   {
    "duration": 51,
    "start_time": "2024-08-14T15:52:21.015Z"
   },
   {
    "duration": 35,
    "start_time": "2024-08-14T15:52:21.068Z"
   },
   {
    "duration": 19,
    "start_time": "2024-08-14T15:52:21.105Z"
   },
   {
    "duration": 39,
    "start_time": "2024-08-14T15:52:21.126Z"
   },
   {
    "duration": 90,
    "start_time": "2024-08-14T15:52:21.167Z"
   },
   {
    "duration": 184,
    "start_time": "2024-08-14T15:52:21.259Z"
   },
   {
    "duration": 159,
    "start_time": "2024-08-14T15:52:21.445Z"
   },
   {
    "duration": 19,
    "start_time": "2024-08-14T15:52:21.605Z"
   },
   {
    "duration": 20,
    "start_time": "2024-08-14T15:52:21.626Z"
   },
   {
    "duration": 36,
    "start_time": "2024-08-14T15:52:21.648Z"
   },
   {
    "duration": 24,
    "start_time": "2024-08-14T15:52:21.686Z"
   },
   {
    "duration": 19,
    "start_time": "2024-08-14T15:52:21.712Z"
   },
   {
    "duration": 29,
    "start_time": "2024-08-14T15:52:21.733Z"
   },
   {
    "duration": 39,
    "start_time": "2024-08-14T15:52:21.764Z"
   },
   {
    "duration": 48,
    "start_time": "2024-08-14T15:52:21.805Z"
   },
   {
    "duration": 19,
    "start_time": "2024-08-14T15:52:21.855Z"
   },
   {
    "duration": 30,
    "start_time": "2024-08-14T15:52:21.876Z"
   },
   {
    "duration": 58,
    "start_time": "2024-08-14T15:52:21.909Z"
   },
   {
    "duration": 225,
    "start_time": "2024-08-14T15:52:21.970Z"
   },
   {
    "duration": 74,
    "start_time": "2024-08-14T15:52:22.196Z"
   },
   {
    "duration": 32,
    "start_time": "2024-08-14T15:52:22.272Z"
   },
   {
    "duration": 10,
    "start_time": "2024-08-14T15:52:22.305Z"
   },
   {
    "duration": 24,
    "start_time": "2024-08-14T15:52:22.316Z"
   },
   {
    "duration": 14,
    "start_time": "2024-08-14T15:52:22.342Z"
   },
   {
    "duration": 204,
    "start_time": "2024-08-14T15:52:22.358Z"
   },
   {
    "duration": 74,
    "start_time": "2024-08-14T15:52:22.563Z"
   },
   {
    "duration": 34,
    "start_time": "2024-08-14T15:52:22.639Z"
   },
   {
    "duration": 9,
    "start_time": "2024-08-14T15:52:22.674Z"
   },
   {
    "duration": 29,
    "start_time": "2024-08-14T15:52:22.685Z"
   },
   {
    "duration": 6,
    "start_time": "2024-08-14T15:52:22.715Z"
   },
   {
    "duration": 190,
    "start_time": "2024-08-14T15:52:22.723Z"
   },
   {
    "duration": 9,
    "start_time": "2024-08-14T15:52:22.915Z"
   },
   {
    "duration": 44,
    "start_time": "2024-08-14T15:52:22.926Z"
   },
   {
    "duration": 9,
    "start_time": "2024-08-14T15:52:22.972Z"
   },
   {
    "duration": 88,
    "start_time": "2024-08-14T15:52:22.982Z"
   },
   {
    "duration": 18,
    "start_time": "2024-08-14T15:52:23.075Z"
   },
   {
    "duration": 234,
    "start_time": "2024-08-14T15:52:23.094Z"
   },
   {
    "duration": 8,
    "start_time": "2024-08-14T15:52:23.330Z"
   },
   {
    "duration": 58,
    "start_time": "2024-08-14T15:52:23.340Z"
   },
   {
    "duration": 23,
    "start_time": "2024-08-14T15:52:23.400Z"
   },
   {
    "duration": 203,
    "start_time": "2024-08-14T15:52:23.425Z"
   },
   {
    "duration": 9,
    "start_time": "2024-08-14T15:52:23.629Z"
   },
   {
    "duration": 50,
    "start_time": "2024-08-14T15:52:23.640Z"
   },
   {
    "duration": 24,
    "start_time": "2024-08-14T15:52:23.692Z"
   },
   {
    "duration": 171,
    "start_time": "2024-08-14T15:52:23.717Z"
   },
   {
    "duration": 11,
    "start_time": "2024-08-14T15:52:23.889Z"
   },
   {
    "duration": 192,
    "start_time": "2024-08-14T15:52:23.902Z"
   },
   {
    "duration": 7,
    "start_time": "2024-08-14T15:52:24.096Z"
   },
   {
    "duration": 41,
    "start_time": "2024-08-14T15:52:24.104Z"
   },
   {
    "duration": 163,
    "start_time": "2024-08-14T15:52:24.146Z"
   },
   {
    "duration": 8,
    "start_time": "2024-08-14T15:52:24.310Z"
   },
   {
    "duration": 43,
    "start_time": "2024-08-14T15:52:24.320Z"
   },
   {
    "duration": 14,
    "start_time": "2024-08-14T15:52:24.365Z"
   },
   {
    "duration": 194,
    "start_time": "2024-08-14T15:52:24.381Z"
   },
   {
    "duration": 34,
    "start_time": "2024-08-14T15:52:24.577Z"
   },
   {
    "duration": 9,
    "start_time": "2024-08-14T15:52:24.613Z"
   },
   {
    "duration": 50,
    "start_time": "2024-08-14T15:52:24.623Z"
   },
   {
    "duration": 4,
    "start_time": "2024-08-14T15:52:24.675Z"
   },
   {
    "duration": 198,
    "start_time": "2024-08-14T15:52:24.680Z"
   },
   {
    "duration": 35,
    "start_time": "2024-08-14T15:52:24.880Z"
   },
   {
    "duration": 10,
    "start_time": "2024-08-14T15:52:24.917Z"
   },
   {
    "duration": 205,
    "start_time": "2024-08-14T15:52:24.928Z"
   },
   {
    "duration": 11,
    "start_time": "2024-08-14T15:52:25.135Z"
   },
   {
    "duration": 236,
    "start_time": "2024-08-14T15:52:25.160Z"
   },
   {
    "duration": 76,
    "start_time": "2024-08-14T15:52:25.398Z"
   },
   {
    "duration": 144,
    "start_time": "2024-08-14T15:52:25.476Z"
   },
   {
    "duration": 220,
    "start_time": "2024-08-14T15:52:25.621Z"
   },
   {
    "duration": 226,
    "start_time": "2024-08-14T15:52:25.843Z"
   },
   {
    "duration": 208,
    "start_time": "2024-08-14T15:52:26.071Z"
   },
   {
    "duration": 269,
    "start_time": "2024-08-14T15:52:26.281Z"
   },
   {
    "duration": 144,
    "start_time": "2024-08-14T15:52:26.552Z"
   },
   {
    "duration": 406,
    "start_time": "2024-08-14T15:52:26.697Z"
   },
   {
    "duration": 0,
    "start_time": "2024-08-14T15:52:27.106Z"
   },
   {
    "duration": 0,
    "start_time": "2024-08-14T15:52:27.108Z"
   },
   {
    "duration": 0,
    "start_time": "2024-08-14T15:52:27.110Z"
   },
   {
    "duration": 39,
    "start_time": "2024-08-14T15:52:48.549Z"
   },
   {
    "duration": 772,
    "start_time": "2024-08-14T16:29:32.805Z"
   },
   {
    "duration": 24,
    "start_time": "2024-08-14T16:29:33.579Z"
   },
   {
    "duration": 25,
    "start_time": "2024-08-14T16:29:33.605Z"
   },
   {
    "duration": 2041,
    "start_time": "2024-08-14T16:29:33.633Z"
   },
   {
    "duration": 17,
    "start_time": "2024-08-14T16:29:35.676Z"
   },
   {
    "duration": 4,
    "start_time": "2024-08-14T16:29:35.695Z"
   },
   {
    "duration": 7,
    "start_time": "2024-08-14T16:29:35.701Z"
   },
   {
    "duration": 4,
    "start_time": "2024-08-14T16:29:35.709Z"
   },
   {
    "duration": 8,
    "start_time": "2024-08-14T16:29:35.715Z"
   },
   {
    "duration": 66,
    "start_time": "2024-08-14T16:29:35.726Z"
   },
   {
    "duration": 169,
    "start_time": "2024-08-14T16:29:35.794Z"
   },
   {
    "duration": 133,
    "start_time": "2024-08-14T16:29:35.965Z"
   },
   {
    "duration": 17,
    "start_time": "2024-08-14T16:29:36.100Z"
   },
   {
    "duration": 7,
    "start_time": "2024-08-14T16:29:36.119Z"
   },
   {
    "duration": 12,
    "start_time": "2024-08-14T16:29:36.128Z"
   },
   {
    "duration": 24,
    "start_time": "2024-08-14T16:29:36.142Z"
   },
   {
    "duration": 8,
    "start_time": "2024-08-14T16:29:36.167Z"
   },
   {
    "duration": 9,
    "start_time": "2024-08-14T16:29:36.176Z"
   },
   {
    "duration": 8,
    "start_time": "2024-08-14T16:29:36.187Z"
   },
   {
    "duration": 84,
    "start_time": "2024-08-14T16:29:36.196Z"
   },
   {
    "duration": 9,
    "start_time": "2024-08-14T16:29:36.281Z"
   },
   {
    "duration": 25,
    "start_time": "2024-08-14T16:29:36.291Z"
   },
   {
    "duration": 9,
    "start_time": "2024-08-14T16:29:36.317Z"
   },
   {
    "duration": 214,
    "start_time": "2024-08-14T16:29:36.328Z"
   },
   {
    "duration": 88,
    "start_time": "2024-08-14T16:29:36.544Z"
   },
   {
    "duration": 33,
    "start_time": "2024-08-14T16:29:36.634Z"
   },
   {
    "duration": 9,
    "start_time": "2024-08-14T16:29:36.668Z"
   },
   {
    "duration": 24,
    "start_time": "2024-08-14T16:29:36.682Z"
   },
   {
    "duration": 6,
    "start_time": "2024-08-14T16:29:36.707Z"
   },
   {
    "duration": 205,
    "start_time": "2024-08-14T16:29:36.714Z"
   },
   {
    "duration": 287,
    "start_time": "2024-08-14T16:29:36.921Z"
   },
   {
    "duration": 46,
    "start_time": "2024-08-14T16:29:37.209Z"
   },
   {
    "duration": 9,
    "start_time": "2024-08-14T16:29:37.257Z"
   },
   {
    "duration": 22,
    "start_time": "2024-08-14T16:29:37.267Z"
   },
   {
    "duration": 15,
    "start_time": "2024-08-14T16:29:37.290Z"
   },
   {
    "duration": 187,
    "start_time": "2024-08-14T16:29:37.306Z"
   },
   {
    "duration": 9,
    "start_time": "2024-08-14T16:29:37.495Z"
   },
   {
    "duration": 23,
    "start_time": "2024-08-14T16:29:37.506Z"
   },
   {
    "duration": 30,
    "start_time": "2024-08-14T16:29:37.532Z"
   },
   {
    "duration": 26,
    "start_time": "2024-08-14T16:29:37.564Z"
   },
   {
    "duration": 10,
    "start_time": "2024-08-14T16:29:37.592Z"
   },
   {
    "duration": 218,
    "start_time": "2024-08-14T16:29:37.604Z"
   },
   {
    "duration": 10,
    "start_time": "2024-08-14T16:29:37.824Z"
   },
   {
    "duration": 42,
    "start_time": "2024-08-14T16:29:37.836Z"
   },
   {
    "duration": 132,
    "start_time": "2024-08-14T16:29:37.880Z"
   },
   {
    "duration": 177,
    "start_time": "2024-08-14T16:29:38.014Z"
   },
   {
    "duration": 8,
    "start_time": "2024-08-14T16:29:38.193Z"
   },
   {
    "duration": 72,
    "start_time": "2024-08-14T16:29:38.203Z"
   },
   {
    "duration": 4,
    "start_time": "2024-08-14T16:29:38.277Z"
   },
   {
    "duration": 29,
    "start_time": "2024-08-14T16:29:38.283Z"
   },
   {
    "duration": 10,
    "start_time": "2024-08-14T16:29:38.313Z"
   },
   {
    "duration": 183,
    "start_time": "2024-08-14T16:29:38.325Z"
   },
   {
    "duration": 7,
    "start_time": "2024-08-14T16:29:38.510Z"
   },
   {
    "duration": 13,
    "start_time": "2024-08-14T16:29:38.518Z"
   },
   {
    "duration": 159,
    "start_time": "2024-08-14T16:29:38.533Z"
   },
   {
    "duration": 8,
    "start_time": "2024-08-14T16:29:38.694Z"
   },
   {
    "duration": 25,
    "start_time": "2024-08-14T16:29:38.704Z"
   },
   {
    "duration": 6,
    "start_time": "2024-08-14T16:29:38.731Z"
   },
   {
    "duration": 218,
    "start_time": "2024-08-14T16:29:38.739Z"
   },
   {
    "duration": 37,
    "start_time": "2024-08-14T16:29:38.961Z"
   },
   {
    "duration": 9,
    "start_time": "2024-08-14T16:29:38.999Z"
   },
   {
    "duration": 49,
    "start_time": "2024-08-14T16:29:39.010Z"
   },
   {
    "duration": 5,
    "start_time": "2024-08-14T16:29:39.061Z"
   },
   {
    "duration": 186,
    "start_time": "2024-08-14T16:29:39.067Z"
   },
   {
    "duration": 41,
    "start_time": "2024-08-14T16:29:39.255Z"
   },
   {
    "duration": 10,
    "start_time": "2024-08-14T16:29:39.297Z"
   },
   {
    "duration": 180,
    "start_time": "2024-08-14T16:29:39.308Z"
   },
   {
    "duration": 9,
    "start_time": "2024-08-14T16:29:39.490Z"
   },
   {
    "duration": 237,
    "start_time": "2024-08-14T16:29:39.501Z"
   },
   {
    "duration": 82,
    "start_time": "2024-08-14T16:29:39.740Z"
   },
   {
    "duration": 128,
    "start_time": "2024-08-14T16:29:39.824Z"
   },
   {
    "duration": 224,
    "start_time": "2024-08-14T16:29:39.960Z"
   },
   {
    "duration": 206,
    "start_time": "2024-08-14T16:29:40.186Z"
   },
   {
    "duration": 286,
    "start_time": "2024-08-14T16:29:40.393Z"
   },
   {
    "duration": 182,
    "start_time": "2024-08-14T16:29:40.681Z"
   },
   {
    "duration": 146,
    "start_time": "2024-08-14T16:29:40.865Z"
   },
   {
    "duration": 386,
    "start_time": "2024-08-14T16:29:41.012Z"
   },
   {
    "duration": 0,
    "start_time": "2024-08-14T16:29:41.399Z"
   },
   {
    "duration": 0,
    "start_time": "2024-08-14T16:29:41.401Z"
   },
   {
    "duration": 0,
    "start_time": "2024-08-14T16:29:41.402Z"
   },
   {
    "duration": 53,
    "start_time": "2024-08-14T16:49:42.029Z"
   },
   {
    "duration": 1033,
    "start_time": "2024-08-14T16:49:45.311Z"
   },
   {
    "duration": 3,
    "start_time": "2024-08-14T16:49:52.881Z"
   },
   {
    "duration": 99,
    "start_time": "2024-08-14T16:49:55.102Z"
   },
   {
    "duration": 99,
    "start_time": "2024-08-14T16:53:02.470Z"
   },
   {
    "duration": 90,
    "start_time": "2024-08-14T16:54:01.579Z"
   },
   {
    "duration": 79,
    "start_time": "2024-08-14T16:54:10.927Z"
   },
   {
    "duration": 101,
    "start_time": "2024-08-14T16:54:20.872Z"
   },
   {
    "duration": 39,
    "start_time": "2024-08-14T16:54:29.378Z"
   },
   {
    "duration": 4,
    "start_time": "2024-08-14T16:54:36.871Z"
   },
   {
    "duration": 98,
    "start_time": "2024-08-14T16:54:39.096Z"
   },
   {
    "duration": 27,
    "start_time": "2024-08-14T16:57:08.151Z"
   },
   {
    "duration": 16,
    "start_time": "2024-08-14T16:57:31.810Z"
   },
   {
    "duration": 2085,
    "start_time": "2024-08-14T16:57:35.252Z"
   },
   {
    "duration": 17,
    "start_time": "2024-08-14T16:57:52.701Z"
   },
   {
    "duration": 54,
    "start_time": "2024-08-14T17:02:28.474Z"
   },
   {
    "duration": 69,
    "start_time": "2024-08-14T17:03:36.480Z"
   },
   {
    "duration": 64,
    "start_time": "2024-08-14T17:03:59.216Z"
   },
   {
    "duration": 67,
    "start_time": "2024-08-14T17:04:03.719Z"
   },
   {
    "duration": 17,
    "start_time": "2024-08-14T17:04:16.218Z"
   },
   {
    "duration": 16,
    "start_time": "2024-08-14T17:05:23.540Z"
   },
   {
    "duration": 3,
    "start_time": "2024-08-14T17:08:57.409Z"
   },
   {
    "duration": 115,
    "start_time": "2024-08-14T17:08:57.416Z"
   },
   {
    "duration": 20,
    "start_time": "2024-08-14T17:08:57.533Z"
   },
   {
    "duration": 21,
    "start_time": "2024-08-14T17:08:57.554Z"
   },
   {
    "duration": 2084,
    "start_time": "2024-08-14T17:08:57.577Z"
   },
   {
    "duration": 16,
    "start_time": "2024-08-14T17:08:59.662Z"
   },
   {
    "duration": 38,
    "start_time": "2024-08-14T17:08:59.680Z"
   },
   {
    "duration": 4,
    "start_time": "2024-08-14T17:08:59.719Z"
   },
   {
    "duration": 6,
    "start_time": "2024-08-14T17:08:59.725Z"
   },
   {
    "duration": 10,
    "start_time": "2024-08-14T17:08:59.732Z"
   },
   {
    "duration": 8,
    "start_time": "2024-08-14T17:08:59.744Z"
   },
   {
    "duration": 80,
    "start_time": "2024-08-14T17:08:59.753Z"
   },
   {
    "duration": 165,
    "start_time": "2024-08-14T17:09:04.617Z"
   },
   {
    "duration": 170,
    "start_time": "2024-08-14T17:10:58.298Z"
   },
   {
    "duration": 130,
    "start_time": "2024-08-14T17:12:39.415Z"
   },
   {
    "duration": 173,
    "start_time": "2024-08-14T17:14:24.227Z"
   },
   {
    "duration": 181,
    "start_time": "2024-08-14T17:16:32.239Z"
   },
   {
    "duration": 169,
    "start_time": "2024-08-14T17:19:19.422Z"
   },
   {
    "duration": 211,
    "start_time": "2024-08-14T17:19:45.927Z"
   },
   {
    "duration": 210,
    "start_time": "2024-08-14T17:20:00.826Z"
   },
   {
    "duration": 2,
    "start_time": "2024-08-14T17:23:19.578Z"
   },
   {
    "duration": 3,
    "start_time": "2024-08-14T17:25:02.400Z"
   },
   {
    "duration": 100,
    "start_time": "2024-08-14T17:25:02.405Z"
   },
   {
    "duration": 22,
    "start_time": "2024-08-14T17:25:02.507Z"
   },
   {
    "duration": 16,
    "start_time": "2024-08-14T17:25:02.530Z"
   },
   {
    "duration": 2096,
    "start_time": "2024-08-14T17:25:02.548Z"
   },
   {
    "duration": 15,
    "start_time": "2024-08-14T17:25:04.646Z"
   },
   {
    "duration": 64,
    "start_time": "2024-08-14T17:25:04.662Z"
   },
   {
    "duration": 6,
    "start_time": "2024-08-14T17:25:04.727Z"
   },
   {
    "duration": 4,
    "start_time": "2024-08-14T17:25:04.735Z"
   },
   {
    "duration": 6,
    "start_time": "2024-08-14T17:25:04.741Z"
   },
   {
    "duration": 3,
    "start_time": "2024-08-14T17:25:04.748Z"
   },
   {
    "duration": 82,
    "start_time": "2024-08-14T17:25:04.753Z"
   },
   {
    "duration": 199,
    "start_time": "2024-08-14T17:25:04.837Z"
   },
   {
    "duration": 143,
    "start_time": "2024-08-14T17:25:05.039Z"
   },
   {
    "duration": 17,
    "start_time": "2024-08-14T17:25:31.300Z"
   },
   {
    "duration": 21,
    "start_time": "2024-08-14T17:28:05.299Z"
   },
   {
    "duration": 20,
    "start_time": "2024-08-14T17:28:57.636Z"
   },
   {
    "duration": 7,
    "start_time": "2024-08-14T17:30:18.998Z"
   },
   {
    "duration": 17,
    "start_time": "2024-08-14T17:30:31.878Z"
   },
   {
    "duration": 3,
    "start_time": "2024-08-14T17:32:51.989Z"
   },
   {
    "duration": 107,
    "start_time": "2024-08-14T17:32:51.996Z"
   },
   {
    "duration": 20,
    "start_time": "2024-08-14T17:32:52.106Z"
   },
   {
    "duration": 18,
    "start_time": "2024-08-14T17:32:52.128Z"
   },
   {
    "duration": 2094,
    "start_time": "2024-08-14T17:32:52.148Z"
   },
   {
    "duration": 16,
    "start_time": "2024-08-14T17:32:54.244Z"
   },
   {
    "duration": 38,
    "start_time": "2024-08-14T17:32:54.261Z"
   },
   {
    "duration": 4,
    "start_time": "2024-08-14T17:32:54.301Z"
   },
   {
    "duration": 5,
    "start_time": "2024-08-14T17:32:54.307Z"
   },
   {
    "duration": 4,
    "start_time": "2024-08-14T17:32:54.313Z"
   },
   {
    "duration": 2,
    "start_time": "2024-08-14T17:32:54.319Z"
   },
   {
    "duration": 73,
    "start_time": "2024-08-14T17:32:54.323Z"
   },
   {
    "duration": 264,
    "start_time": "2024-08-14T17:32:54.397Z"
   },
   {
    "duration": 123,
    "start_time": "2024-08-14T17:32:54.663Z"
   },
   {
    "duration": 16,
    "start_time": "2024-08-14T17:33:23.704Z"
   },
   {
    "duration": 21,
    "start_time": "2024-08-14T17:36:09.192Z"
   },
   {
    "duration": 27,
    "start_time": "2024-08-14T17:38:43.767Z"
   },
   {
    "duration": 12,
    "start_time": "2024-08-14T17:41:42.768Z"
   },
   {
    "duration": 7,
    "start_time": "2024-08-14T17:41:49.797Z"
   },
   {
    "duration": 15,
    "start_time": "2024-08-14T17:42:01.945Z"
   },
   {
    "duration": 6,
    "start_time": "2024-08-14T17:42:05.167Z"
   },
   {
    "duration": 6,
    "start_time": "2024-08-14T17:43:48.645Z"
   },
   {
    "duration": 5,
    "start_time": "2024-08-14T17:45:01.391Z"
   },
   {
    "duration": 17,
    "start_time": "2024-08-14T17:45:20.513Z"
   },
   {
    "duration": 7,
    "start_time": "2024-08-14T17:45:22.764Z"
   },
   {
    "duration": 15,
    "start_time": "2024-08-14T17:45:35.791Z"
   },
   {
    "duration": 4,
    "start_time": "2024-08-14T17:46:24.023Z"
   },
   {
    "duration": 104,
    "start_time": "2024-08-14T17:46:24.029Z"
   },
   {
    "duration": 19,
    "start_time": "2024-08-14T17:46:24.135Z"
   },
   {
    "duration": 16,
    "start_time": "2024-08-14T17:46:24.156Z"
   },
   {
    "duration": 2124,
    "start_time": "2024-08-14T17:46:24.174Z"
   },
   {
    "duration": 18,
    "start_time": "2024-08-14T17:46:26.300Z"
   },
   {
    "duration": 28,
    "start_time": "2024-08-14T17:46:26.319Z"
   },
   {
    "duration": 4,
    "start_time": "2024-08-14T17:46:26.349Z"
   },
   {
    "duration": 13,
    "start_time": "2024-08-14T17:46:26.355Z"
   },
   {
    "duration": 5,
    "start_time": "2024-08-14T17:46:26.370Z"
   },
   {
    "duration": 3,
    "start_time": "2024-08-14T17:46:26.379Z"
   },
   {
    "duration": 100,
    "start_time": "2024-08-14T17:46:26.384Z"
   },
   {
    "duration": 157,
    "start_time": "2024-08-14T17:46:26.485Z"
   },
   {
    "duration": 133,
    "start_time": "2024-08-14T17:46:26.644Z"
   },
   {
    "duration": 16,
    "start_time": "2024-08-14T17:46:29.388Z"
   },
   {
    "duration": 18,
    "start_time": "2024-08-14T17:47:25.774Z"
   },
   {
    "duration": 13,
    "start_time": "2024-08-14T17:47:37.362Z"
   },
   {
    "duration": 13,
    "start_time": "2024-08-14T17:48:35.346Z"
   },
   {
    "duration": 3,
    "start_time": "2024-08-14T17:49:02.134Z"
   },
   {
    "duration": 124,
    "start_time": "2024-08-14T17:49:02.142Z"
   },
   {
    "duration": 21,
    "start_time": "2024-08-14T17:49:02.268Z"
   },
   {
    "duration": 69,
    "start_time": "2024-08-14T17:49:02.291Z"
   },
   {
    "duration": 2108,
    "start_time": "2024-08-14T17:49:02.362Z"
   },
   {
    "duration": 14,
    "start_time": "2024-08-14T17:49:04.472Z"
   },
   {
    "duration": 29,
    "start_time": "2024-08-14T17:49:04.488Z"
   },
   {
    "duration": 5,
    "start_time": "2024-08-14T17:49:04.518Z"
   },
   {
    "duration": 35,
    "start_time": "2024-08-14T17:49:04.525Z"
   },
   {
    "duration": 14,
    "start_time": "2024-08-14T17:49:04.562Z"
   },
   {
    "duration": 5,
    "start_time": "2024-08-14T17:49:04.579Z"
   },
   {
    "duration": 59,
    "start_time": "2024-08-14T17:49:04.585Z"
   },
   {
    "duration": 180,
    "start_time": "2024-08-14T17:49:04.646Z"
   },
   {
    "duration": 130,
    "start_time": "2024-08-14T17:49:04.828Z"
   },
   {
    "duration": 14,
    "start_time": "2024-08-14T17:49:11.951Z"
   },
   {
    "duration": 8,
    "start_time": "2024-08-14T17:49:14.381Z"
   },
   {
    "duration": 5,
    "start_time": "2024-08-14T17:51:51.501Z"
   },
   {
    "duration": 3,
    "start_time": "2024-08-14T17:52:01.565Z"
   },
   {
    "duration": 134,
    "start_time": "2024-08-14T17:52:01.571Z"
   },
   {
    "duration": 25,
    "start_time": "2024-08-14T17:52:01.707Z"
   },
   {
    "duration": 32,
    "start_time": "2024-08-14T17:52:01.734Z"
   },
   {
    "duration": 2137,
    "start_time": "2024-08-14T17:52:01.768Z"
   },
   {
    "duration": 16,
    "start_time": "2024-08-14T17:52:03.906Z"
   },
   {
    "duration": 17,
    "start_time": "2024-08-14T17:52:03.923Z"
   },
   {
    "duration": 4,
    "start_time": "2024-08-14T17:52:03.941Z"
   },
   {
    "duration": 15,
    "start_time": "2024-08-14T17:52:03.947Z"
   },
   {
    "duration": 4,
    "start_time": "2024-08-14T17:52:03.964Z"
   },
   {
    "duration": 14,
    "start_time": "2024-08-14T17:52:03.970Z"
   },
   {
    "duration": 73,
    "start_time": "2024-08-14T17:52:03.985Z"
   },
   {
    "duration": 161,
    "start_time": "2024-08-14T17:52:04.059Z"
   },
   {
    "duration": 121,
    "start_time": "2024-08-14T17:52:04.222Z"
   },
   {
    "duration": 14,
    "start_time": "2024-08-14T17:52:04.345Z"
   },
   {
    "duration": 7,
    "start_time": "2024-08-14T17:52:04.360Z"
   },
   {
    "duration": 4,
    "start_time": "2024-08-14T17:52:04.369Z"
   },
   {
    "duration": 7,
    "start_time": "2024-08-14T17:52:04.374Z"
   },
   {
    "duration": 27,
    "start_time": "2024-08-14T17:52:04.382Z"
   },
   {
    "duration": 23,
    "start_time": "2024-08-14T17:52:04.410Z"
   },
   {
    "duration": 79,
    "start_time": "2024-08-14T17:52:04.434Z"
   },
   {
    "duration": 2,
    "start_time": "2024-08-14T17:53:32.626Z"
   },
   {
    "duration": 95,
    "start_time": "2024-08-14T17:53:32.632Z"
   },
   {
    "duration": 20,
    "start_time": "2024-08-14T17:53:32.729Z"
   },
   {
    "duration": 75,
    "start_time": "2024-08-14T17:53:32.750Z"
   },
   {
    "duration": 1937,
    "start_time": "2024-08-14T17:53:32.828Z"
   },
   {
    "duration": 16,
    "start_time": "2024-08-14T17:53:34.767Z"
   },
   {
    "duration": 32,
    "start_time": "2024-08-14T17:53:34.785Z"
   },
   {
    "duration": 4,
    "start_time": "2024-08-14T17:53:34.819Z"
   },
   {
    "duration": 10,
    "start_time": "2024-08-14T17:53:34.825Z"
   },
   {
    "duration": 11,
    "start_time": "2024-08-14T17:53:34.836Z"
   },
   {
    "duration": 3,
    "start_time": "2024-08-14T17:53:34.850Z"
   },
   {
    "duration": 86,
    "start_time": "2024-08-14T17:53:34.854Z"
   },
   {
    "duration": 166,
    "start_time": "2024-08-14T17:53:34.942Z"
   },
   {
    "duration": 272,
    "start_time": "2024-08-14T17:53:35.109Z"
   },
   {
    "duration": 13,
    "start_time": "2024-08-14T17:53:35.383Z"
   },
   {
    "duration": 28,
    "start_time": "2024-08-14T17:53:35.397Z"
   },
   {
    "duration": 28,
    "start_time": "2024-08-14T17:53:35.427Z"
   },
   {
    "duration": 9,
    "start_time": "2024-08-14T17:53:35.457Z"
   },
   {
    "duration": 11,
    "start_time": "2024-08-14T17:53:35.467Z"
   },
   {
    "duration": 27,
    "start_time": "2024-08-14T17:53:35.479Z"
   },
   {
    "duration": 23,
    "start_time": "2024-08-14T17:53:35.507Z"
   },
   {
    "duration": 26,
    "start_time": "2024-08-14T17:53:35.531Z"
   },
   {
    "duration": 9,
    "start_time": "2024-08-14T17:53:35.559Z"
   },
   {
    "duration": 26,
    "start_time": "2024-08-14T17:53:35.570Z"
   },
   {
    "duration": 10,
    "start_time": "2024-08-14T17:53:35.599Z"
   },
   {
    "duration": 196,
    "start_time": "2024-08-14T17:53:35.611Z"
   },
   {
    "duration": 75,
    "start_time": "2024-08-14T17:53:35.809Z"
   },
   {
    "duration": 38,
    "start_time": "2024-08-14T17:53:35.886Z"
   },
   {
    "duration": 9,
    "start_time": "2024-08-14T17:53:35.928Z"
   },
   {
    "duration": 25,
    "start_time": "2024-08-14T17:53:35.938Z"
   },
   {
    "duration": 11,
    "start_time": "2024-08-14T17:53:35.964Z"
   },
   {
    "duration": 202,
    "start_time": "2024-08-14T17:53:35.977Z"
   },
   {
    "duration": 84,
    "start_time": "2024-08-14T17:53:36.181Z"
   },
   {
    "duration": 32,
    "start_time": "2024-08-14T17:53:36.267Z"
   },
   {
    "duration": 40,
    "start_time": "2024-08-14T17:53:36.301Z"
   },
   {
    "duration": 22,
    "start_time": "2024-08-14T17:53:36.343Z"
   },
   {
    "duration": 6,
    "start_time": "2024-08-14T17:53:36.367Z"
   },
   {
    "duration": 177,
    "start_time": "2024-08-14T17:53:36.374Z"
   },
   {
    "duration": 9,
    "start_time": "2024-08-14T17:53:36.553Z"
   },
   {
    "duration": 30,
    "start_time": "2024-08-14T17:53:36.564Z"
   },
   {
    "duration": 12,
    "start_time": "2024-08-14T17:53:36.596Z"
   },
   {
    "duration": 26,
    "start_time": "2024-08-14T17:53:36.610Z"
   },
   {
    "duration": 10,
    "start_time": "2024-08-14T17:53:36.638Z"
   },
   {
    "duration": 251,
    "start_time": "2024-08-14T17:53:36.649Z"
   },
   {
    "duration": 9,
    "start_time": "2024-08-14T17:53:36.904Z"
   },
   {
    "duration": 42,
    "start_time": "2024-08-14T17:53:36.915Z"
   },
   {
    "duration": 22,
    "start_time": "2024-08-14T17:53:36.959Z"
   },
   {
    "duration": 172,
    "start_time": "2024-08-14T17:53:36.983Z"
   },
   {
    "duration": 8,
    "start_time": "2024-08-14T17:53:37.157Z"
   },
   {
    "duration": 24,
    "start_time": "2024-08-14T17:53:37.166Z"
   },
   {
    "duration": 4,
    "start_time": "2024-08-14T17:53:37.205Z"
   },
   {
    "duration": 27,
    "start_time": "2024-08-14T17:53:37.211Z"
   },
   {
    "duration": 9,
    "start_time": "2024-08-14T17:53:37.240Z"
   },
   {
    "duration": 186,
    "start_time": "2024-08-14T17:53:37.251Z"
   },
   {
    "duration": 7,
    "start_time": "2024-08-14T17:53:37.439Z"
   },
   {
    "duration": 13,
    "start_time": "2024-08-14T17:53:37.447Z"
   },
   {
    "duration": 160,
    "start_time": "2024-08-14T17:53:37.462Z"
   },
   {
    "duration": 8,
    "start_time": "2024-08-14T17:53:37.624Z"
   },
   {
    "duration": 22,
    "start_time": "2024-08-14T17:53:37.633Z"
   },
   {
    "duration": 5,
    "start_time": "2024-08-14T17:53:37.657Z"
   },
   {
    "duration": 198,
    "start_time": "2024-08-14T17:53:37.663Z"
   },
   {
    "duration": 34,
    "start_time": "2024-08-14T17:53:37.862Z"
   },
   {
    "duration": 9,
    "start_time": "2024-08-14T17:53:37.897Z"
   },
   {
    "duration": 39,
    "start_time": "2024-08-14T17:53:37.907Z"
   },
   {
    "duration": 4,
    "start_time": "2024-08-14T17:53:37.947Z"
   },
   {
    "duration": 184,
    "start_time": "2024-08-14T17:53:37.953Z"
   },
   {
    "duration": 32,
    "start_time": "2024-08-14T17:53:38.139Z"
   },
   {
    "duration": 9,
    "start_time": "2024-08-14T17:53:38.173Z"
   },
   {
    "duration": 268,
    "start_time": "2024-08-14T17:53:38.184Z"
   },
   {
    "duration": 8,
    "start_time": "2024-08-14T17:53:38.453Z"
   },
   {
    "duration": 228,
    "start_time": "2024-08-14T17:55:00.546Z"
   },
   {
    "duration": 241,
    "start_time": "2024-08-14T17:56:07.948Z"
   },
   {
    "duration": 231,
    "start_time": "2024-08-14T17:56:22.517Z"
   },
   {
    "duration": 227,
    "start_time": "2024-08-14T17:56:36.627Z"
   },
   {
    "duration": 286,
    "start_time": "2024-08-14T17:57:04.806Z"
   },
   {
    "duration": 325,
    "start_time": "2024-08-14T17:57:41.425Z"
   },
   {
    "duration": 288,
    "start_time": "2024-08-14T17:58:11.870Z"
   },
   {
    "duration": 296,
    "start_time": "2024-08-14T17:59:24.995Z"
   },
   {
    "duration": 221,
    "start_time": "2024-08-14T17:59:48.351Z"
   },
   {
    "duration": 227,
    "start_time": "2024-08-14T18:00:26.421Z"
   },
   {
    "duration": 240,
    "start_time": "2024-08-14T18:02:03.880Z"
   },
   {
    "duration": 305,
    "start_time": "2024-08-14T18:02:17.538Z"
   },
   {
    "duration": 113,
    "start_time": "2024-08-14T18:02:43.681Z"
   },
   {
    "duration": 131,
    "start_time": "2024-08-14T18:04:16.351Z"
   },
   {
    "duration": 16,
    "start_time": "2024-08-14T18:06:45.099Z"
   },
   {
    "duration": 3,
    "start_time": "2024-08-14T18:06:49.132Z"
   },
   {
    "duration": 107,
    "start_time": "2024-08-14T18:06:49.139Z"
   },
   {
    "duration": 20,
    "start_time": "2024-08-14T18:06:49.248Z"
   },
   {
    "duration": 16,
    "start_time": "2024-08-14T18:06:49.270Z"
   },
   {
    "duration": 2063,
    "start_time": "2024-08-14T18:06:49.306Z"
   },
   {
    "duration": 15,
    "start_time": "2024-08-14T18:06:51.371Z"
   },
   {
    "duration": 37,
    "start_time": "2024-08-14T18:06:51.388Z"
   },
   {
    "duration": 16,
    "start_time": "2024-08-14T18:06:51.427Z"
   },
   {
    "duration": 11,
    "start_time": "2024-08-14T18:06:51.444Z"
   },
   {
    "duration": 16,
    "start_time": "2024-08-14T18:06:51.456Z"
   },
   {
    "duration": 5,
    "start_time": "2024-08-14T18:06:51.475Z"
   },
   {
    "duration": 81,
    "start_time": "2024-08-14T18:06:51.481Z"
   },
   {
    "duration": 186,
    "start_time": "2024-08-14T18:06:51.563Z"
   },
   {
    "duration": 123,
    "start_time": "2024-08-14T18:06:51.750Z"
   },
   {
    "duration": 14,
    "start_time": "2024-08-14T18:06:51.874Z"
   },
   {
    "duration": 17,
    "start_time": "2024-08-14T18:06:51.889Z"
   },
   {
    "duration": 4,
    "start_time": "2024-08-14T18:06:51.907Z"
   },
   {
    "duration": 7,
    "start_time": "2024-08-14T18:06:51.913Z"
   },
   {
    "duration": 44,
    "start_time": "2024-08-14T18:06:51.922Z"
   },
   {
    "duration": 13,
    "start_time": "2024-08-14T18:06:51.967Z"
   },
   {
    "duration": 11,
    "start_time": "2024-08-14T18:06:51.982Z"
   },
   {
    "duration": 13,
    "start_time": "2024-08-14T18:06:51.995Z"
   },
   {
    "duration": 9,
    "start_time": "2024-08-14T18:06:52.010Z"
   },
   {
    "duration": 24,
    "start_time": "2024-08-14T18:06:52.020Z"
   },
   {
    "duration": 9,
    "start_time": "2024-08-14T18:06:52.046Z"
   },
   {
    "duration": 206,
    "start_time": "2024-08-14T18:06:52.057Z"
   },
   {
    "duration": 79,
    "start_time": "2024-08-14T18:06:52.265Z"
   },
   {
    "duration": 98,
    "start_time": "2024-08-14T18:06:52.346Z"
   },
   {
    "duration": 9,
    "start_time": "2024-08-14T18:06:52.448Z"
   },
   {
    "duration": 33,
    "start_time": "2024-08-14T18:06:52.459Z"
   },
   {
    "duration": 7,
    "start_time": "2024-08-14T18:06:52.494Z"
   },
   {
    "duration": 284,
    "start_time": "2024-08-14T18:06:52.503Z"
   },
   {
    "duration": 112,
    "start_time": "2024-08-14T18:06:52.790Z"
   },
   {
    "duration": 29,
    "start_time": "2024-08-14T18:06:52.904Z"
   },
   {
    "duration": 9,
    "start_time": "2024-08-14T18:06:52.935Z"
   },
   {
    "duration": 23,
    "start_time": "2024-08-14T18:06:52.945Z"
   },
   {
    "duration": 5,
    "start_time": "2024-08-14T18:06:52.970Z"
   },
   {
    "duration": 191,
    "start_time": "2024-08-14T18:06:52.977Z"
   },
   {
    "duration": 11,
    "start_time": "2024-08-14T18:06:53.171Z"
   },
   {
    "duration": 40,
    "start_time": "2024-08-14T18:06:53.184Z"
   },
   {
    "duration": 6,
    "start_time": "2024-08-14T18:06:53.225Z"
   },
   {
    "duration": 44,
    "start_time": "2024-08-14T18:06:53.232Z"
   },
   {
    "duration": 9,
    "start_time": "2024-08-14T18:06:53.278Z"
   },
   {
    "duration": 211,
    "start_time": "2024-08-14T18:06:53.288Z"
   },
   {
    "duration": 8,
    "start_time": "2024-08-14T18:06:53.504Z"
   },
   {
    "duration": 34,
    "start_time": "2024-08-14T18:06:53.514Z"
   },
   {
    "duration": 22,
    "start_time": "2024-08-14T18:06:53.550Z"
   },
   {
    "duration": 177,
    "start_time": "2024-08-14T18:06:53.573Z"
   },
   {
    "duration": 8,
    "start_time": "2024-08-14T18:06:53.751Z"
   },
   {
    "duration": 33,
    "start_time": "2024-08-14T18:06:53.761Z"
   },
   {
    "duration": 11,
    "start_time": "2024-08-14T18:06:53.795Z"
   },
   {
    "duration": 42,
    "start_time": "2024-08-14T18:06:53.808Z"
   },
   {
    "duration": 10,
    "start_time": "2024-08-14T18:06:53.852Z"
   },
   {
    "duration": 180,
    "start_time": "2024-08-14T18:06:53.863Z"
   },
   {
    "duration": 7,
    "start_time": "2024-08-14T18:06:54.045Z"
   },
   {
    "duration": 8,
    "start_time": "2024-08-14T18:06:54.053Z"
   },
   {
    "duration": 168,
    "start_time": "2024-08-14T18:06:54.063Z"
   },
   {
    "duration": 9,
    "start_time": "2024-08-14T18:06:54.232Z"
   },
   {
    "duration": 24,
    "start_time": "2024-08-14T18:06:54.242Z"
   },
   {
    "duration": 5,
    "start_time": "2024-08-14T18:06:54.268Z"
   },
   {
    "duration": 211,
    "start_time": "2024-08-14T18:06:54.275Z"
   },
   {
    "duration": 39,
    "start_time": "2024-08-14T18:06:54.488Z"
   },
   {
    "duration": 79,
    "start_time": "2024-08-14T18:06:54.528Z"
   },
   {
    "duration": 36,
    "start_time": "2024-08-14T18:06:54.609Z"
   },
   {
    "duration": 5,
    "start_time": "2024-08-14T18:06:54.646Z"
   },
   {
    "duration": 221,
    "start_time": "2024-08-14T18:06:54.652Z"
   },
   {
    "duration": 60,
    "start_time": "2024-08-14T18:06:54.875Z"
   },
   {
    "duration": 9,
    "start_time": "2024-08-14T18:06:54.936Z"
   },
   {
    "duration": 313,
    "start_time": "2024-08-14T18:06:54.947Z"
   },
   {
    "duration": 3,
    "start_time": "2024-08-14T18:11:05.819Z"
   },
   {
    "duration": 98,
    "start_time": "2024-08-14T18:11:05.825Z"
   },
   {
    "duration": 21,
    "start_time": "2024-08-14T18:11:05.925Z"
   },
   {
    "duration": 20,
    "start_time": "2024-08-14T18:11:05.948Z"
   },
   {
    "duration": 2051,
    "start_time": "2024-08-14T18:11:05.970Z"
   },
   {
    "duration": 15,
    "start_time": "2024-08-14T18:11:08.023Z"
   },
   {
    "duration": 17,
    "start_time": "2024-08-14T18:11:08.040Z"
   },
   {
    "duration": 4,
    "start_time": "2024-08-14T18:11:08.058Z"
   },
   {
    "duration": 8,
    "start_time": "2024-08-14T18:11:08.064Z"
   },
   {
    "duration": 8,
    "start_time": "2024-08-14T18:11:08.073Z"
   },
   {
    "duration": 28,
    "start_time": "2024-08-14T18:11:08.083Z"
   },
   {
    "duration": 63,
    "start_time": "2024-08-14T18:11:08.113Z"
   },
   {
    "duration": 161,
    "start_time": "2024-08-14T18:11:08.178Z"
   },
   {
    "duration": 125,
    "start_time": "2024-08-14T18:11:08.341Z"
   },
   {
    "duration": 14,
    "start_time": "2024-08-14T18:11:08.468Z"
   },
   {
    "duration": 7,
    "start_time": "2024-08-14T18:11:08.483Z"
   },
   {
    "duration": 65,
    "start_time": "2024-08-14T18:11:08.492Z"
   },
   {
    "duration": 66,
    "start_time": "2024-08-14T18:11:08.559Z"
   },
   {
    "duration": 10,
    "start_time": "2024-08-14T18:11:08.626Z"
   },
   {
    "duration": 5,
    "start_time": "2024-08-14T18:11:08.637Z"
   },
   {
    "duration": 8,
    "start_time": "2024-08-14T18:11:08.644Z"
   },
   {
    "duration": 20,
    "start_time": "2024-08-14T18:11:08.654Z"
   },
   {
    "duration": 8,
    "start_time": "2024-08-14T18:11:08.675Z"
   },
   {
    "duration": 30,
    "start_time": "2024-08-14T18:11:08.685Z"
   },
   {
    "duration": 10,
    "start_time": "2024-08-14T18:11:08.716Z"
   },
   {
    "duration": 315,
    "start_time": "2024-08-14T18:11:08.727Z"
   },
   {
    "duration": 73,
    "start_time": "2024-08-14T18:11:09.044Z"
   },
   {
    "duration": 31,
    "start_time": "2024-08-14T18:11:09.119Z"
   },
   {
    "duration": 9,
    "start_time": "2024-08-14T18:11:09.155Z"
   },
   {
    "duration": 23,
    "start_time": "2024-08-14T18:11:09.166Z"
   },
   {
    "duration": 7,
    "start_time": "2024-08-14T18:11:09.191Z"
   },
   {
    "duration": 214,
    "start_time": "2024-08-14T18:11:09.200Z"
   },
   {
    "duration": 80,
    "start_time": "2024-08-14T18:11:09.416Z"
   },
   {
    "duration": 33,
    "start_time": "2024-08-14T18:11:09.498Z"
   },
   {
    "duration": 10,
    "start_time": "2024-08-14T18:11:09.533Z"
   },
   {
    "duration": 22,
    "start_time": "2024-08-14T18:11:09.545Z"
   },
   {
    "duration": 6,
    "start_time": "2024-08-14T18:11:09.569Z"
   },
   {
    "duration": 183,
    "start_time": "2024-08-14T18:11:09.577Z"
   },
   {
    "duration": 10,
    "start_time": "2024-08-14T18:11:09.762Z"
   },
   {
    "duration": 41,
    "start_time": "2024-08-14T18:11:09.773Z"
   },
   {
    "duration": 7,
    "start_time": "2024-08-14T18:11:09.816Z"
   },
   {
    "duration": 24,
    "start_time": "2024-08-14T18:11:09.825Z"
   },
   {
    "duration": 9,
    "start_time": "2024-08-14T18:11:09.851Z"
   },
   {
    "duration": 244,
    "start_time": "2024-08-14T18:11:09.862Z"
   },
   {
    "duration": 9,
    "start_time": "2024-08-14T18:11:10.108Z"
   },
   {
    "duration": 36,
    "start_time": "2024-08-14T18:11:10.119Z"
   },
   {
    "duration": 24,
    "start_time": "2024-08-14T18:11:10.156Z"
   },
   {
    "duration": 197,
    "start_time": "2024-08-14T18:11:10.181Z"
   },
   {
    "duration": 12,
    "start_time": "2024-08-14T18:11:10.380Z"
   },
   {
    "duration": 38,
    "start_time": "2024-08-14T18:11:10.405Z"
   },
   {
    "duration": 4,
    "start_time": "2024-08-14T18:11:10.445Z"
   },
   {
    "duration": 35,
    "start_time": "2024-08-14T18:11:10.451Z"
   },
   {
    "duration": 24,
    "start_time": "2024-08-14T18:11:10.488Z"
   },
   {
    "duration": 256,
    "start_time": "2024-08-14T18:11:10.514Z"
   },
   {
    "duration": 7,
    "start_time": "2024-08-14T18:11:10.772Z"
   },
   {
    "duration": 8,
    "start_time": "2024-08-14T18:11:10.780Z"
   },
   {
    "duration": 176,
    "start_time": "2024-08-14T18:11:10.790Z"
   },
   {
    "duration": 8,
    "start_time": "2024-08-14T18:11:10.967Z"
   },
   {
    "duration": 35,
    "start_time": "2024-08-14T18:11:10.976Z"
   },
   {
    "duration": 6,
    "start_time": "2024-08-14T18:11:11.013Z"
   },
   {
    "duration": 192,
    "start_time": "2024-08-14T18:11:11.020Z"
   },
   {
    "duration": 35,
    "start_time": "2024-08-14T18:11:11.213Z"
   },
   {
    "duration": 9,
    "start_time": "2024-08-14T18:11:11.249Z"
   },
   {
    "duration": 43,
    "start_time": "2024-08-14T18:11:11.260Z"
   },
   {
    "duration": 4,
    "start_time": "2024-08-14T18:11:11.304Z"
   },
   {
    "duration": 185,
    "start_time": "2024-08-14T18:11:11.310Z"
   },
   {
    "duration": 33,
    "start_time": "2024-08-14T18:11:11.504Z"
   },
   {
    "duration": 9,
    "start_time": "2024-08-14T18:11:11.539Z"
   },
   {
    "duration": 180,
    "start_time": "2024-08-14T18:11:11.549Z"
   },
   {
    "duration": 15,
    "start_time": "2024-08-14T18:11:11.730Z"
   },
   {
    "duration": 327,
    "start_time": "2024-08-14T18:11:11.746Z"
   },
   {
    "duration": 66,
    "start_time": "2024-08-14T18:11:12.075Z"
   },
   {
    "duration": 135,
    "start_time": "2024-08-14T18:11:12.143Z"
   },
   {
    "duration": 224,
    "start_time": "2024-08-14T18:11:12.279Z"
   },
   {
    "duration": 237,
    "start_time": "2024-08-14T18:11:12.505Z"
   },
   {
    "duration": 237,
    "start_time": "2024-08-14T18:11:12.743Z"
   },
   {
    "duration": 193,
    "start_time": "2024-08-14T18:11:12.982Z"
   },
   {
    "duration": 148,
    "start_time": "2024-08-14T18:11:20.177Z"
   },
   {
    "duration": 345,
    "start_time": "2024-08-14T18:11:24.452Z"
   },
   {
    "duration": 245,
    "start_time": "2024-08-14T18:13:38.903Z"
   },
   {
    "duration": 310,
    "start_time": "2024-08-14T18:14:20.062Z"
   },
   {
    "duration": 31,
    "start_time": "2024-08-14T18:42:35.394Z"
   },
   {
    "duration": 72,
    "start_time": "2024-08-14T18:43:51.988Z"
   },
   {
    "duration": 1043,
    "start_time": "2024-08-14T18:43:57.308Z"
   },
   {
    "duration": 1065,
    "start_time": "2024-08-14T18:44:52.604Z"
   },
   {
    "duration": 489,
    "start_time": "2024-08-14T18:55:35.816Z"
   },
   {
    "duration": 3,
    "start_time": "2024-08-14T18:56:06.215Z"
   },
   {
    "duration": 98,
    "start_time": "2024-08-14T18:56:06.221Z"
   },
   {
    "duration": 19,
    "start_time": "2024-08-14T18:56:06.322Z"
   },
   {
    "duration": 28,
    "start_time": "2024-08-14T18:56:06.343Z"
   },
   {
    "duration": 2148,
    "start_time": "2024-08-14T18:56:06.373Z"
   },
   {
    "duration": 17,
    "start_time": "2024-08-14T18:56:08.523Z"
   },
   {
    "duration": 48,
    "start_time": "2024-08-14T18:56:08.542Z"
   },
   {
    "duration": 50,
    "start_time": "2024-08-14T18:56:08.592Z"
   },
   {
    "duration": 28,
    "start_time": "2024-08-14T18:56:08.644Z"
   },
   {
    "duration": 94,
    "start_time": "2024-08-14T18:56:08.674Z"
   },
   {
    "duration": 69,
    "start_time": "2024-08-14T18:56:08.771Z"
   },
   {
    "duration": 93,
    "start_time": "2024-08-14T18:56:08.842Z"
   },
   {
    "duration": 167,
    "start_time": "2024-08-14T18:56:08.937Z"
   },
   {
    "duration": 134,
    "start_time": "2024-08-14T18:56:09.106Z"
   },
   {
    "duration": 14,
    "start_time": "2024-08-14T18:56:09.241Z"
   },
   {
    "duration": 53,
    "start_time": "2024-08-14T18:56:09.256Z"
   },
   {
    "duration": 55,
    "start_time": "2024-08-14T18:56:09.311Z"
   },
   {
    "duration": 33,
    "start_time": "2024-08-14T18:56:09.368Z"
   },
   {
    "duration": 27,
    "start_time": "2024-08-14T18:56:09.403Z"
   },
   {
    "duration": 6,
    "start_time": "2024-08-14T18:56:09.432Z"
   },
   {
    "duration": 16,
    "start_time": "2024-08-14T18:56:09.439Z"
   },
   {
    "duration": 26,
    "start_time": "2024-08-14T18:56:09.457Z"
   },
   {
    "duration": 10,
    "start_time": "2024-08-14T18:56:09.485Z"
   },
   {
    "duration": 32,
    "start_time": "2024-08-14T18:56:09.496Z"
   },
   {
    "duration": 10,
    "start_time": "2024-08-14T18:56:09.530Z"
   },
   {
    "duration": 196,
    "start_time": "2024-08-14T18:56:09.542Z"
   },
   {
    "duration": 68,
    "start_time": "2024-08-14T18:56:09.740Z"
   },
   {
    "duration": 30,
    "start_time": "2024-08-14T18:56:09.810Z"
   },
   {
    "duration": 8,
    "start_time": "2024-08-14T18:56:09.953Z"
   },
   {
    "duration": 22,
    "start_time": "2024-08-14T18:56:09.963Z"
   },
   {
    "duration": 20,
    "start_time": "2024-08-14T18:56:09.986Z"
   },
   {
    "duration": 189,
    "start_time": "2024-08-14T18:56:10.007Z"
   },
   {
    "duration": 79,
    "start_time": "2024-08-14T18:56:10.198Z"
   },
   {
    "duration": 36,
    "start_time": "2024-08-14T18:56:10.279Z"
   },
   {
    "duration": 9,
    "start_time": "2024-08-14T18:56:10.316Z"
   },
   {
    "duration": 21,
    "start_time": "2024-08-14T18:56:10.327Z"
   },
   {
    "duration": 5,
    "start_time": "2024-08-14T18:56:10.349Z"
   },
   {
    "duration": 194,
    "start_time": "2024-08-14T18:56:10.356Z"
   },
   {
    "duration": 9,
    "start_time": "2024-08-14T18:56:10.551Z"
   },
   {
    "duration": 25,
    "start_time": "2024-08-14T18:56:10.562Z"
   },
   {
    "duration": 19,
    "start_time": "2024-08-14T18:56:10.588Z"
   },
   {
    "duration": 31,
    "start_time": "2024-08-14T18:56:10.609Z"
   },
   {
    "duration": 9,
    "start_time": "2024-08-14T18:56:10.641Z"
   },
   {
    "duration": 249,
    "start_time": "2024-08-14T18:56:10.652Z"
   },
   {
    "duration": 8,
    "start_time": "2024-08-14T18:56:10.903Z"
   },
   {
    "duration": 42,
    "start_time": "2024-08-14T18:56:10.913Z"
   },
   {
    "duration": 23,
    "start_time": "2024-08-14T18:56:10.957Z"
   },
   {
    "duration": 198,
    "start_time": "2024-08-14T18:56:10.982Z"
   },
   {
    "duration": 9,
    "start_time": "2024-08-14T18:56:11.181Z"
   },
   {
    "duration": 35,
    "start_time": "2024-08-14T18:56:11.192Z"
   },
   {
    "duration": 14,
    "start_time": "2024-08-14T18:56:11.228Z"
   },
   {
    "duration": 48,
    "start_time": "2024-08-14T18:56:11.244Z"
   },
   {
    "duration": 12,
    "start_time": "2024-08-14T18:56:11.294Z"
   },
   {
    "duration": 179,
    "start_time": "2024-08-14T18:56:11.307Z"
   },
   {
    "duration": 7,
    "start_time": "2024-08-14T18:56:11.488Z"
   },
   {
    "duration": 28,
    "start_time": "2024-08-14T18:56:11.496Z"
   },
   {
    "duration": 166,
    "start_time": "2024-08-14T18:56:11.526Z"
   },
   {
    "duration": 11,
    "start_time": "2024-08-14T18:56:11.694Z"
   },
   {
    "duration": 26,
    "start_time": "2024-08-14T18:56:11.706Z"
   },
   {
    "duration": 6,
    "start_time": "2024-08-14T18:56:11.734Z"
   },
   {
    "duration": 190,
    "start_time": "2024-08-14T18:56:11.741Z"
   },
   {
    "duration": 34,
    "start_time": "2024-08-14T18:56:11.933Z"
   },
   {
    "duration": 9,
    "start_time": "2024-08-14T18:56:11.969Z"
   },
   {
    "duration": 47,
    "start_time": "2024-08-14T18:56:11.980Z"
   },
   {
    "duration": 5,
    "start_time": "2024-08-14T18:56:12.029Z"
   },
   {
    "duration": 183,
    "start_time": "2024-08-14T18:56:12.036Z"
   },
   {
    "duration": 34,
    "start_time": "2024-08-14T18:56:12.220Z"
   },
   {
    "duration": 22,
    "start_time": "2024-08-14T18:56:12.256Z"
   },
   {
    "duration": 185,
    "start_time": "2024-08-14T18:56:12.281Z"
   },
   {
    "duration": 14,
    "start_time": "2024-08-14T18:56:12.467Z"
   },
   {
    "duration": 290,
    "start_time": "2024-08-14T18:56:12.483Z"
   },
   {
    "duration": 97,
    "start_time": "2024-08-14T18:56:12.775Z"
   },
   {
    "duration": 230,
    "start_time": "2024-08-14T18:56:12.875Z"
   },
   {
    "duration": 414,
    "start_time": "2024-08-14T18:56:42.970Z"
   },
   {
    "duration": 45,
    "start_time": "2024-08-14T18:58:18.233Z"
   },
   {
    "duration": 18,
    "start_time": "2024-08-14T18:59:22.091Z"
   },
   {
    "duration": 19,
    "start_time": "2024-08-14T18:59:28.853Z"
   },
   {
    "duration": 16,
    "start_time": "2024-08-14T18:59:37.481Z"
   },
   {
    "duration": 18,
    "start_time": "2024-08-14T18:59:45.535Z"
   },
   {
    "duration": 20,
    "start_time": "2024-08-14T18:59:55.975Z"
   },
   {
    "duration": 17,
    "start_time": "2024-08-14T19:00:01.746Z"
   },
   {
    "duration": 421,
    "start_time": "2024-08-14T19:00:15.292Z"
   },
   {
    "duration": 347,
    "start_time": "2024-08-14T19:02:24.612Z"
   },
   {
    "duration": 423,
    "start_time": "2024-08-14T19:02:31.823Z"
   },
   {
    "duration": 407,
    "start_time": "2024-08-14T19:03:28.084Z"
   },
   {
    "duration": 334,
    "start_time": "2024-08-14T19:04:07.707Z"
   },
   {
    "duration": 18,
    "start_time": "2024-08-14T19:05:04.792Z"
   },
   {
    "duration": 394,
    "start_time": "2024-08-14T19:05:24.794Z"
   },
   {
    "duration": 388,
    "start_time": "2024-08-14T19:07:16.630Z"
   },
   {
    "duration": 397,
    "start_time": "2024-08-14T19:07:25.868Z"
   },
   {
    "duration": 358,
    "start_time": "2024-08-14T19:07:29.738Z"
   },
   {
    "duration": 458,
    "start_time": "2024-08-14T19:07:55.735Z"
   },
   {
    "duration": 427,
    "start_time": "2024-08-14T19:08:05.748Z"
   },
   {
    "duration": 438,
    "start_time": "2024-08-14T19:08:15.952Z"
   },
   {
    "duration": 562,
    "start_time": "2024-08-14T19:09:55.899Z"
   },
   {
    "duration": 393,
    "start_time": "2024-08-14T19:10:10.265Z"
   },
   {
    "duration": 395,
    "start_time": "2024-08-14T19:10:40.967Z"
   },
   {
    "duration": 652,
    "start_time": "2024-08-14T19:13:47.110Z"
   },
   {
    "duration": 6,
    "start_time": "2024-08-14T19:16:36.167Z"
   },
   {
    "duration": 677,
    "start_time": "2024-08-14T19:16:43.638Z"
   },
   {
    "duration": 667,
    "start_time": "2024-08-14T19:16:51.386Z"
   },
   {
    "duration": 642,
    "start_time": "2024-08-14T19:17:13.035Z"
   },
   {
    "duration": 408,
    "start_time": "2024-08-14T19:18:50.133Z"
   },
   {
    "duration": 468,
    "start_time": "2024-08-14T19:19:31.434Z"
   },
   {
    "duration": 1560,
    "start_time": "2024-08-14T19:20:49.509Z"
   },
   {
    "duration": 15328,
    "start_time": "2024-08-14T19:21:18.413Z"
   },
   {
    "duration": 597,
    "start_time": "2024-08-14T19:21:52.905Z"
   },
   {
    "duration": 360,
    "start_time": "2024-08-14T19:21:59.921Z"
   },
   {
    "duration": 12,
    "start_time": "2024-08-14T19:25:32.876Z"
   },
   {
    "duration": 424,
    "start_time": "2024-08-14T19:25:58.035Z"
   },
   {
    "duration": 434,
    "start_time": "2024-08-14T19:27:25.424Z"
   },
   {
    "duration": 229,
    "start_time": "2024-08-14T19:38:52.512Z"
   },
   {
    "duration": 5,
    "start_time": "2024-08-14T19:39:14.756Z"
   },
   {
    "duration": 143,
    "start_time": "2024-08-14T19:39:14.766Z"
   },
   {
    "duration": 26,
    "start_time": "2024-08-14T19:39:14.912Z"
   },
   {
    "duration": 33,
    "start_time": "2024-08-14T19:39:14.941Z"
   },
   {
    "duration": 2207,
    "start_time": "2024-08-14T19:39:14.977Z"
   },
   {
    "duration": 28,
    "start_time": "2024-08-14T19:39:17.187Z"
   },
   {
    "duration": 18,
    "start_time": "2024-08-14T19:39:17.216Z"
   },
   {
    "duration": 5,
    "start_time": "2024-08-14T19:39:17.235Z"
   },
   {
    "duration": 26,
    "start_time": "2024-08-14T19:39:17.242Z"
   },
   {
    "duration": 11,
    "start_time": "2024-08-14T19:39:17.270Z"
   },
   {
    "duration": 5,
    "start_time": "2024-08-14T19:39:17.283Z"
   },
   {
    "duration": 75,
    "start_time": "2024-08-14T19:39:17.290Z"
   },
   {
    "duration": 176,
    "start_time": "2024-08-14T19:39:17.367Z"
   },
   {
    "duration": 181,
    "start_time": "2024-08-14T19:39:17.546Z"
   },
   {
    "duration": 236,
    "start_time": "2024-08-14T19:39:21.989Z"
   },
   {
    "duration": 13,
    "start_time": "2024-08-14T19:41:32.686Z"
   },
   {
    "duration": 4,
    "start_time": "2024-08-14T19:42:11.330Z"
   },
   {
    "duration": 97,
    "start_time": "2024-08-14T19:42:11.338Z"
   },
   {
    "duration": 22,
    "start_time": "2024-08-14T19:42:11.437Z"
   },
   {
    "duration": 16,
    "start_time": "2024-08-14T19:42:11.461Z"
   },
   {
    "duration": 2190,
    "start_time": "2024-08-14T19:42:11.480Z"
   },
   {
    "duration": 16,
    "start_time": "2024-08-14T19:42:13.672Z"
   },
   {
    "duration": 32,
    "start_time": "2024-08-14T19:42:13.690Z"
   },
   {
    "duration": 5,
    "start_time": "2024-08-14T19:42:13.724Z"
   },
   {
    "duration": 7,
    "start_time": "2024-08-14T19:42:13.731Z"
   },
   {
    "duration": 7,
    "start_time": "2024-08-14T19:42:13.740Z"
   },
   {
    "duration": 3,
    "start_time": "2024-08-14T19:42:13.750Z"
   },
   {
    "duration": 58,
    "start_time": "2024-08-14T19:42:13.755Z"
   },
   {
    "duration": 175,
    "start_time": "2024-08-14T19:42:13.814Z"
   },
   {
    "duration": 124,
    "start_time": "2024-08-14T19:42:13.991Z"
   },
   {
    "duration": 10,
    "start_time": "2024-08-14T19:42:18.368Z"
   },
   {
    "duration": 13,
    "start_time": "2024-08-14T19:42:30.709Z"
   },
   {
    "duration": 17,
    "start_time": "2024-08-14T19:42:44.334Z"
   },
   {
    "duration": 19,
    "start_time": "2024-08-14T19:43:20.232Z"
   },
   {
    "duration": 34,
    "start_time": "2024-08-14T19:44:03.681Z"
   },
   {
    "duration": 18,
    "start_time": "2024-08-14T19:44:44.440Z"
   },
   {
    "duration": 21,
    "start_time": "2024-08-14T19:45:00.358Z"
   },
   {
    "duration": 22,
    "start_time": "2024-08-14T19:45:20.024Z"
   },
   {
    "duration": 27,
    "start_time": "2024-08-14T19:45:45.538Z"
   },
   {
    "duration": 46,
    "start_time": "2024-08-14T19:45:57.387Z"
   },
   {
    "duration": 5,
    "start_time": "2024-08-14T19:46:39.321Z"
   },
   {
    "duration": 6,
    "start_time": "2024-08-14T19:47:12.808Z"
   },
   {
    "duration": 24,
    "start_time": "2024-08-14T19:47:27.004Z"
   },
   {
    "duration": 243,
    "start_time": "2024-08-14T19:50:24.803Z"
   },
   {
    "duration": 18,
    "start_time": "2024-08-14T19:54:02.725Z"
   },
   {
    "duration": 9,
    "start_time": "2024-08-14T19:54:11.818Z"
   },
   {
    "duration": 3,
    "start_time": "2024-08-14T19:54:22.430Z"
   },
   {
    "duration": 99,
    "start_time": "2024-08-14T19:54:22.438Z"
   },
   {
    "duration": 19,
    "start_time": "2024-08-14T19:54:22.539Z"
   },
   {
    "duration": 25,
    "start_time": "2024-08-14T19:54:22.560Z"
   },
   {
    "duration": 2173,
    "start_time": "2024-08-14T19:54:22.587Z"
   },
   {
    "duration": 17,
    "start_time": "2024-08-14T19:54:24.764Z"
   },
   {
    "duration": 30,
    "start_time": "2024-08-14T19:54:24.783Z"
   },
   {
    "duration": 6,
    "start_time": "2024-08-14T19:54:24.815Z"
   },
   {
    "duration": 55,
    "start_time": "2024-08-14T19:54:24.822Z"
   },
   {
    "duration": 12,
    "start_time": "2024-08-14T19:54:24.879Z"
   },
   {
    "duration": 5,
    "start_time": "2024-08-14T19:54:24.894Z"
   },
   {
    "duration": 71,
    "start_time": "2024-08-14T19:54:24.901Z"
   },
   {
    "duration": 191,
    "start_time": "2024-08-14T19:54:24.974Z"
   },
   {
    "duration": 10,
    "start_time": "2024-08-14T19:55:00.606Z"
   },
   {
    "duration": 17,
    "start_time": "2024-08-14T19:55:16.054Z"
   },
   {
    "duration": 13,
    "start_time": "2024-08-14T19:55:19.678Z"
   },
   {
    "duration": 12,
    "start_time": "2024-08-14T19:56:14.838Z"
   },
   {
    "duration": 6,
    "start_time": "2024-08-14T19:56:26.716Z"
   },
   {
    "duration": 8,
    "start_time": "2024-08-14T19:56:52.717Z"
   },
   {
    "duration": 3,
    "start_time": "2024-08-14T19:57:36.665Z"
   },
   {
    "duration": 118,
    "start_time": "2024-08-14T19:57:36.671Z"
   },
   {
    "duration": 21,
    "start_time": "2024-08-14T19:57:36.792Z"
   },
   {
    "duration": 21,
    "start_time": "2024-08-14T19:57:36.815Z"
   },
   {
    "duration": 2130,
    "start_time": "2024-08-14T19:57:36.839Z"
   },
   {
    "duration": 15,
    "start_time": "2024-08-14T19:57:38.971Z"
   },
   {
    "duration": 66,
    "start_time": "2024-08-14T19:57:38.988Z"
   },
   {
    "duration": 5,
    "start_time": "2024-08-14T19:57:39.056Z"
   },
   {
    "duration": 6,
    "start_time": "2024-08-14T19:57:39.063Z"
   },
   {
    "duration": 5,
    "start_time": "2024-08-14T19:57:39.071Z"
   },
   {
    "duration": 2,
    "start_time": "2024-08-14T19:57:39.079Z"
   },
   {
    "duration": 60,
    "start_time": "2024-08-14T19:57:39.083Z"
   },
   {
    "duration": 164,
    "start_time": "2024-08-14T19:57:39.144Z"
   },
   {
    "duration": 129,
    "start_time": "2024-08-14T19:57:39.310Z"
   },
   {
    "duration": 24,
    "start_time": "2024-08-14T19:57:43.297Z"
   },
   {
    "duration": 8,
    "start_time": "2024-08-14T19:58:04.606Z"
   },
   {
    "duration": 25,
    "start_time": "2024-08-14T19:58:11.480Z"
   },
   {
    "duration": 29,
    "start_time": "2024-08-14T19:59:22.267Z"
   },
   {
    "duration": 23,
    "start_time": "2024-08-14T20:00:02.869Z"
   },
   {
    "duration": 22,
    "start_time": "2024-08-14T20:00:11.035Z"
   },
   {
    "duration": 5,
    "start_time": "2024-08-14T20:00:33.646Z"
   },
   {
    "duration": 4,
    "start_time": "2024-08-14T20:00:38.135Z"
   },
   {
    "duration": 4,
    "start_time": "2024-08-14T20:05:02.833Z"
   },
   {
    "duration": 153,
    "start_time": "2024-08-14T20:05:02.842Z"
   },
   {
    "duration": 21,
    "start_time": "2024-08-14T20:05:02.998Z"
   },
   {
    "duration": 55,
    "start_time": "2024-08-14T20:05:03.022Z"
   },
   {
    "duration": 2194,
    "start_time": "2024-08-14T20:05:03.079Z"
   },
   {
    "duration": 30,
    "start_time": "2024-08-14T20:05:05.275Z"
   },
   {
    "duration": 17,
    "start_time": "2024-08-14T20:05:05.307Z"
   },
   {
    "duration": 5,
    "start_time": "2024-08-14T20:05:05.326Z"
   },
   {
    "duration": 9,
    "start_time": "2024-08-14T20:05:05.332Z"
   },
   {
    "duration": 6,
    "start_time": "2024-08-14T20:05:05.343Z"
   },
   {
    "duration": 4,
    "start_time": "2024-08-14T20:05:09.950Z"
   },
   {
    "duration": 61,
    "start_time": "2024-08-14T20:05:14.012Z"
   },
   {
    "duration": 19,
    "start_time": "2024-08-14T20:05:31.912Z"
   },
   {
    "duration": 9,
    "start_time": "2024-08-14T20:05:35.759Z"
   },
   {
    "duration": 3,
    "start_time": "2024-08-14T20:07:49.739Z"
   },
   {
    "duration": 95,
    "start_time": "2024-08-14T20:07:49.746Z"
   },
   {
    "duration": 19,
    "start_time": "2024-08-14T20:07:49.843Z"
   },
   {
    "duration": 14,
    "start_time": "2024-08-14T20:07:49.863Z"
   },
   {
    "duration": 2173,
    "start_time": "2024-08-14T20:07:49.879Z"
   },
   {
    "duration": 20,
    "start_time": "2024-08-14T20:07:52.054Z"
   },
   {
    "duration": 36,
    "start_time": "2024-08-14T20:07:52.076Z"
   },
   {
    "duration": 23,
    "start_time": "2024-08-14T20:07:52.113Z"
   },
   {
    "duration": 41,
    "start_time": "2024-08-14T20:07:52.138Z"
   },
   {
    "duration": 12,
    "start_time": "2024-08-14T20:07:56.833Z"
   },
   {
    "duration": 28,
    "start_time": "2024-08-14T20:08:44.870Z"
   },
   {
    "duration": 21,
    "start_time": "2024-08-14T20:12:28.213Z"
   },
   {
    "duration": 4,
    "start_time": "2024-08-14T20:13:26.172Z"
   },
   {
    "duration": 15,
    "start_time": "2024-08-14T20:13:37.320Z"
   },
   {
    "duration": 17,
    "start_time": "2024-08-14T20:14:03.095Z"
   },
   {
    "duration": 25,
    "start_time": "2024-08-14T20:16:30.136Z"
   },
   {
    "duration": 19,
    "start_time": "2024-08-14T20:16:52.570Z"
   },
   {
    "duration": 19,
    "start_time": "2024-08-14T20:17:40.920Z"
   },
   {
    "duration": 3,
    "start_time": "2024-08-14T20:17:55.042Z"
   },
   {
    "duration": 141,
    "start_time": "2024-08-14T20:17:55.049Z"
   },
   {
    "duration": 20,
    "start_time": "2024-08-14T20:17:55.192Z"
   },
   {
    "duration": 16,
    "start_time": "2024-08-14T20:17:55.213Z"
   },
   {
    "duration": 2141,
    "start_time": "2024-08-14T20:17:55.231Z"
   },
   {
    "duration": 16,
    "start_time": "2024-08-14T20:17:57.373Z"
   },
   {
    "duration": 28,
    "start_time": "2024-08-14T20:17:57.390Z"
   },
   {
    "duration": 4,
    "start_time": "2024-08-14T20:17:57.420Z"
   },
   {
    "duration": 7,
    "start_time": "2024-08-14T20:17:57.425Z"
   },
   {
    "duration": 4,
    "start_time": "2024-08-14T20:18:02.239Z"
   },
   {
    "duration": 30,
    "start_time": "2024-08-14T20:18:05.402Z"
   },
   {
    "duration": 5,
    "start_time": "2024-08-14T20:19:45.436Z"
   },
   {
    "duration": 11,
    "start_time": "2024-08-14T20:20:05.574Z"
   },
   {
    "duration": 5,
    "start_time": "2024-08-14T20:20:49.483Z"
   },
   {
    "duration": 6,
    "start_time": "2024-08-14T20:21:53.250Z"
   },
   {
    "duration": 11,
    "start_time": "2024-08-14T20:22:10.394Z"
   },
   {
    "duration": 7,
    "start_time": "2024-08-14T20:22:35.110Z"
   },
   {
    "duration": 5,
    "start_time": "2024-08-14T20:22:46.500Z"
   },
   {
    "duration": 97,
    "start_time": "2024-08-14T20:22:46.507Z"
   },
   {
    "duration": 19,
    "start_time": "2024-08-14T20:22:46.606Z"
   },
   {
    "duration": 20,
    "start_time": "2024-08-14T20:22:46.628Z"
   },
   {
    "duration": 2036,
    "start_time": "2024-08-14T20:22:46.651Z"
   },
   {
    "duration": 24,
    "start_time": "2024-08-14T20:22:48.688Z"
   },
   {
    "duration": 16,
    "start_time": "2024-08-14T20:22:48.713Z"
   },
   {
    "duration": 5,
    "start_time": "2024-08-14T20:22:48.730Z"
   },
   {
    "duration": 4,
    "start_time": "2024-08-14T20:22:48.736Z"
   },
   {
    "duration": 19,
    "start_time": "2024-08-14T20:22:53.886Z"
   },
   {
    "duration": 9,
    "start_time": "2024-08-14T20:23:08.660Z"
   },
   {
    "duration": 16,
    "start_time": "2024-08-14T20:23:21.360Z"
   },
   {
    "duration": 9,
    "start_time": "2024-08-14T20:27:13.126Z"
   },
   {
    "duration": 3,
    "start_time": "2024-08-14T20:27:19.534Z"
   },
   {
    "duration": 102,
    "start_time": "2024-08-14T20:27:19.539Z"
   },
   {
    "duration": 20,
    "start_time": "2024-08-14T20:27:19.643Z"
   },
   {
    "duration": 227,
    "start_time": "2024-08-14T20:27:19.664Z"
   },
   {
    "duration": 1926,
    "start_time": "2024-08-14T20:27:19.893Z"
   },
   {
    "duration": 15,
    "start_time": "2024-08-14T20:27:21.820Z"
   },
   {
    "duration": 25,
    "start_time": "2024-08-14T20:27:21.836Z"
   },
   {
    "duration": 5,
    "start_time": "2024-08-14T20:27:21.863Z"
   },
   {
    "duration": 4,
    "start_time": "2024-08-14T20:27:21.869Z"
   },
   {
    "duration": 6,
    "start_time": "2024-08-14T20:27:21.875Z"
   },
   {
    "duration": 28,
    "start_time": "2024-08-14T20:27:24.464Z"
   },
   {
    "duration": 9,
    "start_time": "2024-08-14T20:29:09.945Z"
   },
   {
    "duration": 14,
    "start_time": "2024-08-14T20:29:28.608Z"
   },
   {
    "duration": 3,
    "start_time": "2024-08-14T20:29:43.249Z"
   },
   {
    "duration": 111,
    "start_time": "2024-08-14T20:29:43.256Z"
   },
   {
    "duration": 20,
    "start_time": "2024-08-14T20:29:43.369Z"
   },
   {
    "duration": 36,
    "start_time": "2024-08-14T20:29:43.391Z"
   },
   {
    "duration": 2607,
    "start_time": "2024-08-14T20:29:43.430Z"
   },
   {
    "duration": 26,
    "start_time": "2024-08-14T20:29:46.042Z"
   },
   {
    "duration": 37,
    "start_time": "2024-08-14T20:29:46.071Z"
   },
   {
    "duration": 5,
    "start_time": "2024-08-14T20:29:46.110Z"
   },
   {
    "duration": 4,
    "start_time": "2024-08-14T20:29:46.116Z"
   },
   {
    "duration": 15,
    "start_time": "2024-08-14T20:29:46.122Z"
   },
   {
    "duration": 20,
    "start_time": "2024-08-14T20:29:50.006Z"
   },
   {
    "duration": 15,
    "start_time": "2024-08-14T20:30:04.385Z"
   },
   {
    "duration": 8,
    "start_time": "2024-08-14T20:30:20.957Z"
   },
   {
    "duration": 11,
    "start_time": "2024-08-14T20:32:25.032Z"
   },
   {
    "duration": 13,
    "start_time": "2024-08-14T20:33:17.314Z"
   },
   {
    "duration": 3,
    "start_time": "2024-08-14T20:33:33.321Z"
   },
   {
    "duration": 2,
    "start_time": "2024-08-14T20:34:22.433Z"
   },
   {
    "duration": 93,
    "start_time": "2024-08-14T20:34:22.441Z"
   },
   {
    "duration": 19,
    "start_time": "2024-08-14T20:34:22.536Z"
   },
   {
    "duration": 14,
    "start_time": "2024-08-14T20:34:22.557Z"
   },
   {
    "duration": 2114,
    "start_time": "2024-08-14T20:34:22.573Z"
   },
   {
    "duration": 23,
    "start_time": "2024-08-14T20:34:24.689Z"
   },
   {
    "duration": 16,
    "start_time": "2024-08-14T20:34:24.714Z"
   },
   {
    "duration": 4,
    "start_time": "2024-08-14T20:34:24.731Z"
   },
   {
    "duration": 53,
    "start_time": "2024-08-14T20:34:24.737Z"
   },
   {
    "duration": 3,
    "start_time": "2024-08-14T20:34:24.792Z"
   },
   {
    "duration": 3,
    "start_time": "2024-08-14T20:34:24.797Z"
   },
   {
    "duration": 73,
    "start_time": "2024-08-14T20:34:24.801Z"
   },
   {
    "duration": 166,
    "start_time": "2024-08-14T20:34:24.876Z"
   },
   {
    "duration": 120,
    "start_time": "2024-08-14T20:34:25.044Z"
   },
   {
    "duration": 14,
    "start_time": "2024-08-14T20:34:29.237Z"
   },
   {
    "duration": 7,
    "start_time": "2024-08-14T20:34:33.229Z"
   },
   {
    "duration": 3,
    "start_time": "2024-08-14T20:35:21.158Z"
   },
   {
    "duration": 112,
    "start_time": "2024-08-14T20:35:21.167Z"
   },
   {
    "duration": 34,
    "start_time": "2024-08-14T20:35:21.281Z"
   },
   {
    "duration": 16,
    "start_time": "2024-08-14T20:35:21.316Z"
   },
   {
    "duration": 2219,
    "start_time": "2024-08-14T20:35:21.334Z"
   },
   {
    "duration": 14,
    "start_time": "2024-08-14T20:35:23.555Z"
   },
   {
    "duration": 16,
    "start_time": "2024-08-14T20:35:23.570Z"
   },
   {
    "duration": 20,
    "start_time": "2024-08-14T20:35:23.587Z"
   },
   {
    "duration": 4,
    "start_time": "2024-08-14T20:35:23.609Z"
   },
   {
    "duration": 3,
    "start_time": "2024-08-14T20:35:23.615Z"
   },
   {
    "duration": 7,
    "start_time": "2024-08-14T20:35:23.621Z"
   },
   {
    "duration": 79,
    "start_time": "2024-08-14T20:35:23.630Z"
   },
   {
    "duration": 158,
    "start_time": "2024-08-14T20:35:23.711Z"
   },
   {
    "duration": 122,
    "start_time": "2024-08-14T20:35:23.871Z"
   },
   {
    "duration": 16,
    "start_time": "2024-08-14T20:35:23.995Z"
   },
   {
    "duration": 8,
    "start_time": "2024-08-14T20:35:24.013Z"
   },
   {
    "duration": 9,
    "start_time": "2024-08-14T20:35:24.023Z"
   },
   {
    "duration": 6,
    "start_time": "2024-08-14T20:35:24.034Z"
   },
   {
    "duration": 5,
    "start_time": "2024-08-14T20:35:24.042Z"
   },
   {
    "duration": 6,
    "start_time": "2024-08-14T20:35:24.049Z"
   },
   {
    "duration": 48,
    "start_time": "2024-08-14T20:35:24.057Z"
   },
   {
    "duration": 14,
    "start_time": "2024-08-14T20:35:24.107Z"
   },
   {
    "duration": 9,
    "start_time": "2024-08-14T20:35:24.123Z"
   },
   {
    "duration": 25,
    "start_time": "2024-08-14T20:35:24.133Z"
   },
   {
    "duration": 10,
    "start_time": "2024-08-14T20:35:24.159Z"
   },
   {
    "duration": 243,
    "start_time": "2024-08-14T20:35:24.171Z"
   },
   {
    "duration": 69,
    "start_time": "2024-08-14T20:35:24.416Z"
   },
   {
    "duration": 33,
    "start_time": "2024-08-14T20:35:24.487Z"
   },
   {
    "duration": 9,
    "start_time": "2024-08-14T20:35:24.524Z"
   },
   {
    "duration": 24,
    "start_time": "2024-08-14T20:35:24.534Z"
   },
   {
    "duration": 7,
    "start_time": "2024-08-14T20:35:24.560Z"
   },
   {
    "duration": 196,
    "start_time": "2024-08-14T20:35:24.569Z"
   },
   {
    "duration": 78,
    "start_time": "2024-08-14T20:35:24.767Z"
   },
   {
    "duration": 50,
    "start_time": "2024-08-14T20:35:24.846Z"
   },
   {
    "duration": 10,
    "start_time": "2024-08-14T20:35:24.898Z"
   },
   {
    "duration": 23,
    "start_time": "2024-08-14T20:35:24.909Z"
   },
   {
    "duration": 45,
    "start_time": "2024-08-14T20:35:24.934Z"
   },
   {
    "duration": 183,
    "start_time": "2024-08-14T20:35:24.980Z"
   },
   {
    "duration": 9,
    "start_time": "2024-08-14T20:35:25.165Z"
   },
   {
    "duration": 44,
    "start_time": "2024-08-14T20:35:25.176Z"
   },
   {
    "duration": 6,
    "start_time": "2024-08-14T20:35:25.222Z"
   },
   {
    "duration": 37,
    "start_time": "2024-08-14T20:35:25.229Z"
   },
   {
    "duration": 9,
    "start_time": "2024-08-14T20:35:25.268Z"
   },
   {
    "duration": 239,
    "start_time": "2024-08-14T20:35:25.279Z"
   },
   {
    "duration": 8,
    "start_time": "2024-08-14T20:35:25.519Z"
   },
   {
    "duration": 37,
    "start_time": "2024-08-14T20:35:25.529Z"
   },
   {
    "duration": 23,
    "start_time": "2024-08-14T20:35:25.567Z"
   },
   {
    "duration": 192,
    "start_time": "2024-08-14T20:35:25.592Z"
   },
   {
    "duration": 10,
    "start_time": "2024-08-14T20:35:25.786Z"
   },
   {
    "duration": 33,
    "start_time": "2024-08-14T20:35:25.797Z"
   },
   {
    "duration": 4,
    "start_time": "2024-08-14T20:35:25.832Z"
   },
   {
    "duration": 29,
    "start_time": "2024-08-14T20:35:25.838Z"
   },
   {
    "duration": 41,
    "start_time": "2024-08-14T20:35:25.870Z"
   },
   {
    "duration": 201,
    "start_time": "2024-08-14T20:35:25.912Z"
   },
   {
    "duration": 8,
    "start_time": "2024-08-14T20:35:26.115Z"
   },
   {
    "duration": 9,
    "start_time": "2024-08-14T20:35:26.125Z"
   },
   {
    "duration": 335,
    "start_time": "2024-08-14T20:35:26.136Z"
   },
   {
    "duration": 8,
    "start_time": "2024-08-14T20:35:26.473Z"
   },
   {
    "duration": 40,
    "start_time": "2024-08-14T20:35:26.483Z"
   },
   {
    "duration": 7,
    "start_time": "2024-08-14T20:35:26.525Z"
   },
   {
    "duration": 203,
    "start_time": "2024-08-14T20:35:26.534Z"
   },
   {
    "duration": 39,
    "start_time": "2024-08-14T20:35:26.739Z"
   },
   {
    "duration": 29,
    "start_time": "2024-08-14T20:35:26.780Z"
   },
   {
    "duration": 41,
    "start_time": "2024-08-14T20:35:26.811Z"
   },
   {
    "duration": 4,
    "start_time": "2024-08-14T20:35:26.854Z"
   },
   {
    "duration": 196,
    "start_time": "2024-08-14T20:35:26.860Z"
   },
   {
    "duration": 34,
    "start_time": "2024-08-14T20:35:27.057Z"
   },
   {
    "duration": 9,
    "start_time": "2024-08-14T20:35:27.093Z"
   },
   {
    "duration": 198,
    "start_time": "2024-08-14T20:35:27.104Z"
   },
   {
    "duration": 20,
    "start_time": "2024-08-14T20:35:32.617Z"
   },
   {
    "duration": 244,
    "start_time": "2024-08-14T20:35:36.108Z"
   },
   {
    "duration": 67,
    "start_time": "2024-08-14T20:35:40.167Z"
   },
   {
    "duration": 6,
    "start_time": "2024-08-14T20:36:04.084Z"
   },
   {
    "duration": 20,
    "start_time": "2024-08-14T20:36:12.521Z"
   },
   {
    "duration": 61,
    "start_time": "2024-08-14T20:37:32.094Z"
   },
   {
    "duration": 21,
    "start_time": "2024-08-14T20:38:20.972Z"
   },
   {
    "duration": 3,
    "start_time": "2024-08-14T20:38:31.219Z"
   },
   {
    "duration": 191,
    "start_time": "2024-08-14T20:38:31.226Z"
   },
   {
    "duration": 22,
    "start_time": "2024-08-14T20:38:31.419Z"
   },
   {
    "duration": 87,
    "start_time": "2024-08-14T20:38:31.442Z"
   },
   {
    "duration": 2102,
    "start_time": "2024-08-14T20:38:31.531Z"
   },
   {
    "duration": 16,
    "start_time": "2024-08-14T20:38:33.634Z"
   },
   {
    "duration": 15,
    "start_time": "2024-08-14T20:38:33.651Z"
   },
   {
    "duration": 4,
    "start_time": "2024-08-14T20:38:33.668Z"
   },
   {
    "duration": 5,
    "start_time": "2024-08-14T20:38:33.673Z"
   },
   {
    "duration": 28,
    "start_time": "2024-08-14T20:38:33.680Z"
   },
   {
    "duration": 4,
    "start_time": "2024-08-14T20:38:33.710Z"
   },
   {
    "duration": 61,
    "start_time": "2024-08-14T20:38:33.716Z"
   },
   {
    "duration": 169,
    "start_time": "2024-08-14T20:38:33.778Z"
   },
   {
    "duration": 126,
    "start_time": "2024-08-14T20:38:33.948Z"
   },
   {
    "duration": 15,
    "start_time": "2024-08-14T20:38:39.832Z"
   },
   {
    "duration": 8,
    "start_time": "2024-08-14T20:38:42.879Z"
   },
   {
    "duration": 3,
    "start_time": "2024-08-14T20:40:34.103Z"
   },
   {
    "duration": 102,
    "start_time": "2024-08-14T20:40:34.110Z"
   },
   {
    "duration": 24,
    "start_time": "2024-08-14T20:40:34.214Z"
   },
   {
    "duration": 18,
    "start_time": "2024-08-14T20:40:34.241Z"
   },
   {
    "duration": 2205,
    "start_time": "2024-08-14T20:40:34.263Z"
   },
   {
    "duration": 16,
    "start_time": "2024-08-14T20:40:36.469Z"
   },
   {
    "duration": 31,
    "start_time": "2024-08-14T20:40:36.487Z"
   },
   {
    "duration": 4,
    "start_time": "2024-08-14T20:40:36.520Z"
   },
   {
    "duration": 8,
    "start_time": "2024-08-14T20:40:36.526Z"
   },
   {
    "duration": 4,
    "start_time": "2024-08-14T20:40:36.535Z"
   },
   {
    "duration": 3,
    "start_time": "2024-08-14T20:40:36.541Z"
   },
   {
    "duration": 63,
    "start_time": "2024-08-14T20:40:36.546Z"
   },
   {
    "duration": 176,
    "start_time": "2024-08-14T20:40:36.610Z"
   },
   {
    "duration": 137,
    "start_time": "2024-08-14T20:40:36.787Z"
   },
   {
    "duration": 9,
    "start_time": "2024-08-14T20:40:41.985Z"
   },
   {
    "duration": 14,
    "start_time": "2024-08-14T20:40:44.685Z"
   },
   {
    "duration": 7,
    "start_time": "2024-08-14T20:40:47.837Z"
   },
   {
    "duration": 14,
    "start_time": "2024-08-14T20:43:00.177Z"
   },
   {
    "duration": 13,
    "start_time": "2024-08-14T20:43:40.058Z"
   },
   {
    "duration": 3,
    "start_time": "2024-08-14T20:43:47.843Z"
   },
   {
    "duration": 108,
    "start_time": "2024-08-14T20:43:47.849Z"
   },
   {
    "duration": 21,
    "start_time": "2024-08-14T20:43:47.959Z"
   },
   {
    "duration": 31,
    "start_time": "2024-08-14T20:43:47.982Z"
   },
   {
    "duration": 2157,
    "start_time": "2024-08-14T20:43:48.016Z"
   },
   {
    "duration": 16,
    "start_time": "2024-08-14T20:43:50.175Z"
   },
   {
    "duration": 18,
    "start_time": "2024-08-14T20:43:50.206Z"
   },
   {
    "duration": 5,
    "start_time": "2024-08-14T20:43:50.225Z"
   },
   {
    "duration": 6,
    "start_time": "2024-08-14T20:43:50.231Z"
   },
   {
    "duration": 8,
    "start_time": "2024-08-14T20:43:50.238Z"
   },
   {
    "duration": 3,
    "start_time": "2024-08-14T20:43:50.248Z"
   },
   {
    "duration": 58,
    "start_time": "2024-08-14T20:43:50.252Z"
   },
   {
    "duration": 181,
    "start_time": "2024-08-14T20:43:50.312Z"
   },
   {
    "duration": 125,
    "start_time": "2024-08-14T20:43:50.494Z"
   },
   {
    "duration": 15,
    "start_time": "2024-08-14T20:43:53.496Z"
   },
   {
    "duration": 13,
    "start_time": "2024-08-14T20:54:58.414Z"
   },
   {
    "duration": 61,
    "start_time": "2024-08-14T20:55:43.088Z"
   },
   {
    "duration": 164,
    "start_time": "2024-08-14T20:55:47.722Z"
   },
   {
    "duration": 17,
    "start_time": "2024-08-14T20:56:09.433Z"
   },
   {
    "duration": 23,
    "start_time": "2024-08-14T20:56:46.269Z"
   },
   {
    "duration": 22,
    "start_time": "2024-08-14T21:00:53.828Z"
   },
   {
    "duration": 16,
    "start_time": "2024-08-14T21:01:11.258Z"
   },
   {
    "duration": 21,
    "start_time": "2024-08-14T21:02:09.833Z"
   },
   {
    "duration": 67,
    "start_time": "2024-08-14T21:06:09.124Z"
   },
   {
    "duration": 747,
    "start_time": "2024-08-14T21:06:14.862Z"
   },
   {
    "duration": 16,
    "start_time": "2024-08-14T21:08:40.237Z"
   },
   {
    "duration": 16,
    "start_time": "2024-08-14T21:08:56.684Z"
   },
   {
    "duration": 14,
    "start_time": "2024-08-14T21:09:03.298Z"
   },
   {
    "duration": 14,
    "start_time": "2024-08-14T21:09:19.688Z"
   },
   {
    "duration": 695,
    "start_time": "2024-08-14T21:12:04.877Z"
   },
   {
    "duration": 723,
    "start_time": "2024-08-14T21:12:26.699Z"
   },
   {
    "duration": 167,
    "start_time": "2024-08-14T21:14:26.064Z"
   },
   {
    "duration": 181,
    "start_time": "2024-08-14T21:15:13.968Z"
   },
   {
    "duration": 783,
    "start_time": "2024-08-14T21:18:00.308Z"
   },
   {
    "duration": 17,
    "start_time": "2024-08-14T21:18:24.356Z"
   },
   {
    "duration": 17,
    "start_time": "2024-08-14T21:18:47.583Z"
   },
   {
    "duration": 13,
    "start_time": "2024-08-14T21:20:03.535Z"
   },
   {
    "duration": 19,
    "start_time": "2024-08-14T21:24:39.882Z"
   },
   {
    "duration": 21,
    "start_time": "2024-08-14T21:24:56.644Z"
   },
   {
    "duration": 26,
    "start_time": "2024-08-14T21:26:24.116Z"
   },
   {
    "duration": 26,
    "start_time": "2024-08-14T21:29:35.121Z"
   },
   {
    "duration": 16,
    "start_time": "2024-08-14T21:30:35.925Z"
   },
   {
    "duration": 22,
    "start_time": "2024-08-14T21:31:33.358Z"
   },
   {
    "duration": 13,
    "start_time": "2024-08-14T21:31:40.333Z"
   },
   {
    "duration": 21,
    "start_time": "2024-08-14T21:32:38.653Z"
   },
   {
    "duration": 13,
    "start_time": "2024-08-14T21:37:13.338Z"
   },
   {
    "duration": 18,
    "start_time": "2024-08-14T21:38:31.659Z"
   },
   {
    "duration": 20,
    "start_time": "2024-08-14T21:39:29.744Z"
   },
   {
    "duration": 18,
    "start_time": "2024-08-14T21:39:40.410Z"
   },
   {
    "duration": 17,
    "start_time": "2024-08-14T21:39:49.802Z"
   },
   {
    "duration": 64,
    "start_time": "2024-08-14T21:39:56.317Z"
   },
   {
    "duration": 56,
    "start_time": "2024-08-14T21:40:23.759Z"
   },
   {
    "duration": 24,
    "start_time": "2024-08-14T21:41:58.417Z"
   },
   {
    "duration": 19,
    "start_time": "2024-08-14T21:42:14.762Z"
   },
   {
    "duration": 26,
    "start_time": "2024-08-14T21:42:40.074Z"
   },
   {
    "duration": 16,
    "start_time": "2024-08-14T21:42:52.055Z"
   },
   {
    "duration": 73,
    "start_time": "2024-08-14T21:44:34.141Z"
   },
   {
    "duration": 56,
    "start_time": "2024-08-14T21:44:41.779Z"
   },
   {
    "duration": 1510,
    "start_time": "2024-08-15T13:57:50.544Z"
   },
   {
    "duration": 185,
    "start_time": "2024-08-15T13:57:52.056Z"
   },
   {
    "duration": 29,
    "start_time": "2024-08-15T13:57:52.243Z"
   },
   {
    "duration": 69,
    "start_time": "2024-08-15T13:57:52.274Z"
   },
   {
    "duration": 2131,
    "start_time": "2024-08-15T13:57:52.346Z"
   },
   {
    "duration": 16,
    "start_time": "2024-08-15T13:57:54.479Z"
   },
   {
    "duration": 56,
    "start_time": "2024-08-15T13:57:54.497Z"
   },
   {
    "duration": 5,
    "start_time": "2024-08-15T13:57:54.554Z"
   },
   {
    "duration": 18,
    "start_time": "2024-08-15T13:57:54.560Z"
   },
   {
    "duration": 23,
    "start_time": "2024-08-15T13:57:54.581Z"
   },
   {
    "duration": 17,
    "start_time": "2024-08-15T13:57:54.606Z"
   },
   {
    "duration": 59,
    "start_time": "2024-08-15T13:57:54.625Z"
   },
   {
    "duration": 169,
    "start_time": "2024-08-15T13:57:54.686Z"
   },
   {
    "duration": 166,
    "start_time": "2024-08-15T13:57:54.856Z"
   },
   {
    "duration": 21,
    "start_time": "2024-08-15T13:57:55.024Z"
   },
   {
    "duration": 26,
    "start_time": "2024-08-15T13:57:55.047Z"
   },
   {
    "duration": 7,
    "start_time": "2024-08-15T13:57:55.075Z"
   },
   {
    "duration": 23,
    "start_time": "2024-08-15T13:57:55.084Z"
   },
   {
    "duration": 75,
    "start_time": "2024-08-15T13:57:55.109Z"
   },
   {
    "duration": 6,
    "start_time": "2024-08-15T13:57:55.186Z"
   },
   {
    "duration": 17,
    "start_time": "2024-08-15T13:57:55.194Z"
   },
   {
    "duration": 12,
    "start_time": "2024-08-15T13:57:55.212Z"
   },
   {
    "duration": 21,
    "start_time": "2024-08-15T13:57:55.226Z"
   },
   {
    "duration": 86,
    "start_time": "2024-08-15T13:57:55.249Z"
   },
   {
    "duration": 33,
    "start_time": "2024-08-15T13:57:55.337Z"
   },
   {
    "duration": 10,
    "start_time": "2024-08-15T13:57:55.372Z"
   },
   {
    "duration": 246,
    "start_time": "2024-08-15T13:57:55.383Z"
   },
   {
    "duration": 80,
    "start_time": "2024-08-15T13:57:55.634Z"
   },
   {
    "duration": 12,
    "start_time": "2024-08-15T13:57:55.716Z"
   },
   {
    "duration": 26,
    "start_time": "2024-08-15T13:57:55.730Z"
   },
   {
    "duration": 19,
    "start_time": "2024-08-15T13:57:55.758Z"
   },
   {
    "duration": 248,
    "start_time": "2024-08-15T13:57:55.779Z"
   },
   {
    "duration": 89,
    "start_time": "2024-08-15T13:57:56.030Z"
   },
   {
    "duration": 39,
    "start_time": "2024-08-15T13:57:56.120Z"
   },
   {
    "duration": 10,
    "start_time": "2024-08-15T13:57:56.161Z"
   },
   {
    "duration": 42,
    "start_time": "2024-08-15T13:57:56.173Z"
   },
   {
    "duration": 8,
    "start_time": "2024-08-15T13:57:56.218Z"
   },
   {
    "duration": 232,
    "start_time": "2024-08-15T13:57:56.228Z"
   },
   {
    "duration": 9,
    "start_time": "2024-08-15T13:57:56.462Z"
   },
   {
    "duration": 43,
    "start_time": "2024-08-15T13:57:56.473Z"
   },
   {
    "duration": 9,
    "start_time": "2024-08-15T13:57:56.518Z"
   },
   {
    "duration": 30,
    "start_time": "2024-08-15T13:57:56.529Z"
   },
   {
    "duration": 10,
    "start_time": "2024-08-15T13:57:56.560Z"
   },
   {
    "duration": 245,
    "start_time": "2024-08-15T13:57:56.571Z"
   },
   {
    "duration": 15,
    "start_time": "2024-08-15T13:57:56.818Z"
   },
   {
    "duration": 56,
    "start_time": "2024-08-15T13:57:56.835Z"
   },
   {
    "duration": 34,
    "start_time": "2024-08-15T13:57:56.893Z"
   },
   {
    "duration": 232,
    "start_time": "2024-08-15T13:57:56.929Z"
   },
   {
    "duration": 10,
    "start_time": "2024-08-15T13:57:57.163Z"
   },
   {
    "duration": 55,
    "start_time": "2024-08-15T13:57:57.174Z"
   },
   {
    "duration": 6,
    "start_time": "2024-08-15T13:57:57.232Z"
   },
   {
    "duration": 128,
    "start_time": "2024-08-15T13:57:57.240Z"
   },
   {
    "duration": 11,
    "start_time": "2024-08-15T13:57:57.369Z"
   },
   {
    "duration": 205,
    "start_time": "2024-08-15T13:57:57.381Z"
   },
   {
    "duration": 9,
    "start_time": "2024-08-15T13:57:57.587Z"
   },
   {
    "duration": 17,
    "start_time": "2024-08-15T13:57:57.605Z"
   },
   {
    "duration": 190,
    "start_time": "2024-08-15T13:57:57.624Z"
   },
   {
    "duration": 8,
    "start_time": "2024-08-15T13:57:57.816Z"
   },
   {
    "duration": 184,
    "start_time": "2024-08-15T13:57:57.825Z"
   },
   {
    "duration": 9,
    "start_time": "2024-08-15T13:57:58.012Z"
   },
   {
    "duration": 211,
    "start_time": "2024-08-15T13:57:58.023Z"
   },
   {
    "duration": 35,
    "start_time": "2024-08-15T13:57:58.235Z"
   },
   {
    "duration": 45,
    "start_time": "2024-08-15T13:57:58.272Z"
   },
   {
    "duration": 41,
    "start_time": "2024-08-15T13:57:58.318Z"
   },
   {
    "duration": 5,
    "start_time": "2024-08-15T13:57:58.361Z"
   },
   {
    "duration": 227,
    "start_time": "2024-08-15T13:57:58.368Z"
   },
   {
    "duration": 40,
    "start_time": "2024-08-15T13:57:58.596Z"
   },
   {
    "duration": 12,
    "start_time": "2024-08-15T13:57:58.637Z"
   },
   {
    "duration": 212,
    "start_time": "2024-08-15T13:57:58.651Z"
   },
   {
    "duration": 21,
    "start_time": "2024-08-15T13:57:58.865Z"
   },
   {
    "duration": 273,
    "start_time": "2024-08-15T13:57:58.888Z"
   },
   {
    "duration": 111,
    "start_time": "2024-08-15T13:57:59.163Z"
   },
   {
    "duration": 162,
    "start_time": "2024-08-15T13:57:59.285Z"
   },
   {
    "duration": 862,
    "start_time": "2024-08-15T13:57:59.448Z"
   },
   {
    "duration": 521,
    "start_time": "2024-08-15T13:58:00.314Z"
   },
   {
    "duration": 508,
    "start_time": "2024-08-15T13:58:00.837Z"
   },
   {
    "duration": 221,
    "start_time": "2024-08-15T13:58:01.347Z"
   },
   {
    "duration": 139,
    "start_time": "2024-08-15T13:58:01.569Z"
   },
   {
    "duration": 0,
    "start_time": "2024-08-15T13:58:01.710Z"
   },
   {
    "duration": 0,
    "start_time": "2024-08-15T13:58:01.712Z"
   },
   {
    "duration": 0,
    "start_time": "2024-08-15T13:58:01.713Z"
   },
   {
    "duration": 0,
    "start_time": "2024-08-15T13:58:01.714Z"
   },
   {
    "duration": 0,
    "start_time": "2024-08-15T13:58:01.715Z"
   },
   {
    "duration": 0,
    "start_time": "2024-08-15T13:58:01.717Z"
   },
   {
    "duration": 26,
    "start_time": "2024-08-15T14:00:52.727Z"
   },
   {
    "duration": 35,
    "start_time": "2024-08-15T14:01:16.904Z"
   },
   {
    "duration": 4,
    "start_time": "2024-08-15T14:01:26.608Z"
   },
   {
    "duration": 116,
    "start_time": "2024-08-15T14:01:26.617Z"
   },
   {
    "duration": 25,
    "start_time": "2024-08-15T14:01:26.735Z"
   },
   {
    "duration": 58,
    "start_time": "2024-08-15T14:01:26.763Z"
   },
   {
    "duration": 2459,
    "start_time": "2024-08-15T14:01:26.824Z"
   },
   {
    "duration": 27,
    "start_time": "2024-08-15T14:01:29.285Z"
   },
   {
    "duration": 42,
    "start_time": "2024-08-15T14:01:29.314Z"
   },
   {
    "duration": 5,
    "start_time": "2024-08-15T14:01:29.358Z"
   },
   {
    "duration": 14,
    "start_time": "2024-08-15T14:01:29.365Z"
   },
   {
    "duration": 4,
    "start_time": "2024-08-15T14:01:29.381Z"
   },
   {
    "duration": 2,
    "start_time": "2024-08-15T14:01:29.389Z"
   },
   {
    "duration": 56,
    "start_time": "2024-08-15T14:01:29.393Z"
   },
   {
    "duration": 173,
    "start_time": "2024-08-15T14:01:29.450Z"
   },
   {
    "duration": 135,
    "start_time": "2024-08-15T14:01:29.625Z"
   },
   {
    "duration": 20,
    "start_time": "2024-08-15T14:01:29.763Z"
   },
   {
    "duration": 24,
    "start_time": "2024-08-15T14:01:29.785Z"
   },
   {
    "duration": 7,
    "start_time": "2024-08-15T14:01:29.811Z"
   },
   {
    "duration": 5,
    "start_time": "2024-08-15T14:01:29.819Z"
   },
   {
    "duration": 11,
    "start_time": "2024-08-15T14:01:29.825Z"
   },
   {
    "duration": 18,
    "start_time": "2024-08-15T14:01:29.837Z"
   },
   {
    "duration": 8,
    "start_time": "2024-08-15T14:01:29.856Z"
   },
   {
    "duration": 26,
    "start_time": "2024-08-15T14:01:29.866Z"
   },
   {
    "duration": 18,
    "start_time": "2024-08-15T14:01:29.894Z"
   },
   {
    "duration": 21,
    "start_time": "2024-08-15T14:01:29.914Z"
   },
   {
    "duration": 56,
    "start_time": "2024-08-15T14:01:29.937Z"
   },
   {
    "duration": 10,
    "start_time": "2024-08-15T14:01:29.994Z"
   },
   {
    "duration": 232,
    "start_time": "2024-08-15T14:01:30.006Z"
   },
   {
    "duration": 76,
    "start_time": "2024-08-15T14:01:30.240Z"
   },
   {
    "duration": 12,
    "start_time": "2024-08-15T14:01:30.425Z"
   },
   {
    "duration": 83,
    "start_time": "2024-08-15T14:01:30.438Z"
   },
   {
    "duration": 96,
    "start_time": "2024-08-15T14:01:30.523Z"
   },
   {
    "duration": 282,
    "start_time": "2024-08-15T14:01:30.621Z"
   },
   {
    "duration": 81,
    "start_time": "2024-08-15T14:01:30.905Z"
   },
   {
    "duration": 47,
    "start_time": "2024-08-15T14:01:30.988Z"
   },
   {
    "duration": 9,
    "start_time": "2024-08-15T14:01:31.037Z"
   },
   {
    "duration": 51,
    "start_time": "2024-08-15T14:01:31.047Z"
   },
   {
    "duration": 25,
    "start_time": "2024-08-15T14:01:31.100Z"
   },
   {
    "duration": 292,
    "start_time": "2024-08-15T14:01:31.126Z"
   },
   {
    "duration": 9,
    "start_time": "2024-08-15T14:01:31.420Z"
   },
   {
    "duration": 99,
    "start_time": "2024-08-15T14:01:31.431Z"
   },
   {
    "duration": 29,
    "start_time": "2024-08-15T14:01:31.532Z"
   },
   {
    "duration": 36,
    "start_time": "2024-08-15T14:01:31.563Z"
   },
   {
    "duration": 9,
    "start_time": "2024-08-15T14:01:31.601Z"
   },
   {
    "duration": 228,
    "start_time": "2024-08-15T14:01:31.612Z"
   },
   {
    "duration": 9,
    "start_time": "2024-08-15T14:01:31.842Z"
   },
   {
    "duration": 52,
    "start_time": "2024-08-15T14:01:31.853Z"
   },
   {
    "duration": 24,
    "start_time": "2024-08-15T14:01:31.906Z"
   },
   {
    "duration": 188,
    "start_time": "2024-08-15T14:01:31.931Z"
   },
   {
    "duration": 10,
    "start_time": "2024-08-15T14:01:32.120Z"
   },
   {
    "duration": 36,
    "start_time": "2024-08-15T14:01:32.131Z"
   },
   {
    "duration": 4,
    "start_time": "2024-08-15T14:01:32.169Z"
   },
   {
    "duration": 40,
    "start_time": "2024-08-15T14:01:32.175Z"
   },
   {
    "duration": 11,
    "start_time": "2024-08-15T14:01:32.216Z"
   },
   {
    "duration": 192,
    "start_time": "2024-08-15T14:01:32.231Z"
   },
   {
    "duration": 10,
    "start_time": "2024-08-15T14:01:32.425Z"
   },
   {
    "duration": 12,
    "start_time": "2024-08-15T14:01:32.437Z"
   },
   {
    "duration": 200,
    "start_time": "2024-08-15T14:01:32.451Z"
   },
   {
    "duration": 9,
    "start_time": "2024-08-15T14:01:32.653Z"
   },
   {
    "duration": 49,
    "start_time": "2024-08-15T14:01:32.664Z"
   },
   {
    "duration": 9,
    "start_time": "2024-08-15T14:01:32.715Z"
   },
   {
    "duration": 236,
    "start_time": "2024-08-15T14:01:32.726Z"
   },
   {
    "duration": 44,
    "start_time": "2024-08-15T14:01:32.964Z"
   },
   {
    "duration": 9,
    "start_time": "2024-08-15T14:01:33.010Z"
   },
   {
    "duration": 51,
    "start_time": "2024-08-15T14:01:33.020Z"
   },
   {
    "duration": 4,
    "start_time": "2024-08-15T14:01:33.073Z"
   },
   {
    "duration": 200,
    "start_time": "2024-08-15T14:01:33.079Z"
   },
   {
    "duration": 38,
    "start_time": "2024-08-15T14:01:33.281Z"
   },
   {
    "duration": 12,
    "start_time": "2024-08-15T14:01:33.321Z"
   },
   {
    "duration": 194,
    "start_time": "2024-08-15T14:01:33.334Z"
   },
   {
    "duration": 20,
    "start_time": "2024-08-15T14:01:33.529Z"
   },
   {
    "duration": 250,
    "start_time": "2024-08-15T14:01:33.551Z"
   },
   {
    "duration": 77,
    "start_time": "2024-08-15T14:01:33.804Z"
   },
   {
    "duration": 238,
    "start_time": "2024-08-15T14:01:33.883Z"
   },
   {
    "duration": 863,
    "start_time": "2024-08-15T14:01:34.124Z"
   },
   {
    "duration": 438,
    "start_time": "2024-08-15T14:01:34.989Z"
   },
   {
    "duration": 460,
    "start_time": "2024-08-15T14:01:35.428Z"
   },
   {
    "duration": 200,
    "start_time": "2024-08-15T14:01:38.758Z"
   },
   {
    "duration": 23,
    "start_time": "2024-08-15T14:01:42.427Z"
   },
   {
    "duration": 138,
    "start_time": "2024-08-15T14:02:24.841Z"
   },
   {
    "duration": 140,
    "start_time": "2024-08-15T14:03:38.857Z"
   },
   {
    "duration": 139,
    "start_time": "2024-08-15T14:03:50.128Z"
   },
   {
    "duration": 28,
    "start_time": "2024-08-15T14:04:10.490Z"
   },
   {
    "duration": 165,
    "start_time": "2024-08-15T14:05:13.257Z"
   },
   {
    "duration": 156,
    "start_time": "2024-08-15T14:05:48.571Z"
   },
   {
    "duration": 134,
    "start_time": "2024-08-15T14:06:03.656Z"
   },
   {
    "duration": 246,
    "start_time": "2024-08-15T14:06:44.673Z"
   },
   {
    "duration": 131,
    "start_time": "2024-08-15T14:07:28.419Z"
   },
   {
    "duration": 23,
    "start_time": "2024-08-15T14:07:47.674Z"
   },
   {
    "duration": 162,
    "start_time": "2024-08-15T14:07:59.767Z"
   },
   {
    "duration": 259,
    "start_time": "2024-08-15T14:08:15.453Z"
   },
   {
    "duration": 426,
    "start_time": "2024-08-15T14:08:24.235Z"
   },
   {
    "duration": 24,
    "start_time": "2024-08-15T14:08:29.789Z"
   },
   {
    "duration": 85,
    "start_time": "2024-08-15T14:08:32.358Z"
   },
   {
    "duration": 234,
    "start_time": "2024-08-15T14:08:35.520Z"
   },
   {
    "duration": 1268,
    "start_time": "2024-08-15T14:08:48.776Z"
   },
   {
    "duration": 103,
    "start_time": "2024-08-15T14:08:50.046Z"
   },
   {
    "duration": 23,
    "start_time": "2024-08-15T14:08:50.150Z"
   },
   {
    "duration": 15,
    "start_time": "2024-08-15T14:08:50.175Z"
   },
   {
    "duration": 2100,
    "start_time": "2024-08-15T14:08:50.192Z"
   },
   {
    "duration": 16,
    "start_time": "2024-08-15T14:08:52.294Z"
   },
   {
    "duration": 71,
    "start_time": "2024-08-15T14:08:52.312Z"
   },
   {
    "duration": 6,
    "start_time": "2024-08-15T14:08:52.384Z"
   },
   {
    "duration": 16,
    "start_time": "2024-08-15T14:08:52.392Z"
   },
   {
    "duration": 16,
    "start_time": "2024-08-15T14:08:52.411Z"
   },
   {
    "duration": 9,
    "start_time": "2024-08-15T14:08:52.429Z"
   },
   {
    "duration": 59,
    "start_time": "2024-08-15T14:08:52.440Z"
   },
   {
    "duration": 179,
    "start_time": "2024-08-15T14:08:52.501Z"
   },
   {
    "duration": 131,
    "start_time": "2024-08-15T14:08:52.682Z"
   },
   {
    "duration": 22,
    "start_time": "2024-08-15T14:08:52.814Z"
   },
   {
    "duration": 20,
    "start_time": "2024-08-15T14:08:52.838Z"
   },
   {
    "duration": 6,
    "start_time": "2024-08-15T14:08:52.860Z"
   },
   {
    "duration": 7,
    "start_time": "2024-08-15T14:08:52.868Z"
   },
   {
    "duration": 39,
    "start_time": "2024-08-15T14:08:52.877Z"
   },
   {
    "duration": 20,
    "start_time": "2024-08-15T14:08:52.918Z"
   },
   {
    "duration": 6,
    "start_time": "2024-08-15T14:08:52.939Z"
   },
   {
    "duration": 8,
    "start_time": "2024-08-15T14:08:52.946Z"
   },
   {
    "duration": 14,
    "start_time": "2024-08-15T14:08:52.956Z"
   },
   {
    "duration": 9,
    "start_time": "2024-08-15T14:08:52.972Z"
   },
   {
    "duration": 46,
    "start_time": "2024-08-15T14:08:52.982Z"
   },
   {
    "duration": 10,
    "start_time": "2024-08-15T14:08:53.030Z"
   },
   {
    "duration": 208,
    "start_time": "2024-08-15T14:08:53.041Z"
   },
   {
    "duration": 79,
    "start_time": "2024-08-15T14:08:53.254Z"
   },
   {
    "duration": 10,
    "start_time": "2024-08-15T14:08:53.334Z"
   },
   {
    "duration": 53,
    "start_time": "2024-08-15T14:08:53.345Z"
   },
   {
    "duration": 7,
    "start_time": "2024-08-15T14:08:53.399Z"
   },
   {
    "duration": 197,
    "start_time": "2024-08-15T14:08:53.407Z"
   },
   {
    "duration": 77,
    "start_time": "2024-08-15T14:08:53.606Z"
   },
   {
    "duration": 37,
    "start_time": "2024-08-15T14:08:53.685Z"
   },
   {
    "duration": 10,
    "start_time": "2024-08-15T14:08:53.724Z"
   },
   {
    "duration": 25,
    "start_time": "2024-08-15T14:08:53.736Z"
   },
   {
    "duration": 6,
    "start_time": "2024-08-15T14:08:53.762Z"
   },
   {
    "duration": 195,
    "start_time": "2024-08-15T14:08:53.770Z"
   },
   {
    "duration": 8,
    "start_time": "2024-08-15T14:08:53.967Z"
   },
   {
    "duration": 38,
    "start_time": "2024-08-15T14:08:53.977Z"
   },
   {
    "duration": 8,
    "start_time": "2024-08-15T14:08:54.017Z"
   },
   {
    "duration": 26,
    "start_time": "2024-08-15T14:08:54.026Z"
   },
   {
    "duration": 10,
    "start_time": "2024-08-15T14:08:54.054Z"
   },
   {
    "duration": 267,
    "start_time": "2024-08-15T14:08:54.065Z"
   },
   {
    "duration": 8,
    "start_time": "2024-08-15T14:08:54.334Z"
   },
   {
    "duration": 38,
    "start_time": "2024-08-15T14:08:54.344Z"
   },
   {
    "duration": 25,
    "start_time": "2024-08-15T14:08:54.383Z"
   },
   {
    "duration": 186,
    "start_time": "2024-08-15T14:08:54.410Z"
   },
   {
    "duration": 13,
    "start_time": "2024-08-15T14:08:54.598Z"
   },
   {
    "duration": 28,
    "start_time": "2024-08-15T14:08:54.613Z"
   },
   {
    "duration": 5,
    "start_time": "2024-08-15T14:08:54.643Z"
   },
   {
    "duration": 26,
    "start_time": "2024-08-15T14:08:54.649Z"
   },
   {
    "duration": 36,
    "start_time": "2024-08-15T14:08:54.677Z"
   },
   {
    "duration": 192,
    "start_time": "2024-08-15T14:08:54.715Z"
   },
   {
    "duration": 8,
    "start_time": "2024-08-15T14:08:54.909Z"
   },
   {
    "duration": 17,
    "start_time": "2024-08-15T14:08:54.919Z"
   },
   {
    "duration": 165,
    "start_time": "2024-08-15T14:08:54.938Z"
   },
   {
    "duration": 8,
    "start_time": "2024-08-15T14:08:55.105Z"
   },
   {
    "duration": 171,
    "start_time": "2024-08-15T14:08:55.114Z"
   },
   {
    "duration": 18,
    "start_time": "2024-08-15T14:08:55.287Z"
   },
   {
    "duration": 190,
    "start_time": "2024-08-15T14:08:55.307Z"
   },
   {
    "duration": 40,
    "start_time": "2024-08-15T14:08:55.499Z"
   },
   {
    "duration": 10,
    "start_time": "2024-08-15T14:08:55.540Z"
   },
   {
    "duration": 45,
    "start_time": "2024-08-15T14:08:55.552Z"
   },
   {
    "duration": 6,
    "start_time": "2024-08-15T14:08:55.599Z"
   },
   {
    "duration": 227,
    "start_time": "2024-08-15T14:08:55.607Z"
   },
   {
    "duration": 34,
    "start_time": "2024-08-15T14:08:55.836Z"
   },
   {
    "duration": 9,
    "start_time": "2024-08-15T14:08:55.871Z"
   },
   {
    "duration": 219,
    "start_time": "2024-08-15T14:08:55.882Z"
   },
   {
    "duration": 21,
    "start_time": "2024-08-15T14:08:56.104Z"
   },
   {
    "duration": 242,
    "start_time": "2024-08-15T14:08:56.127Z"
   },
   {
    "duration": 70,
    "start_time": "2024-08-15T14:08:56.371Z"
   },
   {
    "duration": 126,
    "start_time": "2024-08-15T14:08:56.444Z"
   },
   {
    "duration": 819,
    "start_time": "2024-08-15T14:08:56.572Z"
   },
   {
    "duration": 423,
    "start_time": "2024-08-15T14:08:57.393Z"
   },
   {
    "duration": 404,
    "start_time": "2024-08-15T14:08:57.818Z"
   },
   {
    "duration": 195,
    "start_time": "2024-08-15T14:08:58.224Z"
   },
   {
    "duration": 230,
    "start_time": "2024-08-15T14:08:58.421Z"
   },
   {
    "duration": 188,
    "start_time": "2024-08-15T14:08:58.653Z"
   },
   {
    "duration": 304,
    "start_time": "2024-08-15T14:08:58.843Z"
   },
   {
    "duration": 435,
    "start_time": "2024-08-15T14:08:59.149Z"
   },
   {
    "duration": 29,
    "start_time": "2024-08-15T14:08:59.590Z"
   },
   {
    "duration": 92,
    "start_time": "2024-08-15T14:08:59.621Z"
   },
   {
    "duration": 222,
    "start_time": "2024-08-15T14:08:59.714Z"
   },
   {
    "duration": 1242,
    "start_time": "2024-08-15T14:17:02.641Z"
   },
   {
    "duration": 142,
    "start_time": "2024-08-15T14:17:03.885Z"
   },
   {
    "duration": 25,
    "start_time": "2024-08-15T14:17:04.028Z"
   },
   {
    "duration": 23,
    "start_time": "2024-08-15T14:17:04.055Z"
   },
   {
    "duration": 2386,
    "start_time": "2024-08-15T14:17:04.080Z"
   },
   {
    "duration": 18,
    "start_time": "2024-08-15T14:17:06.468Z"
   },
   {
    "duration": 91,
    "start_time": "2024-08-15T14:17:06.488Z"
   },
   {
    "duration": 6,
    "start_time": "2024-08-15T14:17:06.580Z"
   },
   {
    "duration": 13,
    "start_time": "2024-08-15T14:17:06.588Z"
   },
   {
    "duration": 21,
    "start_time": "2024-08-15T14:17:06.605Z"
   },
   {
    "duration": 33,
    "start_time": "2024-08-15T14:17:06.628Z"
   },
   {
    "duration": 74,
    "start_time": "2024-08-15T14:17:06.662Z"
   },
   {
    "duration": 193,
    "start_time": "2024-08-15T14:17:06.737Z"
   },
   {
    "duration": 138,
    "start_time": "2024-08-15T14:17:06.932Z"
   },
   {
    "duration": 21,
    "start_time": "2024-08-15T14:17:07.071Z"
   },
   {
    "duration": 50,
    "start_time": "2024-08-15T14:17:07.094Z"
   },
   {
    "duration": 9,
    "start_time": "2024-08-15T14:17:07.147Z"
   },
   {
    "duration": 6,
    "start_time": "2024-08-15T14:17:07.158Z"
   },
   {
    "duration": 79,
    "start_time": "2024-08-15T14:17:07.166Z"
   },
   {
    "duration": 20,
    "start_time": "2024-08-15T14:17:07.246Z"
   },
   {
    "duration": 12,
    "start_time": "2024-08-15T14:17:07.268Z"
   },
   {
    "duration": 11,
    "start_time": "2024-08-15T14:17:07.282Z"
   },
   {
    "duration": 41,
    "start_time": "2024-08-15T14:17:07.294Z"
   },
   {
    "duration": 96,
    "start_time": "2024-08-15T14:17:07.337Z"
   },
   {
    "duration": 41,
    "start_time": "2024-08-15T14:17:07.435Z"
   },
   {
    "duration": 65,
    "start_time": "2024-08-15T14:17:07.478Z"
   },
   {
    "duration": 213,
    "start_time": "2024-08-15T14:17:07.545Z"
   },
   {
    "duration": 83,
    "start_time": "2024-08-15T14:17:07.762Z"
   },
   {
    "duration": 9,
    "start_time": "2024-08-15T14:17:07.846Z"
   },
   {
    "duration": 59,
    "start_time": "2024-08-15T14:17:07.857Z"
   },
   {
    "duration": 7,
    "start_time": "2024-08-15T14:17:07.918Z"
   },
   {
    "duration": 223,
    "start_time": "2024-08-15T14:17:07.927Z"
   },
   {
    "duration": 70,
    "start_time": "2024-08-15T14:17:08.152Z"
   },
   {
    "duration": 98,
    "start_time": "2024-08-15T14:17:08.224Z"
   },
   {
    "duration": 10,
    "start_time": "2024-08-15T14:17:08.324Z"
   },
   {
    "duration": 72,
    "start_time": "2024-08-15T14:17:08.336Z"
   },
   {
    "duration": 12,
    "start_time": "2024-08-15T14:17:08.410Z"
   },
   {
    "duration": 220,
    "start_time": "2024-08-15T14:17:08.423Z"
   },
   {
    "duration": 10,
    "start_time": "2024-08-15T14:17:08.644Z"
   },
   {
    "duration": 28,
    "start_time": "2024-08-15T14:17:08.656Z"
   },
   {
    "duration": 26,
    "start_time": "2024-08-15T14:17:08.686Z"
   },
   {
    "duration": 28,
    "start_time": "2024-08-15T14:17:08.713Z"
   },
   {
    "duration": 26,
    "start_time": "2024-08-15T14:17:08.742Z"
   },
   {
    "duration": 251,
    "start_time": "2024-08-15T14:17:08.770Z"
   },
   {
    "duration": 11,
    "start_time": "2024-08-15T14:17:09.023Z"
   },
   {
    "duration": 45,
    "start_time": "2024-08-15T14:17:09.036Z"
   },
   {
    "duration": 37,
    "start_time": "2024-08-15T14:17:09.083Z"
   },
   {
    "duration": 204,
    "start_time": "2024-08-15T14:17:09.122Z"
   },
   {
    "duration": 9,
    "start_time": "2024-08-15T14:17:09.328Z"
   },
   {
    "duration": 207,
    "start_time": "2024-08-15T14:17:09.339Z"
   },
   {
    "duration": 5,
    "start_time": "2024-08-15T14:17:09.548Z"
   },
   {
    "duration": 199,
    "start_time": "2024-08-15T14:17:09.555Z"
   },
   {
    "duration": 146,
    "start_time": "2024-08-15T14:17:09.756Z"
   },
   {
    "duration": 221,
    "start_time": "2024-08-15T14:17:09.904Z"
   },
   {
    "duration": 8,
    "start_time": "2024-08-15T14:17:10.127Z"
   },
   {
    "duration": 263,
    "start_time": "2024-08-15T14:17:10.137Z"
   },
   {
    "duration": 363,
    "start_time": "2024-08-15T14:17:10.401Z"
   },
   {
    "duration": 9,
    "start_time": "2024-08-15T14:17:10.766Z"
   },
   {
    "duration": 198,
    "start_time": "2024-08-15T14:17:10.776Z"
   },
   {
    "duration": 6,
    "start_time": "2024-08-15T14:17:10.976Z"
   },
   {
    "duration": 208,
    "start_time": "2024-08-15T14:17:10.984Z"
   },
   {
    "duration": 35,
    "start_time": "2024-08-15T14:17:11.194Z"
   },
   {
    "duration": 21,
    "start_time": "2024-08-15T14:17:11.231Z"
   },
   {
    "duration": 59,
    "start_time": "2024-08-15T14:17:11.254Z"
   },
   {
    "duration": 7,
    "start_time": "2024-08-15T14:17:11.317Z"
   },
   {
    "duration": 205,
    "start_time": "2024-08-15T14:17:11.325Z"
   },
   {
    "duration": 34,
    "start_time": "2024-08-15T14:17:11.532Z"
   },
   {
    "duration": 9,
    "start_time": "2024-08-15T14:17:11.568Z"
   },
   {
    "duration": 196,
    "start_time": "2024-08-15T14:17:11.579Z"
   },
   {
    "duration": 34,
    "start_time": "2024-08-15T14:17:11.777Z"
   },
   {
    "duration": 250,
    "start_time": "2024-08-15T14:17:11.812Z"
   },
   {
    "duration": 77,
    "start_time": "2024-08-15T14:17:12.064Z"
   },
   {
    "duration": 135,
    "start_time": "2024-08-15T14:17:12.143Z"
   },
   {
    "duration": 846,
    "start_time": "2024-08-15T14:17:12.281Z"
   },
   {
    "duration": 450,
    "start_time": "2024-08-15T14:17:13.129Z"
   },
   {
    "duration": 440,
    "start_time": "2024-08-15T14:17:13.580Z"
   },
   {
    "duration": 203,
    "start_time": "2024-08-15T14:17:14.022Z"
   },
   {
    "duration": 231,
    "start_time": "2024-08-15T14:17:14.227Z"
   },
   {
    "duration": 181,
    "start_time": "2024-08-15T14:17:14.460Z"
   },
   {
    "duration": 291,
    "start_time": "2024-08-15T14:17:14.643Z"
   },
   {
    "duration": 493,
    "start_time": "2024-08-15T14:17:14.936Z"
   },
   {
    "duration": 27,
    "start_time": "2024-08-15T14:17:15.435Z"
   },
   {
    "duration": 415,
    "start_time": "2024-08-15T14:17:15.464Z"
   },
   {
    "duration": 339,
    "start_time": "2024-08-15T14:17:15.882Z"
   },
   {
    "duration": 1209,
    "start_time": "2024-08-15T14:19:42.919Z"
   },
   {
    "duration": 106,
    "start_time": "2024-08-15T14:19:44.130Z"
   },
   {
    "duration": 25,
    "start_time": "2024-08-15T14:19:44.237Z"
   },
   {
    "duration": 17,
    "start_time": "2024-08-15T14:19:44.265Z"
   },
   {
    "duration": 2125,
    "start_time": "2024-08-15T14:19:44.284Z"
   },
   {
    "duration": 17,
    "start_time": "2024-08-15T14:19:46.411Z"
   },
   {
    "duration": 66,
    "start_time": "2024-08-15T14:19:46.429Z"
   },
   {
    "duration": 5,
    "start_time": "2024-08-15T14:19:46.497Z"
   },
   {
    "duration": 23,
    "start_time": "2024-08-15T14:19:46.506Z"
   },
   {
    "duration": 14,
    "start_time": "2024-08-15T14:19:46.532Z"
   },
   {
    "duration": 10,
    "start_time": "2024-08-15T14:19:46.547Z"
   },
   {
    "duration": 64,
    "start_time": "2024-08-15T14:19:46.559Z"
   },
   {
    "duration": 168,
    "start_time": "2024-08-15T14:19:46.626Z"
   },
   {
    "duration": 130,
    "start_time": "2024-08-15T14:19:46.796Z"
   },
   {
    "duration": 21,
    "start_time": "2024-08-15T14:19:46.928Z"
   },
   {
    "duration": 19,
    "start_time": "2024-08-15T14:19:46.950Z"
   },
   {
    "duration": 7,
    "start_time": "2024-08-15T14:19:46.970Z"
   },
   {
    "duration": 3,
    "start_time": "2024-08-15T14:19:46.979Z"
   },
   {
    "duration": 8,
    "start_time": "2024-08-15T14:19:47.006Z"
   },
   {
    "duration": 21,
    "start_time": "2024-08-15T14:19:47.015Z"
   },
   {
    "duration": 5,
    "start_time": "2024-08-15T14:19:47.038Z"
   },
   {
    "duration": 8,
    "start_time": "2024-08-15T14:19:47.045Z"
   },
   {
    "duration": 18,
    "start_time": "2024-08-15T14:19:47.054Z"
   },
   {
    "duration": 44,
    "start_time": "2024-08-15T14:19:47.073Z"
   },
   {
    "duration": 36,
    "start_time": "2024-08-15T14:19:47.119Z"
   },
   {
    "duration": 11,
    "start_time": "2024-08-15T14:19:47.157Z"
   },
   {
    "duration": 275,
    "start_time": "2024-08-15T14:19:47.170Z"
   },
   {
    "duration": 74,
    "start_time": "2024-08-15T14:19:47.451Z"
   },
   {
    "duration": 10,
    "start_time": "2024-08-15T14:19:47.527Z"
   },
   {
    "duration": 33,
    "start_time": "2024-08-15T14:19:47.538Z"
   },
   {
    "duration": 8,
    "start_time": "2024-08-15T14:19:47.574Z"
   },
   {
    "duration": 191,
    "start_time": "2024-08-15T14:19:47.584Z"
   },
   {
    "duration": 85,
    "start_time": "2024-08-15T14:19:47.776Z"
   },
   {
    "duration": 47,
    "start_time": "2024-08-15T14:19:47.862Z"
   },
   {
    "duration": 8,
    "start_time": "2024-08-15T14:19:47.911Z"
   },
   {
    "duration": 27,
    "start_time": "2024-08-15T14:19:47.920Z"
   },
   {
    "duration": 5,
    "start_time": "2024-08-15T14:19:47.949Z"
   },
   {
    "duration": 202,
    "start_time": "2024-08-15T14:19:47.956Z"
   },
   {
    "duration": 9,
    "start_time": "2024-08-15T14:19:48.160Z"
   },
   {
    "duration": 40,
    "start_time": "2024-08-15T14:19:48.171Z"
   },
   {
    "duration": 6,
    "start_time": "2024-08-15T14:19:48.213Z"
   },
   {
    "duration": 42,
    "start_time": "2024-08-15T14:19:48.221Z"
   },
   {
    "duration": 9,
    "start_time": "2024-08-15T14:19:48.264Z"
   },
   {
    "duration": 224,
    "start_time": "2024-08-15T14:19:48.274Z"
   },
   {
    "duration": 11,
    "start_time": "2024-08-15T14:19:48.500Z"
   },
   {
    "duration": 42,
    "start_time": "2024-08-15T14:19:48.513Z"
   },
   {
    "duration": 23,
    "start_time": "2024-08-15T14:19:48.556Z"
   },
   {
    "duration": 192,
    "start_time": "2024-08-15T14:19:48.581Z"
   },
   {
    "duration": 8,
    "start_time": "2024-08-15T14:19:48.774Z"
   },
   {
    "duration": 36,
    "start_time": "2024-08-15T14:19:48.784Z"
   },
   {
    "duration": 5,
    "start_time": "2024-08-15T14:19:48.822Z"
   },
   {
    "duration": 30,
    "start_time": "2024-08-15T14:19:48.828Z"
   },
   {
    "duration": 10,
    "start_time": "2024-08-15T14:19:48.860Z"
   },
   {
    "duration": 200,
    "start_time": "2024-08-15T14:19:48.872Z"
   },
   {
    "duration": 7,
    "start_time": "2024-08-15T14:19:49.074Z"
   },
   {
    "duration": 27,
    "start_time": "2024-08-15T14:19:49.083Z"
   },
   {
    "duration": 165,
    "start_time": "2024-08-15T14:19:49.113Z"
   },
   {
    "duration": 8,
    "start_time": "2024-08-15T14:19:49.280Z"
   },
   {
    "duration": 172,
    "start_time": "2024-08-15T14:19:49.289Z"
   },
   {
    "duration": 6,
    "start_time": "2024-08-15T14:19:49.462Z"
   },
   {
    "duration": 231,
    "start_time": "2024-08-15T14:19:49.470Z"
   },
   {
    "duration": 33,
    "start_time": "2024-08-15T14:19:49.703Z"
   },
   {
    "duration": 9,
    "start_time": "2024-08-15T14:19:49.738Z"
   },
   {
    "duration": 58,
    "start_time": "2024-08-15T14:19:49.748Z"
   },
   {
    "duration": 5,
    "start_time": "2024-08-15T14:19:49.807Z"
   },
   {
    "duration": 185,
    "start_time": "2024-08-15T14:19:49.813Z"
   },
   {
    "duration": 32,
    "start_time": "2024-08-15T14:19:50.004Z"
   },
   {
    "duration": 9,
    "start_time": "2024-08-15T14:19:50.038Z"
   },
   {
    "duration": 197,
    "start_time": "2024-08-15T14:19:50.049Z"
   },
   {
    "duration": 20,
    "start_time": "2024-08-15T14:19:50.248Z"
   },
   {
    "duration": 263,
    "start_time": "2024-08-15T14:19:50.269Z"
   },
   {
    "duration": 118,
    "start_time": "2024-08-15T14:19:50.534Z"
   },
   {
    "duration": 150,
    "start_time": "2024-08-15T14:19:50.653Z"
   },
   {
    "duration": 853,
    "start_time": "2024-08-15T14:19:50.805Z"
   },
   {
    "duration": 456,
    "start_time": "2024-08-15T14:19:51.660Z"
   },
   {
    "duration": 446,
    "start_time": "2024-08-15T14:19:52.118Z"
   },
   {
    "duration": 218,
    "start_time": "2024-08-15T14:19:52.566Z"
   },
   {
    "duration": 230,
    "start_time": "2024-08-15T14:19:52.786Z"
   },
   {
    "duration": 169,
    "start_time": "2024-08-15T14:19:53.018Z"
   },
   {
    "duration": 285,
    "start_time": "2024-08-15T14:19:53.189Z"
   },
   {
    "duration": 475,
    "start_time": "2024-08-15T14:19:53.475Z"
   },
   {
    "duration": 24,
    "start_time": "2024-08-15T14:19:53.955Z"
   },
   {
    "duration": 94,
    "start_time": "2024-08-15T14:19:53.981Z"
   },
   {
    "duration": 232,
    "start_time": "2024-08-15T14:19:54.076Z"
   },
   {
    "duration": 1134,
    "start_time": "2024-08-15T15:36:46.726Z"
   },
   {
    "duration": 95,
    "start_time": "2024-08-15T15:36:47.861Z"
   },
   {
    "duration": 21,
    "start_time": "2024-08-15T15:36:47.958Z"
   },
   {
    "duration": 20,
    "start_time": "2024-08-15T15:36:47.981Z"
   },
   {
    "duration": 2083,
    "start_time": "2024-08-15T15:36:48.004Z"
   },
   {
    "duration": 15,
    "start_time": "2024-08-15T15:36:50.088Z"
   },
   {
    "duration": 71,
    "start_time": "2024-08-15T15:36:50.104Z"
   },
   {
    "duration": 4,
    "start_time": "2024-08-15T15:36:50.177Z"
   },
   {
    "duration": 11,
    "start_time": "2024-08-15T15:36:50.182Z"
   },
   {
    "duration": 13,
    "start_time": "2024-08-15T15:36:50.195Z"
   },
   {
    "duration": 12,
    "start_time": "2024-08-15T15:36:50.209Z"
   },
   {
    "duration": 63,
    "start_time": "2024-08-15T15:36:50.223Z"
   },
   {
    "duration": 164,
    "start_time": "2024-08-15T15:36:50.288Z"
   },
   {
    "duration": 122,
    "start_time": "2024-08-15T15:36:50.454Z"
   },
   {
    "duration": 17,
    "start_time": "2024-08-15T15:36:50.578Z"
   },
   {
    "duration": 15,
    "start_time": "2024-08-15T15:36:50.597Z"
   },
   {
    "duration": 9,
    "start_time": "2024-08-15T15:36:50.614Z"
   },
   {
    "duration": 29,
    "start_time": "2024-08-15T15:36:50.624Z"
   },
   {
    "duration": 10,
    "start_time": "2024-08-15T15:36:50.655Z"
   },
   {
    "duration": 13,
    "start_time": "2024-08-15T15:36:50.667Z"
   },
   {
    "duration": 16,
    "start_time": "2024-08-15T15:36:50.682Z"
   },
   {
    "duration": 21,
    "start_time": "2024-08-15T15:36:50.699Z"
   },
   {
    "duration": 12,
    "start_time": "2024-08-15T15:36:50.722Z"
   },
   {
    "duration": 7,
    "start_time": "2024-08-15T15:36:50.735Z"
   },
   {
    "duration": 32,
    "start_time": "2024-08-15T15:36:50.744Z"
   },
   {
    "duration": 88,
    "start_time": "2024-08-15T15:36:50.777Z"
   },
   {
    "duration": 161,
    "start_time": "2024-08-15T15:36:50.867Z"
   },
   {
    "duration": 85,
    "start_time": "2024-08-15T15:36:51.029Z"
   },
   {
    "duration": 7,
    "start_time": "2024-08-15T15:36:51.115Z"
   },
   {
    "duration": 22,
    "start_time": "2024-08-15T15:36:51.123Z"
   },
   {
    "duration": 6,
    "start_time": "2024-08-15T15:36:51.146Z"
   },
   {
    "duration": 169,
    "start_time": "2024-08-15T15:36:51.153Z"
   },
   {
    "duration": 88,
    "start_time": "2024-08-15T15:36:51.323Z"
   },
   {
    "duration": 33,
    "start_time": "2024-08-15T15:36:51.412Z"
   },
   {
    "duration": 9,
    "start_time": "2024-08-15T15:36:51.446Z"
   },
   {
    "duration": 28,
    "start_time": "2024-08-15T15:36:51.456Z"
   },
   {
    "duration": 8,
    "start_time": "2024-08-15T15:36:51.486Z"
   },
   {
    "duration": 160,
    "start_time": "2024-08-15T15:36:51.496Z"
   },
   {
    "duration": 8,
    "start_time": "2024-08-15T15:36:51.658Z"
   },
   {
    "duration": 31,
    "start_time": "2024-08-15T15:36:51.668Z"
   },
   {
    "duration": 27,
    "start_time": "2024-08-15T15:36:51.703Z"
   },
   {
    "duration": 32,
    "start_time": "2024-08-15T15:36:51.731Z"
   },
   {
    "duration": 8,
    "start_time": "2024-08-15T15:36:51.764Z"
   },
   {
    "duration": 198,
    "start_time": "2024-08-15T15:36:51.774Z"
   },
   {
    "duration": 7,
    "start_time": "2024-08-15T15:36:51.974Z"
   },
   {
    "duration": 36,
    "start_time": "2024-08-15T15:36:51.982Z"
   },
   {
    "duration": 19,
    "start_time": "2024-08-15T15:36:52.019Z"
   },
   {
    "duration": 184,
    "start_time": "2024-08-15T15:36:52.040Z"
   },
   {
    "duration": 14,
    "start_time": "2024-08-15T15:36:52.225Z"
   },
   {
    "duration": 100,
    "start_time": "2024-08-15T15:36:52.241Z"
   },
   {
    "duration": 15,
    "start_time": "2024-08-15T15:36:52.342Z"
   },
   {
    "duration": 33,
    "start_time": "2024-08-15T15:36:52.358Z"
   },
   {
    "duration": 9,
    "start_time": "2024-08-15T15:36:52.393Z"
   },
   {
    "duration": 161,
    "start_time": "2024-08-15T15:36:52.403Z"
   },
   {
    "duration": 7,
    "start_time": "2024-08-15T15:36:52.566Z"
   },
   {
    "duration": 50,
    "start_time": "2024-08-15T15:36:52.574Z"
   },
   {
    "duration": 135,
    "start_time": "2024-08-15T15:36:52.625Z"
   },
   {
    "duration": 7,
    "start_time": "2024-08-15T15:36:52.761Z"
   },
   {
    "duration": 113,
    "start_time": "2024-08-15T15:36:52.770Z"
   },
   {
    "duration": 7,
    "start_time": "2024-08-15T15:36:52.884Z"
   },
   {
    "duration": 279,
    "start_time": "2024-08-15T15:36:52.893Z"
   },
   {
    "duration": 36,
    "start_time": "2024-08-15T15:36:53.174Z"
   },
   {
    "duration": 11,
    "start_time": "2024-08-15T15:36:53.211Z"
   },
   {
    "duration": 36,
    "start_time": "2024-08-15T15:36:53.224Z"
   },
   {
    "duration": 5,
    "start_time": "2024-08-15T15:36:53.261Z"
   },
   {
    "duration": 169,
    "start_time": "2024-08-15T15:36:53.267Z"
   },
   {
    "duration": 42,
    "start_time": "2024-08-15T15:36:53.438Z"
   },
   {
    "duration": 11,
    "start_time": "2024-08-15T15:36:53.481Z"
   },
   {
    "duration": 184,
    "start_time": "2024-08-15T15:36:53.494Z"
   },
   {
    "duration": 18,
    "start_time": "2024-08-15T15:36:53.680Z"
   },
   {
    "duration": 233,
    "start_time": "2024-08-15T15:36:53.699Z"
   },
   {
    "duration": 74,
    "start_time": "2024-08-15T15:36:53.934Z"
   },
   {
    "duration": 111,
    "start_time": "2024-08-15T15:36:54.009Z"
   },
   {
    "duration": 735,
    "start_time": "2024-08-15T15:36:54.122Z"
   },
   {
    "duration": 440,
    "start_time": "2024-08-15T15:36:54.859Z"
   },
   {
    "duration": 402,
    "start_time": "2024-08-15T15:36:55.301Z"
   },
   {
    "duration": 170,
    "start_time": "2024-08-15T15:36:55.704Z"
   },
   {
    "duration": 185,
    "start_time": "2024-08-15T15:36:55.876Z"
   },
   {
    "duration": 145,
    "start_time": "2024-08-15T15:36:56.062Z"
   },
   {
    "duration": 243,
    "start_time": "2024-08-15T15:36:56.209Z"
   },
   {
    "duration": 430,
    "start_time": "2024-08-15T15:36:56.453Z"
   },
   {
    "duration": 23,
    "start_time": "2024-08-15T15:36:56.885Z"
   },
   {
    "duration": 83,
    "start_time": "2024-08-15T15:36:56.909Z"
   },
   {
    "duration": 216,
    "start_time": "2024-08-15T15:36:56.994Z"
   }
  ],
  "colab": {
   "provenance": []
  },
  "kernelspec": {
   "display_name": "Python 3 (ipykernel)",
   "language": "python",
   "name": "python3"
  },
  "language_info": {
   "codemirror_mode": {
    "name": "ipython",
    "version": 3
   },
   "file_extension": ".py",
   "mimetype": "text/x-python",
   "name": "python",
   "nbconvert_exporter": "python",
   "pygments_lexer": "ipython3",
   "version": "3.9.5"
  },
  "toc": {
   "base_numbering": 1,
   "nav_menu": {},
   "number_sections": true,
   "sideBar": true,
   "skip_h1_title": true,
   "title_cell": "Table of Contents",
   "title_sidebar": "Contents",
   "toc_cell": false,
   "toc_position": {
    "height": "calc(100% - 180px)",
    "left": "10px",
    "top": "150px",
    "width": "277.531px"
   },
   "toc_section_display": true,
   "toc_window_display": true
  }
 },
 "nbformat": 4,
 "nbformat_minor": 5
}
